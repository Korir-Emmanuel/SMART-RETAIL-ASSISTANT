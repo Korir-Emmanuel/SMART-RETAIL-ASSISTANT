{
 "cells": [
  {
   "cell_type": "markdown",
   "metadata": {
    "id": "4Z2I2caWR327"
   },
   "source": [
    "# Data Understanding\n"
   ]
  },
  {
   "cell_type": "code",
   "execution_count": 48,
   "metadata": {
    "colab": {
     "base_uri": "https://localhost:8080/"
    },
    "id": "fkj5iu1w9-cZ",
    "outputId": "34127e7a-a011-4655-b05c-10f88b992b0d"
   },
   "outputs": [
    {
     "name": "stderr",
     "output_type": "stream",
     "text": [
      "[nltk_data] Downloading package wordnet to\n",
      "[nltk_data]     C:\\Users\\user\\AppData\\Roaming\\nltk_data...\n",
      "[nltk_data] Downloading package stopwords to\n",
      "[nltk_data]     C:\\Users\\user\\AppData\\Roaming\\nltk_data...\n",
      "[nltk_data]   Package stopwords is already up-to-date!\n",
      "[nltk_data] Downloading package punkt to\n",
      "[nltk_data]     C:\\Users\\user\\AppData\\Roaming\\nltk_data...\n",
      "[nltk_data]   Package punkt is already up-to-date!\n",
      "[nltk_data] Downloading package punkt_tab to\n",
      "[nltk_data]     C:\\Users\\user\\AppData\\Roaming\\nltk_data...\n",
      "[nltk_data]   Unzipping tokenizers\\punkt_tab.zip.\n"
     ]
    }
   ],
   "source": [
    "# importing libraries\n",
    "import pandas as pd\n",
    "import matplotlib.pyplot as plt\n",
    "import seaborn as sns\n",
    "import string\n",
    "import nltk\n",
    "import json\n",
    "import re\n",
    "from nltk.corpus import stopwords\n",
    "from wordcloud import WordCloud\n",
    "from nltk import FreqDist\n",
    "from nltk.stem.wordnet import WordNetLemmatizer\n",
    "from sklearn.feature_extraction.text import  TfidfVectorizer\n",
    "nltk.download('wordnet')\n",
    "nltk.download('stopwords')\n",
    "nltk.download('punkt')\n",
    "nltk.download('punkt_tab')\n",
    "from nltk.tokenize import word_tokenize\n",
    "\n",
    "import warnings\n",
    "warnings.filterwarnings(\"ignore\")"
   ]
  },
  {
   "cell_type": "code",
   "execution_count": 50,
   "metadata": {
    "colab": {
     "base_uri": "https://localhost:8080/",
     "height": 481
    },
    "id": "K3SmokoY-h12",
    "outputId": "263a8b4a-e6eb-46e4-ec15-279dbd9f2f77"
   },
   "outputs": [
    {
     "data": {
      "text/html": [
       "<div>\n",
       "<style scoped>\n",
       "    .dataframe tbody tr th:only-of-type {\n",
       "        vertical-align: middle;\n",
       "    }\n",
       "\n",
       "    .dataframe tbody tr th {\n",
       "        vertical-align: top;\n",
       "    }\n",
       "\n",
       "    .dataframe thead th {\n",
       "        text-align: right;\n",
       "    }\n",
       "</style>\n",
       "<table border=\"1\" class=\"dataframe\">\n",
       "  <thead>\n",
       "    <tr style=\"text-align: right;\">\n",
       "      <th></th>\n",
       "      <th>OU Name</th>\n",
       "      <th>PO</th>\n",
       "      <th>Month</th>\n",
       "      <th>PO/Release creation method</th>\n",
       "      <th>Supplier/Vendor</th>\n",
       "      <th>Item Description</th>\n",
       "      <th>Main category</th>\n",
       "      <th>Sub-category</th>\n",
       "      <th>Product Type</th>\n",
       "      <th>Product Name</th>\n",
       "      <th>...</th>\n",
       "      <th>Item</th>\n",
       "      <th>Financial Year</th>\n",
       "      <th>VF Support Type</th>\n",
       "      <th>Project Number</th>\n",
       "      <th>Project Name</th>\n",
       "      <th>Sourcing Project Name</th>\n",
       "      <th>VF Billable</th>\n",
       "      <th>Department</th>\n",
       "      <th>Division</th>\n",
       "      <th>Expenditure Type</th>\n",
       "    </tr>\n",
       "  </thead>\n",
       "  <tbody>\n",
       "    <tr>\n",
       "      <th>0</th>\n",
       "      <td>MPESA Foundation</td>\n",
       "      <td>1358</td>\n",
       "      <td>2024-08-01</td>\n",
       "      <td>Manual</td>\n",
       "      <td>FF</td>\n",
       "      <td>return airport transfers in Nairobi</td>\n",
       "      <td>CORPORATE SERVICES</td>\n",
       "      <td>HR &amp; STAFF WELFARE</td>\n",
       "      <td>TRAVEL &amp; ACCOMODATION</td>\n",
       "      <td>DOMESTIC FLIGHTS</td>\n",
       "      <td>...</td>\n",
       "      <td>NaN</td>\n",
       "      <td>FY 2024/25</td>\n",
       "      <td>NaN</td>\n",
       "      <td>NaN</td>\n",
       "      <td>NaN</td>\n",
       "      <td>NaN</td>\n",
       "      <td>NaN</td>\n",
       "      <td>NaN</td>\n",
       "      <td>NaN</td>\n",
       "      <td>Opex</td>\n",
       "    </tr>\n",
       "    <tr>\n",
       "      <th>1</th>\n",
       "      <td>MPESA Foundation</td>\n",
       "      <td>1359</td>\n",
       "      <td>2024-08-01</td>\n",
       "      <td>Manual</td>\n",
       "      <td>OOOOOOOOP</td>\n",
       "      <td>Accomodation for foundation team during offsit...</td>\n",
       "      <td>CORPORATE SERVICES</td>\n",
       "      <td>HR &amp; STAFF WELFARE</td>\n",
       "      <td>TRAVEL &amp; ACCOMODATION</td>\n",
       "      <td>DOMESTIC FLIGHTS</td>\n",
       "      <td>...</td>\n",
       "      <td>NaN</td>\n",
       "      <td>FY 2024/25</td>\n",
       "      <td>NaN</td>\n",
       "      <td>NaN</td>\n",
       "      <td>NaN</td>\n",
       "      <td>NaN</td>\n",
       "      <td>NaN</td>\n",
       "      <td>NaN</td>\n",
       "      <td>NaN</td>\n",
       "      <td>Opex</td>\n",
       "    </tr>\n",
       "    <tr>\n",
       "      <th>2</th>\n",
       "      <td>MPESA Foundation</td>\n",
       "      <td>1359</td>\n",
       "      <td>2024-08-01</td>\n",
       "      <td>Manual</td>\n",
       "      <td>BNM</td>\n",
       "      <td>C L 2</td>\n",
       "      <td>CORPORATE SERVICES</td>\n",
       "      <td>HR &amp; STAFF WELFARE</td>\n",
       "      <td>TRAVEL &amp; ACCOMODATION</td>\n",
       "      <td>DOMESTIC FLIGHTS</td>\n",
       "      <td>...</td>\n",
       "      <td>NaN</td>\n",
       "      <td>FY 2024/25</td>\n",
       "      <td>NaN</td>\n",
       "      <td>NaN</td>\n",
       "      <td>NaN</td>\n",
       "      <td>NaN</td>\n",
       "      <td>NaN</td>\n",
       "      <td>NaN</td>\n",
       "      <td>NaN</td>\n",
       "      <td>Opex</td>\n",
       "    </tr>\n",
       "    <tr>\n",
       "      <th>3</th>\n",
       "      <td>MPESA Foundation</td>\n",
       "      <td>1359</td>\n",
       "      <td>2024-08-01</td>\n",
       "      <td>Manual</td>\n",
       "      <td>FFG</td>\n",
       "      <td>S C</td>\n",
       "      <td>CORPORATE SERVICES</td>\n",
       "      <td>HR &amp; STAFF WELFARE</td>\n",
       "      <td>TRAVEL &amp; ACCOMODATION</td>\n",
       "      <td>DOMESTIC FLIGHTS</td>\n",
       "      <td>...</td>\n",
       "      <td>NaN</td>\n",
       "      <td>FY 2024/25</td>\n",
       "      <td>NaN</td>\n",
       "      <td>NaN</td>\n",
       "      <td>NaN</td>\n",
       "      <td>NaN</td>\n",
       "      <td>NaN</td>\n",
       "      <td>NaN</td>\n",
       "      <td>NaN</td>\n",
       "      <td>Opex</td>\n",
       "    </tr>\n",
       "    <tr>\n",
       "      <th>4</th>\n",
       "      <td>MPESA Foundation</td>\n",
       "      <td>1359</td>\n",
       "      <td>2024-08-01</td>\n",
       "      <td>Manual</td>\n",
       "      <td>FFG</td>\n",
       "      <td>Karen Basiye</td>\n",
       "      <td>CORPORATE SERVICES</td>\n",
       "      <td>HR &amp; STAFF WELFARE</td>\n",
       "      <td>TRAVEL &amp; ACCOMODATION</td>\n",
       "      <td>DOMESTIC FLIGHTS</td>\n",
       "      <td>...</td>\n",
       "      <td>NaN</td>\n",
       "      <td>FY 2024/25</td>\n",
       "      <td>NaN</td>\n",
       "      <td>NaN</td>\n",
       "      <td>NaN</td>\n",
       "      <td>NaN</td>\n",
       "      <td>NaN</td>\n",
       "      <td>NaN</td>\n",
       "      <td>NaN</td>\n",
       "      <td>Opex</td>\n",
       "    </tr>\n",
       "  </tbody>\n",
       "</table>\n",
       "<p>5 rows × 45 columns</p>\n",
       "</div>"
      ],
      "text/plain": [
       "            OU Name    PO      Month PO/Release creation method  \\\n",
       "0  MPESA Foundation  1358 2024-08-01                     Manual   \n",
       "1  MPESA Foundation  1359 2024-08-01                     Manual   \n",
       "2  MPESA Foundation  1359 2024-08-01                     Manual   \n",
       "3  MPESA Foundation  1359 2024-08-01                     Manual   \n",
       "4  MPESA Foundation  1359 2024-08-01                     Manual   \n",
       "\n",
       "  Supplier/Vendor                                   Item Description  \\\n",
       "0              FF                return airport transfers in Nairobi   \n",
       "1       OOOOOOOOP  Accomodation for foundation team during offsit...   \n",
       "2             BNM                                             C L 2    \n",
       "3             FFG                                               S C    \n",
       "4             FFG                                       Karen Basiye   \n",
       "\n",
       "        Main category        Sub-category           Product Type  \\\n",
       "0  CORPORATE SERVICES  HR & STAFF WELFARE  TRAVEL & ACCOMODATION   \n",
       "1  CORPORATE SERVICES  HR & STAFF WELFARE  TRAVEL & ACCOMODATION   \n",
       "2  CORPORATE SERVICES  HR & STAFF WELFARE  TRAVEL & ACCOMODATION   \n",
       "3  CORPORATE SERVICES  HR & STAFF WELFARE  TRAVEL & ACCOMODATION   \n",
       "4  CORPORATE SERVICES  HR & STAFF WELFARE  TRAVEL & ACCOMODATION   \n",
       "\n",
       "       Product Name  ... Item Financial Year  VF Support Type  Project Number  \\\n",
       "0  DOMESTIC FLIGHTS  ...  NaN     FY 2024/25              NaN             NaN   \n",
       "1  DOMESTIC FLIGHTS  ...  NaN     FY 2024/25              NaN             NaN   \n",
       "2  DOMESTIC FLIGHTS  ...  NaN     FY 2024/25              NaN             NaN   \n",
       "3  DOMESTIC FLIGHTS  ...  NaN     FY 2024/25              NaN             NaN   \n",
       "4  DOMESTIC FLIGHTS  ...  NaN     FY 2024/25              NaN             NaN   \n",
       "\n",
       "   Project Name  Sourcing Project Name  VF Billable  Department  Division  \\\n",
       "0           NaN                    NaN          NaN         NaN       NaN   \n",
       "1           NaN                    NaN          NaN         NaN       NaN   \n",
       "2           NaN                    NaN          NaN         NaN       NaN   \n",
       "3           NaN                    NaN          NaN         NaN       NaN   \n",
       "4           NaN                    NaN          NaN         NaN       NaN   \n",
       "\n",
       "  Expenditure Type  \n",
       "0             Opex  \n",
       "1             Opex  \n",
       "2             Opex  \n",
       "3             Opex  \n",
       "4             Opex  \n",
       "\n",
       "[5 rows x 45 columns]"
      ]
     },
     "execution_count": 50,
     "metadata": {},
     "output_type": "execute_result"
    }
   ],
   "source": [
    "# Loading dataset\n",
    "df = pd.read_excel(\"Data/Working Data.xlsx\")\n",
    "df.head()"
   ]
  },
  {
   "cell_type": "code",
   "execution_count": 51,
   "metadata": {
    "id": "MlTRKgVjAG1R"
   },
   "outputs": [],
   "source": [
    "pd.set_option('display.max_columns',45)"
   ]
  },
  {
   "cell_type": "code",
   "execution_count": 52,
   "metadata": {
    "colab": {
     "base_uri": "https://localhost:8080/"
    },
    "id": "oZQ-o45o_Cje",
    "outputId": "ecf9b4f7-7896-47ae-e4f9-5fc486b34a6d"
   },
   "outputs": [
    {
     "data": {
      "text/plain": [
       "(8058, 45)"
      ]
     },
     "execution_count": 52,
     "metadata": {},
     "output_type": "execute_result"
    }
   ],
   "source": [
    "df.shape"
   ]
  },
  {
   "cell_type": "code",
   "execution_count": 53,
   "metadata": {
    "colab": {
     "base_uri": "https://localhost:8080/",
     "height": 459
    },
    "id": "vyHG8_GB_Foi",
    "outputId": "7f3fa052-6f18-47cf-cd54-ee5ebc62d603"
   },
   "outputs": [
    {
     "data": {
      "text/html": [
       "<div>\n",
       "<style scoped>\n",
       "    .dataframe tbody tr th:only-of-type {\n",
       "        vertical-align: middle;\n",
       "    }\n",
       "\n",
       "    .dataframe tbody tr th {\n",
       "        vertical-align: top;\n",
       "    }\n",
       "\n",
       "    .dataframe thead th {\n",
       "        text-align: right;\n",
       "    }\n",
       "</style>\n",
       "<table border=\"1\" class=\"dataframe\">\n",
       "  <thead>\n",
       "    <tr style=\"text-align: right;\">\n",
       "      <th></th>\n",
       "      <th>PO</th>\n",
       "      <th>Month</th>\n",
       "      <th>Quantity</th>\n",
       "      <th>Unit Price</th>\n",
       "      <th>PO Amount</th>\n",
       "      <th>Savings</th>\n",
       "      <th>Savings %</th>\n",
       "      <th>Initial PO Total</th>\n",
       "      <th>Total Savings</th>\n",
       "      <th>Line</th>\n",
       "      <th>Shipment</th>\n",
       "      <th>Distribution Num</th>\n",
       "      <th>Distribution Ordered Quantity</th>\n",
       "    </tr>\n",
       "  </thead>\n",
       "  <tbody>\n",
       "    <tr>\n",
       "      <th>count</th>\n",
       "      <td>8058.000000</td>\n",
       "      <td>8058</td>\n",
       "      <td>8058.000000</td>\n",
       "      <td>7.942000e+03</td>\n",
       "      <td>8.058000e+03</td>\n",
       "      <td>7.020000e+02</td>\n",
       "      <td>702.000000</td>\n",
       "      <td>1.000000e+01</td>\n",
       "      <td>1.000000e+01</td>\n",
       "      <td>8058.000000</td>\n",
       "      <td>8058.000000</td>\n",
       "      <td>8058.000000</td>\n",
       "      <td>7942.000000</td>\n",
       "    </tr>\n",
       "    <tr>\n",
       "      <th>mean</th>\n",
       "      <td>627440.735791</td>\n",
       "      <td>2024-05-29 07:12:49.322412800</td>\n",
       "      <td>759.122101</td>\n",
       "      <td>1.582007e+05</td>\n",
       "      <td>7.028891e+05</td>\n",
       "      <td>1.826261e+04</td>\n",
       "      <td>17.494772</td>\n",
       "      <td>3.423796e+07</td>\n",
       "      <td>6.155952e+06</td>\n",
       "      <td>6.820179</td>\n",
       "      <td>1.041946</td>\n",
       "      <td>1.070985</td>\n",
       "      <td>741.779264</td>\n",
       "    </tr>\n",
       "    <tr>\n",
       "      <th>min</th>\n",
       "      <td>371.000000</td>\n",
       "      <td>2024-04-01 00:00:00</td>\n",
       "      <td>0.000000</td>\n",
       "      <td>0.000000e+00</td>\n",
       "      <td>0.000000e+00</td>\n",
       "      <td>5.000000e-02</td>\n",
       "      <td>0.320000</td>\n",
       "      <td>1.118240e+05</td>\n",
       "      <td>0.000000e+00</td>\n",
       "      <td>1.000000</td>\n",
       "      <td>1.000000</td>\n",
       "      <td>1.000000</td>\n",
       "      <td>0.030000</td>\n",
       "    </tr>\n",
       "    <tr>\n",
       "      <th>25%</th>\n",
       "      <td>630621.250000</td>\n",
       "      <td>2024-04-01 00:00:00</td>\n",
       "      <td>1.000000</td>\n",
       "      <td>3.500000e+02</td>\n",
       "      <td>2.600000e+03</td>\n",
       "      <td>6.409091e+00</td>\n",
       "      <td>12.000000</td>\n",
       "      <td>3.365189e+06</td>\n",
       "      <td>7.757790e+05</td>\n",
       "      <td>1.000000</td>\n",
       "      <td>1.000000</td>\n",
       "      <td>1.000000</td>\n",
       "      <td>1.000000</td>\n",
       "    </tr>\n",
       "    <tr>\n",
       "      <th>50%</th>\n",
       "      <td>631877.000000</td>\n",
       "      <td>2024-06-01 00:00:00</td>\n",
       "      <td>3.000000</td>\n",
       "      <td>2.500000e+03</td>\n",
       "      <td>1.380000e+04</td>\n",
       "      <td>2.726744e+01</td>\n",
       "      <td>14.000000</td>\n",
       "      <td>1.400403e+07</td>\n",
       "      <td>2.765742e+06</td>\n",
       "      <td>3.000000</td>\n",
       "      <td>1.000000</td>\n",
       "      <td>1.000000</td>\n",
       "      <td>3.000000</td>\n",
       "    </tr>\n",
       "    <tr>\n",
       "      <th>75%</th>\n",
       "      <td>634062.750000</td>\n",
       "      <td>2024-08-01 00:00:00</td>\n",
       "      <td>16.000000</td>\n",
       "      <td>1.327189e+04</td>\n",
       "      <td>5.675975e+04</td>\n",
       "      <td>5.000000e+02</td>\n",
       "      <td>19.167500</td>\n",
       "      <td>6.244988e+07</td>\n",
       "      <td>6.135619e+06</td>\n",
       "      <td>7.000000</td>\n",
       "      <td>1.000000</td>\n",
       "      <td>1.000000</td>\n",
       "      <td>15.000000</td>\n",
       "    </tr>\n",
       "    <tr>\n",
       "      <th>max</th>\n",
       "      <td>634939.000000</td>\n",
       "      <td>2024-09-01 00:00:00</td>\n",
       "      <td>620000.000000</td>\n",
       "      <td>1.617550e+08</td>\n",
       "      <td>1.012500e+09</td>\n",
       "      <td>8.361581e+06</td>\n",
       "      <td>100.000000</td>\n",
       "      <td>1.048350e+08</td>\n",
       "      <td>2.914650e+07</td>\n",
       "      <td>89.000000</td>\n",
       "      <td>12.000000</td>\n",
       "      <td>8.000000</td>\n",
       "      <td>620000.000000</td>\n",
       "    </tr>\n",
       "    <tr>\n",
       "      <th>std</th>\n",
       "      <td>53798.934355</td>\n",
       "      <td>NaN</td>\n",
       "      <td>14684.634769</td>\n",
       "      <td>3.232525e+06</td>\n",
       "      <td>1.929449e+07</td>\n",
       "      <td>3.402359e+05</td>\n",
       "      <td>11.065662</td>\n",
       "      <td>3.937671e+07</td>\n",
       "      <td>9.011365e+06</td>\n",
       "      <td>10.903713</td>\n",
       "      <td>0.382992</td>\n",
       "      <td>0.483999</td>\n",
       "      <td>14786.944085</td>\n",
       "    </tr>\n",
       "  </tbody>\n",
       "</table>\n",
       "</div>"
      ],
      "text/plain": [
       "                  PO                          Month       Quantity  \\\n",
       "count    8058.000000                           8058    8058.000000   \n",
       "mean   627440.735791  2024-05-29 07:12:49.322412800     759.122101   \n",
       "min       371.000000            2024-04-01 00:00:00       0.000000   \n",
       "25%    630621.250000            2024-04-01 00:00:00       1.000000   \n",
       "50%    631877.000000            2024-06-01 00:00:00       3.000000   \n",
       "75%    634062.750000            2024-08-01 00:00:00      16.000000   \n",
       "max    634939.000000            2024-09-01 00:00:00  620000.000000   \n",
       "std     53798.934355                            NaN   14684.634769   \n",
       "\n",
       "         Unit Price     PO Amount       Savings   Savings %  Initial PO Total  \\\n",
       "count  7.942000e+03  8.058000e+03  7.020000e+02  702.000000      1.000000e+01   \n",
       "mean   1.582007e+05  7.028891e+05  1.826261e+04   17.494772      3.423796e+07   \n",
       "min    0.000000e+00  0.000000e+00  5.000000e-02    0.320000      1.118240e+05   \n",
       "25%    3.500000e+02  2.600000e+03  6.409091e+00   12.000000      3.365189e+06   \n",
       "50%    2.500000e+03  1.380000e+04  2.726744e+01   14.000000      1.400403e+07   \n",
       "75%    1.327189e+04  5.675975e+04  5.000000e+02   19.167500      6.244988e+07   \n",
       "max    1.617550e+08  1.012500e+09  8.361581e+06  100.000000      1.048350e+08   \n",
       "std    3.232525e+06  1.929449e+07  3.402359e+05   11.065662      3.937671e+07   \n",
       "\n",
       "       Total Savings         Line     Shipment  Distribution Num  \\\n",
       "count   1.000000e+01  8058.000000  8058.000000       8058.000000   \n",
       "mean    6.155952e+06     6.820179     1.041946          1.070985   \n",
       "min     0.000000e+00     1.000000     1.000000          1.000000   \n",
       "25%     7.757790e+05     1.000000     1.000000          1.000000   \n",
       "50%     2.765742e+06     3.000000     1.000000          1.000000   \n",
       "75%     6.135619e+06     7.000000     1.000000          1.000000   \n",
       "max     2.914650e+07    89.000000    12.000000          8.000000   \n",
       "std     9.011365e+06    10.903713     0.382992          0.483999   \n",
       "\n",
       "       Distribution Ordered Quantity  \n",
       "count                    7942.000000  \n",
       "mean                      741.779264  \n",
       "min                         0.030000  \n",
       "25%                         1.000000  \n",
       "50%                         3.000000  \n",
       "75%                        15.000000  \n",
       "max                    620000.000000  \n",
       "std                     14786.944085  "
      ]
     },
     "execution_count": 53,
     "metadata": {},
     "output_type": "execute_result"
    }
   ],
   "source": [
    "df.describe()"
   ]
  },
  {
   "cell_type": "code",
   "execution_count": 54,
   "metadata": {
    "colab": {
     "base_uri": "https://localhost:8080/"
    },
    "id": "pncXjvFs_KTl",
    "outputId": "40080d33-a393-46be-89ce-a4491f1d5573"
   },
   "outputs": [
    {
     "name": "stdout",
     "output_type": "stream",
     "text": [
      "<class 'pandas.core.frame.DataFrame'>\n",
      "RangeIndex: 8058 entries, 0 to 8057\n",
      "Data columns (total 45 columns):\n",
      " #   Column                                                  Non-Null Count  Dtype         \n",
      "---  ------                                                  --------------  -----         \n",
      " 0   OU Name                                                 8058 non-null   object        \n",
      " 1   PO                                                      8058 non-null   int64         \n",
      " 2   Month                                                   8058 non-null   datetime64[ns]\n",
      " 3   PO/Release creation method                              8058 non-null   object        \n",
      " 4   Supplier/Vendor                                         8058 non-null   object        \n",
      " 5   Item Description                                        8058 non-null   object        \n",
      " 6   Main category                                           8058 non-null   object        \n",
      " 7   Sub-category                                            8058 non-null   object        \n",
      " 8   Product Type                                            8058 non-null   object        \n",
      " 9   Product Name                                            8058 non-null   object        \n",
      " 10  UOM                                                     7942 non-null   object        \n",
      " 11  Currency                                                8058 non-null   object        \n",
      " 12  Quantity                                                8058 non-null   float64       \n",
      " 13  Unit Price                                              7942 non-null   float64       \n",
      " 14  PO Amount                                               8058 non-null   float64       \n",
      " 15  Savings                                                 702 non-null    float64       \n",
      " 16  Savings %                                               702 non-null    float64       \n",
      " 17  Initial PO Total                                        10 non-null     float64       \n",
      " 18  Total Savings                                           10 non-null     float64       \n",
      " 19  Type Of Saving                                          777 non-null    object        \n",
      " 20  How Savings Was Achieved                                776 non-null    object        \n",
      " 21  Addressable or Non-Addressable                          8058 non-null   object        \n",
      " 22  Locale(Foreign or Local based Suppliers)                8058 non-null   object        \n",
      " 23  Negotiation Number                                      483 non-null    object        \n",
      " 24  Special Interest Group- Women or Youth Owned Suppliers  8058 non-null   object        \n",
      " 25  Category Manager(s)                                     8058 non-null   object        \n",
      " 26  Last Updated By Cat. Mgr                                777 non-null    object        \n",
      " 27  Buyer                                                   8058 non-null   object        \n",
      " 28  Closure Status                                          8058 non-null   object        \n",
      " 29  Type                                                    8058 non-null   object        \n",
      " 30  Supplier Site                                           8058 non-null   object        \n",
      " 31  Line                                                    8058 non-null   int64         \n",
      " 32  Shipment                                                8058 non-null   int64         \n",
      " 33  Distribution Num                                        8058 non-null   int64         \n",
      " 34  Distribution Ordered Quantity                           7942 non-null   float64       \n",
      " 35  Item                                                    582 non-null    object        \n",
      " 36  Financial Year                                          8058 non-null   object        \n",
      " 37  VF Support Type                                         777 non-null    object        \n",
      " 38  Project Number                                          783 non-null    object        \n",
      " 39  Project Name                                            783 non-null    object        \n",
      " 40  Sourcing Project Name                                   777 non-null    object        \n",
      " 41  VF Billable                                             777 non-null    object        \n",
      " 42  Department                                              5762 non-null   object        \n",
      " 43  Division                                                7262 non-null   object        \n",
      " 44  Expenditure Type                                        8058 non-null   object        \n",
      "dtypes: datetime64[ns](1), float64(8), int64(4), object(32)\n",
      "memory usage: 2.8+ MB\n"
     ]
    }
   ],
   "source": [
    "df.info()"
   ]
  },
  {
   "cell_type": "markdown",
   "metadata": {
    "id": "q18JlCjxVPEk"
   },
   "source": [
    "# Data Cleaning"
   ]
  },
  {
   "cell_type": "code",
   "execution_count": 56,
   "metadata": {
    "colab": {
     "base_uri": "https://localhost:8080/",
     "height": 1000
    },
    "id": "FwzptC80CGPA",
    "outputId": "5e92896c-9198-4629-f887-a703d2c7b5d0"
   },
   "outputs": [
    {
     "data": {
      "text/plain": [
       "OU Name                                                      0\n",
       "PO                                                           0\n",
       "Month                                                        0\n",
       "PO/Release creation method                                   0\n",
       "Supplier/Vendor                                              0\n",
       "Item Description                                             0\n",
       "Main category                                                0\n",
       "Sub-category                                                 0\n",
       "Product Type                                                 0\n",
       "Product Name                                                 0\n",
       "UOM                                                        116\n",
       "Currency                                                     0\n",
       "Quantity                                                     0\n",
       "Unit Price                                                 116\n",
       "PO Amount                                                    0\n",
       "Savings                                                   7356\n",
       "Savings %                                                 7356\n",
       "Initial PO Total                                          8048\n",
       "Total Savings                                             8048\n",
       "Type Of Saving                                            7281\n",
       "How Savings Was Achieved                                  7282\n",
       "Addressable or Non-Addressable                               0\n",
       "Locale(Foreign or Local based Suppliers)                     0\n",
       "Negotiation Number                                        7575\n",
       "Special Interest Group- Women or Youth Owned Suppliers       0\n",
       "Category Manager(s)                                          0\n",
       "Last Updated By Cat. Mgr                                  7281\n",
       "Buyer                                                        0\n",
       "Closure Status                                               0\n",
       "Type                                                         0\n",
       "Supplier Site                                                0\n",
       "Line                                                         0\n",
       "Shipment                                                     0\n",
       "Distribution Num                                             0\n",
       "Distribution Ordered Quantity                              116\n",
       "Item                                                      7476\n",
       "Financial Year                                               0\n",
       "VF Support Type                                           7281\n",
       "Project Number                                            7275\n",
       "Project Name                                              7275\n",
       "Sourcing Project Name                                     7281\n",
       "VF Billable                                               7281\n",
       "Department                                                2296\n",
       "Division                                                   796\n",
       "Expenditure Type                                             0\n",
       "dtype: int64"
      ]
     },
     "execution_count": 56,
     "metadata": {},
     "output_type": "execute_result"
    }
   ],
   "source": [
    "df.isna().sum()"
   ]
  },
  {
   "cell_type": "code",
   "execution_count": 57,
   "metadata": {
    "colab": {
     "base_uri": "https://localhost:8080/",
     "height": 908
    },
    "id": "G9llGAMeEfNZ",
    "outputId": "45665073-6d93-45e7-eaa6-054627511d0f"
   },
   "outputs": [
    {
     "data": {
      "text/plain": [
       "Text(0.5, 1.0, 'Correlation Heatmap (Numerical Features Only)')"
      ]
     },
     "execution_count": 57,
     "metadata": {},
     "output_type": "execute_result"
    },
    {
     "data": {
      "image/png": "[encoded data removed]",
      "text/plain": [
       "<Figure size 1000x800 with 2 Axes>"
      ]
     },
     "metadata": {},
     "output_type": "display_data"
    }
   ],
   "source": [
    "# Correlation matrix to check for the columns with the highest or lowest correlation\n",
    "numeric_df = df.select_dtypes(include=\"number\")\n",
    "\n",
    "corr_matrix = numeric_df.corr()\n",
    "\n",
    "plt.figure(figsize=(10, 8))\n",
    "sns.heatmap(corr_matrix, annot=True, cmap='coolwarm', fmt=\".2f\", linewidths=0.5)\n",
    "plt.title(\"Correlation Heatmap (Numerical Features Only)\")\n"
   ]
  },
  {
   "cell_type": "code",
   "execution_count": 58,
   "metadata": {
    "colab": {
     "base_uri": "https://localhost:8080/"
    },
    "id": "2tMqIJBvSPoN",
    "outputId": "008f58eb-ce87-45ba-a805-5f9b8893d4a6"
   },
   "outputs": [
    {
     "name": "stdout",
     "output_type": "stream",
     "text": [
      "OU Name                                                    0.000000\n",
      "PO                                                         0.000000\n",
      "Month                                                      0.000000\n",
      "PO/Release creation method                                 0.000000\n",
      "Supplier/Vendor                                            0.000000\n",
      "Item Description                                           0.000000\n",
      "Main category                                              0.000000\n",
      "Sub-category                                               0.000000\n",
      "Product Type                                               0.000000\n",
      "Product Name                                               0.000000\n",
      "UOM                                                        1.439563\n",
      "Currency                                                   0.000000\n",
      "Quantity                                                   0.000000\n",
      "Unit Price                                                 1.439563\n",
      "PO Amount                                                  0.000000\n",
      "Savings                                                   91.288161\n",
      "Savings %                                                 91.288161\n",
      "Initial PO Total                                          99.875900\n",
      "Total Savings                                             99.875900\n",
      "Type Of Saving                                            90.357409\n",
      "How Savings Was Achieved                                  90.369819\n",
      "Addressable or Non-Addressable                             0.000000\n",
      "Locale(Foreign or Local based Suppliers)                   0.000000\n",
      "Negotiation Number                                        94.005957\n",
      "Special Interest Group- Women or Youth Owned Suppliers     0.000000\n",
      "Category Manager(s)                                        0.000000\n",
      "Last Updated By Cat. Mgr                                  90.357409\n",
      "Buyer                                                      0.000000\n",
      "Closure Status                                             0.000000\n",
      "Type                                                       0.000000\n",
      "Supplier Site                                              0.000000\n",
      "Line                                                       0.000000\n",
      "Shipment                                                   0.000000\n",
      "Distribution Num                                           0.000000\n",
      "Distribution Ordered Quantity                              1.439563\n",
      "Item                                                      92.777364\n",
      "Financial Year                                             0.000000\n",
      "VF Support Type                                           90.357409\n",
      "Project Number                                            90.282949\n",
      "Project Name                                              90.282949\n",
      "Sourcing Project Name                                     90.357409\n",
      "VF Billable                                               90.357409\n",
      "Department                                                28.493423\n",
      "Division                                                   9.878382\n",
      "Expenditure Type                                           0.000000\n",
      "dtype: float64\n"
     ]
    }
   ],
   "source": [
    "#percentage of null values\n",
    "null_percent = (df.isnull().sum() / len(df)) * 100\n",
    "print(null_percent)"
   ]
  },
  {
   "cell_type": "code",
   "execution_count": 59,
   "metadata": {
    "id": "fXy7lj7HT-xh"
   },
   "outputs": [],
   "source": [
    "# Dropping all columns that has more than 90% missing values\n",
    "df = df.loc[:, df.isnull().mean() < 0.9]\n"
   ]
  },
  {
   "cell_type": "code",
   "execution_count": 60,
   "metadata": {
    "id": "lrvJLxMIUeG4"
   },
   "outputs": [],
   "source": [
    "df = df.drop(columns = ['Supplier Site'])"
   ]
  },
  {
   "cell_type": "code",
   "execution_count": 61,
   "metadata": {
    "id": "VUwO87euUQzE"
   },
   "outputs": [],
   "source": [
    "df = df.dropna(subset=['UOM', 'Unit Price', 'Distribution Ordered Quantity'])\n"
   ]
  },
  {
   "cell_type": "code",
   "execution_count": 62,
   "metadata": {
    "colab": {
     "base_uri": "https://localhost:8080/",
     "height": 590
    },
    "id": "tpDMhOv-zAMJ",
    "outputId": "2ef88d1f-3e13-4d1a-a21a-a7ea6f5d468e"
   },
   "outputs": [
    {
     "data": {
      "text/html": [
       "<div>\n",
       "<style scoped>\n",
       "    .dataframe tbody tr th:only-of-type {\n",
       "        vertical-align: middle;\n",
       "    }\n",
       "\n",
       "    .dataframe tbody tr th {\n",
       "        vertical-align: top;\n",
       "    }\n",
       "\n",
       "    .dataframe thead th {\n",
       "        text-align: right;\n",
       "    }\n",
       "</style>\n",
       "<table border=\"1\" class=\"dataframe\">\n",
       "  <thead>\n",
       "    <tr style=\"text-align: right;\">\n",
       "      <th></th>\n",
       "      <th>OU Name</th>\n",
       "      <th>PO</th>\n",
       "      <th>Month</th>\n",
       "      <th>PO/Release creation method</th>\n",
       "      <th>Supplier/Vendor</th>\n",
       "      <th>Item Description</th>\n",
       "      <th>Main category</th>\n",
       "      <th>Sub-category</th>\n",
       "      <th>Product Type</th>\n",
       "      <th>Product Name</th>\n",
       "      <th>UOM</th>\n",
       "      <th>Currency</th>\n",
       "      <th>Quantity</th>\n",
       "      <th>Unit Price</th>\n",
       "      <th>PO Amount</th>\n",
       "      <th>Addressable or Non-Addressable</th>\n",
       "      <th>Locale(Foreign or Local based Suppliers)</th>\n",
       "      <th>Special Interest Group- Women or Youth Owned Suppliers</th>\n",
       "      <th>Category Manager(s)</th>\n",
       "      <th>Buyer</th>\n",
       "      <th>Closure Status</th>\n",
       "      <th>Type</th>\n",
       "      <th>Line</th>\n",
       "      <th>Shipment</th>\n",
       "      <th>Distribution Num</th>\n",
       "      <th>Distribution Ordered Quantity</th>\n",
       "      <th>Financial Year</th>\n",
       "      <th>Department</th>\n",
       "      <th>Division</th>\n",
       "      <th>Expenditure Type</th>\n",
       "    </tr>\n",
       "  </thead>\n",
       "  <tbody>\n",
       "    <tr>\n",
       "      <th>0</th>\n",
       "      <td>MPESA Foundation</td>\n",
       "      <td>1358</td>\n",
       "      <td>2024-08-01</td>\n",
       "      <td>Manual</td>\n",
       "      <td>FF</td>\n",
       "      <td>return airport transfers in Nairobi</td>\n",
       "      <td>CORPORATE SERVICES</td>\n",
       "      <td>HR &amp; STAFF WELFARE</td>\n",
       "      <td>TRAVEL &amp; ACCOMODATION</td>\n",
       "      <td>DOMESTIC FLIGHTS</td>\n",
       "      <td>Each</td>\n",
       "      <td>KES</td>\n",
       "      <td>1.0</td>\n",
       "      <td>2800.00</td>\n",
       "      <td>2800.00</td>\n",
       "      <td>Addressable</td>\n",
       "      <td>Local</td>\n",
       "      <td>Others</td>\n",
       "      <td>Muchiri Thomas</td>\n",
       "      <td>Rowa, Ms. Beverly Akinyi</td>\n",
       "      <td>OPEN</td>\n",
       "      <td>Goods</td>\n",
       "      <td>2</td>\n",
       "      <td>1</td>\n",
       "      <td>1</td>\n",
       "      <td>1.0</td>\n",
       "      <td>FY 2024/25</td>\n",
       "      <td>NaN</td>\n",
       "      <td>NaN</td>\n",
       "      <td>Opex</td>\n",
       "    </tr>\n",
       "    <tr>\n",
       "      <th>1</th>\n",
       "      <td>MPESA Foundation</td>\n",
       "      <td>1359</td>\n",
       "      <td>2024-08-01</td>\n",
       "      <td>Manual</td>\n",
       "      <td>OOOOOOOOP</td>\n",
       "      <td>Accomodation for foundation team during offsit...</td>\n",
       "      <td>CORPORATE SERVICES</td>\n",
       "      <td>HR &amp; STAFF WELFARE</td>\n",
       "      <td>TRAVEL &amp; ACCOMODATION</td>\n",
       "      <td>DOMESTIC FLIGHTS</td>\n",
       "      <td>Each</td>\n",
       "      <td>KES</td>\n",
       "      <td>43.0</td>\n",
       "      <td>17578.13</td>\n",
       "      <td>755859.59</td>\n",
       "      <td>Addressable</td>\n",
       "      <td>Local</td>\n",
       "      <td>Others</td>\n",
       "      <td>Muchiri Thomas</td>\n",
       "      <td>Rowa, Ms. Beverly Akinyi</td>\n",
       "      <td>OPEN</td>\n",
       "      <td>Goods</td>\n",
       "      <td>1</td>\n",
       "      <td>1</td>\n",
       "      <td>1</td>\n",
       "      <td>43.0</td>\n",
       "      <td>FY 2024/25</td>\n",
       "      <td>NaN</td>\n",
       "      <td>NaN</td>\n",
       "      <td>Opex</td>\n",
       "    </tr>\n",
       "    <tr>\n",
       "      <th>2</th>\n",
       "      <td>MPESA Foundation</td>\n",
       "      <td>1359</td>\n",
       "      <td>2024-08-01</td>\n",
       "      <td>Manual</td>\n",
       "      <td>BNM</td>\n",
       "      <td>C L 2</td>\n",
       "      <td>CORPORATE SERVICES</td>\n",
       "      <td>HR &amp; STAFF WELFARE</td>\n",
       "      <td>TRAVEL &amp; ACCOMODATION</td>\n",
       "      <td>DOMESTIC FLIGHTS</td>\n",
       "      <td>Each</td>\n",
       "      <td>KES</td>\n",
       "      <td>43.0</td>\n",
       "      <td>351.56</td>\n",
       "      <td>15117.08</td>\n",
       "      <td>Addressable</td>\n",
       "      <td>Local</td>\n",
       "      <td>Others</td>\n",
       "      <td>SALOME</td>\n",
       "      <td>Rowa, Ms. Beverly Akinyi</td>\n",
       "      <td>OPEN</td>\n",
       "      <td>Goods</td>\n",
       "      <td>2</td>\n",
       "      <td>1</td>\n",
       "      <td>1</td>\n",
       "      <td>43.0</td>\n",
       "      <td>FY 2024/25</td>\n",
       "      <td>NaN</td>\n",
       "      <td>NaN</td>\n",
       "      <td>Opex</td>\n",
       "    </tr>\n",
       "    <tr>\n",
       "      <th>3</th>\n",
       "      <td>MPESA Foundation</td>\n",
       "      <td>1359</td>\n",
       "      <td>2024-08-01</td>\n",
       "      <td>Manual</td>\n",
       "      <td>FFG</td>\n",
       "      <td>S C</td>\n",
       "      <td>CORPORATE SERVICES</td>\n",
       "      <td>HR &amp; STAFF WELFARE</td>\n",
       "      <td>TRAVEL &amp; ACCOMODATION</td>\n",
       "      <td>DOMESTIC FLIGHTS</td>\n",
       "      <td>Each</td>\n",
       "      <td>KES</td>\n",
       "      <td>43.0</td>\n",
       "      <td>1757.81</td>\n",
       "      <td>75585.83</td>\n",
       "      <td>Addressable</td>\n",
       "      <td>Local</td>\n",
       "      <td>Others</td>\n",
       "      <td>Muchiri Thomas</td>\n",
       "      <td>Rowa, Ms. Beverly Akinyi</td>\n",
       "      <td>OPEN</td>\n",
       "      <td>Goods</td>\n",
       "      <td>3</td>\n",
       "      <td>1</td>\n",
       "      <td>1</td>\n",
       "      <td>43.0</td>\n",
       "      <td>FY 2024/25</td>\n",
       "      <td>NaN</td>\n",
       "      <td>NaN</td>\n",
       "      <td>Opex</td>\n",
       "    </tr>\n",
       "    <tr>\n",
       "      <th>4</th>\n",
       "      <td>MPESA Foundation</td>\n",
       "      <td>1359</td>\n",
       "      <td>2024-08-01</td>\n",
       "      <td>Manual</td>\n",
       "      <td>FFG</td>\n",
       "      <td>Karen Basiye</td>\n",
       "      <td>CORPORATE SERVICES</td>\n",
       "      <td>HR &amp; STAFF WELFARE</td>\n",
       "      <td>TRAVEL &amp; ACCOMODATION</td>\n",
       "      <td>DOMESTIC FLIGHTS</td>\n",
       "      <td>Each</td>\n",
       "      <td>KES</td>\n",
       "      <td>3.0</td>\n",
       "      <td>20703.13</td>\n",
       "      <td>62109.39</td>\n",
       "      <td>Addressable</td>\n",
       "      <td>Local</td>\n",
       "      <td>Others</td>\n",
       "      <td>Muchiri Thomas</td>\n",
       "      <td>Rowa, Ms. Beverly Akinyi</td>\n",
       "      <td>OPEN</td>\n",
       "      <td>Goods</td>\n",
       "      <td>4</td>\n",
       "      <td>1</td>\n",
       "      <td>1</td>\n",
       "      <td>3.0</td>\n",
       "      <td>FY 2024/25</td>\n",
       "      <td>NaN</td>\n",
       "      <td>NaN</td>\n",
       "      <td>Opex</td>\n",
       "    </tr>\n",
       "  </tbody>\n",
       "</table>\n",
       "</div>"
      ],
      "text/plain": [
       "            OU Name    PO      Month PO/Release creation method  \\\n",
       "0  MPESA Foundation  1358 2024-08-01                     Manual   \n",
       "1  MPESA Foundation  1359 2024-08-01                     Manual   \n",
       "2  MPESA Foundation  1359 2024-08-01                     Manual   \n",
       "3  MPESA Foundation  1359 2024-08-01                     Manual   \n",
       "4  MPESA Foundation  1359 2024-08-01                     Manual   \n",
       "\n",
       "  Supplier/Vendor                                   Item Description  \\\n",
       "0              FF                return airport transfers in Nairobi   \n",
       "1       OOOOOOOOP  Accomodation for foundation team during offsit...   \n",
       "2             BNM                                             C L 2    \n",
       "3             FFG                                               S C    \n",
       "4             FFG                                       Karen Basiye   \n",
       "\n",
       "        Main category        Sub-category           Product Type  \\\n",
       "0  CORPORATE SERVICES  HR & STAFF WELFARE  TRAVEL & ACCOMODATION   \n",
       "1  CORPORATE SERVICES  HR & STAFF WELFARE  TRAVEL & ACCOMODATION   \n",
       "2  CORPORATE SERVICES  HR & STAFF WELFARE  TRAVEL & ACCOMODATION   \n",
       "3  CORPORATE SERVICES  HR & STAFF WELFARE  TRAVEL & ACCOMODATION   \n",
       "4  CORPORATE SERVICES  HR & STAFF WELFARE  TRAVEL & ACCOMODATION   \n",
       "\n",
       "       Product Name   UOM Currency  Quantity  Unit Price  PO Amount  \\\n",
       "0  DOMESTIC FLIGHTS  Each      KES       1.0     2800.00    2800.00   \n",
       "1  DOMESTIC FLIGHTS  Each      KES      43.0    17578.13  755859.59   \n",
       "2  DOMESTIC FLIGHTS  Each      KES      43.0      351.56   15117.08   \n",
       "3  DOMESTIC FLIGHTS  Each      KES      43.0     1757.81   75585.83   \n",
       "4  DOMESTIC FLIGHTS  Each      KES       3.0    20703.13   62109.39   \n",
       "\n",
       "  Addressable or Non-Addressable Locale(Foreign or Local based Suppliers)  \\\n",
       "0                    Addressable                                    Local   \n",
       "1                    Addressable                                    Local   \n",
       "2                    Addressable                                    Local   \n",
       "3                    Addressable                                    Local   \n",
       "4                    Addressable                                    Local   \n",
       "\n",
       "  Special Interest Group- Women or Youth Owned Suppliers Category Manager(s)  \\\n",
       "0                                             Others          Muchiri Thomas   \n",
       "1                                             Others          Muchiri Thomas   \n",
       "2                                             Others                  SALOME   \n",
       "3                                             Others          Muchiri Thomas   \n",
       "4                                             Others          Muchiri Thomas   \n",
       "\n",
       "                      Buyer Closure Status   Type  Line  Shipment  \\\n",
       "0  Rowa, Ms. Beverly Akinyi           OPEN  Goods     2         1   \n",
       "1  Rowa, Ms. Beverly Akinyi           OPEN  Goods     1         1   \n",
       "2  Rowa, Ms. Beverly Akinyi           OPEN  Goods     2         1   \n",
       "3  Rowa, Ms. Beverly Akinyi           OPEN  Goods     3         1   \n",
       "4  Rowa, Ms. Beverly Akinyi           OPEN  Goods     4         1   \n",
       "\n",
       "   Distribution Num  Distribution Ordered Quantity Financial Year Department  \\\n",
       "0                 1                            1.0     FY 2024/25        NaN   \n",
       "1                 1                           43.0     FY 2024/25        NaN   \n",
       "2                 1                           43.0     FY 2024/25        NaN   \n",
       "3                 1                           43.0     FY 2024/25        NaN   \n",
       "4                 1                            3.0     FY 2024/25        NaN   \n",
       "\n",
       "  Division Expenditure Type  \n",
       "0      NaN             Opex  \n",
       "1      NaN             Opex  \n",
       "2      NaN             Opex  \n",
       "3      NaN             Opex  \n",
       "4      NaN             Opex  "
      ]
     },
     "execution_count": 62,
     "metadata": {},
     "output_type": "execute_result"
    }
   ],
   "source": [
    "df.head()"
   ]
  },
  {
   "cell_type": "code",
   "execution_count": 63,
   "metadata": {
    "colab": {
     "base_uri": "https://localhost:8080/",
     "height": 1000
    },
    "id": "T2fKjk4rI8FE",
    "outputId": "5aefa87a-0405-4b4d-ed4b-059ccabaa1ad"
   },
   "outputs": [
    {
     "data": {
      "text/plain": [
       "OU Name                                                      0\n",
       "PO                                                           0\n",
       "Month                                                        0\n",
       "PO/Release creation method                                   0\n",
       "Supplier/Vendor                                              0\n",
       "Item Description                                             0\n",
       "Main category                                                0\n",
       "Sub-category                                                 0\n",
       "Product Type                                                 0\n",
       "Product Name                                                 0\n",
       "UOM                                                          0\n",
       "Currency                                                     0\n",
       "Quantity                                                     0\n",
       "Unit Price                                                   0\n",
       "PO Amount                                                    0\n",
       "Addressable or Non-Addressable                               0\n",
       "Locale(Foreign or Local based Suppliers)                     0\n",
       "Special Interest Group- Women or Youth Owned Suppliers       0\n",
       "Category Manager(s)                                          0\n",
       "Buyer                                                        0\n",
       "Closure Status                                               0\n",
       "Type                                                         0\n",
       "Line                                                         0\n",
       "Shipment                                                     0\n",
       "Distribution Num                                             0\n",
       "Distribution Ordered Quantity                                0\n",
       "Financial Year                                               0\n",
       "Department                                                2216\n",
       "Division                                                   716\n",
       "Expenditure Type                                             0\n",
       "dtype: int64"
      ]
     },
     "execution_count": 63,
     "metadata": {},
     "output_type": "execute_result"
    }
   ],
   "source": [
    "df.isna().sum()"
   ]
  },
  {
   "cell_type": "code",
   "execution_count": 64,
   "metadata": {
    "id": "o4be6GZwVuHO"
   },
   "outputs": [],
   "source": [
    "df['Department'] = df['Department'].fillna('Unknown')\n",
    "df['Division'] = df['Division'].fillna('Unknown')"
   ]
  },
  {
   "cell_type": "code",
   "execution_count": 65,
   "metadata": {
    "colab": {
     "base_uri": "https://localhost:8080/"
    },
    "id": "JDeZeD4RAJm4",
    "outputId": "7139558d-228c-4c17-9152-7f88d840d900"
   },
   "outputs": [
    {
     "data": {
      "text/plain": [
       "0"
      ]
     },
     "execution_count": 65,
     "metadata": {},
     "output_type": "execute_result"
    }
   ],
   "source": [
    "df.duplicated().sum()"
   ]
  },
  {
   "cell_type": "code",
   "execution_count": 66,
   "metadata": {
    "colab": {
     "base_uri": "https://localhost:8080/"
    },
    "id": "vsyW3hDCUeG5",
    "outputId": "9c68a2d3-94cd-4054-b738-c0078ce15d43"
   },
   "outputs": [
    {
     "name": "stdout",
     "output_type": "stream",
     "text": [
      "Column: OU Name\n",
      "['MPESA Foundation' 'DigiFarm Kenya Limited' 'M-PESA AFRICA LIMITED'\n",
      " 'M-PESA SA (PTY) Limited' 'Safaricom' 'Safaricomm' 'Safaricom.']\n",
      "----------------------------------------\n",
      "Column: PO/Release creation method\n",
      "['Manual' 'Touchless' 'Autocreate']\n",
      "----------------------------------------\n",
      "Column: Supplier/Vendor\n",
      "['FF' 'OOOOOOOOP' 'BNM' 'FFG' 'G' 'LLLKKJJJ' 'ZZZZZZZZZZZZ' 'AA' 'DD'\n",
      " 'VGJ' 'PLK' 'BNG' 'BVGT' 'LLLLLLLL' 'DFH' 'VBN' 'MMJ' 'ZZZZ' 'FGT' 'HJ'\n",
      " 'CFG' 'VBYI' 'BHJP' 'CVGHJ' 'FVG' 'GG' 'HH' 'VBK' 'VGHKKL' 'CVB' 'BN'\n",
      " 'YPY' 'GBJJKKPP' 'VBBKKLL' 'CVD' 'KK' 'TYU' 'GHJ' 'FCH' 'FG' 'DF' 'RTIO'\n",
      " 'JKL' 'HJKL' 'YOU' 'WE' 'FRTY' 'KLP' 'NMJ' 'BHJ' 'GFF' 'BHHY' 'CVXXXXX'\n",
      " 'DFG' 'RTY' 'GHY' 'ERY' 'FT' 'GHKL' 'LLK' 'ZZZCG' 'BBBBBBBB' 'FCV']\n",
      "----------------------------------------\n",
      "Column: Item Description\n",
      "['return airport transfers in Nairobi'\n",
      " 'Accomodation for foundation team during offsite meeting 6th to 8th Aug 2pax'\n",
      " 'C L 2 ' ... 'Kakamega Golf Hotel Single HB Deluxe Room'\n",
      " 'Kakamega Golf Service Charge Deluxe Room'\n",
      " 'Kakamega Golf Hotel Catering Levy Deluxe Room']\n",
      "----------------------------------------\n",
      "Column: Main category\n",
      "['CORPORATE SERVICES' 'Corprate Services' 'IT.' 'STATUTORY & LICENSING'\n",
      " 'TERMINALS' 'TECHNOLOGY NETWORKSS' 'TECHNOLOGY NETWORKS'\n",
      " 'CORPORATE Services' 'CORPORATE SERVICES.' 'CORPORATE SERVICESS' 'IT'\n",
      " 'CORPORATE SERVICE']\n",
      "----------------------------------------\n",
      "Column: Sub-category\n",
      "['HR & STAFF WELFARE' 'FACILITIES & PROPERTY' 'SECURITY'\n",
      " 'SALES & MARKETING' 'IT INFRASTRUCTURE' 'STATUTORY' 'IT SOFTWARE'\n",
      " 'DEVICES' 'LOGISTICS' 'TRANSPORT' 'NETWORK INFRASTRUCTURE' 'IT SERVICES'\n",
      " 'COMPUTER' 'ACCESSORIES' 'INSURANCE' 'NETWORK SERVICES'\n",
      " 'RADIO ACCESS NETWORK' 'RESEARCH' 'CONSULTANCY' 'VODAFONE FEES'\n",
      " 'IT LICENCES' 'LEGAL' 'ROYALTY' 'FINANCE' 'SUBSCRIPTIONS' 'MERCHANDISE']\n",
      "----------------------------------------\n",
      "Column: Product Type\n",
      "['TRAVEL & ACCOMODATION' 'SOFT FACILITIES MANAGEMENT' 'SECURITY SERVICES'\n",
      " 'BTL ADVERTISING' 'SALES PROMOTIONS' 'IT MAINTENANCE & SUPPORT'\n",
      " 'HR LEARNING & DEVELOPMENT' 'SECURITY EQUIPMENT'\n",
      " 'INFRASTRUCTURE SERVICES' 'SOFTWARE LICENCES'\n",
      " 'HARD FACILITIES MANAGEMENT' 'HANDSET' 'WAREHOUSING' 'ATL ADVERTISING'\n",
      " 'ACCESS TRANSPORT' 'HR RESOURCING SERVICES' 'HR SERVICES' 'FLEET'\n",
      " 'IT HARDWARE' 'NETWORK ENERGY AND POWER' 'APPLICATIONS SOFTWARE'\n",
      " 'PROFESSIONAL SERVICES' 'LAPTOP' 'DESKTOP' 'LAPTOP BAGS'\n",
      " 'MEDICAL INSURANCE' 'RUCKUS EQUIPMENT' 'FIXED BROADBAND ACCESS'\n",
      " 'RADIO SERVICES' 'RADIO HARDWARE' 'GENERAL RESEARCH'\n",
      " 'BUSINESS CONSULTANCY' 'STRATEGIC CONSULTANCY' 'COMMISSION'\n",
      " 'ENTERPRISE SOLUTIONS' 'BROADBAND' 'LEGAL SERVICES' 'SIMCARDS'\n",
      " 'SPONSORSHIPS' 'GENERAL INSURANCE' 'ROYALTY BRAND' 'LEASING' 'UTILITIES'\n",
      " 'PUBLIC RELATIONS' 'FINANCIAL SERVICES' 'ACCESSORIES'\n",
      " 'PACKAGING MATERIALS' 'SUBSCRIPTIONS' 'MERCHANDISE' 'LIFE INSURANCE'\n",
      " 'TRANSPORT LEASED LINES' 'OUTBOUND LOGISTICS' 'INBOUND LOGISTICS']\n",
      "----------------------------------------\n",
      "Column: Product Name\n",
      "['DOMESTIC FLIGHTS' 'CATERING & HOSPITALITY' 'EVENTS SECURITY'\n",
      " 'AGENCY SERVICES - BTL' 'SALES ACTIVATION' 'ACCOMMODATION'\n",
      " 'IT INFRASTRUCTURE SOFTWARE SUPPORT' 'WASTE MANAGEMENT'\n",
      " 'INTERNATIONAL FLIGHTS' 'TRAINING' 'SECURITY EQUIPMENT & MAINTENANCE'\n",
      " 'LICENSES' 'LICENCES' 'AGENCY SERVICES - EVENTS MANAGEMENT' 'GUARDING'\n",
      " 'CAR HIRE' 'PROMOTIONAL MERCHANDISE' 'CARPENTRY WORKS'\n",
      " 'ELECTRICAL WORKS/SERVICES' '4G SMARTPHONE-MID TIER'\n",
      " '4G SMARTPHONE-ENTRY' 'WAREHOUSE SERVICES' 'AGENCY SERVICES - PRODUCTION'\n",
      " 'FIBRE SERVICES' 'FIBRE EQUIPMENT' 'BTS ROLL OUT SERVICES'\n",
      " 'TAXI SERVICES' 'ATL PRODUCTION SERVICES' 'STAFF OUTSOURCING'\n",
      " 'STAFF WELFARE' 'MEDIA ADVERTISING - PRINT'\n",
      " 'AGENCY SERVICES - EXPERIENTIAL SERVICES' 'EVENTS MANAGEMENT'\n",
      " 'MEETINGS & CONFERENCES' 'MOTOR VEHICLE SERVICE' 'PLUMBING WORKS'\n",
      " 'OFFICE STATIONERY' 'CLEANING SERVICES' 'MOTOR VEHICLE SPARES'\n",
      " 'AIRCONDITIONING EQUIPMENT/SERVICES'\n",
      " 'IT SWITCHES & ROUTERS & LOAD BALANCERS' 'POWER GENERATORS'\n",
      " 'MOTOR VEHICLE GENERAL REPAIRS' 'TOWING & RECOVERY'\n",
      " 'BILLING APPLICATIONS' 'ENTERPRISE APPLICATIONS'\n",
      " 'IT CONSULTANCY SERVICES' 'AGENCY SERVICES - CREATIVE' 'LAPTOP' 'DESKTOP'\n",
      " 'LAPTOP BAGS' 'MOTOR VEHICLE FUEL & LUBRICANTS' 'OUT-PATIENT INSURANCE'\n",
      " 'MEDIA ADVERTISING - DIGITAL' 'HARDWARE'\n",
      " 'FIXED NETWORK INSTALLATION SERVICES' 'SECURITY ESCORT' 'MSR MAINTENANCE'\n",
      " 'BTS MAINTENANCE' 'RADIO - INSTALLATION/COMMISSIONING' 'SITE FUELING'\n",
      " 'RADIO ACCESSORIES' 'PROFESSIONAL BODY SUBSCRIPTIONS'\n",
      " 'AGENCY SERVICES - TRAVEL' 'EXTERNAL RESEARCH'\n",
      " 'PROPERTY PROFESSIONAL SERVICES' 'STRATEGIC CONSULTANCY'\n",
      " 'PROCUREMENT FEES' 'RESALE LICENSES' 'CUSTOMER PREMISES EQUIPMENT'\n",
      " 'MOTOR VEHICLES' 'LITIGATION' 'SIMCARDS' 'HR PROFESSIONAL SERVICES'\n",
      " 'STAFF RELOCATION' 'CORPORATE SPONSORSHIPS' 'RAIL TRANSPORT & TRANSFERS'\n",
      " 'MAIL & COURIER SERVICES' 'MARINE INSURANCE' 'ROYALTY BRAND'\n",
      " 'EQUIPMENT LEASING' '4G SMARTPHONE-PREMIUM' 'POS MATERIALS'\n",
      " 'IT STRUCTURED CABLING' 'WATER' 'AGENCY SERVICES - SALES ACTIVATION'\n",
      " 'SPECIALIZED SECURITY SERVICES' 'REWARD & RECOGNITION'\n",
      " 'AGENCY SERVICES - PR' 'SHARE SERVICES' 'CARRY BAGS'\n",
      " 'PACKAGING MATERIALS' 'CPE-PREMIUM' 'BUSINESS SUBSCRIPTIONS'\n",
      " 'WELLNESS SERVICES' 'LEGAL SECRETARIAL SERVICES' 'SOCIAL CONSULTANCY'\n",
      " 'E-LEARNING COURSE DEVELOPMENT' 'E-LEARNING COURSE LICENSING'\n",
      " 'STAFF RECRUITMENT' 'BOOKING TOOLS' 'FIRE SAFETY SYSTEMS' 'GYM SERVICES'\n",
      " 'AUDIO VISUAL EQUIPMENTS' 'BTL PRODUCTION SERVICE' 'GENERAL CONSULTANCY'\n",
      " 'AGENCY SERVICES - PRINT' 'NEWSPAPERS & PERIODICALS'\n",
      " 'GROUP LIFE INSURANCE' 'STICKERS' 'FLEET TRACKING & MONITORING'\n",
      " 'BUILDERS WORKS' 'AGENCY SERVICES - DIGITAL'\n",
      " 'AGENCY SERVICES - INTEGRATED MEDIA' 'MEDIA ADVERTISING-OUT OF HOME'\n",
      " 'EXPATRIATE COSTS' 'DEBT COLLECTION'\n",
      " 'TRANSPORT LEASED LINES & INTERCONNECT' 'KITCHEN EQUIPMENT'\n",
      " 'OUT BOUND - ROAD TRANSPORT' 'FIXED NETWORK FIELD MAINTENANCE'\n",
      " 'BTS LEASES/RENTALS' 'EDUCATION' 'ENVIRONMENTAL CONSULTANCY'\n",
      " 'OFFICE FURNITURE' 'INBOUND - SEA FREIGHT' 'TRANSPORT & SHUTTLE SERVICES'\n",
      " 'AGENCY SERVICES - MEDIA' 'CHARITY SPONSORSHIPS'\n",
      " 'MEDIA ADVERTISING - TV/CINEMA' 'BILL PRINTING']\n",
      "----------------------------------------\n",
      "Column: UOM\n",
      "['Each' 'LITRE' 'METER' 'BATCH' 'HOURS']\n",
      "----------------------------------------\n",
      "Column: Currency\n",
      "['KES' 'USD' 'EUR' 'ZAR' 'CHF']\n",
      "----------------------------------------\n",
      "Column: Addressable or Non-Addressable\n",
      "['Addressable' 'Non-Addressable']\n",
      "----------------------------------------\n",
      "Column: Locale(Foreign or Local based Suppliers)\n",
      "['Local' 'Foreign']\n",
      "----------------------------------------\n",
      "Column: Special Interest Group- Women or Youth Owned Suppliers\n",
      "['Others' 'Women' 'Youth']\n",
      "----------------------------------------\n",
      "Column: Category Manager(s)\n",
      "['Muchiri Thomas' 'SALOME' 'Hesbon Ongira' 'OKUMU'\n",
      " 'Muchiri, Mr. Thomas Kangangi' 'Ongira, Mr. Hesbon Onyango'\n",
      " 'Kiteme, Ms. Caroline Mbithe' 'Omari, Mr. Jefferson Nyamwaro'\n",
      " 'Ongayo, Miss Anita Kemunto' 'Ochieng, Mr. Adrian John'\n",
      " 'Kiiru, Miss Phylis Nyaguthii' 'Amayo, Miss Rose Atieno'\n",
      " 'Taabu, Ms. Celestine Salome' 'Okumu, Mr. Charles Michael'\n",
      " 'Ndungu, Ms. Carolyne Nyakio']\n",
      "----------------------------------------\n",
      "Column: Buyer\n",
      "['Rowa, Ms. Beverly Akinyi' 'Karanja, Mrs. Maryanne'\n",
      " 'Mungai, Mr. David Mbugua' 'Mwangi, Mr. Benson Ndungu'\n",
      " 'Mangala, Miss Flora Omuhaka' 'Kariuki, Ms. Caroline Wanjiku']\n",
      "----------------------------------------\n",
      "Column: Closure Status\n",
      "['OPEN' 'CLOSED']\n",
      "----------------------------------------\n",
      "Column: Type\n",
      "['Goods' 'Services']\n",
      "----------------------------------------\n",
      "Column: Financial Year\n",
      "['FY 2024/25' 'FY 2024//25']\n",
      "----------------------------------------\n",
      "Column: Department\n",
      "['Unknown' 'DigiFarm Kenya Ltd' 'Mpesa Africa Organization'\n",
      " 'Payments Tribe' 'Physical Security CoE' 'HR Business Partnering'\n",
      " 'Regional Sales & Operations - Nairobi Metropolitan' 'Terminals CoE'\n",
      " 'Regional Sales & Operations - Nairobi East & Coast Dept'\n",
      " 'PR & Corporate Communications Dept' 'Fixed Network Solutions'\n",
      " 'Home & Consumer IOT Dept' 'Brand COE'\n",
      " 'Regional Network Implementation & Operations Dept' 'Segments Tribe'\n",
      " 'Digital Engineering Tribe' 'Digital Services Tribe'\n",
      " 'Organisation Effectiveness & Change' 'Frontline Marketing CoE'\n",
      " 'Commercial Operations CoE' 'Regional Sales & Operations - Coast'\n",
      " 'IT Infrastructure & Shared Applications' 'Digital BSS'\n",
      " 'Technology Enterprise Solutions Dept' 'Network Planning & Design Dept'\n",
      " 'Supply Chain Management Department' 'Research Planning and Design COE'\n",
      " 'Regional Sales & Operations - Rift'\n",
      " 'Regional Sales & Operations - Greater Western' 'Service Management'\n",
      " 'Resources Cluster' 'Converged Service Operations Dept'\n",
      " 'Finance Planning, Analysis &Investor Relations Dept'\n",
      " 'Cyber Security  Department' 'Financial Operations Department'\n",
      " 'Legal & Secretarial Services Dept' 'Digital Channels Tribe'\n",
      " 'Mobile Data Tribe' 'Fixed DataTribe' 'Credit & Collections Dept'\n",
      " 'Base Growth Tribe' 'Regulatory & Public Policy Dept'\n",
      " 'Financial Controlling' 'Internal Audit'\n",
      " 'Business Intelligence & Data Governance']\n",
      "----------------------------------------\n",
      "Column: Division\n",
      "['Unknown' 'Business Development Cluster' 'Financial Services Cluster'\n",
      " 'Corporate Security Cluster' 'Corporate Affairs Cluster'\n",
      " 'Human Resources Cluster' 'Channels Cluster' 'Network'\n",
      " 'Consumer Business Unit' 'Brand Marketing Dept'\n",
      " 'Consumer Business Unit Cluster' 'Digital IT' 'CEO Office'\n",
      " 'Customer Operations Division' 'Technology Cluster' 'Finance Cluster'\n",
      " 'Enterprise Business Unit Division' 'BFSI Tribe']\n",
      "----------------------------------------\n",
      "Column: Expenditure Type\n",
      "['Opex' 'opex' 'Capex' 'Direct' 'Capexx']\n",
      "----------------------------------------\n"
     ]
    }
   ],
   "source": [
    "# Check for entry variants\n",
    "for col in df.select_dtypes(include='object').columns:\n",
    "    print(f\"Column: {col}\")\n",
    "    print(df[col].unique())\n",
    "    print(\"-\" * 40)"
   ]
  },
  {
   "cell_type": "code",
   "execution_count": 67,
   "metadata": {
    "id": "UgI3cF2cUeG5"
   },
   "outputs": [],
   "source": [
    "df['OU Name'] = df['OU Name'].str.strip().replace({\n",
    "    'Safaricomm': 'Safaricom',\n",
    "    'Safaricom.': 'Safaricom'\n",
    "})"
   ]
  },
  {
   "cell_type": "code",
   "execution_count": 68,
   "metadata": {
    "id": "aA5sRTLpUeG5"
   },
   "outputs": [],
   "source": [
    "df['Main category'] = df['Main category'].str.upper().str.replace(r'[.]$', '', regex=True).str.strip()\n",
    "df['Main category'] = df['Main category'].replace({\n",
    "    'CORPORATE SERVICESS': 'CORPORATE SERVICES',\n",
    "    'CORPORATE SERVICE': 'CORPORATE SERVICES',\n",
    "    'CORPORATE SERVICES.': 'CORPORATE SERVICES',\n",
    "    'CORPRATE SERVICES': 'CORPORATE SERVICES',\n",
    "    'CORPORATE Services': 'CORPORATE SERVICES',\n",
    "    'TECHNOLOGY NETWORKSS': 'TECHNOLOGY NETWORKS'\n",
    "})"
   ]
  },
  {
   "cell_type": "code",
   "execution_count": 69,
   "metadata": {
    "id": "tPYwvF12UeG6"
   },
   "outputs": [],
   "source": [
    "df['Expenditure Type'] = df['Expenditure Type'].str.lower().str.strip()\n",
    "df['Expenditure Type'] = df['Expenditure Type'].replace({\n",
    "    'capexx': 'capex',\n",
    "    'opex': 'opex',\n",
    "    'Opex': 'opex',\n",
    "    'Capex': 'capex'\n",
    "})"
   ]
  },
  {
   "cell_type": "code",
   "execution_count": 70,
   "metadata": {
    "id": "LgtY1JFoUeG6"
   },
   "outputs": [],
   "source": [
    "df['Financial Year'] = df['Financial Year'].str.replace('//', '/').str.strip()"
   ]
  },
  {
   "cell_type": "code",
   "execution_count": 71,
   "metadata": {
    "colab": {
     "base_uri": "https://localhost:8080/"
    },
    "id": "e0R0OpdTUeG6",
    "outputId": "9119b417-0951-474e-e19f-0421cffa9ace"
   },
   "outputs": [
    {
     "name": "stdout",
     "output_type": "stream",
     "text": [
      "Column: OU Name\n",
      "['MPESA Foundation' 'DigiFarm Kenya Limited' 'M-PESA AFRICA LIMITED'\n",
      " 'M-PESA SA (PTY) Limited' 'Safaricom']\n",
      "----------------------------------------\n",
      "Column: PO/Release creation method\n",
      "['Manual' 'Touchless' 'Autocreate']\n",
      "----------------------------------------\n",
      "Column: Supplier/Vendor\n",
      "['FF' 'OOOOOOOOP' 'BNM' 'FFG' 'G' 'LLLKKJJJ' 'ZZZZZZZZZZZZ' 'AA' 'DD'\n",
      " 'VGJ' 'PLK' 'BNG' 'BVGT' 'LLLLLLLL' 'DFH' 'VBN' 'MMJ' 'ZZZZ' 'FGT' 'HJ'\n",
      " 'CFG' 'VBYI' 'BHJP' 'CVGHJ' 'FVG' 'GG' 'HH' 'VBK' 'VGHKKL' 'CVB' 'BN'\n",
      " 'YPY' 'GBJJKKPP' 'VBBKKLL' 'CVD' 'KK' 'TYU' 'GHJ' 'FCH' 'FG' 'DF' 'RTIO'\n",
      " 'JKL' 'HJKL' 'YOU' 'WE' 'FRTY' 'KLP' 'NMJ' 'BHJ' 'GFF' 'BHHY' 'CVXXXXX'\n",
      " 'DFG' 'RTY' 'GHY' 'ERY' 'FT' 'GHKL' 'LLK' 'ZZZCG' 'BBBBBBBB' 'FCV']\n",
      "----------------------------------------\n",
      "Column: Item Description\n",
      "['return airport transfers in Nairobi'\n",
      " 'Accomodation for foundation team during offsite meeting 6th to 8th Aug 2pax'\n",
      " 'C L 2 ' ... 'Kakamega Golf Hotel Single HB Deluxe Room'\n",
      " 'Kakamega Golf Service Charge Deluxe Room'\n",
      " 'Kakamega Golf Hotel Catering Levy Deluxe Room']\n",
      "----------------------------------------\n",
      "Column: Main category\n",
      "['CORPORATE SERVICES' 'CORPRATE SERVICES' 'IT' 'STATUTORY & LICENSING'\n",
      " 'TERMINALS' 'TECHNOLOGY NETWORKS']\n",
      "----------------------------------------\n",
      "Column: Sub-category\n",
      "['HR & STAFF WELFARE' 'FACILITIES & PROPERTY' 'SECURITY'\n",
      " 'SALES & MARKETING' 'IT INFRASTRUCTURE' 'STATUTORY' 'IT SOFTWARE'\n",
      " 'DEVICES' 'LOGISTICS' 'TRANSPORT' 'NETWORK INFRASTRUCTURE' 'IT SERVICES'\n",
      " 'COMPUTER' 'ACCESSORIES' 'INSURANCE' 'NETWORK SERVICES'\n",
      " 'RADIO ACCESS NETWORK' 'RESEARCH' 'CONSULTANCY' 'VODAFONE FEES'\n",
      " 'IT LICENCES' 'LEGAL' 'ROYALTY' 'FINANCE' 'SUBSCRIPTIONS' 'MERCHANDISE']\n",
      "----------------------------------------\n",
      "Column: Product Type\n",
      "['TRAVEL & ACCOMODATION' 'SOFT FACILITIES MANAGEMENT' 'SECURITY SERVICES'\n",
      " 'BTL ADVERTISING' 'SALES PROMOTIONS' 'IT MAINTENANCE & SUPPORT'\n",
      " 'HR LEARNING & DEVELOPMENT' 'SECURITY EQUIPMENT'\n",
      " 'INFRASTRUCTURE SERVICES' 'SOFTWARE LICENCES'\n",
      " 'HARD FACILITIES MANAGEMENT' 'HANDSET' 'WAREHOUSING' 'ATL ADVERTISING'\n",
      " 'ACCESS TRANSPORT' 'HR RESOURCING SERVICES' 'HR SERVICES' 'FLEET'\n",
      " 'IT HARDWARE' 'NETWORK ENERGY AND POWER' 'APPLICATIONS SOFTWARE'\n",
      " 'PROFESSIONAL SERVICES' 'LAPTOP' 'DESKTOP' 'LAPTOP BAGS'\n",
      " 'MEDICAL INSURANCE' 'RUCKUS EQUIPMENT' 'FIXED BROADBAND ACCESS'\n",
      " 'RADIO SERVICES' 'RADIO HARDWARE' 'GENERAL RESEARCH'\n",
      " 'BUSINESS CONSULTANCY' 'STRATEGIC CONSULTANCY' 'COMMISSION'\n",
      " 'ENTERPRISE SOLUTIONS' 'BROADBAND' 'LEGAL SERVICES' 'SIMCARDS'\n",
      " 'SPONSORSHIPS' 'GENERAL INSURANCE' 'ROYALTY BRAND' 'LEASING' 'UTILITIES'\n",
      " 'PUBLIC RELATIONS' 'FINANCIAL SERVICES' 'ACCESSORIES'\n",
      " 'PACKAGING MATERIALS' 'SUBSCRIPTIONS' 'MERCHANDISE' 'LIFE INSURANCE'\n",
      " 'TRANSPORT LEASED LINES' 'OUTBOUND LOGISTICS' 'INBOUND LOGISTICS']\n",
      "----------------------------------------\n",
      "Column: Product Name\n",
      "['DOMESTIC FLIGHTS' 'CATERING & HOSPITALITY' 'EVENTS SECURITY'\n",
      " 'AGENCY SERVICES - BTL' 'SALES ACTIVATION' 'ACCOMMODATION'\n",
      " 'IT INFRASTRUCTURE SOFTWARE SUPPORT' 'WASTE MANAGEMENT'\n",
      " 'INTERNATIONAL FLIGHTS' 'TRAINING' 'SECURITY EQUIPMENT & MAINTENANCE'\n",
      " 'LICENSES' 'LICENCES' 'AGENCY SERVICES - EVENTS MANAGEMENT' 'GUARDING'\n",
      " 'CAR HIRE' 'PROMOTIONAL MERCHANDISE' 'CARPENTRY WORKS'\n",
      " 'ELECTRICAL WORKS/SERVICES' '4G SMARTPHONE-MID TIER'\n",
      " '4G SMARTPHONE-ENTRY' 'WAREHOUSE SERVICES' 'AGENCY SERVICES - PRODUCTION'\n",
      " 'FIBRE SERVICES' 'FIBRE EQUIPMENT' 'BTS ROLL OUT SERVICES'\n",
      " 'TAXI SERVICES' 'ATL PRODUCTION SERVICES' 'STAFF OUTSOURCING'\n",
      " 'STAFF WELFARE' 'MEDIA ADVERTISING - PRINT'\n",
      " 'AGENCY SERVICES - EXPERIENTIAL SERVICES' 'EVENTS MANAGEMENT'\n",
      " 'MEETINGS & CONFERENCES' 'MOTOR VEHICLE SERVICE' 'PLUMBING WORKS'\n",
      " 'OFFICE STATIONERY' 'CLEANING SERVICES' 'MOTOR VEHICLE SPARES'\n",
      " 'AIRCONDITIONING EQUIPMENT/SERVICES'\n",
      " 'IT SWITCHES & ROUTERS & LOAD BALANCERS' 'POWER GENERATORS'\n",
      " 'MOTOR VEHICLE GENERAL REPAIRS' 'TOWING & RECOVERY'\n",
      " 'BILLING APPLICATIONS' 'ENTERPRISE APPLICATIONS'\n",
      " 'IT CONSULTANCY SERVICES' 'AGENCY SERVICES - CREATIVE' 'LAPTOP' 'DESKTOP'\n",
      " 'LAPTOP BAGS' 'MOTOR VEHICLE FUEL & LUBRICANTS' 'OUT-PATIENT INSURANCE'\n",
      " 'MEDIA ADVERTISING - DIGITAL' 'HARDWARE'\n",
      " 'FIXED NETWORK INSTALLATION SERVICES' 'SECURITY ESCORT' 'MSR MAINTENANCE'\n",
      " 'BTS MAINTENANCE' 'RADIO - INSTALLATION/COMMISSIONING' 'SITE FUELING'\n",
      " 'RADIO ACCESSORIES' 'PROFESSIONAL BODY SUBSCRIPTIONS'\n",
      " 'AGENCY SERVICES - TRAVEL' 'EXTERNAL RESEARCH'\n",
      " 'PROPERTY PROFESSIONAL SERVICES' 'STRATEGIC CONSULTANCY'\n",
      " 'PROCUREMENT FEES' 'RESALE LICENSES' 'CUSTOMER PREMISES EQUIPMENT'\n",
      " 'MOTOR VEHICLES' 'LITIGATION' 'SIMCARDS' 'HR PROFESSIONAL SERVICES'\n",
      " 'STAFF RELOCATION' 'CORPORATE SPONSORSHIPS' 'RAIL TRANSPORT & TRANSFERS'\n",
      " 'MAIL & COURIER SERVICES' 'MARINE INSURANCE' 'ROYALTY BRAND'\n",
      " 'EQUIPMENT LEASING' '4G SMARTPHONE-PREMIUM' 'POS MATERIALS'\n",
      " 'IT STRUCTURED CABLING' 'WATER' 'AGENCY SERVICES - SALES ACTIVATION'\n",
      " 'SPECIALIZED SECURITY SERVICES' 'REWARD & RECOGNITION'\n",
      " 'AGENCY SERVICES - PR' 'SHARE SERVICES' 'CARRY BAGS'\n",
      " 'PACKAGING MATERIALS' 'CPE-PREMIUM' 'BUSINESS SUBSCRIPTIONS'\n",
      " 'WELLNESS SERVICES' 'LEGAL SECRETARIAL SERVICES' 'SOCIAL CONSULTANCY'\n",
      " 'E-LEARNING COURSE DEVELOPMENT' 'E-LEARNING COURSE LICENSING'\n",
      " 'STAFF RECRUITMENT' 'BOOKING TOOLS' 'FIRE SAFETY SYSTEMS' 'GYM SERVICES'\n",
      " 'AUDIO VISUAL EQUIPMENTS' 'BTL PRODUCTION SERVICE' 'GENERAL CONSULTANCY'\n",
      " 'AGENCY SERVICES - PRINT' 'NEWSPAPERS & PERIODICALS'\n",
      " 'GROUP LIFE INSURANCE' 'STICKERS' 'FLEET TRACKING & MONITORING'\n",
      " 'BUILDERS WORKS' 'AGENCY SERVICES - DIGITAL'\n",
      " 'AGENCY SERVICES - INTEGRATED MEDIA' 'MEDIA ADVERTISING-OUT OF HOME'\n",
      " 'EXPATRIATE COSTS' 'DEBT COLLECTION'\n",
      " 'TRANSPORT LEASED LINES & INTERCONNECT' 'KITCHEN EQUIPMENT'\n",
      " 'OUT BOUND - ROAD TRANSPORT' 'FIXED NETWORK FIELD MAINTENANCE'\n",
      " 'BTS LEASES/RENTALS' 'EDUCATION' 'ENVIRONMENTAL CONSULTANCY'\n",
      " 'OFFICE FURNITURE' 'INBOUND - SEA FREIGHT' 'TRANSPORT & SHUTTLE SERVICES'\n",
      " 'AGENCY SERVICES - MEDIA' 'CHARITY SPONSORSHIPS'\n",
      " 'MEDIA ADVERTISING - TV/CINEMA' 'BILL PRINTING']\n",
      "----------------------------------------\n",
      "Column: UOM\n",
      "['Each' 'LITRE' 'METER' 'BATCH' 'HOURS']\n",
      "----------------------------------------\n",
      "Column: Currency\n",
      "['KES' 'USD' 'EUR' 'ZAR' 'CHF']\n",
      "----------------------------------------\n",
      "Column: Addressable or Non-Addressable\n",
      "['Addressable' 'Non-Addressable']\n",
      "----------------------------------------\n",
      "Column: Locale(Foreign or Local based Suppliers)\n",
      "['Local' 'Foreign']\n",
      "----------------------------------------\n",
      "Column: Special Interest Group- Women or Youth Owned Suppliers\n",
      "['Others' 'Women' 'Youth']\n",
      "----------------------------------------\n",
      "Column: Category Manager(s)\n",
      "['Muchiri Thomas' 'SALOME' 'Hesbon Ongira' 'OKUMU'\n",
      " 'Muchiri, Mr. Thomas Kangangi' 'Ongira, Mr. Hesbon Onyango'\n",
      " 'Kiteme, Ms. Caroline Mbithe' 'Omari, Mr. Jefferson Nyamwaro'\n",
      " 'Ongayo, Miss Anita Kemunto' 'Ochieng, Mr. Adrian John'\n",
      " 'Kiiru, Miss Phylis Nyaguthii' 'Amayo, Miss Rose Atieno'\n",
      " 'Taabu, Ms. Celestine Salome' 'Okumu, Mr. Charles Michael'\n",
      " 'Ndungu, Ms. Carolyne Nyakio']\n",
      "----------------------------------------\n",
      "Column: Buyer\n",
      "['Rowa, Ms. Beverly Akinyi' 'Karanja, Mrs. Maryanne'\n",
      " 'Mungai, Mr. David Mbugua' 'Mwangi, Mr. Benson Ndungu'\n",
      " 'Mangala, Miss Flora Omuhaka' 'Kariuki, Ms. Caroline Wanjiku']\n",
      "----------------------------------------\n",
      "Column: Closure Status\n",
      "['OPEN' 'CLOSED']\n",
      "----------------------------------------\n",
      "Column: Type\n",
      "['Goods' 'Services']\n",
      "----------------------------------------\n",
      "Column: Financial Year\n",
      "['FY 2024/25']\n",
      "----------------------------------------\n",
      "Column: Department\n",
      "['Unknown' 'DigiFarm Kenya Ltd' 'Mpesa Africa Organization'\n",
      " 'Payments Tribe' 'Physical Security CoE' 'HR Business Partnering'\n",
      " 'Regional Sales & Operations - Nairobi Metropolitan' 'Terminals CoE'\n",
      " 'Regional Sales & Operations - Nairobi East & Coast Dept'\n",
      " 'PR & Corporate Communications Dept' 'Fixed Network Solutions'\n",
      " 'Home & Consumer IOT Dept' 'Brand COE'\n",
      " 'Regional Network Implementation & Operations Dept' 'Segments Tribe'\n",
      " 'Digital Engineering Tribe' 'Digital Services Tribe'\n",
      " 'Organisation Effectiveness & Change' 'Frontline Marketing CoE'\n",
      " 'Commercial Operations CoE' 'Regional Sales & Operations - Coast'\n",
      " 'IT Infrastructure & Shared Applications' 'Digital BSS'\n",
      " 'Technology Enterprise Solutions Dept' 'Network Planning & Design Dept'\n",
      " 'Supply Chain Management Department' 'Research Planning and Design COE'\n",
      " 'Regional Sales & Operations - Rift'\n",
      " 'Regional Sales & Operations - Greater Western' 'Service Management'\n",
      " 'Resources Cluster' 'Converged Service Operations Dept'\n",
      " 'Finance Planning, Analysis &Investor Relations Dept'\n",
      " 'Cyber Security  Department' 'Financial Operations Department'\n",
      " 'Legal & Secretarial Services Dept' 'Digital Channels Tribe'\n",
      " 'Mobile Data Tribe' 'Fixed DataTribe' 'Credit & Collections Dept'\n",
      " 'Base Growth Tribe' 'Regulatory & Public Policy Dept'\n",
      " 'Financial Controlling' 'Internal Audit'\n",
      " 'Business Intelligence & Data Governance']\n",
      "----------------------------------------\n",
      "Column: Division\n",
      "['Unknown' 'Business Development Cluster' 'Financial Services Cluster'\n",
      " 'Corporate Security Cluster' 'Corporate Affairs Cluster'\n",
      " 'Human Resources Cluster' 'Channels Cluster' 'Network'\n",
      " 'Consumer Business Unit' 'Brand Marketing Dept'\n",
      " 'Consumer Business Unit Cluster' 'Digital IT' 'CEO Office'\n",
      " 'Customer Operations Division' 'Technology Cluster' 'Finance Cluster'\n",
      " 'Enterprise Business Unit Division' 'BFSI Tribe']\n",
      "----------------------------------------\n",
      "Column: Expenditure Type\n",
      "['opex' 'capex' 'direct']\n",
      "----------------------------------------\n"
     ]
    }
   ],
   "source": [
    "for col in df.select_dtypes(include='object').columns:\n",
    "    print(f\"Column: {col}\")\n",
    "    print(df[col].unique())\n",
    "    print(\"-\" * 40)"
   ]
  },
  {
   "cell_type": "code",
   "execution_count": 72,
   "metadata": {
    "colab": {
     "base_uri": "https://localhost:8080/"
    },
    "id": "4Raydaw6UeG6",
    "outputId": "212e1e8f-34f9-46bd-899c-4276c180a891"
   },
   "outputs": [
    {
     "data": {
      "text/plain": [
       "(7942, 30)"
      ]
     },
     "execution_count": 72,
     "metadata": {},
     "output_type": "execute_result"
    }
   ],
   "source": [
    "df.shape"
   ]
  },
  {
   "cell_type": "code",
   "execution_count": 73,
   "metadata": {
    "id": "Egh5LyjHFbpJ"
   },
   "outputs": [],
   "source": [
    "# Outliers\n",
    "numeric_df =df.select_dtypes(include = ['number'])"
   ]
  },
  {
   "cell_type": "code",
   "execution_count": 74,
   "metadata": {
    "colab": {
     "base_uri": "https://localhost:8080/",
     "height": 1000
    },
    "id": "ZBwzMTWwDhX5",
    "outputId": "6ec9237d-1e81-4f41-b50c-0427b8f10fe5"
   },
   "outputs": [
    {
     "data": {
      "image/png": "[encoded data removed]",
      "text/plain": [
       "<Figure size 1200x2000 with 8 Axes>"
      ]
     },
     "metadata": {},
     "output_type": "display_data"
    }
   ],
   "source": [
    "#calculate the number of fig to fit height\n",
    "grid=(numeric_df.shape[1]+1)//2\n",
    "#allocating each plot a height of 5\n",
    "plt.figure(figsize=(12, grid * 5))\n",
    "\n",
    "count=0\n",
    "for col in numeric_df:\n",
    "    count += 1\n",
    "    plt.subplot(grid,2,count)\n",
    "    sns.boxplot(y=df[col])\n"
   ]
  },
  {
   "cell_type": "code",
   "execution_count": 75,
   "metadata": {
    "id": "2jPVcs4XHXXG"
   },
   "outputs": [],
   "source": [
    "# Removing Outliers\n",
    "for col in numeric_df:\n",
    "    q1= df[col].quantile(0.25)\n",
    "    q3 = df[col].quantile(0.75)\n",
    "    # calculating iqr\n",
    "    iqr = q3 - q1\n",
    "\n",
    "    #defining lower and upper bound\n",
    "    upper= q3 + 1.5 * iqr\n",
    "    lower = q1 - 1.5 * iqr\n",
    "\n",
    "    # removing outliers\n",
    "    df = df[(df[col] >= lower) & (df[col] <= upper)]\n"
   ]
  },
  {
   "cell_type": "code",
   "execution_count": 76,
   "metadata": {
    "colab": {
     "base_uri": "https://localhost:8080/"
    },
    "id": "6bxUZuuFI7uY",
    "outputId": "f59a9e4d-8311-46b9-ff73-fe2e601302b9"
   },
   "outputs": [
    {
     "data": {
      "text/plain": [
       "(3712, 30)"
      ]
     },
     "execution_count": 76,
     "metadata": {},
     "output_type": "execute_result"
    }
   ],
   "source": [
    "df.shape"
   ]
  },
  {
   "cell_type": "markdown",
   "metadata": {
    "id": "k77RgMe6Re_G"
   },
   "source": [
    "## Visualisation"
   ]
  },
  {
   "cell_type": "code",
   "execution_count": 78,
   "metadata": {
    "id": "WCfEnTS5bL6W"
   },
   "outputs": [],
   "source": [
    "import matplotlib.pyplot as plt\n",
    "import seaborn as sns\n",
    "import textwrap"
   ]
  },
  {
   "cell_type": "code",
   "execution_count": 79,
   "metadata": {
    "colab": {
     "base_uri": "https://localhost:8080/",
     "height": 663
    },
    "id": "315cNcSuSTGF",
    "outputId": "251a29b0-0db5-417f-8826-0436e8b89da3"
   },
   "outputs": [
    {
     "data": {
      "image/png": "[encoded data removed]",
      "text/plain": [
       "<Figure size 1200x700 with 1 Axes>"
      ]
     },
     "metadata": {},
     "output_type": "display_data"
    }
   ],
   "source": [
    "#top spending departments\n",
    "top_departments = df.groupby('Department')['PO Amount'].sum().nlargest(15)\n",
    "labels = ['\\n'.join(textwrap.wrap(dept, 20)) for dept in top_departments.index]\n",
    "plt.figure(figsize=(12, 7))\n",
    "sns.barplot(x=labels, y=top_departments.values, palette=\"Blues_d\")\n",
    "plt.xlabel('Department')\n",
    "plt.ylabel('Total Spending')\n",
    "plt.title('Top Spending Departments')\n",
    "plt.xticks(rotation=45, ha='right')\n",
    "plt.tight_layout()\n",
    "plt.show()"
   ]
  },
  {
   "cell_type": "markdown",
   "metadata": {
    "id": "YewZwHZ7csHx"
   },
   "source": [
    "The unknown category contributes the largest share of spending, over Ksh 12M. This may indicate missing or unclassified data.Major spenders include:\n",
    "Physical Security COE,Segments Tribe,Regional Network Implementation and  Operations."
   ]
  },
  {
   "cell_type": "code",
   "execution_count": 81,
   "metadata": {
    "colab": {
     "base_uri": "https://localhost:8080/",
     "height": 564
    },
    "id": "0bI_Nir7Rl0F",
    "outputId": "7dbe4ab2-d041-4ac1-e71e-7b451f1cd1c4"
   },
   "outputs": [
    {
     "data": {
      "image/png": "[encoded data removed]",
      "text/plain": [
       "<Figure size 800x600 with 1 Axes>"
      ]
     },
     "metadata": {},
     "output_type": "display_data"
    }
   ],
   "source": [
    "#PO Amount distribution\n",
    "plt.figure(figsize=(8, 6))\n",
    "sns.histplot(df['PO Amount'], bins=20, kde=True)\n",
    "plt.xlabel('PO Amount')\n",
    "plt.ylabel('Frequency')\n",
    "plt.title('Distribution of PO Amount')\n",
    "plt.show()"
   ]
  },
  {
   "cell_type": "markdown",
   "metadata": {
    "id": "WqFupbRjdgLI"
   },
   "source": [
    "The bulk of purchase orders fall below Ksh 5,000, suggesting many small-value transactions. We also have fewer, high value transactions beyond Ksh 20,000."
   ]
  },
  {
   "cell_type": "code",
   "execution_count": 83,
   "metadata": {
    "colab": {
     "base_uri": "https://localhost:8080/",
     "height": 487
    },
    "id": "jFKjNzpuVkEM",
    "outputId": "9cd651c7-667a-48f4-8381-818165ea541f"
   },
   "outputs": [
    {
     "data": {
      "image/png": "[encoded data removed]",
      "text/plain": [
       "<Figure size 800x500 with 1 Axes>"
      ]
     },
     "metadata": {},
     "output_type": "display_data"
    }
   ],
   "source": [
    "#Supplier frequency\n",
    "# Get top 10 suppliers by frequency\n",
    "supplier_counts = df['Supplier/Vendor'].value_counts().head(10)\n",
    "ax = supplier_counts.plot(kind='barh', figsize=(8, 5), title='Top 10 Suppliers by Frequency', color='steelblue')\n",
    "plt.xlabel('Number of POs')\n",
    "plt.ylabel('Supplier/Vendor')\n",
    "plt.gca().invert_yaxis()\n",
    "plt.show()"
   ]
  },
  {
   "cell_type": "markdown",
   "metadata": {
    "id": "iw_LsGgneMcJ"
   },
   "source": [
    "CVXXXXX is the most engaged supplier with over 2,000 interactions, significantly ahead of others. This level of activity suggests a strong relationship but also raises a flag on dependency."
   ]
  },
  {
   "cell_type": "code",
   "execution_count": 85,
   "metadata": {
    "colab": {
     "base_uri": "https://localhost:8080/",
     "height": 486
    },
    "id": "hOLsWPImUGmV",
    "outputId": "2a228b92-72d3-429c-9379-3308f6cf6222"
   },
   "outputs": [
    {
     "data": {
      "image/png": "[encoded data removed]",
      "text/plain": [
       "<Figure size 640x480 with 1 Axes>"
      ]
     },
     "metadata": {},
     "output_type": "display_data"
    }
   ],
   "source": [
    "#Monthly trend of PO Amounts\n",
    "df['Month'] = pd.to_datetime(df['Month'], errors='coerce')\n",
    "monthly = df.groupby(df['Month'].dt.to_period('M'))['PO Amount'].sum()\n",
    "monthly.plot(kind='line', marker='o', title='Monthly PO Spend')\n",
    "plt.ylabel('Total PO Amount')\n",
    "plt.xlabel('Month')\n",
    "plt.xticks(rotation=45)\n",
    "plt.show()"
   ]
  },
  {
   "cell_type": "markdown",
   "metadata": {
    "id": "yQ1TAqm-fkDK"
   },
   "source": [
    "There is a major spike in PO spending in April 2024, likely tied to year end procurement. Then a dip in May followed by a gradual recovery in June and July."
   ]
  },
  {
   "cell_type": "code",
   "execution_count": 87,
   "metadata": {
    "colab": {
     "base_uri": "https://localhost:8080/",
     "height": 472
    },
    "id": "bkehgptkUmyF",
    "outputId": "ad6ed66a-b3b6-4313-a19b-ea876bacc282"
   },
   "outputs": [
    {
     "data": {
      "image/png": "[encoded data removed]",
      "text/plain": [
       "<Figure size 640x480 with 1 Axes>"
      ]
     },
     "metadata": {},
     "output_type": "display_data"
    }
   ],
   "source": [
    "#PO Amount by Supplier Type (Local vs Foreign)\n",
    "sns.boxplot(data=df, x='Locale(Foreign or Local based Suppliers)', y='PO Amount')\n",
    "plt.xlabel('Supplier Locale')\n",
    "plt.ylabel('PO Amount (Ksh)')\n",
    "plt.title('PO Spend by Supplier Locale')\n",
    "plt.show()"
   ]
  },
  {
   "cell_type": "markdown",
   "metadata": {
    "id": "LnTyR-LqgPgB"
   },
   "source": [
    "Foreign suppliers generally receive larger, more consistent PO amounts.Local suppliers handle many small orders and a few very large ones."
   ]
  },
  {
   "cell_type": "code",
   "execution_count": 89,
   "metadata": {
    "colab": {
     "base_uri": "https://localhost:8080/",
     "height": 470
    },
    "id": "YCCdo7M1U4Sl",
    "outputId": "46df3ad0-fc3b-4882-8d21-4d8cc5a17438"
   },
   "outputs": [
    {
     "data": {
      "image/png": "[encoded data removed]",
      "text/plain": [
       "<Figure size 640x480 with 1 Axes>"
      ]
     },
     "metadata": {},
     "output_type": "display_data"
    }
   ],
   "source": [
    "#Spend per Main category\n",
    "main_cat_spend = df.groupby('Main category')['PO Amount'].sum().sort_values(ascending=False)\n",
    "main_cat_spend.plot(kind='barh', title='Spend per Main Category')\n",
    "plt.show()"
   ]
  },
  {
   "cell_type": "code",
   "execution_count": 90,
   "metadata": {
    "colab": {
     "base_uri": "https://localhost:8080/",
     "height": 607
    },
    "id": "kUMgJQKpVA_8",
    "outputId": "c6f6bd78-c808-49b0-e4b0-2c611c332147"
   },
   "outputs": [
    {
     "data": {
      "image/png": "[encoded data removed]",
      "text/plain": [
       "<Figure size 1000x600 with 1 Axes>"
      ]
     },
     "metadata": {},
     "output_type": "display_data"
    }
   ],
   "source": [
    "#Spend per Sub-category (top 10\n",
    "import matplotlib.pyplot as plt\n",
    "import matplotlib.ticker as mtick\n",
    "\n",
    "sub_cat_spend = df.groupby('Sub-category')['PO Amount'].sum().sort_values(ascending=False).head(10)\n",
    "\n",
    "# Define a color list\n",
    "colors = ['#1f77b4', '#ff7f0e', '#2ca02c', '#d62728', '#9467bd',\n",
    "          '#8c564b', '#e377c2', '#7f7f7f', '#bcbd22', '#17becf']\n",
    "fig, ax = plt.subplots(figsize=(10, 6))\n",
    "sub_cat_spend.plot(kind='barh', color=colors, ax=ax)\n",
    "plt.title('Top 10 Sub-categories by Spend')\n",
    "plt.xlabel('Total Spend (Millions)')\n",
    "plt.ylabel('Sub-category')\n",
    "ax.xaxis.set_major_formatter(mtick.FuncFormatter(lambda x, _: f'{x*1e-6:.1f}M'))\n",
    "plt.tight_layout()\n",
    "plt.show()\n"
   ]
  },
  {
   "cell_type": "markdown",
   "metadata": {
    "id": "Sa3kBQ6WjMmp"
   },
   "source": [
    "HR & Staff Welfare, Facilities and  Property, and Sales and Marketing,Security dominate spending."
   ]
  },
  {
   "cell_type": "code",
   "execution_count": 92,
   "metadata": {
    "colab": {
     "base_uri": "https://localhost:8080/",
     "height": 507
    },
    "id": "jAxfHQaYVJM8",
    "outputId": "88edf145-422b-4c2d-b670-c16017a1a8b5"
   },
   "outputs": [
    {
     "data": {
      "image/png": "[encoded data removed]",
      "text/plain": [
       "<Figure size 600x500 with 1 Axes>"
      ]
     },
     "metadata": {},
     "output_type": "display_data"
    }
   ],
   "source": [
    "#Spend on Women/Youth-owned businesses\n",
    "#Prepare data with clean labels\n",
    "sig_counts = df['Special Interest Group- Women or Youth Owned Suppliers'].fillna('Others')\n",
    "sig_counts = sig_counts.str.title().value_counts()\n",
    "fig, ax = plt.subplots(figsize=(6, 5))\n",
    "bars = sig_counts.plot(kind='bar', color='steelblue', ax=ax)\n",
    "plt.title('POs to Special Interest Groups')\n",
    "plt.xlabel('Special Interest Group - Women or Youth Owned Suppliers')\n",
    "plt.ylabel('Number of POs')\n",
    "plt.tight_layout()\n",
    "plt.show()"
   ]
  },
  {
   "cell_type": "markdown",
   "metadata": {
    "id": "StaOUgpmr7WD"
   },
   "source": [
    "The majority of POs are going to non-SIG (Others) suppliers.Women-owned suppliers receive a notable share while youth-owned suppliers are significantly underrepresented."
   ]
  },
  {
   "cell_type": "code",
   "execution_count": 94,
   "metadata": {
    "colab": {
     "base_uri": "https://localhost:8080/",
     "height": 607
    },
    "id": "Pi0mcT83qu8c",
    "outputId": "766add41-01a6-4937-d0d1-8e8babb7c1c4"
   },
   "outputs": [
    {
     "data": {
      "image/png": "[encoded data removed]",
      "text/plain": [
       "<Figure size 600x600 with 1 Axes>"
      ]
     },
     "metadata": {},
     "output_type": "display_data"
    }
   ],
   "source": [
    "sig_counts = df['Special Interest Group- Women or Youth Owned Suppliers'].fillna('Others')\n",
    "sig_counts = sig_counts.str.title().value_counts()\n",
    "fig, ax = plt.subplots(figsize=(6, 6))\n",
    "ax.pie(\n",
    "    sig_counts,\n",
    "    labels=sig_counts.index,\n",
    "    autopct='%1.1f%%',\n",
    "    startangle=90,\n",
    "    colors=['#1f77b4', '#ff7f0e', '#2ca02c'],  # Optional: custom colors\n",
    "    wedgeprops=dict(edgecolor='white')\n",
    ")\n",
    "ax.set_title('Distribution of POs to Special Interest Groups')\n",
    "plt.tight_layout()\n",
    "plt.show()\n"
   ]
  },
  {
   "cell_type": "markdown",
   "metadata": {
    "id": "MemmAaORrx4E"
   },
   "source": [
    "The majority of purchase orders go to suppliers outside of Special Interest Groups. Women-owned businesses account for 17%, and youth-owned suppliers are significantly underrepresented at just 3%."
   ]
  },
  {
   "cell_type": "code",
   "execution_count": 96,
   "metadata": {
    "colab": {
     "base_uri": "https://localhost:8080/",
     "height": 569
    },
    "id": "3-pcIFhjacvi",
    "outputId": "faa7bbb8-3292-4ddf-a2d3-f3af2a7d72a3"
   },
   "outputs": [
    {
     "data": {
      "image/png": "[encoded data removed]",
      "text/plain": [
       "<Figure size 1200x600 with 1 Axes>"
      ]
     },
     "metadata": {},
     "output_type": "display_data"
    }
   ],
   "source": [
    "#Product Type breakdown\n",
    "#Count POs by product type\n",
    "product_counts = df['Product Type'].fillna('Unknown').value_counts()\n",
    "fig, ax = plt.subplots(figsize=(12, 6))\n",
    "product_counts.plot(kind='bar', color='steelblue', ax=ax)\n",
    "plt.title('Product Type Breakdown')\n",
    "plt.xlabel('Product Type')\n",
    "plt.ylabel('Number of POs')\n",
    "plt.xticks(rotation=90)\n",
    "plt.tight_layout()\n",
    "plt.show()\n"
   ]
  },
  {
   "cell_type": "markdown",
   "metadata": {
    "id": "C53r3jS5ndmW"
   },
   "source": [
    "Most procurement activities centers around Travel & Accommodation, Advertising, and Facilities Management."
   ]
  },
  {
   "cell_type": "code",
   "execution_count": 98,
   "metadata": {
    "colab": {
     "base_uri": "https://localhost:8080/",
     "height": 607
    },
    "id": "T0-km0LSpz7t",
    "outputId": "93ccad20-f07e-414e-9ed6-056dc12e267b"
   },
   "outputs": [
    {
     "data": {
      "image/png": "[encoded data removed]",
      "text/plain": [
       "<Figure size 1000x600 with 1 Axes>"
      ]
     },
     "metadata": {},
     "output_type": "display_data"
    }
   ],
   "source": [
    "#PO Amount by Locale and SIG Status\n",
    "plt.figure(figsize=(10, 6))\n",
    "sns.boxplot(data=df, x='Locale(Foreign or Local based Suppliers)',\n",
    "            y='PO Amount',\n",
    "            hue='Special Interest Group- Women or Youth Owned Suppliers')\n",
    "plt.title('PO Amount Distribution by Locale and SIG Status')\n",
    "plt.ylabel('PO Amount (Ksh)')\n",
    "plt.tight_layout()\n",
    "plt.show()\n"
   ]
  },
  {
   "cell_type": "markdown",
   "metadata": {
    "id": "rIlXyet0qVoe"
   },
   "source": [
    "This chart highlights a clear value disparity between local SIG suppliers and foreign or non-SIG vendors. While youth-owned suppliers have a higher median spend than women-owned ones, both are still on the lower end compared to others. Foreign suppliers consistently receive higher value POs, possibly due to specialization or contract size."
   ]
  },
  {
   "cell_type": "markdown",
   "metadata": {
    "id": "B1j--UKEUeG-"
   },
   "source": [
    "## Data Preprocessing"
   ]
  },
  {
   "cell_type": "markdown",
   "metadata": {
    "id": "s7S5SrRRUeG-"
   },
   "source": [
    "### Feature engineering"
   ]
  },
  {
   "cell_type": "code",
   "execution_count": 102,
   "metadata": {
    "id": "uC2RIqhPUeG-"
   },
   "outputs": [],
   "source": [
    "from sklearn.preprocessing import StandardScaler"
   ]
  },
  {
   "cell_type": "code",
   "execution_count": 103,
   "metadata": {
    "colab": {
     "base_uri": "https://localhost:8080/"
    },
    "id": "Iq35DDfrUeG-",
    "outputId": "71ec55e2-2fef-4f20-8f84-bce093361ecf",
    "scrolled": true
   },
   "outputs": [
    {
     "name": "stdout",
     "output_type": "stream",
     "text": [
      "<class 'pandas.core.frame.DataFrame'>\n",
      "Index: 3712 entries, 59 to 8057\n",
      "Data columns (total 30 columns):\n",
      " #   Column                                                  Non-Null Count  Dtype         \n",
      "---  ------                                                  --------------  -----         \n",
      " 0   OU Name                                                 3712 non-null   object        \n",
      " 1   PO                                                      3712 non-null   int64         \n",
      " 2   Month                                                   3712 non-null   datetime64[ns]\n",
      " 3   PO/Release creation method                              3712 non-null   object        \n",
      " 4   Supplier/Vendor                                         3712 non-null   object        \n",
      " 5   Item Description                                        3712 non-null   object        \n",
      " 6   Main category                                           3712 non-null   object        \n",
      " 7   Sub-category                                            3712 non-null   object        \n",
      " 8   Product Type                                            3712 non-null   object        \n",
      " 9   Product Name                                            3712 non-null   object        \n",
      " 10  UOM                                                     3712 non-null   object        \n",
      " 11  Currency                                                3712 non-null   object        \n",
      " 12  Quantity                                                3712 non-null   float64       \n",
      " 13  Unit Price                                              3712 non-null   float64       \n",
      " 14  PO Amount                                               3712 non-null   float64       \n",
      " 15  Addressable or Non-Addressable                          3712 non-null   object        \n",
      " 16  Locale(Foreign or Local based Suppliers)                3712 non-null   object        \n",
      " 17  Special Interest Group- Women or Youth Owned Suppliers  3712 non-null   object        \n",
      " 18  Category Manager(s)                                     3712 non-null   object        \n",
      " 19  Buyer                                                   3712 non-null   object        \n",
      " 20  Closure Status                                          3712 non-null   object        \n",
      " 21  Type                                                    3712 non-null   object        \n",
      " 22  Line                                                    3712 non-null   int64         \n",
      " 23  Shipment                                                3712 non-null   int64         \n",
      " 24  Distribution Num                                        3712 non-null   int64         \n",
      " 25  Distribution Ordered Quantity                           3712 non-null   float64       \n",
      " 26  Financial Year                                          3712 non-null   object        \n",
      " 27  Department                                              3712 non-null   object        \n",
      " 28  Division                                                3712 non-null   object        \n",
      " 29  Expenditure Type                                        3712 non-null   object        \n",
      "dtypes: datetime64[ns](1), float64(4), int64(4), object(21)\n",
      "memory usage: 899.0+ KB\n"
     ]
    }
   ],
   "source": [
    "df.info()"
   ]
  },
  {
   "cell_type": "code",
   "execution_count": 104,
   "metadata": {
    "colab": {
     "base_uri": "https://localhost:8080/",
     "height": 625
    },
    "id": "5jpbMWrTUeG-",
    "outputId": "1a4e8472-94ea-4736-aa24-2373d7f9b1d6"
   },
   "outputs": [
    {
     "data": {
      "text/html": [
       "<div>\n",
       "<style scoped>\n",
       "    .dataframe tbody tr th:only-of-type {\n",
       "        vertical-align: middle;\n",
       "    }\n",
       "\n",
       "    .dataframe tbody tr th {\n",
       "        vertical-align: top;\n",
       "    }\n",
       "\n",
       "    .dataframe thead th {\n",
       "        text-align: right;\n",
       "    }\n",
       "</style>\n",
       "<table border=\"1\" class=\"dataframe\">\n",
       "  <thead>\n",
       "    <tr style=\"text-align: right;\">\n",
       "      <th></th>\n",
       "      <th>OU Name</th>\n",
       "      <th>PO</th>\n",
       "      <th>Month</th>\n",
       "      <th>PO/Release creation method</th>\n",
       "      <th>Supplier/Vendor</th>\n",
       "      <th>Item Description</th>\n",
       "      <th>Main category</th>\n",
       "      <th>Sub-category</th>\n",
       "      <th>Product Type</th>\n",
       "      <th>Product Name</th>\n",
       "      <th>UOM</th>\n",
       "      <th>Currency</th>\n",
       "      <th>Quantity</th>\n",
       "      <th>Unit Price</th>\n",
       "      <th>PO Amount</th>\n",
       "      <th>Addressable or Non-Addressable</th>\n",
       "      <th>Locale(Foreign or Local based Suppliers)</th>\n",
       "      <th>Special Interest Group- Women or Youth Owned Suppliers</th>\n",
       "      <th>Category Manager(s)</th>\n",
       "      <th>Buyer</th>\n",
       "      <th>Closure Status</th>\n",
       "      <th>Type</th>\n",
       "      <th>Line</th>\n",
       "      <th>Shipment</th>\n",
       "      <th>Distribution Num</th>\n",
       "      <th>Distribution Ordered Quantity</th>\n",
       "      <th>Financial Year</th>\n",
       "      <th>Department</th>\n",
       "      <th>Division</th>\n",
       "      <th>Expenditure Type</th>\n",
       "    </tr>\n",
       "  </thead>\n",
       "  <tbody>\n",
       "    <tr>\n",
       "      <th>59</th>\n",
       "      <td>Safaricom</td>\n",
       "      <td>627160</td>\n",
       "      <td>2024-08-01</td>\n",
       "      <td>Touchless</td>\n",
       "      <td>BVGT</td>\n",
       "      <td>Sales Brand Ambassador Transport Allowance</td>\n",
       "      <td>CORPRATE SERVICES</td>\n",
       "      <td>SALES &amp; MARKETING</td>\n",
       "      <td>BTL ADVERTISING</td>\n",
       "      <td>AGENCY SERVICES - BTL</td>\n",
       "      <td>Each</td>\n",
       "      <td>KES</td>\n",
       "      <td>3.0</td>\n",
       "      <td>200.0</td>\n",
       "      <td>600.0</td>\n",
       "      <td>Addressable</td>\n",
       "      <td>Local</td>\n",
       "      <td>Others</td>\n",
       "      <td>Hesbon Ongira</td>\n",
       "      <td>Karanja, Mrs. Maryanne</td>\n",
       "      <td>CLOSED</td>\n",
       "      <td>Goods</td>\n",
       "      <td>5</td>\n",
       "      <td>1</td>\n",
       "      <td>1</td>\n",
       "      <td>3.0</td>\n",
       "      <td>FY 2024/25</td>\n",
       "      <td>Payments Tribe</td>\n",
       "      <td>Financial Services Cluster</td>\n",
       "      <td>opex</td>\n",
       "    </tr>\n",
       "    <tr>\n",
       "      <th>60</th>\n",
       "      <td>Safaricom</td>\n",
       "      <td>627160</td>\n",
       "      <td>2024-08-01</td>\n",
       "      <td>Touchless</td>\n",
       "      <td>FFG</td>\n",
       "      <td>Experiential Vehicle Van Daily Hire Rate inclu...</td>\n",
       "      <td>CORPRATE SERVICES</td>\n",
       "      <td>SALES &amp; MARKETING</td>\n",
       "      <td>BTL ADVERTISING</td>\n",
       "      <td>AGENCY SERVICES - BTL</td>\n",
       "      <td>Each</td>\n",
       "      <td>KES</td>\n",
       "      <td>1.0</td>\n",
       "      <td>10000.0</td>\n",
       "      <td>10000.0</td>\n",
       "      <td>Addressable</td>\n",
       "      <td>Local</td>\n",
       "      <td>Others</td>\n",
       "      <td>Muchiri Thomas</td>\n",
       "      <td>Karanja, Mrs. Maryanne</td>\n",
       "      <td>CLOSED</td>\n",
       "      <td>Goods</td>\n",
       "      <td>6</td>\n",
       "      <td>1</td>\n",
       "      <td>1</td>\n",
       "      <td>1.0</td>\n",
       "      <td>FY 2024/25</td>\n",
       "      <td>Payments Tribe</td>\n",
       "      <td>Financial Services Cluster</td>\n",
       "      <td>opex</td>\n",
       "    </tr>\n",
       "    <tr>\n",
       "      <th>61</th>\n",
       "      <td>Safaricom</td>\n",
       "      <td>627160</td>\n",
       "      <td>2024-08-01</td>\n",
       "      <td>Touchless</td>\n",
       "      <td>BVGT</td>\n",
       "      <td>Cost of set up for experiential activation for...</td>\n",
       "      <td>CORPRATE SERVICES</td>\n",
       "      <td>SALES &amp; MARKETING</td>\n",
       "      <td>BTL ADVERTISING</td>\n",
       "      <td>AGENCY SERVICES - EVENTS MANAGEMENT</td>\n",
       "      <td>Each</td>\n",
       "      <td>KES</td>\n",
       "      <td>1.0</td>\n",
       "      <td>8000.0</td>\n",
       "      <td>8000.0</td>\n",
       "      <td>Addressable</td>\n",
       "      <td>Local</td>\n",
       "      <td>Others</td>\n",
       "      <td>Hesbon Ongira</td>\n",
       "      <td>Karanja, Mrs. Maryanne</td>\n",
       "      <td>CLOSED</td>\n",
       "      <td>Services</td>\n",
       "      <td>8</td>\n",
       "      <td>1</td>\n",
       "      <td>1</td>\n",
       "      <td>1.0</td>\n",
       "      <td>FY 2024/25</td>\n",
       "      <td>Payments Tribe</td>\n",
       "      <td>Financial Services Cluster</td>\n",
       "      <td>opex</td>\n",
       "    </tr>\n",
       "    <tr>\n",
       "      <th>62</th>\n",
       "      <td>Safaricom</td>\n",
       "      <td>627160</td>\n",
       "      <td>2024-08-01</td>\n",
       "      <td>Touchless</td>\n",
       "      <td>BVGT</td>\n",
       "      <td>Cost of set up for experiential activation for...</td>\n",
       "      <td>CORPRATE SERVICES</td>\n",
       "      <td>SALES &amp; MARKETING</td>\n",
       "      <td>BTL ADVERTISING</td>\n",
       "      <td>AGENCY SERVICES - EVENTS MANAGEMENT</td>\n",
       "      <td>Each</td>\n",
       "      <td>KES</td>\n",
       "      <td>2.0</td>\n",
       "      <td>1800.0</td>\n",
       "      <td>3600.0</td>\n",
       "      <td>Addressable</td>\n",
       "      <td>Local</td>\n",
       "      <td>Others</td>\n",
       "      <td>Hesbon Ongira</td>\n",
       "      <td>Karanja, Mrs. Maryanne</td>\n",
       "      <td>CLOSED</td>\n",
       "      <td>Services</td>\n",
       "      <td>10</td>\n",
       "      <td>1</td>\n",
       "      <td>1</td>\n",
       "      <td>2.0</td>\n",
       "      <td>FY 2024/25</td>\n",
       "      <td>Payments Tribe</td>\n",
       "      <td>Financial Services Cluster</td>\n",
       "      <td>opex</td>\n",
       "    </tr>\n",
       "    <tr>\n",
       "      <th>75</th>\n",
       "      <td>Safaricom</td>\n",
       "      <td>627301</td>\n",
       "      <td>2024-08-01</td>\n",
       "      <td>Touchless</td>\n",
       "      <td>BVGT</td>\n",
       "      <td>Driver Services Other Regions</td>\n",
       "      <td>CORPRATE SERVICES</td>\n",
       "      <td>HR &amp; STAFF WELFARE</td>\n",
       "      <td>TRAVEL &amp; ACCOMODATION</td>\n",
       "      <td>CAR HIRE</td>\n",
       "      <td>Each</td>\n",
       "      <td>KES</td>\n",
       "      <td>6.0</td>\n",
       "      <td>2000.0</td>\n",
       "      <td>12000.0</td>\n",
       "      <td>Addressable</td>\n",
       "      <td>Local</td>\n",
       "      <td>Others</td>\n",
       "      <td>Muchiri, Mr. Thomas Kangangi</td>\n",
       "      <td>Karanja, Mrs. Maryanne</td>\n",
       "      <td>CLOSED</td>\n",
       "      <td>Goods</td>\n",
       "      <td>1</td>\n",
       "      <td>1</td>\n",
       "      <td>1</td>\n",
       "      <td>6.0</td>\n",
       "      <td>FY 2024/25</td>\n",
       "      <td>Unknown</td>\n",
       "      <td>Corporate Affairs Cluster</td>\n",
       "      <td>opex</td>\n",
       "    </tr>\n",
       "  </tbody>\n",
       "</table>\n",
       "</div>"
      ],
      "text/plain": [
       "      OU Name      PO      Month PO/Release creation method Supplier/Vendor  \\\n",
       "59  Safaricom  627160 2024-08-01                  Touchless            BVGT   \n",
       "60  Safaricom  627160 2024-08-01                  Touchless             FFG   \n",
       "61  Safaricom  627160 2024-08-01                  Touchless            BVGT   \n",
       "62  Safaricom  627160 2024-08-01                  Touchless            BVGT   \n",
       "75  Safaricom  627301 2024-08-01                  Touchless            BVGT   \n",
       "\n",
       "                                     Item Description      Main category  \\\n",
       "59         Sales Brand Ambassador Transport Allowance  CORPRATE SERVICES   \n",
       "60  Experiential Vehicle Van Daily Hire Rate inclu...  CORPRATE SERVICES   \n",
       "61  Cost of set up for experiential activation for...  CORPRATE SERVICES   \n",
       "62  Cost of set up for experiential activation for...  CORPRATE SERVICES   \n",
       "75                      Driver Services Other Regions  CORPRATE SERVICES   \n",
       "\n",
       "          Sub-category           Product Type  \\\n",
       "59   SALES & MARKETING        BTL ADVERTISING   \n",
       "60   SALES & MARKETING        BTL ADVERTISING   \n",
       "61   SALES & MARKETING        BTL ADVERTISING   \n",
       "62   SALES & MARKETING        BTL ADVERTISING   \n",
       "75  HR & STAFF WELFARE  TRAVEL & ACCOMODATION   \n",
       "\n",
       "                           Product Name   UOM Currency  Quantity  Unit Price  \\\n",
       "59                AGENCY SERVICES - BTL  Each      KES       3.0       200.0   \n",
       "60                AGENCY SERVICES - BTL  Each      KES       1.0     10000.0   \n",
       "61  AGENCY SERVICES - EVENTS MANAGEMENT  Each      KES       1.0      8000.0   \n",
       "62  AGENCY SERVICES - EVENTS MANAGEMENT  Each      KES       2.0      1800.0   \n",
       "75                             CAR HIRE  Each      KES       6.0      2000.0   \n",
       "\n",
       "    PO Amount Addressable or Non-Addressable  \\\n",
       "59      600.0                    Addressable   \n",
       "60    10000.0                    Addressable   \n",
       "61     8000.0                    Addressable   \n",
       "62     3600.0                    Addressable   \n",
       "75    12000.0                    Addressable   \n",
       "\n",
       "   Locale(Foreign or Local based Suppliers)  \\\n",
       "59                                    Local   \n",
       "60                                    Local   \n",
       "61                                    Local   \n",
       "62                                    Local   \n",
       "75                                    Local   \n",
       "\n",
       "   Special Interest Group- Women or Youth Owned Suppliers  \\\n",
       "59                                             Others       \n",
       "60                                             Others       \n",
       "61                                             Others       \n",
       "62                                             Others       \n",
       "75                                             Others       \n",
       "\n",
       "             Category Manager(s)                   Buyer Closure Status  \\\n",
       "59                 Hesbon Ongira  Karanja, Mrs. Maryanne         CLOSED   \n",
       "60                Muchiri Thomas  Karanja, Mrs. Maryanne         CLOSED   \n",
       "61                 Hesbon Ongira  Karanja, Mrs. Maryanne         CLOSED   \n",
       "62                 Hesbon Ongira  Karanja, Mrs. Maryanne         CLOSED   \n",
       "75  Muchiri, Mr. Thomas Kangangi  Karanja, Mrs. Maryanne         CLOSED   \n",
       "\n",
       "        Type  Line  Shipment  Distribution Num  Distribution Ordered Quantity  \\\n",
       "59     Goods     5         1                 1                            3.0   \n",
       "60     Goods     6         1                 1                            1.0   \n",
       "61  Services     8         1                 1                            1.0   \n",
       "62  Services    10         1                 1                            2.0   \n",
       "75     Goods     1         1                 1                            6.0   \n",
       "\n",
       "   Financial Year      Department                    Division Expenditure Type  \n",
       "59     FY 2024/25  Payments Tribe  Financial Services Cluster             opex  \n",
       "60     FY 2024/25  Payments Tribe  Financial Services Cluster             opex  \n",
       "61     FY 2024/25  Payments Tribe  Financial Services Cluster             opex  \n",
       "62     FY 2024/25  Payments Tribe  Financial Services Cluster             opex  \n",
       "75     FY 2024/25         Unknown   Corporate Affairs Cluster             opex  "
      ]
     },
     "execution_count": 104,
     "metadata": {},
     "output_type": "execute_result"
    }
   ],
   "source": [
    "df.head()"
   ]
  },
  {
   "cell_type": "code",
   "execution_count": 105,
   "metadata": {
    "id": "6wf4iuZvUeG-"
   },
   "outputs": [],
   "source": [
    "# Extract months from the date provided\n",
    "df['Month'] = df['Month'].dt.strftime('%B')"
   ]
  },
  {
   "cell_type": "code",
   "execution_count": 106,
   "metadata": {
    "id": "asMq3AT_UeG_"
   },
   "outputs": [],
   "source": [
    "# Calculating total and average spend by product category, manager, department, month e.t.c.\n",
    "agg_cols = [\n",
    "    'OU Name','Type', 'Supplier/Vendor', 'Buyer', 'Category Manager(s)', 'Department',\n",
    "    'Division', 'Main category', 'Sub-category', 'Expenditure Type'\n",
    "]\n",
    "\n",
    "for col in agg_cols:\n",
    "    # Total spend per category\n",
    "    total_spend = df.groupby(col)['PO Amount'].sum().rename(f'{col}_Total_Spend')\n",
    "    df = df.merge(total_spend, on=col, how='left')\n",
    "\n",
    "    # Average spend per category\n",
    "    avg_spend = df.groupby(col)['PO Amount'].mean().rename(f'{col}_Avg_Spend')\n",
    "    df = df.merge(avg_spend, on=col, how='left')\n"
   ]
  },
  {
   "cell_type": "code",
   "execution_count": 107,
   "metadata": {
    "id": "bhVgIl1jUeG_"
   },
   "outputs": [],
   "source": [
    "encode_cols = [\n",
    "    'OU Name', 'Month', 'PO/Release creation method', 'Supplier/Vendor','Main category',\n",
    "    'Sub-category', 'UOM', 'Currency','Addressable or Non-Addressable','Locale(Foreign or Local based Suppliers)',\n",
    "    'Special Interest Group- Women or Youth Owned Suppliers', 'Category Manager(s)',\n",
    "    'Buyer', 'Type','Department', 'Division',\n",
    "    'Expenditure Type'\n",
    "]"
   ]
  },
  {
   "cell_type": "code",
   "execution_count": 108,
   "metadata": {
    "id": "mB3heVIlUeG_"
   },
   "outputs": [],
   "source": [
    "df = pd.get_dummies(df, columns=encode_cols, drop_first=True)"
   ]
  },
  {
   "cell_type": "code",
   "execution_count": 109,
   "metadata": {
    "colab": {
     "base_uri": "https://localhost:8080/",
     "height": 585
    },
    "id": "wNHXDMkOUeG_",
    "outputId": "2ca07abd-6c6f-42a3-c8e4-e4e48fb7e784"
   },
   "outputs": [
    {
     "data": {
      "text/html": [
       "<div>\n",
       "<style scoped>\n",
       "    .dataframe tbody tr th:only-of-type {\n",
       "        vertical-align: middle;\n",
       "    }\n",
       "\n",
       "    .dataframe tbody tr th {\n",
       "        vertical-align: top;\n",
       "    }\n",
       "\n",
       "    .dataframe thead th {\n",
       "        text-align: right;\n",
       "    }\n",
       "</style>\n",
       "<table border=\"1\" class=\"dataframe\">\n",
       "  <thead>\n",
       "    <tr style=\"text-align: right;\">\n",
       "      <th></th>\n",
       "      <th>PO</th>\n",
       "      <th>Item Description</th>\n",
       "      <th>Product Type</th>\n",
       "      <th>Product Name</th>\n",
       "      <th>Quantity</th>\n",
       "      <th>Unit Price</th>\n",
       "      <th>PO Amount</th>\n",
       "      <th>Closure Status</th>\n",
       "      <th>Line</th>\n",
       "      <th>Shipment</th>\n",
       "      <th>Distribution Num</th>\n",
       "      <th>Distribution Ordered Quantity</th>\n",
       "      <th>Financial Year</th>\n",
       "      <th>OU Name_Total_Spend</th>\n",
       "      <th>OU Name_Avg_Spend</th>\n",
       "      <th>Type_Total_Spend</th>\n",
       "      <th>Type_Avg_Spend</th>\n",
       "      <th>Supplier/Vendor_Total_Spend</th>\n",
       "      <th>Supplier/Vendor_Avg_Spend</th>\n",
       "      <th>Buyer_Total_Spend</th>\n",
       "      <th>Buyer_Avg_Spend</th>\n",
       "      <th>Category Manager(s)_Total_Spend</th>\n",
       "      <th>...</th>\n",
       "      <th>Department_Technology Enterprise Solutions Dept</th>\n",
       "      <th>Department_Terminals CoE</th>\n",
       "      <th>Department_Unknown</th>\n",
       "      <th>Division_Brand Marketing Dept</th>\n",
       "      <th>Division_Business Development Cluster</th>\n",
       "      <th>Division_CEO Office</th>\n",
       "      <th>Division_Channels Cluster</th>\n",
       "      <th>Division_Consumer Business Unit</th>\n",
       "      <th>Division_Consumer Business Unit Cluster</th>\n",
       "      <th>Division_Corporate Affairs Cluster</th>\n",
       "      <th>Division_Corporate Security Cluster</th>\n",
       "      <th>Division_Customer Operations Division</th>\n",
       "      <th>Division_Digital IT</th>\n",
       "      <th>Division_Enterprise Business Unit Division</th>\n",
       "      <th>Division_Finance Cluster</th>\n",
       "      <th>Division_Financial Services Cluster</th>\n",
       "      <th>Division_Human Resources Cluster</th>\n",
       "      <th>Division_Network</th>\n",
       "      <th>Division_Technology Cluster</th>\n",
       "      <th>Division_Unknown</th>\n",
       "      <th>Expenditure Type_direct</th>\n",
       "      <th>Expenditure Type_opex</th>\n",
       "    </tr>\n",
       "  </thead>\n",
       "  <tbody>\n",
       "    <tr>\n",
       "      <th>0</th>\n",
       "      <td>627160</td>\n",
       "      <td>Sales Brand Ambassador Transport Allowance</td>\n",
       "      <td>BTL ADVERTISING</td>\n",
       "      <td>AGENCY SERVICES - BTL</td>\n",
       "      <td>3.0</td>\n",
       "      <td>200.0</td>\n",
       "      <td>600.0</td>\n",
       "      <td>CLOSED</td>\n",
       "      <td>5</td>\n",
       "      <td>1</td>\n",
       "      <td>1</td>\n",
       "      <td>3.0</td>\n",
       "      <td>FY 2024/25</td>\n",
       "      <td>4.035560e+07</td>\n",
       "      <td>10871.659909</td>\n",
       "      <td>2.129785e+07</td>\n",
       "      <td>10170.893986</td>\n",
       "      <td>82163.01</td>\n",
       "      <td>6320.231538</td>\n",
       "      <td>4.032160e+07</td>\n",
       "      <td>10888.901716</td>\n",
       "      <td>2.561273e+07</td>\n",
       "      <td>...</td>\n",
       "      <td>False</td>\n",
       "      <td>False</td>\n",
       "      <td>False</td>\n",
       "      <td>False</td>\n",
       "      <td>False</td>\n",
       "      <td>False</td>\n",
       "      <td>False</td>\n",
       "      <td>False</td>\n",
       "      <td>False</td>\n",
       "      <td>False</td>\n",
       "      <td>False</td>\n",
       "      <td>False</td>\n",
       "      <td>False</td>\n",
       "      <td>False</td>\n",
       "      <td>False</td>\n",
       "      <td>True</td>\n",
       "      <td>False</td>\n",
       "      <td>False</td>\n",
       "      <td>False</td>\n",
       "      <td>False</td>\n",
       "      <td>False</td>\n",
       "      <td>True</td>\n",
       "    </tr>\n",
       "    <tr>\n",
       "      <th>1</th>\n",
       "      <td>627160</td>\n",
       "      <td>Experiential Vehicle Van Daily Hire Rate inclu...</td>\n",
       "      <td>BTL ADVERTISING</td>\n",
       "      <td>AGENCY SERVICES - BTL</td>\n",
       "      <td>1.0</td>\n",
       "      <td>10000.0</td>\n",
       "      <td>10000.0</td>\n",
       "      <td>CLOSED</td>\n",
       "      <td>6</td>\n",
       "      <td>1</td>\n",
       "      <td>1</td>\n",
       "      <td>1.0</td>\n",
       "      <td>FY 2024/25</td>\n",
       "      <td>4.035560e+07</td>\n",
       "      <td>10871.659909</td>\n",
       "      <td>2.129785e+07</td>\n",
       "      <td>10170.893986</td>\n",
       "      <td>121790.00</td>\n",
       "      <td>10149.166667</td>\n",
       "      <td>4.032160e+07</td>\n",
       "      <td>10888.901716</td>\n",
       "      <td>1.201170e+07</td>\n",
       "      <td>...</td>\n",
       "      <td>False</td>\n",
       "      <td>False</td>\n",
       "      <td>False</td>\n",
       "      <td>False</td>\n",
       "      <td>False</td>\n",
       "      <td>False</td>\n",
       "      <td>False</td>\n",
       "      <td>False</td>\n",
       "      <td>False</td>\n",
       "      <td>False</td>\n",
       "      <td>False</td>\n",
       "      <td>False</td>\n",
       "      <td>False</td>\n",
       "      <td>False</td>\n",
       "      <td>False</td>\n",
       "      <td>True</td>\n",
       "      <td>False</td>\n",
       "      <td>False</td>\n",
       "      <td>False</td>\n",
       "      <td>False</td>\n",
       "      <td>False</td>\n",
       "      <td>True</td>\n",
       "    </tr>\n",
       "    <tr>\n",
       "      <th>2</th>\n",
       "      <td>627160</td>\n",
       "      <td>Cost of set up for experiential activation for...</td>\n",
       "      <td>BTL ADVERTISING</td>\n",
       "      <td>AGENCY SERVICES - EVENTS MANAGEMENT</td>\n",
       "      <td>1.0</td>\n",
       "      <td>8000.0</td>\n",
       "      <td>8000.0</td>\n",
       "      <td>CLOSED</td>\n",
       "      <td>8</td>\n",
       "      <td>1</td>\n",
       "      <td>1</td>\n",
       "      <td>1.0</td>\n",
       "      <td>FY 2024/25</td>\n",
       "      <td>4.035560e+07</td>\n",
       "      <td>10871.659909</td>\n",
       "      <td>1.905775e+07</td>\n",
       "      <td>11778.584411</td>\n",
       "      <td>82163.01</td>\n",
       "      <td>6320.231538</td>\n",
       "      <td>4.032160e+07</td>\n",
       "      <td>10888.901716</td>\n",
       "      <td>2.561273e+07</td>\n",
       "      <td>...</td>\n",
       "      <td>False</td>\n",
       "      <td>False</td>\n",
       "      <td>False</td>\n",
       "      <td>False</td>\n",
       "      <td>False</td>\n",
       "      <td>False</td>\n",
       "      <td>False</td>\n",
       "      <td>False</td>\n",
       "      <td>False</td>\n",
       "      <td>False</td>\n",
       "      <td>False</td>\n",
       "      <td>False</td>\n",
       "      <td>False</td>\n",
       "      <td>False</td>\n",
       "      <td>False</td>\n",
       "      <td>True</td>\n",
       "      <td>False</td>\n",
       "      <td>False</td>\n",
       "      <td>False</td>\n",
       "      <td>False</td>\n",
       "      <td>False</td>\n",
       "      <td>True</td>\n",
       "    </tr>\n",
       "    <tr>\n",
       "      <th>3</th>\n",
       "      <td>627160</td>\n",
       "      <td>Cost of set up for experiential activation for...</td>\n",
       "      <td>BTL ADVERTISING</td>\n",
       "      <td>AGENCY SERVICES - EVENTS MANAGEMENT</td>\n",
       "      <td>2.0</td>\n",
       "      <td>1800.0</td>\n",
       "      <td>3600.0</td>\n",
       "      <td>CLOSED</td>\n",
       "      <td>10</td>\n",
       "      <td>1</td>\n",
       "      <td>1</td>\n",
       "      <td>2.0</td>\n",
       "      <td>FY 2024/25</td>\n",
       "      <td>4.035560e+07</td>\n",
       "      <td>10871.659909</td>\n",
       "      <td>1.905775e+07</td>\n",
       "      <td>11778.584411</td>\n",
       "      <td>82163.01</td>\n",
       "      <td>6320.231538</td>\n",
       "      <td>4.032160e+07</td>\n",
       "      <td>10888.901716</td>\n",
       "      <td>2.561273e+07</td>\n",
       "      <td>...</td>\n",
       "      <td>False</td>\n",
       "      <td>False</td>\n",
       "      <td>False</td>\n",
       "      <td>False</td>\n",
       "      <td>False</td>\n",
       "      <td>False</td>\n",
       "      <td>False</td>\n",
       "      <td>False</td>\n",
       "      <td>False</td>\n",
       "      <td>False</td>\n",
       "      <td>False</td>\n",
       "      <td>False</td>\n",
       "      <td>False</td>\n",
       "      <td>False</td>\n",
       "      <td>False</td>\n",
       "      <td>True</td>\n",
       "      <td>False</td>\n",
       "      <td>False</td>\n",
       "      <td>False</td>\n",
       "      <td>False</td>\n",
       "      <td>False</td>\n",
       "      <td>True</td>\n",
       "    </tr>\n",
       "    <tr>\n",
       "      <th>4</th>\n",
       "      <td>627301</td>\n",
       "      <td>Driver Services Other Regions</td>\n",
       "      <td>TRAVEL &amp; ACCOMODATION</td>\n",
       "      <td>CAR HIRE</td>\n",
       "      <td>6.0</td>\n",
       "      <td>2000.0</td>\n",
       "      <td>12000.0</td>\n",
       "      <td>CLOSED</td>\n",
       "      <td>1</td>\n",
       "      <td>1</td>\n",
       "      <td>1</td>\n",
       "      <td>6.0</td>\n",
       "      <td>FY 2024/25</td>\n",
       "      <td>4.035560e+07</td>\n",
       "      <td>10871.659909</td>\n",
       "      <td>2.129785e+07</td>\n",
       "      <td>10170.893986</td>\n",
       "      <td>82163.01</td>\n",
       "      <td>6320.231538</td>\n",
       "      <td>4.032160e+07</td>\n",
       "      <td>10888.901716</td>\n",
       "      <td>9.730000e+05</td>\n",
       "      <td>...</td>\n",
       "      <td>False</td>\n",
       "      <td>False</td>\n",
       "      <td>True</td>\n",
       "      <td>False</td>\n",
       "      <td>False</td>\n",
       "      <td>False</td>\n",
       "      <td>False</td>\n",
       "      <td>False</td>\n",
       "      <td>False</td>\n",
       "      <td>True</td>\n",
       "      <td>False</td>\n",
       "      <td>False</td>\n",
       "      <td>False</td>\n",
       "      <td>False</td>\n",
       "      <td>False</td>\n",
       "      <td>False</td>\n",
       "      <td>False</td>\n",
       "      <td>False</td>\n",
       "      <td>False</td>\n",
       "      <td>False</td>\n",
       "      <td>False</td>\n",
       "      <td>True</td>\n",
       "    </tr>\n",
       "  </tbody>\n",
       "</table>\n",
       "<p>5 rows × 169 columns</p>\n",
       "</div>"
      ],
      "text/plain": [
       "       PO                                   Item Description  \\\n",
       "0  627160         Sales Brand Ambassador Transport Allowance   \n",
       "1  627160  Experiential Vehicle Van Daily Hire Rate inclu...   \n",
       "2  627160  Cost of set up for experiential activation for...   \n",
       "3  627160  Cost of set up for experiential activation for...   \n",
       "4  627301                      Driver Services Other Regions   \n",
       "\n",
       "            Product Type                         Product Name  Quantity  \\\n",
       "0        BTL ADVERTISING                AGENCY SERVICES - BTL       3.0   \n",
       "1        BTL ADVERTISING                AGENCY SERVICES - BTL       1.0   \n",
       "2        BTL ADVERTISING  AGENCY SERVICES - EVENTS MANAGEMENT       1.0   \n",
       "3        BTL ADVERTISING  AGENCY SERVICES - EVENTS MANAGEMENT       2.0   \n",
       "4  TRAVEL & ACCOMODATION                             CAR HIRE       6.0   \n",
       "\n",
       "   Unit Price  PO Amount Closure Status  Line  Shipment  Distribution Num  \\\n",
       "0       200.0      600.0         CLOSED     5         1                 1   \n",
       "1     10000.0    10000.0         CLOSED     6         1                 1   \n",
       "2      8000.0     8000.0         CLOSED     8         1                 1   \n",
       "3      1800.0     3600.0         CLOSED    10         1                 1   \n",
       "4      2000.0    12000.0         CLOSED     1         1                 1   \n",
       "\n",
       "   Distribution Ordered Quantity Financial Year  OU Name_Total_Spend  \\\n",
       "0                            3.0     FY 2024/25         4.035560e+07   \n",
       "1                            1.0     FY 2024/25         4.035560e+07   \n",
       "2                            1.0     FY 2024/25         4.035560e+07   \n",
       "3                            2.0     FY 2024/25         4.035560e+07   \n",
       "4                            6.0     FY 2024/25         4.035560e+07   \n",
       "\n",
       "   OU Name_Avg_Spend  Type_Total_Spend  Type_Avg_Spend  \\\n",
       "0       10871.659909      2.129785e+07    10170.893986   \n",
       "1       10871.659909      2.129785e+07    10170.893986   \n",
       "2       10871.659909      1.905775e+07    11778.584411   \n",
       "3       10871.659909      1.905775e+07    11778.584411   \n",
       "4       10871.659909      2.129785e+07    10170.893986   \n",
       "\n",
       "   Supplier/Vendor_Total_Spend  Supplier/Vendor_Avg_Spend  Buyer_Total_Spend  \\\n",
       "0                     82163.01                6320.231538       4.032160e+07   \n",
       "1                    121790.00               10149.166667       4.032160e+07   \n",
       "2                     82163.01                6320.231538       4.032160e+07   \n",
       "3                     82163.01                6320.231538       4.032160e+07   \n",
       "4                     82163.01                6320.231538       4.032160e+07   \n",
       "\n",
       "   Buyer_Avg_Spend  Category Manager(s)_Total_Spend  ...  \\\n",
       "0     10888.901716                     2.561273e+07  ...   \n",
       "1     10888.901716                     1.201170e+07  ...   \n",
       "2     10888.901716                     2.561273e+07  ...   \n",
       "3     10888.901716                     2.561273e+07  ...   \n",
       "4     10888.901716                     9.730000e+05  ...   \n",
       "\n",
       "   Department_Technology Enterprise Solutions Dept  Department_Terminals CoE  \\\n",
       "0                                            False                     False   \n",
       "1                                            False                     False   \n",
       "2                                            False                     False   \n",
       "3                                            False                     False   \n",
       "4                                            False                     False   \n",
       "\n",
       "   Department_Unknown  Division_Brand Marketing Dept  \\\n",
       "0               False                          False   \n",
       "1               False                          False   \n",
       "2               False                          False   \n",
       "3               False                          False   \n",
       "4                True                          False   \n",
       "\n",
       "   Division_Business Development Cluster  Division_CEO Office  \\\n",
       "0                                  False                False   \n",
       "1                                  False                False   \n",
       "2                                  False                False   \n",
       "3                                  False                False   \n",
       "4                                  False                False   \n",
       "\n",
       "   Division_Channels Cluster  Division_Consumer Business Unit  \\\n",
       "0                      False                            False   \n",
       "1                      False                            False   \n",
       "2                      False                            False   \n",
       "3                      False                            False   \n",
       "4                      False                            False   \n",
       "\n",
       "   Division_Consumer Business Unit Cluster  \\\n",
       "0                                    False   \n",
       "1                                    False   \n",
       "2                                    False   \n",
       "3                                    False   \n",
       "4                                    False   \n",
       "\n",
       "   Division_Corporate Affairs Cluster  Division_Corporate Security Cluster  \\\n",
       "0                               False                                False   \n",
       "1                               False                                False   \n",
       "2                               False                                False   \n",
       "3                               False                                False   \n",
       "4                                True                                False   \n",
       "\n",
       "   Division_Customer Operations Division  Division_Digital IT  \\\n",
       "0                                  False                False   \n",
       "1                                  False                False   \n",
       "2                                  False                False   \n",
       "3                                  False                False   \n",
       "4                                  False                False   \n",
       "\n",
       "   Division_Enterprise Business Unit Division  Division_Finance Cluster  \\\n",
       "0                                       False                     False   \n",
       "1                                       False                     False   \n",
       "2                                       False                     False   \n",
       "3                                       False                     False   \n",
       "4                                       False                     False   \n",
       "\n",
       "   Division_Financial Services Cluster  Division_Human Resources Cluster  \\\n",
       "0                                 True                             False   \n",
       "1                                 True                             False   \n",
       "2                                 True                             False   \n",
       "3                                 True                             False   \n",
       "4                                False                             False   \n",
       "\n",
       "   Division_Network  Division_Technology Cluster  Division_Unknown  \\\n",
       "0             False                        False             False   \n",
       "1             False                        False             False   \n",
       "2             False                        False             False   \n",
       "3             False                        False             False   \n",
       "4             False                        False             False   \n",
       "\n",
       "   Expenditure Type_direct  Expenditure Type_opex  \n",
       "0                    False                   True  \n",
       "1                    False                   True  \n",
       "2                    False                   True  \n",
       "3                    False                   True  \n",
       "4                    False                   True  \n",
       "\n",
       "[5 rows x 169 columns]"
      ]
     },
     "execution_count": 109,
     "metadata": {},
     "output_type": "execute_result"
    }
   ],
   "source": [
    "df.head()"
   ]
  },
  {
   "cell_type": "code",
   "execution_count": 110,
   "metadata": {
    "id": "qV60x2euUeG_"
   },
   "outputs": [],
   "source": [
    "# Scaling\n",
    "numerical_cols = ['Quantity', 'Unit Price', 'PO Amount', 'Distribution Ordered Quantity']"
   ]
  },
  {
   "cell_type": "code",
   "execution_count": 111,
   "metadata": {
    "id": "b4f1d2IeUeG_"
   },
   "outputs": [],
   "source": [
    "scaler = StandardScaler()\n",
    "df[numerical_cols] = scaler.fit_transform(df[numerical_cols])"
   ]
  },
  {
   "cell_type": "code",
   "execution_count": 112,
   "metadata": {
    "colab": {
     "base_uri": "https://localhost:8080/",
     "height": 585
    },
    "id": "pxMxrm8HUeHA",
    "outputId": "caf38264-56d0-445a-cb8f-075e1e928998"
   },
   "outputs": [
    {
     "data": {
      "text/html": [
       "<div>\n",
       "<style scoped>\n",
       "    .dataframe tbody tr th:only-of-type {\n",
       "        vertical-align: middle;\n",
       "    }\n",
       "\n",
       "    .dataframe tbody tr th {\n",
       "        vertical-align: top;\n",
       "    }\n",
       "\n",
       "    .dataframe thead th {\n",
       "        text-align: right;\n",
       "    }\n",
       "</style>\n",
       "<table border=\"1\" class=\"dataframe\">\n",
       "  <thead>\n",
       "    <tr style=\"text-align: right;\">\n",
       "      <th></th>\n",
       "      <th>PO</th>\n",
       "      <th>Item Description</th>\n",
       "      <th>Product Type</th>\n",
       "      <th>Product Name</th>\n",
       "      <th>Quantity</th>\n",
       "      <th>Unit Price</th>\n",
       "      <th>PO Amount</th>\n",
       "      <th>Closure Status</th>\n",
       "      <th>Line</th>\n",
       "      <th>Shipment</th>\n",
       "      <th>Distribution Num</th>\n",
       "      <th>Distribution Ordered Quantity</th>\n",
       "      <th>Financial Year</th>\n",
       "      <th>OU Name_Total_Spend</th>\n",
       "      <th>OU Name_Avg_Spend</th>\n",
       "      <th>Type_Total_Spend</th>\n",
       "      <th>Type_Avg_Spend</th>\n",
       "      <th>Supplier/Vendor_Total_Spend</th>\n",
       "      <th>Supplier/Vendor_Avg_Spend</th>\n",
       "      <th>Buyer_Total_Spend</th>\n",
       "      <th>Buyer_Avg_Spend</th>\n",
       "      <th>Category Manager(s)_Total_Spend</th>\n",
       "      <th>...</th>\n",
       "      <th>Department_Technology Enterprise Solutions Dept</th>\n",
       "      <th>Department_Terminals CoE</th>\n",
       "      <th>Department_Unknown</th>\n",
       "      <th>Division_Brand Marketing Dept</th>\n",
       "      <th>Division_Business Development Cluster</th>\n",
       "      <th>Division_CEO Office</th>\n",
       "      <th>Division_Channels Cluster</th>\n",
       "      <th>Division_Consumer Business Unit</th>\n",
       "      <th>Division_Consumer Business Unit Cluster</th>\n",
       "      <th>Division_Corporate Affairs Cluster</th>\n",
       "      <th>Division_Corporate Security Cluster</th>\n",
       "      <th>Division_Customer Operations Division</th>\n",
       "      <th>Division_Digital IT</th>\n",
       "      <th>Division_Enterprise Business Unit Division</th>\n",
       "      <th>Division_Finance Cluster</th>\n",
       "      <th>Division_Financial Services Cluster</th>\n",
       "      <th>Division_Human Resources Cluster</th>\n",
       "      <th>Division_Network</th>\n",
       "      <th>Division_Technology Cluster</th>\n",
       "      <th>Division_Unknown</th>\n",
       "      <th>Expenditure Type_direct</th>\n",
       "      <th>Expenditure Type_opex</th>\n",
       "    </tr>\n",
       "  </thead>\n",
       "  <tbody>\n",
       "    <tr>\n",
       "      <th>0</th>\n",
       "      <td>627160</td>\n",
       "      <td>Sales Brand Ambassador Transport Allowance</td>\n",
       "      <td>BTL ADVERTISING</td>\n",
       "      <td>AGENCY SERVICES - BTL</td>\n",
       "      <td>0.396995</td>\n",
       "      <td>-0.752667</td>\n",
       "      <td>-0.809187</td>\n",
       "      <td>CLOSED</td>\n",
       "      <td>5</td>\n",
       "      <td>1</td>\n",
       "      <td>1</td>\n",
       "      <td>0.446240</td>\n",
       "      <td>FY 2024/25</td>\n",
       "      <td>4.035560e+07</td>\n",
       "      <td>10871.659909</td>\n",
       "      <td>2.129785e+07</td>\n",
       "      <td>10170.893986</td>\n",
       "      <td>82163.01</td>\n",
       "      <td>6320.231538</td>\n",
       "      <td>4.032160e+07</td>\n",
       "      <td>10888.901716</td>\n",
       "      <td>2.561273e+07</td>\n",
       "      <td>...</td>\n",
       "      <td>False</td>\n",
       "      <td>False</td>\n",
       "      <td>False</td>\n",
       "      <td>False</td>\n",
       "      <td>False</td>\n",
       "      <td>False</td>\n",
       "      <td>False</td>\n",
       "      <td>False</td>\n",
       "      <td>False</td>\n",
       "      <td>False</td>\n",
       "      <td>False</td>\n",
       "      <td>False</td>\n",
       "      <td>False</td>\n",
       "      <td>False</td>\n",
       "      <td>False</td>\n",
       "      <td>True</td>\n",
       "      <td>False</td>\n",
       "      <td>False</td>\n",
       "      <td>False</td>\n",
       "      <td>False</td>\n",
       "      <td>False</td>\n",
       "      <td>True</td>\n",
       "    </tr>\n",
       "    <tr>\n",
       "      <th>1</th>\n",
       "      <td>627160</td>\n",
       "      <td>Experiential Vehicle Van Daily Hire Rate inclu...</td>\n",
       "      <td>BTL ADVERTISING</td>\n",
       "      <td>AGENCY SERVICES - BTL</td>\n",
       "      <td>-0.676046</td>\n",
       "      <td>0.331468</td>\n",
       "      <td>-0.068668</td>\n",
       "      <td>CLOSED</td>\n",
       "      <td>6</td>\n",
       "      <td>1</td>\n",
       "      <td>1</td>\n",
       "      <td>-0.713752</td>\n",
       "      <td>FY 2024/25</td>\n",
       "      <td>4.035560e+07</td>\n",
       "      <td>10871.659909</td>\n",
       "      <td>2.129785e+07</td>\n",
       "      <td>10170.893986</td>\n",
       "      <td>121790.00</td>\n",
       "      <td>10149.166667</td>\n",
       "      <td>4.032160e+07</td>\n",
       "      <td>10888.901716</td>\n",
       "      <td>1.201170e+07</td>\n",
       "      <td>...</td>\n",
       "      <td>False</td>\n",
       "      <td>False</td>\n",
       "      <td>False</td>\n",
       "      <td>False</td>\n",
       "      <td>False</td>\n",
       "      <td>False</td>\n",
       "      <td>False</td>\n",
       "      <td>False</td>\n",
       "      <td>False</td>\n",
       "      <td>False</td>\n",
       "      <td>False</td>\n",
       "      <td>False</td>\n",
       "      <td>False</td>\n",
       "      <td>False</td>\n",
       "      <td>False</td>\n",
       "      <td>True</td>\n",
       "      <td>False</td>\n",
       "      <td>False</td>\n",
       "      <td>False</td>\n",
       "      <td>False</td>\n",
       "      <td>False</td>\n",
       "      <td>True</td>\n",
       "    </tr>\n",
       "    <tr>\n",
       "      <th>2</th>\n",
       "      <td>627160</td>\n",
       "      <td>Cost of set up for experiential activation for...</td>\n",
       "      <td>BTL ADVERTISING</td>\n",
       "      <td>AGENCY SERVICES - EVENTS MANAGEMENT</td>\n",
       "      <td>-0.676046</td>\n",
       "      <td>0.110216</td>\n",
       "      <td>-0.226225</td>\n",
       "      <td>CLOSED</td>\n",
       "      <td>8</td>\n",
       "      <td>1</td>\n",
       "      <td>1</td>\n",
       "      <td>-0.713752</td>\n",
       "      <td>FY 2024/25</td>\n",
       "      <td>4.035560e+07</td>\n",
       "      <td>10871.659909</td>\n",
       "      <td>1.905775e+07</td>\n",
       "      <td>11778.584411</td>\n",
       "      <td>82163.01</td>\n",
       "      <td>6320.231538</td>\n",
       "      <td>4.032160e+07</td>\n",
       "      <td>10888.901716</td>\n",
       "      <td>2.561273e+07</td>\n",
       "      <td>...</td>\n",
       "      <td>False</td>\n",
       "      <td>False</td>\n",
       "      <td>False</td>\n",
       "      <td>False</td>\n",
       "      <td>False</td>\n",
       "      <td>False</td>\n",
       "      <td>False</td>\n",
       "      <td>False</td>\n",
       "      <td>False</td>\n",
       "      <td>False</td>\n",
       "      <td>False</td>\n",
       "      <td>False</td>\n",
       "      <td>False</td>\n",
       "      <td>False</td>\n",
       "      <td>False</td>\n",
       "      <td>True</td>\n",
       "      <td>False</td>\n",
       "      <td>False</td>\n",
       "      <td>False</td>\n",
       "      <td>False</td>\n",
       "      <td>False</td>\n",
       "      <td>True</td>\n",
       "    </tr>\n",
       "    <tr>\n",
       "      <th>3</th>\n",
       "      <td>627160</td>\n",
       "      <td>Cost of set up for experiential activation for...</td>\n",
       "      <td>BTL ADVERTISING</td>\n",
       "      <td>AGENCY SERVICES - EVENTS MANAGEMENT</td>\n",
       "      <td>-0.139525</td>\n",
       "      <td>-0.575665</td>\n",
       "      <td>-0.572851</td>\n",
       "      <td>CLOSED</td>\n",
       "      <td>10</td>\n",
       "      <td>1</td>\n",
       "      <td>1</td>\n",
       "      <td>-0.133756</td>\n",
       "      <td>FY 2024/25</td>\n",
       "      <td>4.035560e+07</td>\n",
       "      <td>10871.659909</td>\n",
       "      <td>1.905775e+07</td>\n",
       "      <td>11778.584411</td>\n",
       "      <td>82163.01</td>\n",
       "      <td>6320.231538</td>\n",
       "      <td>4.032160e+07</td>\n",
       "      <td>10888.901716</td>\n",
       "      <td>2.561273e+07</td>\n",
       "      <td>...</td>\n",
       "      <td>False</td>\n",
       "      <td>False</td>\n",
       "      <td>False</td>\n",
       "      <td>False</td>\n",
       "      <td>False</td>\n",
       "      <td>False</td>\n",
       "      <td>False</td>\n",
       "      <td>False</td>\n",
       "      <td>False</td>\n",
       "      <td>False</td>\n",
       "      <td>False</td>\n",
       "      <td>False</td>\n",
       "      <td>False</td>\n",
       "      <td>False</td>\n",
       "      <td>False</td>\n",
       "      <td>True</td>\n",
       "      <td>False</td>\n",
       "      <td>False</td>\n",
       "      <td>False</td>\n",
       "      <td>False</td>\n",
       "      <td>False</td>\n",
       "      <td>True</td>\n",
       "    </tr>\n",
       "    <tr>\n",
       "      <th>4</th>\n",
       "      <td>627301</td>\n",
       "      <td>Driver Services Other Regions</td>\n",
       "      <td>TRAVEL &amp; ACCOMODATION</td>\n",
       "      <td>CAR HIRE</td>\n",
       "      <td>2.006555</td>\n",
       "      <td>-0.553540</td>\n",
       "      <td>0.088889</td>\n",
       "      <td>CLOSED</td>\n",
       "      <td>1</td>\n",
       "      <td>1</td>\n",
       "      <td>1</td>\n",
       "      <td>2.186227</td>\n",
       "      <td>FY 2024/25</td>\n",
       "      <td>4.035560e+07</td>\n",
       "      <td>10871.659909</td>\n",
       "      <td>2.129785e+07</td>\n",
       "      <td>10170.893986</td>\n",
       "      <td>82163.01</td>\n",
       "      <td>6320.231538</td>\n",
       "      <td>4.032160e+07</td>\n",
       "      <td>10888.901716</td>\n",
       "      <td>9.730000e+05</td>\n",
       "      <td>...</td>\n",
       "      <td>False</td>\n",
       "      <td>False</td>\n",
       "      <td>True</td>\n",
       "      <td>False</td>\n",
       "      <td>False</td>\n",
       "      <td>False</td>\n",
       "      <td>False</td>\n",
       "      <td>False</td>\n",
       "      <td>False</td>\n",
       "      <td>True</td>\n",
       "      <td>False</td>\n",
       "      <td>False</td>\n",
       "      <td>False</td>\n",
       "      <td>False</td>\n",
       "      <td>False</td>\n",
       "      <td>False</td>\n",
       "      <td>False</td>\n",
       "      <td>False</td>\n",
       "      <td>False</td>\n",
       "      <td>False</td>\n",
       "      <td>False</td>\n",
       "      <td>True</td>\n",
       "    </tr>\n",
       "  </tbody>\n",
       "</table>\n",
       "<p>5 rows × 169 columns</p>\n",
       "</div>"
      ],
      "text/plain": [
       "       PO                                   Item Description  \\\n",
       "0  627160         Sales Brand Ambassador Transport Allowance   \n",
       "1  627160  Experiential Vehicle Van Daily Hire Rate inclu...   \n",
       "2  627160  Cost of set up for experiential activation for...   \n",
       "3  627160  Cost of set up for experiential activation for...   \n",
       "4  627301                      Driver Services Other Regions   \n",
       "\n",
       "            Product Type                         Product Name  Quantity  \\\n",
       "0        BTL ADVERTISING                AGENCY SERVICES - BTL  0.396995   \n",
       "1        BTL ADVERTISING                AGENCY SERVICES - BTL -0.676046   \n",
       "2        BTL ADVERTISING  AGENCY SERVICES - EVENTS MANAGEMENT -0.676046   \n",
       "3        BTL ADVERTISING  AGENCY SERVICES - EVENTS MANAGEMENT -0.139525   \n",
       "4  TRAVEL & ACCOMODATION                             CAR HIRE  2.006555   \n",
       "\n",
       "   Unit Price  PO Amount Closure Status  Line  Shipment  Distribution Num  \\\n",
       "0   -0.752667  -0.809187         CLOSED     5         1                 1   \n",
       "1    0.331468  -0.068668         CLOSED     6         1                 1   \n",
       "2    0.110216  -0.226225         CLOSED     8         1                 1   \n",
       "3   -0.575665  -0.572851         CLOSED    10         1                 1   \n",
       "4   -0.553540   0.088889         CLOSED     1         1                 1   \n",
       "\n",
       "   Distribution Ordered Quantity Financial Year  OU Name_Total_Spend  \\\n",
       "0                       0.446240     FY 2024/25         4.035560e+07   \n",
       "1                      -0.713752     FY 2024/25         4.035560e+07   \n",
       "2                      -0.713752     FY 2024/25         4.035560e+07   \n",
       "3                      -0.133756     FY 2024/25         4.035560e+07   \n",
       "4                       2.186227     FY 2024/25         4.035560e+07   \n",
       "\n",
       "   OU Name_Avg_Spend  Type_Total_Spend  Type_Avg_Spend  \\\n",
       "0       10871.659909      2.129785e+07    10170.893986   \n",
       "1       10871.659909      2.129785e+07    10170.893986   \n",
       "2       10871.659909      1.905775e+07    11778.584411   \n",
       "3       10871.659909      1.905775e+07    11778.584411   \n",
       "4       10871.659909      2.129785e+07    10170.893986   \n",
       "\n",
       "   Supplier/Vendor_Total_Spend  Supplier/Vendor_Avg_Spend  Buyer_Total_Spend  \\\n",
       "0                     82163.01                6320.231538       4.032160e+07   \n",
       "1                    121790.00               10149.166667       4.032160e+07   \n",
       "2                     82163.01                6320.231538       4.032160e+07   \n",
       "3                     82163.01                6320.231538       4.032160e+07   \n",
       "4                     82163.01                6320.231538       4.032160e+07   \n",
       "\n",
       "   Buyer_Avg_Spend  Category Manager(s)_Total_Spend  ...  \\\n",
       "0     10888.901716                     2.561273e+07  ...   \n",
       "1     10888.901716                     1.201170e+07  ...   \n",
       "2     10888.901716                     2.561273e+07  ...   \n",
       "3     10888.901716                     2.561273e+07  ...   \n",
       "4     10888.901716                     9.730000e+05  ...   \n",
       "\n",
       "   Department_Technology Enterprise Solutions Dept  Department_Terminals CoE  \\\n",
       "0                                            False                     False   \n",
       "1                                            False                     False   \n",
       "2                                            False                     False   \n",
       "3                                            False                     False   \n",
       "4                                            False                     False   \n",
       "\n",
       "   Department_Unknown  Division_Brand Marketing Dept  \\\n",
       "0               False                          False   \n",
       "1               False                          False   \n",
       "2               False                          False   \n",
       "3               False                          False   \n",
       "4                True                          False   \n",
       "\n",
       "   Division_Business Development Cluster  Division_CEO Office  \\\n",
       "0                                  False                False   \n",
       "1                                  False                False   \n",
       "2                                  False                False   \n",
       "3                                  False                False   \n",
       "4                                  False                False   \n",
       "\n",
       "   Division_Channels Cluster  Division_Consumer Business Unit  \\\n",
       "0                      False                            False   \n",
       "1                      False                            False   \n",
       "2                      False                            False   \n",
       "3                      False                            False   \n",
       "4                      False                            False   \n",
       "\n",
       "   Division_Consumer Business Unit Cluster  \\\n",
       "0                                    False   \n",
       "1                                    False   \n",
       "2                                    False   \n",
       "3                                    False   \n",
       "4                                    False   \n",
       "\n",
       "   Division_Corporate Affairs Cluster  Division_Corporate Security Cluster  \\\n",
       "0                               False                                False   \n",
       "1                               False                                False   \n",
       "2                               False                                False   \n",
       "3                               False                                False   \n",
       "4                                True                                False   \n",
       "\n",
       "   Division_Customer Operations Division  Division_Digital IT  \\\n",
       "0                                  False                False   \n",
       "1                                  False                False   \n",
       "2                                  False                False   \n",
       "3                                  False                False   \n",
       "4                                  False                False   \n",
       "\n",
       "   Division_Enterprise Business Unit Division  Division_Finance Cluster  \\\n",
       "0                                       False                     False   \n",
       "1                                       False                     False   \n",
       "2                                       False                     False   \n",
       "3                                       False                     False   \n",
       "4                                       False                     False   \n",
       "\n",
       "   Division_Financial Services Cluster  Division_Human Resources Cluster  \\\n",
       "0                                 True                             False   \n",
       "1                                 True                             False   \n",
       "2                                 True                             False   \n",
       "3                                 True                             False   \n",
       "4                                False                             False   \n",
       "\n",
       "   Division_Network  Division_Technology Cluster  Division_Unknown  \\\n",
       "0             False                        False             False   \n",
       "1             False                        False             False   \n",
       "2             False                        False             False   \n",
       "3             False                        False             False   \n",
       "4             False                        False             False   \n",
       "\n",
       "   Expenditure Type_direct  Expenditure Type_opex  \n",
       "0                    False                   True  \n",
       "1                    False                   True  \n",
       "2                    False                   True  \n",
       "3                    False                   True  \n",
       "4                    False                   True  \n",
       "\n",
       "[5 rows x 169 columns]"
      ]
     },
     "execution_count": 112,
     "metadata": {},
     "output_type": "execute_result"
    }
   ],
   "source": [
    "df.head()"
   ]
  },
  {
   "cell_type": "markdown",
   "metadata": {
    "id": "ttF_iLulUeHA"
   },
   "source": [
    "## Text preprocessing"
   ]
  },
  {
   "cell_type": "code",
   "execution_count": 114,
   "metadata": {
    "colab": {
     "base_uri": "https://localhost:8080/",
     "height": 269
    },
    "id": "KfOvaHBYUeHA",
    "outputId": "44175332-5c1e-4aeb-c340-5481ef373a81"
   },
   "outputs": [
    {
     "data": {
      "text/html": [
       "<div>\n",
       "<style scoped>\n",
       "    .dataframe tbody tr th:only-of-type {\n",
       "        vertical-align: middle;\n",
       "    }\n",
       "\n",
       "    .dataframe tbody tr th {\n",
       "        vertical-align: top;\n",
       "    }\n",
       "\n",
       "    .dataframe thead th {\n",
       "        text-align: right;\n",
       "    }\n",
       "</style>\n",
       "<table border=\"1\" class=\"dataframe\">\n",
       "  <thead>\n",
       "    <tr style=\"text-align: right;\">\n",
       "      <th></th>\n",
       "      <th>Item Description</th>\n",
       "    </tr>\n",
       "  </thead>\n",
       "  <tbody>\n",
       "    <tr>\n",
       "      <th>3623</th>\n",
       "      <td>MOCHA Black tie Dinnercatering Levy 2</td>\n",
       "    </tr>\n",
       "    <tr>\n",
       "      <th>2297</th>\n",
       "      <td>KCJ 145K Towing Patrick Kirui</td>\n",
       "    </tr>\n",
       "    <tr>\n",
       "      <th>2026</th>\n",
       "      <td>Simon Namwamba</td>\n",
       "    </tr>\n",
       "    <tr>\n",
       "      <th>571</th>\n",
       "      <td>Jamboleo Autospares LTD Minor car service for ...</td>\n",
       "    </tr>\n",
       "    <tr>\n",
       "      <th>170</th>\n",
       "      <td>Kisumu One Way Saloon Airport Transfer 21 30km</td>\n",
       "    </tr>\n",
       "    <tr>\n",
       "      <th>3697</th>\n",
       "      <td>FTTB fix the access router in the cabinet</td>\n",
       "    </tr>\n",
       "    <tr>\n",
       "      <th>2773</th>\n",
       "      <td>Ibis Styles Catering Levy Abuu Mohamed Paul Wa...</td>\n",
       "    </tr>\n",
       "  </tbody>\n",
       "</table>\n",
       "</div>"
      ],
      "text/plain": [
       "                                       Item Description\n",
       "3623             MOCHA Black tie Dinnercatering Levy 2 \n",
       "2297                      KCJ 145K Towing Patrick Kirui\n",
       "2026                                     Simon Namwamba\n",
       "571   Jamboleo Autospares LTD Minor car service for ...\n",
       "170     Kisumu One Way Saloon Airport Transfer 21 30km \n",
       "3697          FTTB fix the access router in the cabinet\n",
       "2773  Ibis Styles Catering Levy Abuu Mohamed Paul Wa..."
      ]
     },
     "execution_count": 114,
     "metadata": {},
     "output_type": "execute_result"
    }
   ],
   "source": [
    "df[[\"Item Description\"]].sample(7)"
   ]
  },
  {
   "cell_type": "code",
   "execution_count": 115,
   "metadata": {
    "colab": {
     "base_uri": "https://localhost:8080/",
     "height": 115
    },
    "id": "VGOvl7HyUeHA",
    "outputId": "342e3780-7d9c-487a-9cf5-7b9da5bcfe6e"
   },
   "outputs": [
    {
     "data": {
      "text/plain": [
       "Item Description    0\n",
       "dtype: int64"
      ]
     },
     "execution_count": 115,
     "metadata": {},
     "output_type": "execute_result"
    }
   ],
   "source": [
    "df[[\"Item Description\"]].isna().sum()"
   ]
  },
  {
   "cell_type": "markdown",
   "metadata": {
    "id": "kAL_IJsEUeHA"
   },
   "source": [
    "### Lowercasing\n",
    "Convert all `tweet_text` to lowercase to maintain consistency"
   ]
  },
  {
   "cell_type": "code",
   "execution_count": 117,
   "metadata": {
    "id": "_UxP5bh9UeHA"
   },
   "outputs": [],
   "source": [
    "df[\"Item Description Clean\"] = df[\"Item Description\"].str.lower()"
   ]
  },
  {
   "cell_type": "markdown",
   "metadata": {
    "id": "5wwvkQo_UeHA"
   },
   "source": [
    "We did lowercasing to make texts uniform"
   ]
  },
  {
   "cell_type": "markdown",
   "metadata": {
    "id": "pipTsY3HUeHA"
   },
   "source": [
    "**Function to handle text processing**"
   ]
  },
  {
   "cell_type": "code",
   "execution_count": 120,
   "metadata": {
    "id": "7VEeOg_GUeHA"
   },
   "outputs": [],
   "source": [
    "def text_pattern_check(process, pattern):\n",
    "    def extract_pattern(text):\n",
    "        if isinstance(text, str):\n",
    "            return re.findall(pattern, text)\n",
    "        return []\n",
    "\n",
    "    # apply pattern extraction\n",
    "    links_list = df['Item Description Clean'].apply(extract_pattern)\n",
    "\n",
    "    # flatten the list of lists\n",
    "    all_links = [link for sublist in links_list for link in sublist]\n",
    "\n",
    "    # check if anything was found\n",
    "    if all_links:\n",
    "        print(f\"{process} found in the dataset: {len(all_links)} matches\")\n",
    "        print(all_links[:5])  # optional: show a few samples\n",
    "    else:\n",
    "        print(f\"No {process} found.\")"
   ]
  },
  {
   "cell_type": "markdown",
   "metadata": {
    "id": "ouXS2iY3KyHz"
   },
   "source": [
    "- Replaced abreviation with its full form so as they won't be removed as stopwords"
   ]
  },
  {
   "cell_type": "markdown",
   "metadata": {
    "id": "go5-JZt_UeHB"
   },
   "source": [
    "**Removing pattern function**"
   ]
  },
  {
   "cell_type": "code",
   "execution_count": 123,
   "metadata": {
    "id": "rCNN0WTkeTsY"
   },
   "outputs": [],
   "source": [
    "def remove_pattern(pattern):\n",
    "    df[\"Item Description Clean\"] = df[\"Item Description Clean\"].apply(lambda x: re.sub(pattern, '', x))"
   ]
  },
  {
   "cell_type": "markdown",
   "metadata": {
    "id": "ez23DAoSeTsU"
   },
   "source": [
    "**Replacing abbreviation with its full form**"
   ]
  },
  {
   "cell_type": "code",
   "execution_count": 125,
   "metadata": {
    "id": "vlVyFQNIeTsU"
   },
   "outputs": [],
   "source": [
    "# loading abbreviation dictionary from abbr.txt\n",
    "with open('abbr.txt', 'r') as file:\n",
    "    abbr_dict = json.load(file)"
   ]
  },
  {
   "cell_type": "code",
   "execution_count": 126,
   "metadata": {
    "colab": {
     "base_uri": "https://localhost:8080/"
    },
    "id": "tn4E3qZEUeHB",
    "outputId": "a93c7380-4b4d-492c-b6a3-317c5bb22c58"
   },
   "outputs": [
    {
     "name": "stdout",
     "output_type": "stream",
     "text": [
      "Abbreviations found in some texts. Here are a few examples:\n",
      "                                Item Description Clean\n",
      "39   misc tie wraps insulating tape cable lugs stap...\n",
      "46   misc tie wraps insulating tape cable lugs stap...\n",
      "55   misc tie wraps insulating tape cable lugs stap...\n",
      "66   misc tie wraps insulating tape cable lugs stap...\n",
      "187  highlight travel ltd domestic flight jm change...\n"
     ]
    }
   ],
   "source": [
    "def check_abbr():\n",
    "    # Function to check if a text contains any abbreviation\n",
    "    def contains_abbr(text):\n",
    "        return any(word in abbr_dict for word in text.split())\n",
    "\n",
    "    # Filter texts that contain abbreviations\n",
    "    abbr_text = df[df[\"Item Description Clean\"].apply(contains_abbr)]\n",
    "\n",
    "    # Check if any were found and print message + examples\n",
    "    if not abbr_text.empty:\n",
    "        print(\"Abbreviations found in some texts. Here are a few examples:\")\n",
    "        print(abbr_text[[\"Item Description Clean\"]].head(5))\n",
    "    else:\n",
    "        print(\"No abbreviations found in any texts.\")\n",
    "check_abbr()\n"
   ]
  },
  {
   "cell_type": "code",
   "execution_count": 127,
   "metadata": {
    "id": "URFzMQUoUeHB"
   },
   "outputs": [],
   "source": [
    "# expand abbreviations in a tweet\n",
    "def expand_abbr_in_tweet(text):\n",
    "    return \" \".join([abbr_dict.get(word, word) for word in text.split()])\n",
    "\n",
    "# apply the function to each tweet in the DataFrame\n",
    "df[\"Item Description Clean\"] = df[\"Item Description Clean\"].apply(expand_abbr_in_tweet)"
   ]
  },
  {
   "cell_type": "code",
   "execution_count": 128,
   "metadata": {
    "colab": {
     "base_uri": "https://localhost:8080/"
    },
    "id": "Eo_wVTeeUeHB",
    "outputId": "220748d1-e6fa-480a-a849-b9d812ca7f95"
   },
   "outputs": [
    {
     "name": "stdout",
     "output_type": "stream",
     "text": [
      "No abbreviations found in any texts.\n"
     ]
    }
   ],
   "source": [
    "check_abbr()"
   ]
  },
  {
   "cell_type": "markdown",
   "metadata": {
    "id": "gwI0BhYNUeHB"
   },
   "source": [
    "**Removing Numbers**\n",
    "\n",
    "Checking if any numbers exist"
   ]
  },
  {
   "cell_type": "code",
   "execution_count": 130,
   "metadata": {
    "colab": {
     "base_uri": "https://localhost:8080/"
    },
    "id": "xJI-c0IwUeHC",
    "outputId": "aa924760-7c97-4948-f27e-05be8ca70f89"
   },
   "outputs": [
    {
     "name": "stdout",
     "output_type": "stream",
     "text": [
      "Numbers found in the dataset: 3267 matches\n",
      "['40', '40', '40', '40', '2024']\n"
     ]
    }
   ],
   "source": [
    "text_pattern_check('Numbers', r'\\b\\d+\\b')"
   ]
  },
  {
   "cell_type": "code",
   "execution_count": 131,
   "metadata": {
    "id": "aXe5DqCzUeHC"
   },
   "outputs": [],
   "source": [
    "remove_pattern(r'\\b\\d+\\b')"
   ]
  },
  {
   "cell_type": "code",
   "execution_count": 132,
   "metadata": {
    "colab": {
     "base_uri": "https://localhost:8080/"
    },
    "id": "SNgw9J_kUeHC",
    "outputId": "475b1dbd-53b9-40bb-fc61-02735851fc46"
   },
   "outputs": [
    {
     "name": "stdout",
     "output_type": "stream",
     "text": [
      "No Numbers found.\n"
     ]
    }
   ],
   "source": [
    "text_pattern_check('Numbers', r'\\b\\d+\\b')"
   ]
  },
  {
   "cell_type": "markdown",
   "metadata": {
    "id": "zxHs0lLZUeHC"
   },
   "source": [
    "**Removing Dates**"
   ]
  },
  {
   "cell_type": "code",
   "execution_count": 134,
   "metadata": {
    "colab": {
     "base_uri": "https://localhost:8080/"
    },
    "id": "E5QTKKi9UeHC",
    "outputId": "3473b1ad-5354-407a-852e-6a59701a9003"
   },
   "outputs": [
    {
     "name": "stdout",
     "output_type": "stream",
     "text": [
      "Dates found in the dataset: 1282 matches\n",
      "[('7', 'th'), ('18', 'th'), ('18', 'th'), ('23', 'rd'), ('23', 'rd')]\n"
     ]
    }
   ],
   "source": [
    "text_pattern_check('Dates',r'\\b([1-9]|[12][0-9]|3[01])(st|nd|rd|th)\\b')"
   ]
  },
  {
   "cell_type": "code",
   "execution_count": 135,
   "metadata": {
    "id": "xwVdZIjXUeHC"
   },
   "outputs": [],
   "source": [
    "remove_pattern(r'\\b([1-9]|[12][0-9]|3[01])(st|nd|rd|th)\\b')"
   ]
  },
  {
   "cell_type": "code",
   "execution_count": 136,
   "metadata": {
    "colab": {
     "base_uri": "https://localhost:8080/"
    },
    "id": "ET7fvGvLUeHC",
    "outputId": "023a3c75-fa37-47c2-8e07-51fb789cd29e"
   },
   "outputs": [
    {
     "name": "stdout",
     "output_type": "stream",
     "text": [
      "No Dates found.\n"
     ]
    }
   ],
   "source": [
    "text_pattern_check('Dates',r'\\b([1-9]|[12][0-9]|3[01])(st|nd|rd|th)\\b')"
   ]
  },
  {
   "cell_type": "markdown",
   "metadata": {
    "id": "A0lMwDy6eTsf"
   },
   "source": [
    "**Removing Punctuation**"
   ]
  },
  {
   "cell_type": "code",
   "execution_count": 138,
   "metadata": {
    "colab": {
     "base_uri": "https://localhost:8080/"
    },
    "id": "kHKQww19UeHD",
    "outputId": "a803fc66-dbcb-4256-fafb-509f8092a126"
   },
   "outputs": [
    {
     "name": "stdout",
     "output_type": "stream",
     "text": [
      "No punctuation found.\n"
     ]
    }
   ],
   "source": [
    "def check_punctuation():\n",
    "    rows = df[df[\"Item Description Clean\"].apply(lambda x: any(c in string.punctuation for c in x))]\n",
    "    if not rows.empty:\n",
    "        print(\"Punctuation found. Examples:\\n\", rows[\"Item Description Clean\"].head(5))\n",
    "    else:\n",
    "        print(\"No punctuation found.\")\n",
    "\n",
    "check_punctuation()"
   ]
  },
  {
   "cell_type": "code",
   "execution_count": 139,
   "metadata": {
    "id": "bYunnZ9neTsg"
   },
   "outputs": [],
   "source": [
    "# remove punctuation\n",
    "def remove_punctuation(text):\n",
    "    return text.translate(str.maketrans('', '', string.punctuation))\n",
    "\n",
    "# applying the function to the Item Description column\n",
    "df[\"Item Description Clean\"] = df[\"Item Description Clean\"].apply(remove_punctuation)"
   ]
  },
  {
   "cell_type": "code",
   "execution_count": 140,
   "metadata": {
    "colab": {
     "base_uri": "https://localhost:8080/"
    },
    "id": "J-9nW9xsUeHD",
    "outputId": "29fc7d46-09b1-45b4-fed6-f1a9b8104bfb"
   },
   "outputs": [
    {
     "name": "stdout",
     "output_type": "stream",
     "text": [
      "No punctuation found.\n"
     ]
    }
   ],
   "source": [
    "check_punctuation()"
   ]
  },
  {
   "cell_type": "markdown",
   "metadata": {
    "id": "DefqK-5neTsh"
   },
   "source": [
    "**Removing Stopwords**"
   ]
  },
  {
   "cell_type": "code",
   "execution_count": 142,
   "metadata": {
    "id": "9dhSlpAfeTsi"
   },
   "outputs": [],
   "source": [
    "# getting stopwords\n",
    "stopwords_list = stopwords.words('english')\n",
    "\n",
    "#removing punctuation from stopwords since punctuation have been removed\n",
    "stopwords_list= [word.translate(str.maketrans('', '', string.punctuation)) for word in stopwords_list]\n"
   ]
  },
  {
   "cell_type": "code",
   "execution_count": 143,
   "metadata": {
    "id": "i3ZUWfQ4eTsi"
   },
   "outputs": [],
   "source": [
    "for index in range(df[\"Item Description Clean\"].shape[0]):\n",
    "    text = df[\"Item Description Clean\"].iloc[index].split()\n",
    "    #removing stopwords from text\n",
    "    text_no_stopword = \" \".join([word for word in text if word not in stopwords_list])\n",
    "    df[\"Item Description Clean\"].iloc[index] = text_no_stopword"
   ]
  },
  {
   "cell_type": "markdown",
   "metadata": {
    "id": "Xlq_JhwHUeHD"
   },
   "source": [
    "### Tokenization"
   ]
  },
  {
   "cell_type": "code",
   "execution_count": 145,
   "metadata": {
    "id": "dXzXNy4LUeHD"
   },
   "outputs": [],
   "source": [
    "for index in range(df[\"Item Description Clean\"].shape[0]):\n",
    "    df[\"Item Description Clean\"].iloc[index] = word_tokenize(df[\"Item Description Clean\"].iloc[index])"
   ]
  },
  {
   "cell_type": "markdown",
   "metadata": {
    "id": "qBBRgDuGUeHD"
   },
   "source": [
    "### Lemmatization"
   ]
  },
  {
   "cell_type": "code",
   "execution_count": 147,
   "metadata": {
    "id": "8YuTCEpQUeHE"
   },
   "outputs": [],
   "source": [
    "lemmatizer = WordNetLemmatizer()\n",
    "\n",
    "for index in range(df[\"Item Description Clean\"].shape[0]):\n",
    "    text = df[\"Item Description Clean\"].iloc[index]\n",
    "    text =[lemmatizer.lemmatize(word) for word in text]\n",
    "    df[\"Item Description Clean\"].iloc[index] = text"
   ]
  },
  {
   "cell_type": "code",
   "execution_count": 148,
   "metadata": {
    "id": "5HEBSCDFUeHE"
   },
   "outputs": [],
   "source": [
    "# Prepared the text\n",
    "df['Item Description Clean'] = [\" \".join(text) for text in df['Item Description Clean']]\n"
   ]
  },
  {
   "cell_type": "code",
   "execution_count": 149,
   "metadata": {
    "colab": {
     "base_uri": "https://localhost:8080/",
     "height": 423
    },
    "id": "x0dr72jJUeHE",
    "outputId": "e0200c6d-c73a-473f-8263-782757caf567"
   },
   "outputs": [
    {
     "data": {
      "text/html": [
       "<div>\n",
       "<style scoped>\n",
       "    .dataframe tbody tr th:only-of-type {\n",
       "        vertical-align: middle;\n",
       "    }\n",
       "\n",
       "    .dataframe tbody tr th {\n",
       "        vertical-align: top;\n",
       "    }\n",
       "\n",
       "    .dataframe thead th {\n",
       "        text-align: right;\n",
       "    }\n",
       "</style>\n",
       "<table border=\"1\" class=\"dataframe\">\n",
       "  <thead>\n",
       "    <tr style=\"text-align: right;\">\n",
       "      <th></th>\n",
       "      <th>Item Description</th>\n",
       "      <th>Item Description Clean</th>\n",
       "    </tr>\n",
       "  </thead>\n",
       "  <tbody>\n",
       "    <tr>\n",
       "      <th>0</th>\n",
       "      <td>Sales Brand Ambassador Transport Allowance</td>\n",
       "      <td>sale brand ambassador transport allowance</td>\n",
       "    </tr>\n",
       "    <tr>\n",
       "      <th>1</th>\n",
       "      <td>Experiential Vehicle Van Daily Hire Rate inclu...</td>\n",
       "      <td>experiential vehicle van daily hire rate inclu...</td>\n",
       "    </tr>\n",
       "    <tr>\n",
       "      <th>2</th>\n",
       "      <td>Cost of set up for experiential activation for...</td>\n",
       "      <td>cost set experiential activation globalpay wom...</td>\n",
       "    </tr>\n",
       "    <tr>\n",
       "      <th>3</th>\n",
       "      <td>Cost of set up for experiential activation for...</td>\n",
       "      <td>cost set experiential activation globalpay wom...</td>\n",
       "    </tr>\n",
       "    <tr>\n",
       "      <th>4</th>\n",
       "      <td>Driver Services Other Regions</td>\n",
       "      <td>driver service region</td>\n",
       "    </tr>\n",
       "    <tr>\n",
       "      <th>...</th>\n",
       "      <td>...</td>\n",
       "      <td>...</td>\n",
       "    </tr>\n",
       "    <tr>\n",
       "      <th>3707</th>\n",
       "      <td>Kakamega Golf Service Charge Deluxe Room</td>\n",
       "      <td>kakamega golf service charge deluxe room</td>\n",
       "    </tr>\n",
       "    <tr>\n",
       "      <th>3708</th>\n",
       "      <td>Kakamega Golf Hotel Catering Levy Deluxe Room</td>\n",
       "      <td>kakamega golf hotel catering levy deluxe room</td>\n",
       "    </tr>\n",
       "    <tr>\n",
       "      <th>3709</th>\n",
       "      <td>Siaya Candela Hotel Catering Levy</td>\n",
       "      <td>siaya candela hotel catering levy</td>\n",
       "    </tr>\n",
       "    <tr>\n",
       "      <th>3710</th>\n",
       "      <td>Siaya Candela Hotel Service Charge</td>\n",
       "      <td>siaya candela hotel service charge</td>\n",
       "    </tr>\n",
       "    <tr>\n",
       "      <th>3711</th>\n",
       "      <td>Siaya Candela Hotel Single HB</td>\n",
       "      <td>siaya candela hotel single hb</td>\n",
       "    </tr>\n",
       "  </tbody>\n",
       "</table>\n",
       "<p>3712 rows × 2 columns</p>\n",
       "</div>"
      ],
      "text/plain": [
       "                                       Item Description  \\\n",
       "0            Sales Brand Ambassador Transport Allowance   \n",
       "1     Experiential Vehicle Van Daily Hire Rate inclu...   \n",
       "2     Cost of set up for experiential activation for...   \n",
       "3     Cost of set up for experiential activation for...   \n",
       "4                         Driver Services Other Regions   \n",
       "...                                                 ...   \n",
       "3707           Kakamega Golf Service Charge Deluxe Room   \n",
       "3708      Kakamega Golf Hotel Catering Levy Deluxe Room   \n",
       "3709                  Siaya Candela Hotel Catering Levy   \n",
       "3710                 Siaya Candela Hotel Service Charge   \n",
       "3711                      Siaya Candela Hotel Single HB   \n",
       "\n",
       "                                 Item Description Clean  \n",
       "0             sale brand ambassador transport allowance  \n",
       "1     experiential vehicle van daily hire rate inclu...  \n",
       "2     cost set experiential activation globalpay wom...  \n",
       "3     cost set experiential activation globalpay wom...  \n",
       "4                                 driver service region  \n",
       "...                                                 ...  \n",
       "3707           kakamega golf service charge deluxe room  \n",
       "3708      kakamega golf hotel catering levy deluxe room  \n",
       "3709                  siaya candela hotel catering levy  \n",
       "3710                 siaya candela hotel service charge  \n",
       "3711                      siaya candela hotel single hb  \n",
       "\n",
       "[3712 rows x 2 columns]"
      ]
     },
     "execution_count": 149,
     "metadata": {},
     "output_type": "execute_result"
    }
   ],
   "source": [
    "df[[\"Item Description\",\"Item Description Clean\"]]"
   ]
  },
  {
   "cell_type": "markdown",
   "metadata": {
    "id": "Bx5pLgWzhasr"
   },
   "source": [
    "## Vectorizing"
   ]
  },
  {
   "cell_type": "code",
   "execution_count": 151,
   "metadata": {
    "colab": {
     "base_uri": "https://localhost:8080/",
     "height": 654
    },
    "id": "Mgz14uzEUeHE",
    "outputId": "d7f4ba68-587b-4c15-f7da-01478b9f26ef"
   },
   "outputs": [
    {
     "data": {
      "text/html": [
       "<div>\n",
       "<style scoped>\n",
       "    .dataframe tbody tr th:only-of-type {\n",
       "        vertical-align: middle;\n",
       "    }\n",
       "\n",
       "    .dataframe tbody tr th {\n",
       "        vertical-align: top;\n",
       "    }\n",
       "\n",
       "    .dataframe thead th {\n",
       "        text-align: right;\n",
       "    }\n",
       "</style>\n",
       "<table border=\"1\" class=\"dataframe\">\n",
       "  <thead>\n",
       "    <tr style=\"text-align: right;\">\n",
       "      <th></th>\n",
       "      <th>PO</th>\n",
       "      <th>Item Description</th>\n",
       "      <th>Product Type</th>\n",
       "      <th>Product Name</th>\n",
       "      <th>Quantity</th>\n",
       "      <th>Unit Price</th>\n",
       "      <th>PO Amount</th>\n",
       "      <th>Closure Status</th>\n",
       "      <th>Line</th>\n",
       "      <th>Shipment</th>\n",
       "      <th>Distribution Num</th>\n",
       "      <th>Distribution Ordered Quantity</th>\n",
       "      <th>Financial Year</th>\n",
       "      <th>OU Name_Total_Spend</th>\n",
       "      <th>OU Name_Avg_Spend</th>\n",
       "      <th>Type_Total_Spend</th>\n",
       "      <th>Type_Avg_Spend</th>\n",
       "      <th>Supplier/Vendor_Total_Spend</th>\n",
       "      <th>Supplier/Vendor_Avg_Spend</th>\n",
       "      <th>Buyer_Total_Spend</th>\n",
       "      <th>Buyer_Avg_Spend</th>\n",
       "      <th>Category Manager(s)_Total_Spend</th>\n",
       "      <th>...</th>\n",
       "      <th>x600</th>\n",
       "      <th>xhp</th>\n",
       "      <th>xpress</th>\n",
       "      <th>ya</th>\n",
       "      <th>ydx</th>\n",
       "      <th>year</th>\n",
       "      <th>yellow</th>\n",
       "      <th>yogo</th>\n",
       "      <th>young</th>\n",
       "      <th>youth</th>\n",
       "      <th>yr</th>\n",
       "      <th>ysk</th>\n",
       "      <th>yusuf</th>\n",
       "      <th>yvonne</th>\n",
       "      <th>zamara</th>\n",
       "      <th>zebu</th>\n",
       "      <th>zero</th>\n",
       "      <th>zoilr</th>\n",
       "      <th>zone</th>\n",
       "      <th>zre151</th>\n",
       "      <th>zre182r</th>\n",
       "      <th>zuena</th>\n",
       "    </tr>\n",
       "  </thead>\n",
       "  <tbody>\n",
       "    <tr>\n",
       "      <th>0</th>\n",
       "      <td>627160</td>\n",
       "      <td>Sales Brand Ambassador Transport Allowance</td>\n",
       "      <td>BTL ADVERTISING</td>\n",
       "      <td>AGENCY SERVICES - BTL</td>\n",
       "      <td>0.396995</td>\n",
       "      <td>-0.752667</td>\n",
       "      <td>-0.809187</td>\n",
       "      <td>CLOSED</td>\n",
       "      <td>5</td>\n",
       "      <td>1</td>\n",
       "      <td>1</td>\n",
       "      <td>0.446240</td>\n",
       "      <td>FY 2024/25</td>\n",
       "      <td>4.035560e+07</td>\n",
       "      <td>10871.659909</td>\n",
       "      <td>2.129785e+07</td>\n",
       "      <td>10170.893986</td>\n",
       "      <td>82163.01</td>\n",
       "      <td>6320.231538</td>\n",
       "      <td>4.032160e+07</td>\n",
       "      <td>10888.901716</td>\n",
       "      <td>2.561273e+07</td>\n",
       "      <td>...</td>\n",
       "      <td>0.0</td>\n",
       "      <td>0.0</td>\n",
       "      <td>0.0</td>\n",
       "      <td>0.0</td>\n",
       "      <td>0.0</td>\n",
       "      <td>0.0</td>\n",
       "      <td>0.0</td>\n",
       "      <td>0.0</td>\n",
       "      <td>0.0</td>\n",
       "      <td>0.0</td>\n",
       "      <td>0.0</td>\n",
       "      <td>0.0</td>\n",
       "      <td>0.0</td>\n",
       "      <td>0.0</td>\n",
       "      <td>0.0</td>\n",
       "      <td>0.0</td>\n",
       "      <td>0.0</td>\n",
       "      <td>0.0</td>\n",
       "      <td>0.0</td>\n",
       "      <td>0.0</td>\n",
       "      <td>0.0</td>\n",
       "      <td>0.0</td>\n",
       "    </tr>\n",
       "    <tr>\n",
       "      <th>1</th>\n",
       "      <td>627160</td>\n",
       "      <td>Experiential Vehicle Van Daily Hire Rate inclu...</td>\n",
       "      <td>BTL ADVERTISING</td>\n",
       "      <td>AGENCY SERVICES - BTL</td>\n",
       "      <td>-0.676046</td>\n",
       "      <td>0.331468</td>\n",
       "      <td>-0.068668</td>\n",
       "      <td>CLOSED</td>\n",
       "      <td>6</td>\n",
       "      <td>1</td>\n",
       "      <td>1</td>\n",
       "      <td>-0.713752</td>\n",
       "      <td>FY 2024/25</td>\n",
       "      <td>4.035560e+07</td>\n",
       "      <td>10871.659909</td>\n",
       "      <td>2.129785e+07</td>\n",
       "      <td>10170.893986</td>\n",
       "      <td>121790.00</td>\n",
       "      <td>10149.166667</td>\n",
       "      <td>4.032160e+07</td>\n",
       "      <td>10888.901716</td>\n",
       "      <td>1.201170e+07</td>\n",
       "      <td>...</td>\n",
       "      <td>0.0</td>\n",
       "      <td>0.0</td>\n",
       "      <td>0.0</td>\n",
       "      <td>0.0</td>\n",
       "      <td>0.0</td>\n",
       "      <td>0.0</td>\n",
       "      <td>0.0</td>\n",
       "      <td>0.0</td>\n",
       "      <td>0.0</td>\n",
       "      <td>0.0</td>\n",
       "      <td>0.0</td>\n",
       "      <td>0.0</td>\n",
       "      <td>0.0</td>\n",
       "      <td>0.0</td>\n",
       "      <td>0.0</td>\n",
       "      <td>0.0</td>\n",
       "      <td>0.0</td>\n",
       "      <td>0.0</td>\n",
       "      <td>0.0</td>\n",
       "      <td>0.0</td>\n",
       "      <td>0.0</td>\n",
       "      <td>0.0</td>\n",
       "    </tr>\n",
       "    <tr>\n",
       "      <th>2</th>\n",
       "      <td>627160</td>\n",
       "      <td>Cost of set up for experiential activation for...</td>\n",
       "      <td>BTL ADVERTISING</td>\n",
       "      <td>AGENCY SERVICES - EVENTS MANAGEMENT</td>\n",
       "      <td>-0.676046</td>\n",
       "      <td>0.110216</td>\n",
       "      <td>-0.226225</td>\n",
       "      <td>CLOSED</td>\n",
       "      <td>8</td>\n",
       "      <td>1</td>\n",
       "      <td>1</td>\n",
       "      <td>-0.713752</td>\n",
       "      <td>FY 2024/25</td>\n",
       "      <td>4.035560e+07</td>\n",
       "      <td>10871.659909</td>\n",
       "      <td>1.905775e+07</td>\n",
       "      <td>11778.584411</td>\n",
       "      <td>82163.01</td>\n",
       "      <td>6320.231538</td>\n",
       "      <td>4.032160e+07</td>\n",
       "      <td>10888.901716</td>\n",
       "      <td>2.561273e+07</td>\n",
       "      <td>...</td>\n",
       "      <td>0.0</td>\n",
       "      <td>0.0</td>\n",
       "      <td>0.0</td>\n",
       "      <td>0.0</td>\n",
       "      <td>0.0</td>\n",
       "      <td>0.0</td>\n",
       "      <td>0.0</td>\n",
       "      <td>0.0</td>\n",
       "      <td>0.0</td>\n",
       "      <td>0.0</td>\n",
       "      <td>0.0</td>\n",
       "      <td>0.0</td>\n",
       "      <td>0.0</td>\n",
       "      <td>0.0</td>\n",
       "      <td>0.0</td>\n",
       "      <td>0.0</td>\n",
       "      <td>0.0</td>\n",
       "      <td>0.0</td>\n",
       "      <td>0.0</td>\n",
       "      <td>0.0</td>\n",
       "      <td>0.0</td>\n",
       "      <td>0.0</td>\n",
       "    </tr>\n",
       "    <tr>\n",
       "      <th>3</th>\n",
       "      <td>627160</td>\n",
       "      <td>Cost of set up for experiential activation for...</td>\n",
       "      <td>BTL ADVERTISING</td>\n",
       "      <td>AGENCY SERVICES - EVENTS MANAGEMENT</td>\n",
       "      <td>-0.139525</td>\n",
       "      <td>-0.575665</td>\n",
       "      <td>-0.572851</td>\n",
       "      <td>CLOSED</td>\n",
       "      <td>10</td>\n",
       "      <td>1</td>\n",
       "      <td>1</td>\n",
       "      <td>-0.133756</td>\n",
       "      <td>FY 2024/25</td>\n",
       "      <td>4.035560e+07</td>\n",
       "      <td>10871.659909</td>\n",
       "      <td>1.905775e+07</td>\n",
       "      <td>11778.584411</td>\n",
       "      <td>82163.01</td>\n",
       "      <td>6320.231538</td>\n",
       "      <td>4.032160e+07</td>\n",
       "      <td>10888.901716</td>\n",
       "      <td>2.561273e+07</td>\n",
       "      <td>...</td>\n",
       "      <td>0.0</td>\n",
       "      <td>0.0</td>\n",
       "      <td>0.0</td>\n",
       "      <td>0.0</td>\n",
       "      <td>0.0</td>\n",
       "      <td>0.0</td>\n",
       "      <td>0.0</td>\n",
       "      <td>0.0</td>\n",
       "      <td>0.0</td>\n",
       "      <td>0.0</td>\n",
       "      <td>0.0</td>\n",
       "      <td>0.0</td>\n",
       "      <td>0.0</td>\n",
       "      <td>0.0</td>\n",
       "      <td>0.0</td>\n",
       "      <td>0.0</td>\n",
       "      <td>0.0</td>\n",
       "      <td>0.0</td>\n",
       "      <td>0.0</td>\n",
       "      <td>0.0</td>\n",
       "      <td>0.0</td>\n",
       "      <td>0.0</td>\n",
       "    </tr>\n",
       "    <tr>\n",
       "      <th>4</th>\n",
       "      <td>627301</td>\n",
       "      <td>Driver Services Other Regions</td>\n",
       "      <td>TRAVEL &amp; ACCOMODATION</td>\n",
       "      <td>CAR HIRE</td>\n",
       "      <td>2.006555</td>\n",
       "      <td>-0.553540</td>\n",
       "      <td>0.088889</td>\n",
       "      <td>CLOSED</td>\n",
       "      <td>1</td>\n",
       "      <td>1</td>\n",
       "      <td>1</td>\n",
       "      <td>2.186227</td>\n",
       "      <td>FY 2024/25</td>\n",
       "      <td>4.035560e+07</td>\n",
       "      <td>10871.659909</td>\n",
       "      <td>2.129785e+07</td>\n",
       "      <td>10170.893986</td>\n",
       "      <td>82163.01</td>\n",
       "      <td>6320.231538</td>\n",
       "      <td>4.032160e+07</td>\n",
       "      <td>10888.901716</td>\n",
       "      <td>9.730000e+05</td>\n",
       "      <td>...</td>\n",
       "      <td>0.0</td>\n",
       "      <td>0.0</td>\n",
       "      <td>0.0</td>\n",
       "      <td>0.0</td>\n",
       "      <td>0.0</td>\n",
       "      <td>0.0</td>\n",
       "      <td>0.0</td>\n",
       "      <td>0.0</td>\n",
       "      <td>0.0</td>\n",
       "      <td>0.0</td>\n",
       "      <td>0.0</td>\n",
       "      <td>0.0</td>\n",
       "      <td>0.0</td>\n",
       "      <td>0.0</td>\n",
       "      <td>0.0</td>\n",
       "      <td>0.0</td>\n",
       "      <td>0.0</td>\n",
       "      <td>0.0</td>\n",
       "      <td>0.0</td>\n",
       "      <td>0.0</td>\n",
       "      <td>0.0</td>\n",
       "      <td>0.0</td>\n",
       "    </tr>\n",
       "  </tbody>\n",
       "</table>\n",
       "<p>5 rows × 4364 columns</p>\n",
       "</div>"
      ],
      "text/plain": [
       "       PO                                   Item Description  \\\n",
       "0  627160         Sales Brand Ambassador Transport Allowance   \n",
       "1  627160  Experiential Vehicle Van Daily Hire Rate inclu...   \n",
       "2  627160  Cost of set up for experiential activation for...   \n",
       "3  627160  Cost of set up for experiential activation for...   \n",
       "4  627301                      Driver Services Other Regions   \n",
       "\n",
       "            Product Type                         Product Name  Quantity  \\\n",
       "0        BTL ADVERTISING                AGENCY SERVICES - BTL  0.396995   \n",
       "1        BTL ADVERTISING                AGENCY SERVICES - BTL -0.676046   \n",
       "2        BTL ADVERTISING  AGENCY SERVICES - EVENTS MANAGEMENT -0.676046   \n",
       "3        BTL ADVERTISING  AGENCY SERVICES - EVENTS MANAGEMENT -0.139525   \n",
       "4  TRAVEL & ACCOMODATION                             CAR HIRE  2.006555   \n",
       "\n",
       "   Unit Price  PO Amount Closure Status  Line  Shipment  Distribution Num  \\\n",
       "0   -0.752667  -0.809187         CLOSED     5         1                 1   \n",
       "1    0.331468  -0.068668         CLOSED     6         1                 1   \n",
       "2    0.110216  -0.226225         CLOSED     8         1                 1   \n",
       "3   -0.575665  -0.572851         CLOSED    10         1                 1   \n",
       "4   -0.553540   0.088889         CLOSED     1         1                 1   \n",
       "\n",
       "   Distribution Ordered Quantity Financial Year  OU Name_Total_Spend  \\\n",
       "0                       0.446240     FY 2024/25         4.035560e+07   \n",
       "1                      -0.713752     FY 2024/25         4.035560e+07   \n",
       "2                      -0.713752     FY 2024/25         4.035560e+07   \n",
       "3                      -0.133756     FY 2024/25         4.035560e+07   \n",
       "4                       2.186227     FY 2024/25         4.035560e+07   \n",
       "\n",
       "   OU Name_Avg_Spend  Type_Total_Spend  Type_Avg_Spend  \\\n",
       "0       10871.659909      2.129785e+07    10170.893986   \n",
       "1       10871.659909      2.129785e+07    10170.893986   \n",
       "2       10871.659909      1.905775e+07    11778.584411   \n",
       "3       10871.659909      1.905775e+07    11778.584411   \n",
       "4       10871.659909      2.129785e+07    10170.893986   \n",
       "\n",
       "   Supplier/Vendor_Total_Spend  Supplier/Vendor_Avg_Spend  Buyer_Total_Spend  \\\n",
       "0                     82163.01                6320.231538       4.032160e+07   \n",
       "1                    121790.00               10149.166667       4.032160e+07   \n",
       "2                     82163.01                6320.231538       4.032160e+07   \n",
       "3                     82163.01                6320.231538       4.032160e+07   \n",
       "4                     82163.01                6320.231538       4.032160e+07   \n",
       "\n",
       "   Buyer_Avg_Spend  Category Manager(s)_Total_Spend  ...  x600  xhp  xpress  \\\n",
       "0     10888.901716                     2.561273e+07  ...   0.0  0.0     0.0   \n",
       "1     10888.901716                     1.201170e+07  ...   0.0  0.0     0.0   \n",
       "2     10888.901716                     2.561273e+07  ...   0.0  0.0     0.0   \n",
       "3     10888.901716                     2.561273e+07  ...   0.0  0.0     0.0   \n",
       "4     10888.901716                     9.730000e+05  ...   0.0  0.0     0.0   \n",
       "\n",
       "    ya  ydx  year  yellow  yogo  young  youth   yr  ysk  yusuf  yvonne  \\\n",
       "0  0.0  0.0   0.0     0.0   0.0    0.0    0.0  0.0  0.0    0.0     0.0   \n",
       "1  0.0  0.0   0.0     0.0   0.0    0.0    0.0  0.0  0.0    0.0     0.0   \n",
       "2  0.0  0.0   0.0     0.0   0.0    0.0    0.0  0.0  0.0    0.0     0.0   \n",
       "3  0.0  0.0   0.0     0.0   0.0    0.0    0.0  0.0  0.0    0.0     0.0   \n",
       "4  0.0  0.0   0.0     0.0   0.0    0.0    0.0  0.0  0.0    0.0     0.0   \n",
       "\n",
       "   zamara  zebu  zero  zoilr  zone  zre151  zre182r  zuena  \n",
       "0     0.0   0.0   0.0    0.0   0.0     0.0      0.0    0.0  \n",
       "1     0.0   0.0   0.0    0.0   0.0     0.0      0.0    0.0  \n",
       "2     0.0   0.0   0.0    0.0   0.0     0.0      0.0    0.0  \n",
       "3     0.0   0.0   0.0    0.0   0.0     0.0      0.0    0.0  \n",
       "4     0.0   0.0   0.0    0.0   0.0     0.0      0.0    0.0  \n",
       "\n",
       "[5 rows x 4364 columns]"
      ]
     },
     "execution_count": 151,
     "metadata": {},
     "output_type": "execute_result"
    }
   ],
   "source": [
    "from sklearn.feature_extraction.text import  TfidfVectorizer\n",
    "tfidf_vect = TfidfVectorizer()\n",
    "tfidf_matrix = tfidf_vect.fit_transform(df['Item Description'])\n",
    "tfidf = pd.DataFrame(tfidf_matrix.toarray(), columns=tfidf_vect.get_feature_names_out())\n",
    "\n",
    "df = pd.concat([df,tfidf], axis=1)\n",
    "\n",
    "# Now df contains the embeddings as a new column\n",
    "df.head(5)"
   ]
  }
 ],
 "metadata": {
  "colab": {
   "provenance": []
  },
  "kernelspec": {
   "display_name": "Python 3",
   "language": "python",
   "name": "python3"
  },
  "language_info": {
   "codemirror_mode": {
    "name": "ipython",
    "version": 3
   },
   "file_extension": ".py",
   "mimetype": "text/x-python",
   "name": "python",
   "nbconvert_exporter": "python",
   "pygments_lexer": "ipython3",
   "version": "3.7.4"
  }
 },
 "nbformat": 4,
 "nbformat_minor": 4
}
