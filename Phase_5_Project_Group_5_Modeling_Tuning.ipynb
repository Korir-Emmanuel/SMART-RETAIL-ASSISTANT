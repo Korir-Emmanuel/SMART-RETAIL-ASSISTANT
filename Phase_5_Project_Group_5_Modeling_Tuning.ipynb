{
 "cells": [
  {
   "cell_type": "markdown",
   "metadata": {
    "id": "oK--E9Hwet89"
   },
   "source": [
    "# Business Understanding"
   ]
  },
  {
   "cell_type": "markdown",
   "metadata": {
    "id": "wOyCOZqee04X"
   },
   "source": [
    "Safaricom's procurement function spans multiple departments, suppliers, and categories — often with varying levels of spend control and oversight. In today’s competitive and cost-sensitive environment, the CFO and leadership team require actionable insights into where money is going, who is spending it, and whether that spend is aligned with strategic priorities such as efficiency, digital transformation, and sustainability.\n",
    "\n",
    "The goal is to establish a data-driven procurement intelligence system that:\n",
    "\n",
    "Tracks purchase order (PO) trends over time,\n",
    "\n",
    "Identifies cost-saving levers,\n",
    "\n",
    "Highlights supplier performance and risk,\n",
    "\n",
    "Supports proactive, not reactive, financial decisions.\n",
    "\n"
   ]
  },
  {
   "cell_type": "markdown",
   "metadata": {
    "id": "i0CF2k-Pe7yo"
   },
   "source": [
    "# Problem Statement"
   ]
  },
  {
   "cell_type": "markdown",
   "metadata": {
    "id": "gqknmHsbfGbo"
   },
   "source": [
    "Despite extensive procurement activity, the current visibility into spend data is fragmented and lacks granularity. Key challenges include:\n",
    "\n",
    "1. Inconsistent classification of spend categories\n",
    "\n",
    "2. Lack of consolidated supplier insights and trend tracking,\n",
    "\n",
    "3. Difficulty comparing actual spend versus budget due to missing baseline alignment,\n",
    "\n",
    "4. No forward-looking spend forecast or variance explanation."
   ]
  },
  {
   "cell_type": "markdown",
   "metadata": {
    "id": "73yaDwXVffT-"
   },
   "source": [
    "## Objectives"
   ]
  },
  {
   "cell_type": "markdown",
   "metadata": {
    "id": "QYfgLDggfivl"
   },
   "source": [
    "\n",
    "1.\tDetermine the total spend during the review period\n",
    "\n",
    "2. Perform monthly trend analysis to highlight spikes or anomalies\n",
    "\n",
    "3.\tEstimate future spending using current trends\n",
    "\n",
    "4.\tRecommend cost-saving opportunities\n",
    "\n",
    "5.\tEvaluate strategic alignment of spend with business goals"
   ]
  },
  {
   "cell_type": "markdown",
   "metadata": {
    "id": "4Z2I2caWR327"
   },
   "source": [
    "# Data Understanding\n"
   ]
  },
  {
   "cell_type": "code",
   "execution_count": 1,
   "metadata": {
    "colab": {
     "base_uri": "https://localhost:8080/"
    },
    "id": "fkj5iu1w9-cZ",
    "outputId": "0c51b5ae-37da-4eca-bba4-0b8d8d2f2915",
    "scrolled": false
   },
   "outputs": [
    {
     "name": "stderr",
     "output_type": "stream",
     "text": [
      "C:\\Users\\Mich\\anaconda3\\lib\\site-packages\\scipy\\__init__.py:146: UserWarning: A NumPy version >=1.16.5 and <1.23.0 is required for this version of SciPy (detected version 1.24.0\n",
      "  warnings.warn(f\"A NumPy version >={np_minversion} and <{np_maxversion}\"\n",
      "[nltk_data] Downloading package wordnet to\n",
      "[nltk_data]     C:\\Users\\Mich\\AppData\\Roaming\\nltk_data...\n",
      "[nltk_data]   Package wordnet is already up-to-date!\n",
      "[nltk_data] Downloading package stopwords to\n",
      "[nltk_data]     C:\\Users\\Mich\\AppData\\Roaming\\nltk_data...\n",
      "[nltk_data]   Package stopwords is already up-to-date!\n",
      "[nltk_data] Downloading package punkt to\n",
      "[nltk_data]     C:\\Users\\Mich\\AppData\\Roaming\\nltk_data...\n",
      "[nltk_data]   Package punkt is already up-to-date!\n",
      "[nltk_data] Downloading package punkt_tab to\n",
      "[nltk_data]     C:\\Users\\Mich\\AppData\\Roaming\\nltk_data...\n",
      "[nltk_data]   Package punkt_tab is already up-to-date!\n"
     ]
    }
   ],
   "source": [
    "# importing libraries\n",
    "import numpy as np\n",
    "import pandas as pd\n",
    "import matplotlib.pyplot as plt\n",
    "import seaborn as sns\n",
    "import textwrap\n",
    "import string\n",
    "import nltk\n",
    "import json\n",
    "import re\n",
    "from nltk.corpus import stopwords\n",
    "from wordcloud import WordCloud\n",
    "from nltk import FreqDist\n",
    "from nltk.stem.wordnet import WordNetLemmatizer\n",
    "from sklearn.feature_extraction.text import  TfidfVectorizer\n",
    "nltk.download('wordnet')\n",
    "nltk.download('stopwords')\n",
    "nltk.download('punkt')\n",
    "nltk.download('punkt_tab')\n",
    "from nltk.tokenize import word_tokenize\n",
    "from sklearn.preprocessing import StandardScaler\n",
    "from sklearn.model_selection import train_test_split\n",
    "from sklearn.feature_extraction.text import TfidfVectorizer\n",
    "from sklearn.linear_model import LogisticRegression\n",
    "from sklearn.metrics import classification_report, accuracy_score\n",
    "from prophet import Prophet  \n",
    "from sklearn.ensemble import IsolationForest\n",
    "from sklearn.cluster import KMeans \n",
    "from keras_tuner.tuners import RandomSearch\n",
    "from tensorflow.keras.models import Sequential, load_model\n",
    "from tensorflow.keras.layers import Dense\n",
    "from tensorflow.keras.optimizers import Adam\n",
    "from tensorflow.keras.utils import to_categorical\n",
    "from sklearn.ensemble import RandomForestClassifier \n",
    "from sklearn.preprocessing import LabelEncoder\n",
    "from xgboost import XGBClassifier \n",
    "from tensorflow.keras.models import Sequential\n",
    "from tensorflow.keras.layers import Dense \n",
    "import itertools\n",
    "from sklearn.preprocessing import LabelEncoder  \n",
    "from tensorflow.keras.callbacks import TensorBoard,ModelCheckpoint \n",
    "import datetime\n",
    "import os \n",
    "import datetime\n",
    "import pickle  \n",
    "from pulp import *\n",
    "\n",
    "import warnings\n",
    "warnings.filterwarnings(\"ignore\")"
   ]
  },
  {
   "cell_type": "code",
   "execution_count": 2,
   "metadata": {
    "colab": {
     "base_uri": "https://localhost:8080/",
     "height": 591
    },
    "id": "K3SmokoY-h12",
    "outputId": "91bf2dc7-4a13-4c2b-99bc-c915feb82a9b"
   },
   "outputs": [
    {
     "data": {
      "text/html": [
       "<div>\n",
       "<style scoped>\n",
       "    .dataframe tbody tr th:only-of-type {\n",
       "        vertical-align: middle;\n",
       "    }\n",
       "\n",
       "    .dataframe tbody tr th {\n",
       "        vertical-align: top;\n",
       "    }\n",
       "\n",
       "    .dataframe thead th {\n",
       "        text-align: right;\n",
       "    }\n",
       "</style>\n",
       "<table border=\"1\" class=\"dataframe\">\n",
       "  <thead>\n",
       "    <tr style=\"text-align: right;\">\n",
       "      <th></th>\n",
       "      <th>OU Name</th>\n",
       "      <th>PO</th>\n",
       "      <th>Month</th>\n",
       "      <th>PO/Release creation method</th>\n",
       "      <th>Supplier/Vendor</th>\n",
       "      <th>Item Description</th>\n",
       "      <th>Main category</th>\n",
       "      <th>Sub-category</th>\n",
       "      <th>Product Type</th>\n",
       "      <th>Product Name</th>\n",
       "      <th>...</th>\n",
       "      <th>Item</th>\n",
       "      <th>Financial Year</th>\n",
       "      <th>VF Support Type</th>\n",
       "      <th>Project Number</th>\n",
       "      <th>Project Name</th>\n",
       "      <th>Sourcing Project Name</th>\n",
       "      <th>VF Billable</th>\n",
       "      <th>Department</th>\n",
       "      <th>Division</th>\n",
       "      <th>Expenditure Type</th>\n",
       "    </tr>\n",
       "  </thead>\n",
       "  <tbody>\n",
       "    <tr>\n",
       "      <th>0</th>\n",
       "      <td>MPESA Foundation</td>\n",
       "      <td>1358</td>\n",
       "      <td>2024-08-01</td>\n",
       "      <td>Manual</td>\n",
       "      <td>FF</td>\n",
       "      <td>return airport transfers in Nairobi</td>\n",
       "      <td>CORPORATE SERVICES</td>\n",
       "      <td>HR &amp; STAFF WELFARE</td>\n",
       "      <td>TRAVEL &amp; ACCOMODATION</td>\n",
       "      <td>DOMESTIC FLIGHTS</td>\n",
       "      <td>...</td>\n",
       "      <td>NaN</td>\n",
       "      <td>FY 2024/25</td>\n",
       "      <td>NaN</td>\n",
       "      <td>NaN</td>\n",
       "      <td>NaN</td>\n",
       "      <td>NaN</td>\n",
       "      <td>NaN</td>\n",
       "      <td>NaN</td>\n",
       "      <td>NaN</td>\n",
       "      <td>Opex</td>\n",
       "    </tr>\n",
       "    <tr>\n",
       "      <th>1</th>\n",
       "      <td>MPESA Foundation</td>\n",
       "      <td>1359</td>\n",
       "      <td>2024-08-01</td>\n",
       "      <td>Manual</td>\n",
       "      <td>OOOOOOOOP</td>\n",
       "      <td>Accomodation for foundation team during offsit...</td>\n",
       "      <td>CORPORATE SERVICES</td>\n",
       "      <td>HR &amp; STAFF WELFARE</td>\n",
       "      <td>TRAVEL &amp; ACCOMODATION</td>\n",
       "      <td>DOMESTIC FLIGHTS</td>\n",
       "      <td>...</td>\n",
       "      <td>NaN</td>\n",
       "      <td>FY 2024/25</td>\n",
       "      <td>NaN</td>\n",
       "      <td>NaN</td>\n",
       "      <td>NaN</td>\n",
       "      <td>NaN</td>\n",
       "      <td>NaN</td>\n",
       "      <td>NaN</td>\n",
       "      <td>NaN</td>\n",
       "      <td>Opex</td>\n",
       "    </tr>\n",
       "    <tr>\n",
       "      <th>2</th>\n",
       "      <td>MPESA Foundation</td>\n",
       "      <td>1359</td>\n",
       "      <td>2024-08-01</td>\n",
       "      <td>Manual</td>\n",
       "      <td>BNM</td>\n",
       "      <td>C L 2</td>\n",
       "      <td>CORPORATE SERVICES</td>\n",
       "      <td>HR &amp; STAFF WELFARE</td>\n",
       "      <td>TRAVEL &amp; ACCOMODATION</td>\n",
       "      <td>DOMESTIC FLIGHTS</td>\n",
       "      <td>...</td>\n",
       "      <td>NaN</td>\n",
       "      <td>FY 2024/25</td>\n",
       "      <td>NaN</td>\n",
       "      <td>NaN</td>\n",
       "      <td>NaN</td>\n",
       "      <td>NaN</td>\n",
       "      <td>NaN</td>\n",
       "      <td>NaN</td>\n",
       "      <td>NaN</td>\n",
       "      <td>Opex</td>\n",
       "    </tr>\n",
       "    <tr>\n",
       "      <th>3</th>\n",
       "      <td>MPESA Foundation</td>\n",
       "      <td>1359</td>\n",
       "      <td>2024-08-01</td>\n",
       "      <td>Manual</td>\n",
       "      <td>FFG</td>\n",
       "      <td>S C</td>\n",
       "      <td>CORPORATE SERVICES</td>\n",
       "      <td>HR &amp; STAFF WELFARE</td>\n",
       "      <td>TRAVEL &amp; ACCOMODATION</td>\n",
       "      <td>DOMESTIC FLIGHTS</td>\n",
       "      <td>...</td>\n",
       "      <td>NaN</td>\n",
       "      <td>FY 2024/25</td>\n",
       "      <td>NaN</td>\n",
       "      <td>NaN</td>\n",
       "      <td>NaN</td>\n",
       "      <td>NaN</td>\n",
       "      <td>NaN</td>\n",
       "      <td>NaN</td>\n",
       "      <td>NaN</td>\n",
       "      <td>Opex</td>\n",
       "    </tr>\n",
       "    <tr>\n",
       "      <th>4</th>\n",
       "      <td>MPESA Foundation</td>\n",
       "      <td>1359</td>\n",
       "      <td>2024-08-01</td>\n",
       "      <td>Manual</td>\n",
       "      <td>FFG</td>\n",
       "      <td>Karen Basiye</td>\n",
       "      <td>CORPORATE SERVICES</td>\n",
       "      <td>HR &amp; STAFF WELFARE</td>\n",
       "      <td>TRAVEL &amp; ACCOMODATION</td>\n",
       "      <td>DOMESTIC FLIGHTS</td>\n",
       "      <td>...</td>\n",
       "      <td>NaN</td>\n",
       "      <td>FY 2024/25</td>\n",
       "      <td>NaN</td>\n",
       "      <td>NaN</td>\n",
       "      <td>NaN</td>\n",
       "      <td>NaN</td>\n",
       "      <td>NaN</td>\n",
       "      <td>NaN</td>\n",
       "      <td>NaN</td>\n",
       "      <td>Opex</td>\n",
       "    </tr>\n",
       "  </tbody>\n",
       "</table>\n",
       "<p>5 rows × 45 columns</p>\n",
       "</div>"
      ],
      "text/plain": [
       "            OU Name    PO      Month PO/Release creation method   \n",
       "0  MPESA Foundation  1358 2024-08-01                     Manual  \\\n",
       "1  MPESA Foundation  1359 2024-08-01                     Manual   \n",
       "2  MPESA Foundation  1359 2024-08-01                     Manual   \n",
       "3  MPESA Foundation  1359 2024-08-01                     Manual   \n",
       "4  MPESA Foundation  1359 2024-08-01                     Manual   \n",
       "\n",
       "  Supplier/Vendor                                   Item Description   \n",
       "0              FF                return airport transfers in Nairobi  \\\n",
       "1       OOOOOOOOP  Accomodation for foundation team during offsit...   \n",
       "2             BNM                                             C L 2    \n",
       "3             FFG                                               S C    \n",
       "4             FFG                                       Karen Basiye   \n",
       "\n",
       "        Main category        Sub-category           Product Type   \n",
       "0  CORPORATE SERVICES  HR & STAFF WELFARE  TRAVEL & ACCOMODATION  \\\n",
       "1  CORPORATE SERVICES  HR & STAFF WELFARE  TRAVEL & ACCOMODATION   \n",
       "2  CORPORATE SERVICES  HR & STAFF WELFARE  TRAVEL & ACCOMODATION   \n",
       "3  CORPORATE SERVICES  HR & STAFF WELFARE  TRAVEL & ACCOMODATION   \n",
       "4  CORPORATE SERVICES  HR & STAFF WELFARE  TRAVEL & ACCOMODATION   \n",
       "\n",
       "       Product Name  ... Item Financial Year  VF Support Type  Project Number   \n",
       "0  DOMESTIC FLIGHTS  ...  NaN     FY 2024/25              NaN             NaN  \\\n",
       "1  DOMESTIC FLIGHTS  ...  NaN     FY 2024/25              NaN             NaN   \n",
       "2  DOMESTIC FLIGHTS  ...  NaN     FY 2024/25              NaN             NaN   \n",
       "3  DOMESTIC FLIGHTS  ...  NaN     FY 2024/25              NaN             NaN   \n",
       "4  DOMESTIC FLIGHTS  ...  NaN     FY 2024/25              NaN             NaN   \n",
       "\n",
       "   Project Name  Sourcing Project Name  VF Billable  Department  Division   \n",
       "0           NaN                    NaN          NaN         NaN       NaN  \\\n",
       "1           NaN                    NaN          NaN         NaN       NaN   \n",
       "2           NaN                    NaN          NaN         NaN       NaN   \n",
       "3           NaN                    NaN          NaN         NaN       NaN   \n",
       "4           NaN                    NaN          NaN         NaN       NaN   \n",
       "\n",
       "  Expenditure Type  \n",
       "0             Opex  \n",
       "1             Opex  \n",
       "2             Opex  \n",
       "3             Opex  \n",
       "4             Opex  \n",
       "\n",
       "[5 rows x 45 columns]"
      ]
     },
     "execution_count": 2,
     "metadata": {},
     "output_type": "execute_result"
    }
   ],
   "source": [
    "# Loading dataset\n",
    "df = pd.read_excel(\"Data\\Working Data.xlsx\")\n",
    "df.head()"
   ]
  },
  {
   "cell_type": "code",
   "execution_count": 3,
   "metadata": {
    "id": "MlTRKgVjAG1R"
   },
   "outputs": [],
   "source": [
    "pd.set_option('display.max_columns',45)"
   ]
  },
  {
   "cell_type": "code",
   "execution_count": 4,
   "metadata": {
    "colab": {
     "base_uri": "https://localhost:8080/"
    },
    "id": "oZQ-o45o_Cje",
    "outputId": "314aa823-dbc0-4351-ce50-34d2acdd74f3"
   },
   "outputs": [
    {
     "data": {
      "text/plain": [
       "(8058, 45)"
      ]
     },
     "execution_count": 4,
     "metadata": {},
     "output_type": "execute_result"
    }
   ],
   "source": [
    "df.shape"
   ]
  },
  {
   "cell_type": "code",
   "execution_count": 5,
   "metadata": {
    "colab": {
     "base_uri": "https://localhost:8080/",
     "height": 459
    },
    "id": "vyHG8_GB_Foi",
    "outputId": "34b2ee5d-9813-439f-c98c-174466b0aae8"
   },
   "outputs": [
    {
     "data": {
      "text/html": [
       "<div>\n",
       "<style scoped>\n",
       "    .dataframe tbody tr th:only-of-type {\n",
       "        vertical-align: middle;\n",
       "    }\n",
       "\n",
       "    .dataframe tbody tr th {\n",
       "        vertical-align: top;\n",
       "    }\n",
       "\n",
       "    .dataframe thead th {\n",
       "        text-align: right;\n",
       "    }\n",
       "</style>\n",
       "<table border=\"1\" class=\"dataframe\">\n",
       "  <thead>\n",
       "    <tr style=\"text-align: right;\">\n",
       "      <th></th>\n",
       "      <th>PO</th>\n",
       "      <th>Month</th>\n",
       "      <th>Quantity</th>\n",
       "      <th>Unit Price</th>\n",
       "      <th>PO Amount</th>\n",
       "      <th>Savings</th>\n",
       "      <th>Savings %</th>\n",
       "      <th>Initial PO Total</th>\n",
       "      <th>Total Savings</th>\n",
       "      <th>Line</th>\n",
       "      <th>Shipment</th>\n",
       "      <th>Distribution Num</th>\n",
       "      <th>Distribution Ordered Quantity</th>\n",
       "    </tr>\n",
       "  </thead>\n",
       "  <tbody>\n",
       "    <tr>\n",
       "      <th>count</th>\n",
       "      <td>8058.000000</td>\n",
       "      <td>8058</td>\n",
       "      <td>8058.000000</td>\n",
       "      <td>7.942000e+03</td>\n",
       "      <td>8.058000e+03</td>\n",
       "      <td>7.020000e+02</td>\n",
       "      <td>702.000000</td>\n",
       "      <td>1.000000e+01</td>\n",
       "      <td>1.000000e+01</td>\n",
       "      <td>8058.000000</td>\n",
       "      <td>8058.000000</td>\n",
       "      <td>8058.000000</td>\n",
       "      <td>7942.000000</td>\n",
       "    </tr>\n",
       "    <tr>\n",
       "      <th>mean</th>\n",
       "      <td>627440.735791</td>\n",
       "      <td>2024-05-29 07:12:49.322412800</td>\n",
       "      <td>759.122101</td>\n",
       "      <td>1.582007e+05</td>\n",
       "      <td>7.028891e+05</td>\n",
       "      <td>1.826261e+04</td>\n",
       "      <td>17.494772</td>\n",
       "      <td>3.423796e+07</td>\n",
       "      <td>6.155952e+06</td>\n",
       "      <td>6.820179</td>\n",
       "      <td>1.041946</td>\n",
       "      <td>1.070985</td>\n",
       "      <td>741.779264</td>\n",
       "    </tr>\n",
       "    <tr>\n",
       "      <th>min</th>\n",
       "      <td>371.000000</td>\n",
       "      <td>2024-04-01 00:00:00</td>\n",
       "      <td>0.000000</td>\n",
       "      <td>0.000000e+00</td>\n",
       "      <td>0.000000e+00</td>\n",
       "      <td>5.000000e-02</td>\n",
       "      <td>0.320000</td>\n",
       "      <td>1.118240e+05</td>\n",
       "      <td>0.000000e+00</td>\n",
       "      <td>1.000000</td>\n",
       "      <td>1.000000</td>\n",
       "      <td>1.000000</td>\n",
       "      <td>0.030000</td>\n",
       "    </tr>\n",
       "    <tr>\n",
       "      <th>25%</th>\n",
       "      <td>630621.250000</td>\n",
       "      <td>2024-04-01 00:00:00</td>\n",
       "      <td>1.000000</td>\n",
       "      <td>3.500000e+02</td>\n",
       "      <td>2.600000e+03</td>\n",
       "      <td>6.409091e+00</td>\n",
       "      <td>12.000000</td>\n",
       "      <td>3.365189e+06</td>\n",
       "      <td>7.757790e+05</td>\n",
       "      <td>1.000000</td>\n",
       "      <td>1.000000</td>\n",
       "      <td>1.000000</td>\n",
       "      <td>1.000000</td>\n",
       "    </tr>\n",
       "    <tr>\n",
       "      <th>50%</th>\n",
       "      <td>631877.000000</td>\n",
       "      <td>2024-06-01 00:00:00</td>\n",
       "      <td>3.000000</td>\n",
       "      <td>2.500000e+03</td>\n",
       "      <td>1.380000e+04</td>\n",
       "      <td>2.726744e+01</td>\n",
       "      <td>14.000000</td>\n",
       "      <td>1.400403e+07</td>\n",
       "      <td>2.765742e+06</td>\n",
       "      <td>3.000000</td>\n",
       "      <td>1.000000</td>\n",
       "      <td>1.000000</td>\n",
       "      <td>3.000000</td>\n",
       "    </tr>\n",
       "    <tr>\n",
       "      <th>75%</th>\n",
       "      <td>634062.750000</td>\n",
       "      <td>2024-08-01 00:00:00</td>\n",
       "      <td>16.000000</td>\n",
       "      <td>1.327189e+04</td>\n",
       "      <td>5.675975e+04</td>\n",
       "      <td>5.000000e+02</td>\n",
       "      <td>19.167500</td>\n",
       "      <td>6.244988e+07</td>\n",
       "      <td>6.135619e+06</td>\n",
       "      <td>7.000000</td>\n",
       "      <td>1.000000</td>\n",
       "      <td>1.000000</td>\n",
       "      <td>15.000000</td>\n",
       "    </tr>\n",
       "    <tr>\n",
       "      <th>max</th>\n",
       "      <td>634939.000000</td>\n",
       "      <td>2024-09-01 00:00:00</td>\n",
       "      <td>620000.000000</td>\n",
       "      <td>1.617550e+08</td>\n",
       "      <td>1.012500e+09</td>\n",
       "      <td>8.361581e+06</td>\n",
       "      <td>100.000000</td>\n",
       "      <td>1.048350e+08</td>\n",
       "      <td>2.914650e+07</td>\n",
       "      <td>89.000000</td>\n",
       "      <td>12.000000</td>\n",
       "      <td>8.000000</td>\n",
       "      <td>620000.000000</td>\n",
       "    </tr>\n",
       "    <tr>\n",
       "      <th>std</th>\n",
       "      <td>53798.934355</td>\n",
       "      <td>NaN</td>\n",
       "      <td>14684.634769</td>\n",
       "      <td>3.232525e+06</td>\n",
       "      <td>1.929449e+07</td>\n",
       "      <td>3.402359e+05</td>\n",
       "      <td>11.065662</td>\n",
       "      <td>3.937671e+07</td>\n",
       "      <td>9.011365e+06</td>\n",
       "      <td>10.903713</td>\n",
       "      <td>0.382992</td>\n",
       "      <td>0.483999</td>\n",
       "      <td>14786.944085</td>\n",
       "    </tr>\n",
       "  </tbody>\n",
       "</table>\n",
       "</div>"
      ],
      "text/plain": [
       "                  PO                          Month       Quantity   \n",
       "count    8058.000000                           8058    8058.000000  \\\n",
       "mean   627440.735791  2024-05-29 07:12:49.322412800     759.122101   \n",
       "min       371.000000            2024-04-01 00:00:00       0.000000   \n",
       "25%    630621.250000            2024-04-01 00:00:00       1.000000   \n",
       "50%    631877.000000            2024-06-01 00:00:00       3.000000   \n",
       "75%    634062.750000            2024-08-01 00:00:00      16.000000   \n",
       "max    634939.000000            2024-09-01 00:00:00  620000.000000   \n",
       "std     53798.934355                            NaN   14684.634769   \n",
       "\n",
       "         Unit Price     PO Amount       Savings   Savings %  Initial PO Total   \n",
       "count  7.942000e+03  8.058000e+03  7.020000e+02  702.000000      1.000000e+01  \\\n",
       "mean   1.582007e+05  7.028891e+05  1.826261e+04   17.494772      3.423796e+07   \n",
       "min    0.000000e+00  0.000000e+00  5.000000e-02    0.320000      1.118240e+05   \n",
       "25%    3.500000e+02  2.600000e+03  6.409091e+00   12.000000      3.365189e+06   \n",
       "50%    2.500000e+03  1.380000e+04  2.726744e+01   14.000000      1.400403e+07   \n",
       "75%    1.327189e+04  5.675975e+04  5.000000e+02   19.167500      6.244988e+07   \n",
       "max    1.617550e+08  1.012500e+09  8.361581e+06  100.000000      1.048350e+08   \n",
       "std    3.232525e+06  1.929449e+07  3.402359e+05   11.065662      3.937671e+07   \n",
       "\n",
       "       Total Savings         Line     Shipment  Distribution Num   \n",
       "count   1.000000e+01  8058.000000  8058.000000       8058.000000  \\\n",
       "mean    6.155952e+06     6.820179     1.041946          1.070985   \n",
       "min     0.000000e+00     1.000000     1.000000          1.000000   \n",
       "25%     7.757790e+05     1.000000     1.000000          1.000000   \n",
       "50%     2.765742e+06     3.000000     1.000000          1.000000   \n",
       "75%     6.135619e+06     7.000000     1.000000          1.000000   \n",
       "max     2.914650e+07    89.000000    12.000000          8.000000   \n",
       "std     9.011365e+06    10.903713     0.382992          0.483999   \n",
       "\n",
       "       Distribution Ordered Quantity  \n",
       "count                    7942.000000  \n",
       "mean                      741.779264  \n",
       "min                         0.030000  \n",
       "25%                         1.000000  \n",
       "50%                         3.000000  \n",
       "75%                        15.000000  \n",
       "max                    620000.000000  \n",
       "std                     14786.944085  "
      ]
     },
     "execution_count": 5,
     "metadata": {},
     "output_type": "execute_result"
    }
   ],
   "source": [
    "df.describe()"
   ]
  },
  {
   "cell_type": "code",
   "execution_count": 6,
   "metadata": {
    "colab": {
     "base_uri": "https://localhost:8080/"
    },
    "id": "pncXjvFs_KTl",
    "outputId": "85b3675f-a6e6-4297-fd20-e692f7059807"
   },
   "outputs": [
    {
     "name": "stdout",
     "output_type": "stream",
     "text": [
      "<class 'pandas.core.frame.DataFrame'>\n",
      "RangeIndex: 8058 entries, 0 to 8057\n",
      "Data columns (total 45 columns):\n",
      " #   Column                                                  Non-Null Count  Dtype         \n",
      "---  ------                                                  --------------  -----         \n",
      " 0   OU Name                                                 8058 non-null   object        \n",
      " 1   PO                                                      8058 non-null   int64         \n",
      " 2   Month                                                   8058 non-null   datetime64[ns]\n",
      " 3   PO/Release creation method                              8058 non-null   object        \n",
      " 4   Supplier/Vendor                                         8058 non-null   object        \n",
      " 5   Item Description                                        8058 non-null   object        \n",
      " 6   Main category                                           8058 non-null   object        \n",
      " 7   Sub-category                                            8058 non-null   object        \n",
      " 8   Product Type                                            8058 non-null   object        \n",
      " 9   Product Name                                            8058 non-null   object        \n",
      " 10  UOM                                                     7942 non-null   object        \n",
      " 11  Currency                                                8058 non-null   object        \n",
      " 12  Quantity                                                8058 non-null   float64       \n",
      " 13  Unit Price                                              7942 non-null   float64       \n",
      " 14  PO Amount                                               8058 non-null   float64       \n",
      " 15  Savings                                                 702 non-null    float64       \n",
      " 16  Savings %                                               702 non-null    float64       \n",
      " 17  Initial PO Total                                        10 non-null     float64       \n",
      " 18  Total Savings                                           10 non-null     float64       \n",
      " 19  Type Of Saving                                          777 non-null    object        \n",
      " 20  How Savings Was Achieved                                776 non-null    object        \n",
      " 21  Addressable or Non-Addressable                          8058 non-null   object        \n",
      " 22  Locale(Foreign or Local based Suppliers)                8058 non-null   object        \n",
      " 23  Negotiation Number                                      483 non-null    object        \n",
      " 24  Special Interest Group- Women or Youth Owned Suppliers  8058 non-null   object        \n",
      " 25  Category Manager(s)                                     8058 non-null   object        \n",
      " 26  Last Updated By Cat. Mgr                                777 non-null    object        \n",
      " 27  Buyer                                                   8058 non-null   object        \n",
      " 28  Closure Status                                          8058 non-null   object        \n",
      " 29  Type                                                    8058 non-null   object        \n",
      " 30  Supplier Site                                           8058 non-null   object        \n",
      " 31  Line                                                    8058 non-null   int64         \n",
      " 32  Shipment                                                8058 non-null   int64         \n",
      " 33  Distribution Num                                        8058 non-null   int64         \n",
      " 34  Distribution Ordered Quantity                           7942 non-null   float64       \n",
      " 35  Item                                                    582 non-null    object        \n",
      " 36  Financial Year                                          8058 non-null   object        \n",
      " 37  VF Support Type                                         777 non-null    object        \n",
      " 38  Project Number                                          783 non-null    object        \n",
      " 39  Project Name                                            783 non-null    object        \n",
      " 40  Sourcing Project Name                                   777 non-null    object        \n",
      " 41  VF Billable                                             777 non-null    object        \n",
      " 42  Department                                              5762 non-null   object        \n",
      " 43  Division                                                7262 non-null   object        \n",
      " 44  Expenditure Type                                        8058 non-null   object        \n",
      "dtypes: datetime64[ns](1), float64(8), int64(4), object(32)\n",
      "memory usage: 2.8+ MB\n"
     ]
    }
   ],
   "source": [
    "df.info()"
   ]
  },
  {
   "cell_type": "markdown",
   "metadata": {
    "id": "q18JlCjxVPEk"
   },
   "source": [
    "# Data Cleaning"
   ]
  },
  {
   "cell_type": "code",
   "execution_count": 7,
   "metadata": {
    "colab": {
     "base_uri": "https://localhost:8080/",
     "height": 1000
    },
    "id": "FwzptC80CGPA",
    "outputId": "36a41926-0263-459b-eb3a-9bbd69cc373f"
   },
   "outputs": [
    {
     "data": {
      "text/plain": [
       "OU Name                                                      0\n",
       "PO                                                           0\n",
       "Month                                                        0\n",
       "PO/Release creation method                                   0\n",
       "Supplier/Vendor                                              0\n",
       "Item Description                                             0\n",
       "Main category                                                0\n",
       "Sub-category                                                 0\n",
       "Product Type                                                 0\n",
       "Product Name                                                 0\n",
       "UOM                                                        116\n",
       "Currency                                                     0\n",
       "Quantity                                                     0\n",
       "Unit Price                                                 116\n",
       "PO Amount                                                    0\n",
       "Savings                                                   7356\n",
       "Savings %                                                 7356\n",
       "Initial PO Total                                          8048\n",
       "Total Savings                                             8048\n",
       "Type Of Saving                                            7281\n",
       "How Savings Was Achieved                                  7282\n",
       "Addressable or Non-Addressable                               0\n",
       "Locale(Foreign or Local based Suppliers)                     0\n",
       "Negotiation Number                                        7575\n",
       "Special Interest Group- Women or Youth Owned Suppliers       0\n",
       "Category Manager(s)                                          0\n",
       "Last Updated By Cat. Mgr                                  7281\n",
       "Buyer                                                        0\n",
       "Closure Status                                               0\n",
       "Type                                                         0\n",
       "Supplier Site                                                0\n",
       "Line                                                         0\n",
       "Shipment                                                     0\n",
       "Distribution Num                                             0\n",
       "Distribution Ordered Quantity                              116\n",
       "Item                                                      7476\n",
       "Financial Year                                               0\n",
       "VF Support Type                                           7281\n",
       "Project Number                                            7275\n",
       "Project Name                                              7275\n",
       "Sourcing Project Name                                     7281\n",
       "VF Billable                                               7281\n",
       "Department                                                2296\n",
       "Division                                                   796\n",
       "Expenditure Type                                             0\n",
       "dtype: int64"
      ]
     },
     "execution_count": 7,
     "metadata": {},
     "output_type": "execute_result"
    }
   ],
   "source": [
    "df.isna().sum()"
   ]
  },
  {
   "cell_type": "code",
   "execution_count": 8,
   "metadata": {
    "colab": {
     "base_uri": "https://localhost:8080/",
     "height": 908
    },
    "id": "G9llGAMeEfNZ",
    "outputId": "a0c3e3c3-3e43-49d6-94e2-f6e6833200fa"
   },
   "outputs": [
    {
     "data": {
      "text/plain": [
       "Text(0.5, 1.0, 'Correlation Heatmap (Numerical Features Only)')"
      ]
     },
     "execution_count": 8,
     "metadata": {},
     "output_type": "execute_result"
    },
    {
     "data": {
      "image/png": "[encoded data removed]",
      "text/plain": [
       "<Figure size 720x576 with 2 Axes>"
      ]
     },
     "metadata": {
      "needs_background": "light"
     },
     "output_type": "display_data"
    }
   ],
   "source": [
    "# Correlation matrix to check for the columns with the highest or lowest correlation\n",
    "numeric_df = df.select_dtypes(include=\"number\")\n",
    "\n",
    "corr_matrix = numeric_df.corr()\n",
    "\n",
    "plt.figure(figsize=(10, 8))\n",
    "sns.heatmap(corr_matrix, annot=True, cmap='coolwarm', fmt=\".2f\", linewidths=0.5)\n",
    "plt.title(\"Correlation Heatmap (Numerical Features Only)\")\n"
   ]
  },
  {
   "cell_type": "code",
   "execution_count": 9,
   "metadata": {
    "colab": {
     "base_uri": "https://localhost:8080/"
    },
    "id": "2tMqIJBvSPoN",
    "outputId": "9fd64bd4-68e7-468f-8b6d-7772e7ce21b7"
   },
   "outputs": [
    {
     "name": "stdout",
     "output_type": "stream",
     "text": [
      "OU Name                                                    0.000000\n",
      "PO                                                         0.000000\n",
      "Month                                                      0.000000\n",
      "PO/Release creation method                                 0.000000\n",
      "Supplier/Vendor                                            0.000000\n",
      "Item Description                                           0.000000\n",
      "Main category                                              0.000000\n",
      "Sub-category                                               0.000000\n",
      "Product Type                                               0.000000\n",
      "Product Name                                               0.000000\n",
      "UOM                                                        1.439563\n",
      "Currency                                                   0.000000\n",
      "Quantity                                                   0.000000\n",
      "Unit Price                                                 1.439563\n",
      "PO Amount                                                  0.000000\n",
      "Savings                                                   91.288161\n",
      "Savings %                                                 91.288161\n",
      "Initial PO Total                                          99.875900\n",
      "Total Savings                                             99.875900\n",
      "Type Of Saving                                            90.357409\n",
      "How Savings Was Achieved                                  90.369819\n",
      "Addressable or Non-Addressable                             0.000000\n",
      "Locale(Foreign or Local based Suppliers)                   0.000000\n",
      "Negotiation Number                                        94.005957\n",
      "Special Interest Group- Women or Youth Owned Suppliers     0.000000\n",
      "Category Manager(s)                                        0.000000\n",
      "Last Updated By Cat. Mgr                                  90.357409\n",
      "Buyer                                                      0.000000\n",
      "Closure Status                                             0.000000\n",
      "Type                                                       0.000000\n",
      "Supplier Site                                              0.000000\n",
      "Line                                                       0.000000\n",
      "Shipment                                                   0.000000\n",
      "Distribution Num                                           0.000000\n",
      "Distribution Ordered Quantity                              1.439563\n",
      "Item                                                      92.777364\n",
      "Financial Year                                             0.000000\n",
      "VF Support Type                                           90.357409\n",
      "Project Number                                            90.282949\n",
      "Project Name                                              90.282949\n",
      "Sourcing Project Name                                     90.357409\n",
      "VF Billable                                               90.357409\n",
      "Department                                                28.493423\n",
      "Division                                                   9.878382\n",
      "Expenditure Type                                           0.000000\n",
      "dtype: float64\n"
     ]
    }
   ],
   "source": [
    "#percentage of null values\n",
    "null_percent = (df.isnull().sum() / len(df)) * 100\n",
    "print(null_percent)"
   ]
  },
  {
   "cell_type": "code",
   "execution_count": 10,
   "metadata": {
    "id": "fXy7lj7HT-xh"
   },
   "outputs": [],
   "source": [
    "# Dropping all columns that has more than 90% missing values\n",
    "df = df.loc[:, df.isnull().mean() < 0.9]\n"
   ]
  },
  {
   "cell_type": "code",
   "execution_count": 11,
   "metadata": {
    "id": "VUwO87euUQzE"
   },
   "outputs": [],
   "source": [
    "df = df.dropna(subset=['UOM', 'Unit Price', 'Distribution Ordered Quantity'])\n",
    "df.dropna(inplace=True)"
   ]
  },
  {
   "cell_type": "code",
   "execution_count": 12,
   "metadata": {
    "colab": {
     "base_uri": "https://localhost:8080/",
     "height": 591
    },
    "id": "tpDMhOv-zAMJ",
    "outputId": "f2bd971b-f8a1-4b41-e119-45b991a3db62"
   },
   "outputs": [
    {
     "data": {
      "text/html": [
       "<div>\n",
       "<style scoped>\n",
       "    .dataframe tbody tr th:only-of-type {\n",
       "        vertical-align: middle;\n",
       "    }\n",
       "\n",
       "    .dataframe tbody tr th {\n",
       "        vertical-align: top;\n",
       "    }\n",
       "\n",
       "    .dataframe thead th {\n",
       "        text-align: right;\n",
       "    }\n",
       "</style>\n",
       "<table border=\"1\" class=\"dataframe\">\n",
       "  <thead>\n",
       "    <tr style=\"text-align: right;\">\n",
       "      <th></th>\n",
       "      <th>OU Name</th>\n",
       "      <th>PO</th>\n",
       "      <th>Month</th>\n",
       "      <th>PO/Release creation method</th>\n",
       "      <th>Supplier/Vendor</th>\n",
       "      <th>Item Description</th>\n",
       "      <th>Main category</th>\n",
       "      <th>Sub-category</th>\n",
       "      <th>Product Type</th>\n",
       "      <th>Product Name</th>\n",
       "      <th>UOM</th>\n",
       "      <th>Currency</th>\n",
       "      <th>Quantity</th>\n",
       "      <th>Unit Price</th>\n",
       "      <th>PO Amount</th>\n",
       "      <th>Addressable or Non-Addressable</th>\n",
       "      <th>Locale(Foreign or Local based Suppliers)</th>\n",
       "      <th>Special Interest Group- Women or Youth Owned Suppliers</th>\n",
       "      <th>Category Manager(s)</th>\n",
       "      <th>Buyer</th>\n",
       "      <th>Closure Status</th>\n",
       "      <th>Type</th>\n",
       "      <th>Supplier Site</th>\n",
       "      <th>Line</th>\n",
       "      <th>Shipment</th>\n",
       "      <th>Distribution Num</th>\n",
       "      <th>Distribution Ordered Quantity</th>\n",
       "      <th>Financial Year</th>\n",
       "      <th>Department</th>\n",
       "      <th>Division</th>\n",
       "      <th>Expenditure Type</th>\n",
       "    </tr>\n",
       "  </thead>\n",
       "  <tbody>\n",
       "    <tr>\n",
       "      <th>36</th>\n",
       "      <td>DigiFarm Kenya Limited</td>\n",
       "      <td>1776</td>\n",
       "      <td>2024-08-01</td>\n",
       "      <td>Touchless</td>\n",
       "      <td>FF</td>\n",
       "      <td>Sales Brand Ambassador Transport Allowance</td>\n",
       "      <td>Corprate Services</td>\n",
       "      <td>SALES &amp; MARKETING</td>\n",
       "      <td>BTL ADVERTISING</td>\n",
       "      <td>AGENCY SERVICES - BTL</td>\n",
       "      <td>Each</td>\n",
       "      <td>KES</td>\n",
       "      <td>192.0</td>\n",
       "      <td>200.00</td>\n",
       "      <td>38400.00</td>\n",
       "      <td>Addressable</td>\n",
       "      <td>Local</td>\n",
       "      <td>Others</td>\n",
       "      <td>Muchiri Thomas</td>\n",
       "      <td>Karanja, Mrs. Maryanne</td>\n",
       "      <td>CLOSED</td>\n",
       "      <td>Goods</td>\n",
       "      <td>NAIROBI</td>\n",
       "      <td>5</td>\n",
       "      <td>1</td>\n",
       "      <td>1</td>\n",
       "      <td>192.0</td>\n",
       "      <td>FY 2024//25</td>\n",
       "      <td>DigiFarm Kenya Ltd</td>\n",
       "      <td>Business Development Cluster</td>\n",
       "      <td>opex</td>\n",
       "    </tr>\n",
       "    <tr>\n",
       "      <th>37</th>\n",
       "      <td>DigiFarm Kenya Limited</td>\n",
       "      <td>1777</td>\n",
       "      <td>2024-08-01</td>\n",
       "      <td>Touchless</td>\n",
       "      <td>LLLKKJJJ</td>\n",
       "      <td>Digifarm Buyer Platform Activations BA wages J...</td>\n",
       "      <td>Corprate Services</td>\n",
       "      <td>SALES &amp; MARKETING</td>\n",
       "      <td>SALES PROMOTIONS</td>\n",
       "      <td>SALES ACTIVATION</td>\n",
       "      <td>Each</td>\n",
       "      <td>KES</td>\n",
       "      <td>1.0</td>\n",
       "      <td>43920.00</td>\n",
       "      <td>43920.00</td>\n",
       "      <td>Addressable</td>\n",
       "      <td>Local</td>\n",
       "      <td>Others</td>\n",
       "      <td>Muchiri Thomas</td>\n",
       "      <td>Karanja, Mrs. Maryanne</td>\n",
       "      <td>CLOSED</td>\n",
       "      <td>Services</td>\n",
       "      <td>NAIROBI</td>\n",
       "      <td>1</td>\n",
       "      <td>1</td>\n",
       "      <td>1</td>\n",
       "      <td>1.0</td>\n",
       "      <td>FY 2024//25</td>\n",
       "      <td>DigiFarm Kenya Ltd</td>\n",
       "      <td>Business Development Cluster</td>\n",
       "      <td>opex</td>\n",
       "    </tr>\n",
       "    <tr>\n",
       "      <th>38</th>\n",
       "      <td>DigiFarm Kenya Limited</td>\n",
       "      <td>1779</td>\n",
       "      <td>2024-08-01</td>\n",
       "      <td>Touchless</td>\n",
       "      <td>FF</td>\n",
       "      <td>Kericho Kisumu Nandi Visits Accommodation Requ...</td>\n",
       "      <td>Corprate Services</td>\n",
       "      <td>HR &amp; STAFF WELFARE</td>\n",
       "      <td>TRAVEL &amp; ACCOMODATION</td>\n",
       "      <td>ACCOMMODATION</td>\n",
       "      <td>Each</td>\n",
       "      <td>KES</td>\n",
       "      <td>1.0</td>\n",
       "      <td>5508.47</td>\n",
       "      <td>5508.47</td>\n",
       "      <td>Addressable</td>\n",
       "      <td>Local</td>\n",
       "      <td>Others</td>\n",
       "      <td>Muchiri Thomas</td>\n",
       "      <td>Karanja, Mrs. Maryanne</td>\n",
       "      <td>OPEN</td>\n",
       "      <td>Services</td>\n",
       "      <td>NAIROBI</td>\n",
       "      <td>1</td>\n",
       "      <td>1</td>\n",
       "      <td>1</td>\n",
       "      <td>1.0</td>\n",
       "      <td>FY 2024//25</td>\n",
       "      <td>DigiFarm Kenya Ltd</td>\n",
       "      <td>Business Development Cluster</td>\n",
       "      <td>opex</td>\n",
       "    </tr>\n",
       "    <tr>\n",
       "      <th>39</th>\n",
       "      <td>DigiFarm Kenya Limited</td>\n",
       "      <td>1779</td>\n",
       "      <td>2024-08-01</td>\n",
       "      <td>Touchless</td>\n",
       "      <td>FF</td>\n",
       "      <td>Catering levy 2</td>\n",
       "      <td>Corprate Services</td>\n",
       "      <td>HR &amp; STAFF WELFARE</td>\n",
       "      <td>TRAVEL &amp; ACCOMODATION</td>\n",
       "      <td>ACCOMMODATION</td>\n",
       "      <td>Each</td>\n",
       "      <td>KES</td>\n",
       "      <td>3.0</td>\n",
       "      <td>110.17</td>\n",
       "      <td>330.51</td>\n",
       "      <td>Addressable</td>\n",
       "      <td>Local</td>\n",
       "      <td>Others</td>\n",
       "      <td>Muchiri Thomas</td>\n",
       "      <td>Karanja, Mrs. Maryanne</td>\n",
       "      <td>OPEN</td>\n",
       "      <td>Services</td>\n",
       "      <td>NAIROBI</td>\n",
       "      <td>2</td>\n",
       "      <td>2</td>\n",
       "      <td>1</td>\n",
       "      <td>3.0</td>\n",
       "      <td>FY 2024//25</td>\n",
       "      <td>DigiFarm Kenya Ltd</td>\n",
       "      <td>Business Development Cluster</td>\n",
       "      <td>opex</td>\n",
       "    </tr>\n",
       "    <tr>\n",
       "      <th>40</th>\n",
       "      <td>DigiFarm Kenya Limited</td>\n",
       "      <td>1782</td>\n",
       "      <td>2024-08-01</td>\n",
       "      <td>Touchless</td>\n",
       "      <td>AA</td>\n",
       "      <td>Digifarm Talent Discounted Rate Android Web fl...</td>\n",
       "      <td>IT.</td>\n",
       "      <td>IT INFRASTRUCTURE</td>\n",
       "      <td>IT MAINTENANCE &amp; SUPPORT</td>\n",
       "      <td>IT INFRASTRUCTURE SOFTWARE SUPPORT</td>\n",
       "      <td>Each</td>\n",
       "      <td>KES</td>\n",
       "      <td>132.0</td>\n",
       "      <td>20454.55</td>\n",
       "      <td>2700000.60</td>\n",
       "      <td>Addressable</td>\n",
       "      <td>Local</td>\n",
       "      <td>Others</td>\n",
       "      <td>OKUMU</td>\n",
       "      <td>Karanja, Mrs. Maryanne</td>\n",
       "      <td>OPEN</td>\n",
       "      <td>Services</td>\n",
       "      <td>Off USIU Road</td>\n",
       "      <td>1</td>\n",
       "      <td>1</td>\n",
       "      <td>1</td>\n",
       "      <td>132.0</td>\n",
       "      <td>FY 2024//25</td>\n",
       "      <td>DigiFarm Kenya Ltd</td>\n",
       "      <td>Business Development Cluster</td>\n",
       "      <td>opex</td>\n",
       "    </tr>\n",
       "  </tbody>\n",
       "</table>\n",
       "</div>"
      ],
      "text/plain": [
       "                   OU Name    PO      Month PO/Release creation method   \n",
       "36  DigiFarm Kenya Limited  1776 2024-08-01                  Touchless  \\\n",
       "37  DigiFarm Kenya Limited  1777 2024-08-01                  Touchless   \n",
       "38  DigiFarm Kenya Limited  1779 2024-08-01                  Touchless   \n",
       "39  DigiFarm Kenya Limited  1779 2024-08-01                  Touchless   \n",
       "40  DigiFarm Kenya Limited  1782 2024-08-01                  Touchless   \n",
       "\n",
       "   Supplier/Vendor                                   Item Description   \n",
       "36              FF         Sales Brand Ambassador Transport Allowance  \\\n",
       "37        LLLKKJJJ  Digifarm Buyer Platform Activations BA wages J...   \n",
       "38              FF  Kericho Kisumu Nandi Visits Accommodation Requ...   \n",
       "39              FF                                   Catering levy 2    \n",
       "40              AA  Digifarm Talent Discounted Rate Android Web fl...   \n",
       "\n",
       "        Main category        Sub-category              Product Type   \n",
       "36  Corprate Services   SALES & MARKETING           BTL ADVERTISING  \\\n",
       "37  Corprate Services   SALES & MARKETING          SALES PROMOTIONS   \n",
       "38  Corprate Services  HR & STAFF WELFARE     TRAVEL & ACCOMODATION   \n",
       "39  Corprate Services  HR & STAFF WELFARE     TRAVEL & ACCOMODATION   \n",
       "40                IT.   IT INFRASTRUCTURE  IT MAINTENANCE & SUPPORT   \n",
       "\n",
       "                          Product Name   UOM Currency  Quantity  Unit Price   \n",
       "36               AGENCY SERVICES - BTL  Each      KES     192.0      200.00  \\\n",
       "37                    SALES ACTIVATION  Each      KES       1.0    43920.00   \n",
       "38                       ACCOMMODATION  Each      KES       1.0     5508.47   \n",
       "39                       ACCOMMODATION  Each      KES       3.0      110.17   \n",
       "40  IT INFRASTRUCTURE SOFTWARE SUPPORT  Each      KES     132.0    20454.55   \n",
       "\n",
       "     PO Amount Addressable or Non-Addressable   \n",
       "36    38400.00                    Addressable  \\\n",
       "37    43920.00                    Addressable   \n",
       "38     5508.47                    Addressable   \n",
       "39      330.51                    Addressable   \n",
       "40  2700000.60                    Addressable   \n",
       "\n",
       "   Locale(Foreign or Local based Suppliers)   \n",
       "36                                    Local  \\\n",
       "37                                    Local   \n",
       "38                                    Local   \n",
       "39                                    Local   \n",
       "40                                    Local   \n",
       "\n",
       "   Special Interest Group- Women or Youth Owned Suppliers Category Manager(s)   \n",
       "36                                             Others          Muchiri Thomas  \\\n",
       "37                                             Others          Muchiri Thomas   \n",
       "38                                             Others          Muchiri Thomas   \n",
       "39                                             Others          Muchiri Thomas   \n",
       "40                                             Others                   OKUMU   \n",
       "\n",
       "                     Buyer Closure Status      Type  Supplier Site  Line   \n",
       "36  Karanja, Mrs. Maryanne         CLOSED     Goods        NAIROBI     5  \\\n",
       "37  Karanja, Mrs. Maryanne         CLOSED  Services        NAIROBI     1   \n",
       "38  Karanja, Mrs. Maryanne           OPEN  Services        NAIROBI     1   \n",
       "39  Karanja, Mrs. Maryanne           OPEN  Services        NAIROBI     2   \n",
       "40  Karanja, Mrs. Maryanne           OPEN  Services  Off USIU Road     1   \n",
       "\n",
       "    Shipment  Distribution Num  Distribution Ordered Quantity Financial Year   \n",
       "36         1                 1                          192.0    FY 2024//25  \\\n",
       "37         1                 1                            1.0    FY 2024//25   \n",
       "38         1                 1                            1.0    FY 2024//25   \n",
       "39         2                 1                            3.0    FY 2024//25   \n",
       "40         1                 1                          132.0    FY 2024//25   \n",
       "\n",
       "            Department                      Division Expenditure Type  \n",
       "36  DigiFarm Kenya Ltd  Business Development Cluster             opex  \n",
       "37  DigiFarm Kenya Ltd  Business Development Cluster             opex  \n",
       "38  DigiFarm Kenya Ltd  Business Development Cluster             opex  \n",
       "39  DigiFarm Kenya Ltd  Business Development Cluster             opex  \n",
       "40  DigiFarm Kenya Ltd  Business Development Cluster             opex  "
      ]
     },
     "execution_count": 12,
     "metadata": {},
     "output_type": "execute_result"
    }
   ],
   "source": [
    "df.head()"
   ]
  },
  {
   "cell_type": "code",
   "execution_count": 13,
   "metadata": {
    "colab": {
     "base_uri": "https://localhost:8080/",
     "height": 1000
    },
    "id": "T2fKjk4rI8FE",
    "outputId": "b0bbf092-e0b1-43b2-9767-e6f08f44d5e5",
    "scrolled": true
   },
   "outputs": [
    {
     "data": {
      "text/plain": [
       "OU Name                                                   0\n",
       "PO                                                        0\n",
       "Month                                                     0\n",
       "PO/Release creation method                                0\n",
       "Supplier/Vendor                                           0\n",
       "Item Description                                          0\n",
       "Main category                                             0\n",
       "Sub-category                                              0\n",
       "Product Type                                              0\n",
       "Product Name                                              0\n",
       "UOM                                                       0\n",
       "Currency                                                  0\n",
       "Quantity                                                  0\n",
       "Unit Price                                                0\n",
       "PO Amount                                                 0\n",
       "Addressable or Non-Addressable                            0\n",
       "Locale(Foreign or Local based Suppliers)                  0\n",
       "Special Interest Group- Women or Youth Owned Suppliers    0\n",
       "Category Manager(s)                                       0\n",
       "Buyer                                                     0\n",
       "Closure Status                                            0\n",
       "Type                                                      0\n",
       "Supplier Site                                             0\n",
       "Line                                                      0\n",
       "Shipment                                                  0\n",
       "Distribution Num                                          0\n",
       "Distribution Ordered Quantity                             0\n",
       "Financial Year                                            0\n",
       "Department                                                0\n",
       "Division                                                  0\n",
       "Expenditure Type                                          0\n",
       "dtype: int64"
      ]
     },
     "execution_count": 13,
     "metadata": {},
     "output_type": "execute_result"
    }
   ],
   "source": [
    "df.isna().sum()"
   ]
  },
  {
   "cell_type": "code",
   "execution_count": 14,
   "metadata": {},
   "outputs": [],
   "source": [
    "df['Unit Price'].dropna(inplace=True)\n",
    "df['PO Amount'].dropna(inplace=True)"
   ]
  },
  {
   "cell_type": "code",
   "execution_count": 15,
   "metadata": {
    "id": "o4be6GZwVuHO"
   },
   "outputs": [],
   "source": [
    "df['Department'] = df['Department'].fillna('Unknown')\n",
    "df['Division'] = df['Division'].fillna('Unknown')"
   ]
  },
  {
   "cell_type": "code",
   "execution_count": 16,
   "metadata": {
    "colab": {
     "base_uri": "https://localhost:8080/"
    },
    "id": "JDeZeD4RAJm4",
    "outputId": "be4de8b9-98ce-4cc1-be7c-c63d2bad6ca2"
   },
   "outputs": [
    {
     "data": {
      "text/plain": [
       "0"
      ]
     },
     "execution_count": 16,
     "metadata": {},
     "output_type": "execute_result"
    }
   ],
   "source": [
    "df.duplicated().sum()"
   ]
  },
  {
   "cell_type": "code",
   "execution_count": 17,
   "metadata": {
    "colab": {
     "base_uri": "https://localhost:8080/"
    },
    "id": "vsyW3hDCUeG5",
    "outputId": "247822a3-9d86-47dd-80e2-d4dbbf9820c8"
   },
   "outputs": [
    {
     "name": "stdout",
     "output_type": "stream",
     "text": [
      "Column: OU Name\n",
      "['DigiFarm Kenya Limited' 'M-PESA AFRICA LIMITED'\n",
      " 'M-PESA SA (PTY) Limited' 'Safaricom' 'Safaricomm' 'Safaricom.']\n",
      "----------------------------------------\n",
      "Column: PO/Release creation method\n",
      "['Touchless' 'Autocreate']\n",
      "----------------------------------------\n",
      "Column: Supplier/Vendor\n",
      "['FF' 'LLLKKJJJ' 'AA' 'OOOOOOOOP' 'DD' 'VGJ' 'PLK' 'FFG' 'BNG' 'BVGT'\n",
      " 'ZZZZZZZZZZZZ' 'LLLLLLLL' 'BNM' 'DFH' 'VBN' 'MMJ' 'ZZZZ' 'FGT' 'HJ' 'CFG'\n",
      " 'VBYI' 'BHJP' 'CVGHJ' 'HH' 'VGHKKL' 'CVB' 'BN' 'YPY' 'GBJJKKPP' 'VBBKKLL'\n",
      " 'CVD' 'KK' 'TYU' 'GHJ' 'FCH' 'FG' 'DF' 'RTIO' 'JKL' 'HJKL' 'YOU' 'WE'\n",
      " 'FRTY' 'KLP' 'NMJ' 'BHJ' 'GFF' 'BHHY' 'CVXXXXX' 'DFG' 'RTY' 'GHKL' 'LLK'\n",
      " 'ZZZCG' 'BBBBBBBB' 'FCV']\n",
      "----------------------------------------\n",
      "Column: Item Description\n",
      "['Sales Brand Ambassador Transport Allowance'\n",
      " 'Digifarm Buyer Platform Activations BA wages July 2024 Agency fee 10 '\n",
      " 'Kericho Kisumu Nandi Visits Accommodation Request for Peter Kagechu 6th Aug 2024 Taidys Hotel'\n",
      " ... 'Sankara Hotel Catering Levy'\n",
      " 'Field detailed Technical and Health and OSH Survey report with site route photos detailed route design GIS CAD to output an implementable Design BUNGOMA LOWER KHALABA FDT 3'\n",
      " 'Survey Design Paid Per HP Includes but not limited to Desktop Joint survey Reporting HLD LLD and Quotes 14915 THIKA FLAME TREE SECTOR I ADDED 85Units 85HPs']\n",
      "----------------------------------------\n",
      "Column: Main category\n",
      "['Corprate Services' 'IT.' 'STATUTORY & LICENSING' 'TERMINALS'\n",
      " 'TECHNOLOGY NETWORKSS' 'TECHNOLOGY NETWORKS' 'CORPORATE Services'\n",
      " 'CORPORATE SERVICES' 'CORPORATE SERVICES.' 'CORPORATE SERVICESS' 'IT'\n",
      " 'CORPORATE SERVICE']\n",
      "----------------------------------------\n",
      "Column: Sub-category\n",
      "['SALES & MARKETING' 'HR & STAFF WELFARE' 'IT INFRASTRUCTURE'\n",
      " 'FACILITIES & PROPERTY' 'SECURITY' 'STATUTORY' 'IT SOFTWARE' 'DEVICES'\n",
      " 'LOGISTICS' 'TRANSPORT' 'NETWORK INFRASTRUCTURE' 'IT SERVICES'\n",
      " 'ACCESSORIES' 'NETWORK SERVICES' 'RADIO ACCESS NETWORK' 'RESEARCH'\n",
      " 'VODAFONE FEES' 'IT LICENCES' 'ROYALTY' 'FINANCE' 'SUBSCRIPTIONS'\n",
      " 'MERCHANDISE' 'COMPUTER' 'CONSULTANCY']\n",
      "----------------------------------------\n",
      "Column: Product Type\n",
      "['BTL ADVERTISING' 'SALES PROMOTIONS' 'TRAVEL & ACCOMODATION'\n",
      " 'IT MAINTENANCE & SUPPORT' 'SOFT FACILITIES MANAGEMENT'\n",
      " 'HR LEARNING & DEVELOPMENT' 'SECURITY EQUIPMENT'\n",
      " 'INFRASTRUCTURE SERVICES' 'SOFTWARE LICENCES' 'SECURITY SERVICES'\n",
      " 'HARD FACILITIES MANAGEMENT' 'HANDSET' 'WAREHOUSING' 'ATL ADVERTISING'\n",
      " 'ACCESS TRANSPORT' 'HR RESOURCING SERVICES' 'HR SERVICES' 'FLEET'\n",
      " 'IT HARDWARE' 'NETWORK ENERGY AND POWER' 'APPLICATIONS SOFTWARE'\n",
      " 'PROFESSIONAL SERVICES' 'RUCKUS EQUIPMENT' 'FIXED BROADBAND ACCESS'\n",
      " 'RADIO SERVICES' 'RADIO HARDWARE' 'GENERAL RESEARCH' 'COMMISSION'\n",
      " 'ENTERPRISE SOLUTIONS' 'BROADBAND' 'SIMCARDS' 'SPONSORSHIPS'\n",
      " 'ROYALTY BRAND' 'LEASING' 'UTILITIES' 'PUBLIC RELATIONS'\n",
      " 'FINANCIAL SERVICES' 'ACCESSORIES' 'PACKAGING MATERIALS' 'SUBSCRIPTIONS'\n",
      " 'MERCHANDISE' 'LAPTOP' 'BUSINESS CONSULTANCY' 'TRANSPORT LEASED LINES'\n",
      " 'OUTBOUND LOGISTICS' 'INBOUND LOGISTICS']\n",
      "----------------------------------------\n",
      "Column: Product Name\n",
      "['AGENCY SERVICES - BTL' 'SALES ACTIVATION' 'ACCOMMODATION'\n",
      " 'IT INFRASTRUCTURE SOFTWARE SUPPORT' 'WASTE MANAGEMENT'\n",
      " 'INTERNATIONAL FLIGHTS' 'TRAINING' 'SECURITY EQUIPMENT & MAINTENANCE'\n",
      " 'DOMESTIC FLIGHTS' 'LICENSES' 'LICENCES'\n",
      " 'AGENCY SERVICES - EVENTS MANAGEMENT' 'GUARDING' 'CARPENTRY WORKS'\n",
      " 'ELECTRICAL WORKS/SERVICES' '4G SMARTPHONE-MID TIER'\n",
      " '4G SMARTPHONE-ENTRY' 'WAREHOUSE SERVICES' 'AGENCY SERVICES - PRODUCTION'\n",
      " 'FIBRE SERVICES' 'FIBRE EQUIPMENT' 'PROMOTIONAL MERCHANDISE'\n",
      " 'BTS ROLL OUT SERVICES' 'ATL PRODUCTION SERVICES' 'STAFF OUTSOURCING'\n",
      " 'CAR HIRE' 'STAFF WELFARE' 'MEDIA ADVERTISING - PRINT'\n",
      " 'CATERING & HOSPITALITY' 'AGENCY SERVICES - EXPERIENTIAL SERVICES'\n",
      " 'PLUMBING WORKS' 'OFFICE STATIONERY' 'CLEANING SERVICES'\n",
      " 'MEETINGS & CONFERENCES' 'MOTOR VEHICLE SERVICE' 'MOTOR VEHICLE SPARES'\n",
      " 'AIRCONDITIONING EQUIPMENT/SERVICES'\n",
      " 'IT SWITCHES & ROUTERS & LOAD BALANCERS' 'POWER GENERATORS'\n",
      " 'MOTOR VEHICLE GENERAL REPAIRS' 'ENTERPRISE APPLICATIONS'\n",
      " 'IT CONSULTANCY SERVICES' 'MEDIA ADVERTISING - DIGITAL' 'HARDWARE'\n",
      " 'FIXED NETWORK INSTALLATION SERVICES' 'SECURITY ESCORT' 'MSR MAINTENANCE'\n",
      " 'BTS MAINTENANCE' 'RADIO - INSTALLATION/COMMISSIONING' 'SITE FUELING'\n",
      " 'RADIO ACCESSORIES' 'AGENCY SERVICES - TRAVEL' 'EXTERNAL RESEARCH'\n",
      " 'EVENTS MANAGEMENT' 'PROCUREMENT FEES' 'RESALE LICENSES'\n",
      " 'CUSTOMER PREMISES EQUIPMENT' 'MOTOR VEHICLES' 'SIMCARDS'\n",
      " 'STAFF RELOCATION' 'CORPORATE SPONSORSHIPS' 'RAIL TRANSPORT & TRANSFERS'\n",
      " 'ROYALTY BRAND' 'EQUIPMENT LEASING' '4G SMARTPHONE-PREMIUM'\n",
      " 'POS MATERIALS' 'IT STRUCTURED CABLING' 'WATER'\n",
      " 'AGENCY SERVICES - SALES ACTIVATION' 'SPECIALIZED SECURITY SERVICES'\n",
      " 'REWARD & RECOGNITION' 'AGENCY SERVICES - PR' 'SHARE SERVICES'\n",
      " 'CARRY BAGS' 'PACKAGING MATERIALS' 'CPE-PREMIUM' 'BUSINESS SUBSCRIPTIONS'\n",
      " 'LAPTOP' 'BOOKING TOOLS' 'BTL PRODUCTION SERVICE'\n",
      " 'MAIL & COURIER SERVICES' 'PROPERTY PROFESSIONAL SERVICES'\n",
      " 'TAXI SERVICES' 'GENERAL CONSULTANCY' 'AGENCY SERVICES - PRINT'\n",
      " 'STICKERS' 'FIRE SAFETY SYSTEMS' 'AGENCY SERVICES - DIGITAL'\n",
      " 'AGENCY SERVICES - INTEGRATED MEDIA' 'MEDIA ADVERTISING-OUT OF HOME'\n",
      " 'DEBT COLLECTION' 'TRANSPORT LEASED LINES & INTERCONNECT'\n",
      " 'OUT BOUND - ROAD TRANSPORT' 'FIXED NETWORK FIELD MAINTENANCE'\n",
      " 'BTS LEASES/RENTALS' 'ENVIRONMENTAL CONSULTANCY'\n",
      " 'AGENCY SERVICES - CREATIVE' 'OFFICE FURNITURE' 'INBOUND - SEA FREIGHT'\n",
      " 'BUILDERS WORKS' 'EVENTS SECURITY' 'AGENCY SERVICES - MEDIA'\n",
      " 'CHARITY SPONSORSHIPS' 'MEDIA ADVERTISING - TV/CINEMA']\n",
      "----------------------------------------\n",
      "Column: UOM\n",
      "['Each' 'METER' 'BATCH' 'HOURS']\n",
      "----------------------------------------\n",
      "Column: Currency\n",
      "['KES' 'USD' 'EUR' 'ZAR' 'CHF']\n",
      "----------------------------------------\n",
      "Column: Addressable or Non-Addressable\n",
      "['Addressable' 'Non-Addressable']\n",
      "----------------------------------------\n",
      "Column: Locale(Foreign or Local based Suppliers)\n",
      "['Local' 'Foreign']\n",
      "----------------------------------------\n",
      "Column: Special Interest Group- Women or Youth Owned Suppliers\n",
      "['Others' 'Women' 'Youth']\n",
      "----------------------------------------\n",
      "Column: Category Manager(s)\n",
      "['Muchiri Thomas' 'OKUMU' 'SALOME' 'Hesbon Ongira'\n",
      " 'Ongira, Mr. Hesbon Onyango' 'Muchiri, Mr. Thomas Kangangi'\n",
      " 'Kiteme, Ms. Caroline Mbithe' 'Omari, Mr. Jefferson Nyamwaro'\n",
      " 'Ongayo, Miss Anita Kemunto' 'Ochieng, Mr. Adrian John'\n",
      " 'Amayo, Miss Rose Atieno' 'Taabu, Ms. Celestine Salome'\n",
      " 'Kiiru, Miss Phylis Nyaguthii' 'Okumu, Mr. Charles Michael'\n",
      " 'Ndungu, Ms. Carolyne Nyakio']\n",
      "----------------------------------------\n",
      "Column: Buyer\n",
      "['Karanja, Mrs. Maryanne' 'Mungai, Mr. David Mbugua'\n",
      " 'Mwangi, Mr. Benson Ndungu' 'Mangala, Miss Flora Omuhaka']\n",
      "----------------------------------------\n",
      "Column: Closure Status\n",
      "['CLOSED' 'OPEN']\n",
      "----------------------------------------\n",
      "Column: Type\n",
      "['Goods' 'Services']\n",
      "----------------------------------------\n",
      "Column: Supplier Site\n",
      "['NAIROBI' 'Off USIU Road' 'FLORIDA' 'Huawei Technolo' 'IMTF Siron GmbH'\n",
      " 'Physical' 'PROMIND GROUP L' 'SITE COST' 'SAFCOM' 'TEK PRODUCTION '\n",
      " 'SAFCOM - KES' 'GEN SUPPLIER' 'BARAN TELECOM N' 'Optimax Group L'\n",
      " 'ROLL OUT' 'MARKET LANE' 'Promo Kings Ltd' 'Zenith Producti'\n",
      " '525 kindaruma' 'P. O. BOX 27574' 'MEDIA COMPETE E' 'Citrine Agencie'\n",
      " 'KILELESHWA' 'Box 75221' 'On the Mark Sec' 'CUMMINS C & G L'\n",
      " 'BONDS GARDEN RE' 'Nairobi Office' 'PORTUGAL' 'Mirage Towers'\n",
      " 'Moses Waithaka' 'Nexgen Networks' 'Kennfric busine' 'ReelAnalytics'\n",
      " 'SAFARICOM' 'JAMBOLEO' 'Nairobi' 'Hospitality' 'NBI' 'Sponsorship'\n",
      " 'KISUMU' 'Enterprise Rd, ' 'BRANDING' 'TOPTOUCH MARKET' 'Straight Media '\n",
      " 'Elegance Design' 'CASH SERVICES' 'Susan Thuita' 'Westland Nairob'\n",
      " 'SUENG Enterpris' 'Tom Mboya Ave, ' 'ONC-NAIROBI' 'P.O Box'\n",
      " 'TEXPLAST INDUST' 'HONG  KONG' 'FINLAND' 'Komtel Kenya Lt' 'NEW YORK'\n",
      " 'ONE AFRICA PLAC' 'DUBLIN' 'Nyerere Road,To' 'NAKURU' 'Linda Githige'\n",
      " 'SonarSource SA' '4 Grand canal s' 'BLUE VIOLETS PL' 'Facilities Mana'\n",
      " 'LITTLE LIMITED' 'Ad Dynamo UK t/' 'Victoria Courts' 'AQUA OFFICE SUI'\n",
      " 'BELGIUM' 'SITE SHARING' 'BUGOLOBI' 'SWITZERLAND' 14182 'LUXEMBOURG'\n",
      " 30659 'Kiambu Rd' 'Sponsorships' 'Joseph Wambua' 'THE KENYA HIGH'\n",
      " 'NAIROBI - KES' 'FIELDSTONE HELM' 'ELDORET' 'Light Art Photo'\n",
      " 'KINGS-LINK VENT' 'NEO' 'DEALER' 'PAVICON KENYA L' 'ROLLOUT'\n",
      " 'Hauz Entertainm' 'SPONSORSHIP']\n",
      "----------------------------------------\n",
      "Column: Financial Year\n",
      "['FY 2024//25' 'FY 2024/25']\n",
      "----------------------------------------\n",
      "Column: Department\n",
      "['DigiFarm Kenya Ltd' 'Mpesa Africa Organization' 'Payments Tribe'\n",
      " 'Physical Security CoE' 'HR Business Partnering'\n",
      " 'Regional Sales & Operations - Nairobi Metropolitan' 'Terminals CoE'\n",
      " 'Regional Sales & Operations - Nairobi East & Coast Dept'\n",
      " 'PR & Corporate Communications Dept' 'Fixed Network Solutions'\n",
      " 'Home & Consumer IOT Dept' 'Brand COE'\n",
      " 'Regional Network Implementation & Operations Dept' 'Segments Tribe'\n",
      " 'Digital Engineering Tribe' 'Digital Services Tribe'\n",
      " 'Organisation Effectiveness & Change' 'Frontline Marketing CoE'\n",
      " 'Commercial Operations CoE' 'Regional Sales & Operations - Coast'\n",
      " 'IT Infrastructure & Shared Applications' 'Digital BSS'\n",
      " 'Technology Enterprise Solutions Dept' 'Network Planning & Design Dept'\n",
      " 'Supply Chain Management Department' 'Research Planning and Design COE'\n",
      " 'Regional Sales & Operations - Rift'\n",
      " 'Regional Sales & Operations - Greater Western' 'Service Management'\n",
      " 'Resources Cluster' 'Converged Service Operations Dept'\n",
      " 'Finance Planning, Analysis &Investor Relations Dept'\n",
      " 'Cyber Security  Department' 'Financial Operations Department'\n",
      " 'Legal & Secretarial Services Dept' 'Digital Channels Tribe'\n",
      " 'Mobile Data Tribe' 'Fixed DataTribe' 'Credit & Collections Dept'\n",
      " 'Base Growth Tribe' 'Regulatory & Public Policy Dept'\n",
      " 'Financial Controlling' 'Internal Audit'\n",
      " 'Business Intelligence & Data Governance']\n",
      "----------------------------------------\n",
      "Column: Division\n",
      "['Business Development Cluster' 'Financial Services Cluster'\n",
      " 'Corporate Security Cluster' 'Human Resources Cluster' 'Channels Cluster'\n",
      " 'Corporate Affairs Cluster' 'Network' 'Consumer Business Unit'\n",
      " 'Brand Marketing Dept' 'Consumer Business Unit Cluster' 'Digital IT'\n",
      " 'Technology Cluster' 'Finance Cluster' 'CEO Office']\n",
      "----------------------------------------\n",
      "Column: Expenditure Type\n",
      "['opex' 'Capex' 'Direct' 'Capexx' 'Opex']\n",
      "----------------------------------------\n"
     ]
    }
   ],
   "source": [
    "# Check for entry variants\n",
    "for col in df.select_dtypes(include='object').columns:\n",
    "    print(f\"Column: {col}\")\n",
    "    print(df[col].unique())\n",
    "    print(\"-\" * 40)"
   ]
  },
  {
   "cell_type": "code",
   "execution_count": 18,
   "metadata": {
    "id": "UgI3cF2cUeG5"
   },
   "outputs": [],
   "source": [
    "df['OU Name'] = df['OU Name'].str.strip().replace({\n",
    "    'Safaricomm': 'Safaricom',\n",
    "    'Safaricom.': 'Safaricom'\n",
    "})"
   ]
  },
  {
   "cell_type": "code",
   "execution_count": 19,
   "metadata": {
    "id": "aA5sRTLpUeG5"
   },
   "outputs": [],
   "source": [
    "df['Main category'] = df['Main category'].str.upper().str.replace(r'[.]$', '', regex=True).str.strip()\n",
    "df['Main category'] = df['Main category'].replace({\n",
    "    'CORPORATE SERVICESS': 'CORPORATE SERVICES',\n",
    "    'CORPORATE SERVICE': 'CORPORATE SERVICES',\n",
    "    'CORPORATE SERVICES.': 'CORPORATE SERVICES',\n",
    "    'CORPRATE SERVICES': 'CORPORATE SERVICES',\n",
    "    'CORPORATE Services': 'CORPORATE SERVICES',\n",
    "    'TECHNOLOGY NETWORKSS': 'TECHNOLOGY NETWORKS'\n",
    "})"
   ]
  },
  {
   "cell_type": "code",
   "execution_count": 20,
   "metadata": {
    "id": "tPYwvF12UeG6"
   },
   "outputs": [],
   "source": [
    "df['Expenditure Type'] = df['Expenditure Type'].str.lower().str.strip()\n",
    "df['Expenditure Type'] = df['Expenditure Type'].replace({\n",
    "    'capexx': 'capex',\n",
    "    'opex': 'opex',\n",
    "    'Opex': 'opex',\n",
    "    'Capex': 'capex'\n",
    "})"
   ]
  },
  {
   "cell_type": "code",
   "execution_count": 21,
   "metadata": {
    "id": "LgtY1JFoUeG6"
   },
   "outputs": [],
   "source": [
    "df['Financial Year'] = df['Financial Year'].str.replace('//', '/').str.strip()"
   ]
  },
  {
   "cell_type": "code",
   "execution_count": 22,
   "metadata": {
    "colab": {
     "base_uri": "https://localhost:8080/"
    },
    "id": "e0R0OpdTUeG6",
    "outputId": "072d5507-748a-48ff-9390-5b6bad1194da"
   },
   "outputs": [
    {
     "name": "stdout",
     "output_type": "stream",
     "text": [
      "Column: OU Name\n",
      "['DigiFarm Kenya Limited' 'M-PESA AFRICA LIMITED'\n",
      " 'M-PESA SA (PTY) Limited' 'Safaricom']\n",
      "----------------------------------------\n",
      "Column: PO/Release creation method\n",
      "['Touchless' 'Autocreate']\n",
      "----------------------------------------\n",
      "Column: Supplier/Vendor\n",
      "['FF' 'LLLKKJJJ' 'AA' 'OOOOOOOOP' 'DD' 'VGJ' 'PLK' 'FFG' 'BNG' 'BVGT'\n",
      " 'ZZZZZZZZZZZZ' 'LLLLLLLL' 'BNM' 'DFH' 'VBN' 'MMJ' 'ZZZZ' 'FGT' 'HJ' 'CFG'\n",
      " 'VBYI' 'BHJP' 'CVGHJ' 'HH' 'VGHKKL' 'CVB' 'BN' 'YPY' 'GBJJKKPP' 'VBBKKLL'\n",
      " 'CVD' 'KK' 'TYU' 'GHJ' 'FCH' 'FG' 'DF' 'RTIO' 'JKL' 'HJKL' 'YOU' 'WE'\n",
      " 'FRTY' 'KLP' 'NMJ' 'BHJ' 'GFF' 'BHHY' 'CVXXXXX' 'DFG' 'RTY' 'GHKL' 'LLK'\n",
      " 'ZZZCG' 'BBBBBBBB' 'FCV']\n",
      "----------------------------------------\n",
      "Column: Item Description\n",
      "['Sales Brand Ambassador Transport Allowance'\n",
      " 'Digifarm Buyer Platform Activations BA wages July 2024 Agency fee 10 '\n",
      " 'Kericho Kisumu Nandi Visits Accommodation Request for Peter Kagechu 6th Aug 2024 Taidys Hotel'\n",
      " ... 'Sankara Hotel Catering Levy'\n",
      " 'Field detailed Technical and Health and OSH Survey report with site route photos detailed route design GIS CAD to output an implementable Design BUNGOMA LOWER KHALABA FDT 3'\n",
      " 'Survey Design Paid Per HP Includes but not limited to Desktop Joint survey Reporting HLD LLD and Quotes 14915 THIKA FLAME TREE SECTOR I ADDED 85Units 85HPs']\n",
      "----------------------------------------\n",
      "Column: Main category\n",
      "['CORPORATE SERVICES' 'IT' 'STATUTORY & LICENSING' 'TERMINALS'\n",
      " 'TECHNOLOGY NETWORKS']\n",
      "----------------------------------------\n",
      "Column: Sub-category\n",
      "['SALES & MARKETING' 'HR & STAFF WELFARE' 'IT INFRASTRUCTURE'\n",
      " 'FACILITIES & PROPERTY' 'SECURITY' 'STATUTORY' 'IT SOFTWARE' 'DEVICES'\n",
      " 'LOGISTICS' 'TRANSPORT' 'NETWORK INFRASTRUCTURE' 'IT SERVICES'\n",
      " 'ACCESSORIES' 'NETWORK SERVICES' 'RADIO ACCESS NETWORK' 'RESEARCH'\n",
      " 'VODAFONE FEES' 'IT LICENCES' 'ROYALTY' 'FINANCE' 'SUBSCRIPTIONS'\n",
      " 'MERCHANDISE' 'COMPUTER' 'CONSULTANCY']\n",
      "----------------------------------------\n",
      "Column: Product Type\n",
      "['BTL ADVERTISING' 'SALES PROMOTIONS' 'TRAVEL & ACCOMODATION'\n",
      " 'IT MAINTENANCE & SUPPORT' 'SOFT FACILITIES MANAGEMENT'\n",
      " 'HR LEARNING & DEVELOPMENT' 'SECURITY EQUIPMENT'\n",
      " 'INFRASTRUCTURE SERVICES' 'SOFTWARE LICENCES' 'SECURITY SERVICES'\n",
      " 'HARD FACILITIES MANAGEMENT' 'HANDSET' 'WAREHOUSING' 'ATL ADVERTISING'\n",
      " 'ACCESS TRANSPORT' 'HR RESOURCING SERVICES' 'HR SERVICES' 'FLEET'\n",
      " 'IT HARDWARE' 'NETWORK ENERGY AND POWER' 'APPLICATIONS SOFTWARE'\n",
      " 'PROFESSIONAL SERVICES' 'RUCKUS EQUIPMENT' 'FIXED BROADBAND ACCESS'\n",
      " 'RADIO SERVICES' 'RADIO HARDWARE' 'GENERAL RESEARCH' 'COMMISSION'\n",
      " 'ENTERPRISE SOLUTIONS' 'BROADBAND' 'SIMCARDS' 'SPONSORSHIPS'\n",
      " 'ROYALTY BRAND' 'LEASING' 'UTILITIES' 'PUBLIC RELATIONS'\n",
      " 'FINANCIAL SERVICES' 'ACCESSORIES' 'PACKAGING MATERIALS' 'SUBSCRIPTIONS'\n",
      " 'MERCHANDISE' 'LAPTOP' 'BUSINESS CONSULTANCY' 'TRANSPORT LEASED LINES'\n",
      " 'OUTBOUND LOGISTICS' 'INBOUND LOGISTICS']\n",
      "----------------------------------------\n",
      "Column: Product Name\n",
      "['AGENCY SERVICES - BTL' 'SALES ACTIVATION' 'ACCOMMODATION'\n",
      " 'IT INFRASTRUCTURE SOFTWARE SUPPORT' 'WASTE MANAGEMENT'\n",
      " 'INTERNATIONAL FLIGHTS' 'TRAINING' 'SECURITY EQUIPMENT & MAINTENANCE'\n",
      " 'DOMESTIC FLIGHTS' 'LICENSES' 'LICENCES'\n",
      " 'AGENCY SERVICES - EVENTS MANAGEMENT' 'GUARDING' 'CARPENTRY WORKS'\n",
      " 'ELECTRICAL WORKS/SERVICES' '4G SMARTPHONE-MID TIER'\n",
      " '4G SMARTPHONE-ENTRY' 'WAREHOUSE SERVICES' 'AGENCY SERVICES - PRODUCTION'\n",
      " 'FIBRE SERVICES' 'FIBRE EQUIPMENT' 'PROMOTIONAL MERCHANDISE'\n",
      " 'BTS ROLL OUT SERVICES' 'ATL PRODUCTION SERVICES' 'STAFF OUTSOURCING'\n",
      " 'CAR HIRE' 'STAFF WELFARE' 'MEDIA ADVERTISING - PRINT'\n",
      " 'CATERING & HOSPITALITY' 'AGENCY SERVICES - EXPERIENTIAL SERVICES'\n",
      " 'PLUMBING WORKS' 'OFFICE STATIONERY' 'CLEANING SERVICES'\n",
      " 'MEETINGS & CONFERENCES' 'MOTOR VEHICLE SERVICE' 'MOTOR VEHICLE SPARES'\n",
      " 'AIRCONDITIONING EQUIPMENT/SERVICES'\n",
      " 'IT SWITCHES & ROUTERS & LOAD BALANCERS' 'POWER GENERATORS'\n",
      " 'MOTOR VEHICLE GENERAL REPAIRS' 'ENTERPRISE APPLICATIONS'\n",
      " 'IT CONSULTANCY SERVICES' 'MEDIA ADVERTISING - DIGITAL' 'HARDWARE'\n",
      " 'FIXED NETWORK INSTALLATION SERVICES' 'SECURITY ESCORT' 'MSR MAINTENANCE'\n",
      " 'BTS MAINTENANCE' 'RADIO - INSTALLATION/COMMISSIONING' 'SITE FUELING'\n",
      " 'RADIO ACCESSORIES' 'AGENCY SERVICES - TRAVEL' 'EXTERNAL RESEARCH'\n",
      " 'EVENTS MANAGEMENT' 'PROCUREMENT FEES' 'RESALE LICENSES'\n",
      " 'CUSTOMER PREMISES EQUIPMENT' 'MOTOR VEHICLES' 'SIMCARDS'\n",
      " 'STAFF RELOCATION' 'CORPORATE SPONSORSHIPS' 'RAIL TRANSPORT & TRANSFERS'\n",
      " 'ROYALTY BRAND' 'EQUIPMENT LEASING' '4G SMARTPHONE-PREMIUM'\n",
      " 'POS MATERIALS' 'IT STRUCTURED CABLING' 'WATER'\n",
      " 'AGENCY SERVICES - SALES ACTIVATION' 'SPECIALIZED SECURITY SERVICES'\n",
      " 'REWARD & RECOGNITION' 'AGENCY SERVICES - PR' 'SHARE SERVICES'\n",
      " 'CARRY BAGS' 'PACKAGING MATERIALS' 'CPE-PREMIUM' 'BUSINESS SUBSCRIPTIONS'\n",
      " 'LAPTOP' 'BOOKING TOOLS' 'BTL PRODUCTION SERVICE'\n",
      " 'MAIL & COURIER SERVICES' 'PROPERTY PROFESSIONAL SERVICES'\n",
      " 'TAXI SERVICES' 'GENERAL CONSULTANCY' 'AGENCY SERVICES - PRINT'\n",
      " 'STICKERS' 'FIRE SAFETY SYSTEMS' 'AGENCY SERVICES - DIGITAL'\n",
      " 'AGENCY SERVICES - INTEGRATED MEDIA' 'MEDIA ADVERTISING-OUT OF HOME'\n",
      " 'DEBT COLLECTION' 'TRANSPORT LEASED LINES & INTERCONNECT'\n",
      " 'OUT BOUND - ROAD TRANSPORT' 'FIXED NETWORK FIELD MAINTENANCE'\n",
      " 'BTS LEASES/RENTALS' 'ENVIRONMENTAL CONSULTANCY'\n",
      " 'AGENCY SERVICES - CREATIVE' 'OFFICE FURNITURE' 'INBOUND - SEA FREIGHT'\n",
      " 'BUILDERS WORKS' 'EVENTS SECURITY' 'AGENCY SERVICES - MEDIA'\n",
      " 'CHARITY SPONSORSHIPS' 'MEDIA ADVERTISING - TV/CINEMA']\n",
      "----------------------------------------\n",
      "Column: UOM\n",
      "['Each' 'METER' 'BATCH' 'HOURS']\n",
      "----------------------------------------\n",
      "Column: Currency\n",
      "['KES' 'USD' 'EUR' 'ZAR' 'CHF']\n",
      "----------------------------------------\n",
      "Column: Addressable or Non-Addressable\n",
      "['Addressable' 'Non-Addressable']\n",
      "----------------------------------------\n",
      "Column: Locale(Foreign or Local based Suppliers)\n",
      "['Local' 'Foreign']\n",
      "----------------------------------------\n",
      "Column: Special Interest Group- Women or Youth Owned Suppliers\n",
      "['Others' 'Women' 'Youth']\n",
      "----------------------------------------\n",
      "Column: Category Manager(s)\n",
      "['Muchiri Thomas' 'OKUMU' 'SALOME' 'Hesbon Ongira'\n",
      " 'Ongira, Mr. Hesbon Onyango' 'Muchiri, Mr. Thomas Kangangi'\n",
      " 'Kiteme, Ms. Caroline Mbithe' 'Omari, Mr. Jefferson Nyamwaro'\n",
      " 'Ongayo, Miss Anita Kemunto' 'Ochieng, Mr. Adrian John'\n",
      " 'Amayo, Miss Rose Atieno' 'Taabu, Ms. Celestine Salome'\n",
      " 'Kiiru, Miss Phylis Nyaguthii' 'Okumu, Mr. Charles Michael'\n",
      " 'Ndungu, Ms. Carolyne Nyakio']\n",
      "----------------------------------------\n",
      "Column: Buyer\n",
      "['Karanja, Mrs. Maryanne' 'Mungai, Mr. David Mbugua'\n",
      " 'Mwangi, Mr. Benson Ndungu' 'Mangala, Miss Flora Omuhaka']\n",
      "----------------------------------------\n",
      "Column: Closure Status\n",
      "['CLOSED' 'OPEN']\n",
      "----------------------------------------\n",
      "Column: Type\n",
      "['Goods' 'Services']\n",
      "----------------------------------------\n",
      "Column: Supplier Site\n",
      "['NAIROBI' 'Off USIU Road' 'FLORIDA' 'Huawei Technolo' 'IMTF Siron GmbH'\n",
      " 'Physical' 'PROMIND GROUP L' 'SITE COST' 'SAFCOM' 'TEK PRODUCTION '\n",
      " 'SAFCOM - KES' 'GEN SUPPLIER' 'BARAN TELECOM N' 'Optimax Group L'\n",
      " 'ROLL OUT' 'MARKET LANE' 'Promo Kings Ltd' 'Zenith Producti'\n",
      " '525 kindaruma' 'P. O. BOX 27574' 'MEDIA COMPETE E' 'Citrine Agencie'\n",
      " 'KILELESHWA' 'Box 75221' 'On the Mark Sec' 'CUMMINS C & G L'\n",
      " 'BONDS GARDEN RE' 'Nairobi Office' 'PORTUGAL' 'Mirage Towers'\n",
      " 'Moses Waithaka' 'Nexgen Networks' 'Kennfric busine' 'ReelAnalytics'\n",
      " 'SAFARICOM' 'JAMBOLEO' 'Nairobi' 'Hospitality' 'NBI' 'Sponsorship'\n",
      " 'KISUMU' 'Enterprise Rd, ' 'BRANDING' 'TOPTOUCH MARKET' 'Straight Media '\n",
      " 'Elegance Design' 'CASH SERVICES' 'Susan Thuita' 'Westland Nairob'\n",
      " 'SUENG Enterpris' 'Tom Mboya Ave, ' 'ONC-NAIROBI' 'P.O Box'\n",
      " 'TEXPLAST INDUST' 'HONG  KONG' 'FINLAND' 'Komtel Kenya Lt' 'NEW YORK'\n",
      " 'ONE AFRICA PLAC' 'DUBLIN' 'Nyerere Road,To' 'NAKURU' 'Linda Githige'\n",
      " 'SonarSource SA' '4 Grand canal s' 'BLUE VIOLETS PL' 'Facilities Mana'\n",
      " 'LITTLE LIMITED' 'Ad Dynamo UK t/' 'Victoria Courts' 'AQUA OFFICE SUI'\n",
      " 'BELGIUM' 'SITE SHARING' 'BUGOLOBI' 'SWITZERLAND' 14182 'LUXEMBOURG'\n",
      " 30659 'Kiambu Rd' 'Sponsorships' 'Joseph Wambua' 'THE KENYA HIGH'\n",
      " 'NAIROBI - KES' 'FIELDSTONE HELM' 'ELDORET' 'Light Art Photo'\n",
      " 'KINGS-LINK VENT' 'NEO' 'DEALER' 'PAVICON KENYA L' 'ROLLOUT'\n",
      " 'Hauz Entertainm' 'SPONSORSHIP']\n",
      "----------------------------------------\n",
      "Column: Financial Year\n",
      "['FY 2024/25']\n",
      "----------------------------------------\n",
      "Column: Department\n",
      "['DigiFarm Kenya Ltd' 'Mpesa Africa Organization' 'Payments Tribe'\n",
      " 'Physical Security CoE' 'HR Business Partnering'\n",
      " 'Regional Sales & Operations - Nairobi Metropolitan' 'Terminals CoE'\n",
      " 'Regional Sales & Operations - Nairobi East & Coast Dept'\n",
      " 'PR & Corporate Communications Dept' 'Fixed Network Solutions'\n",
      " 'Home & Consumer IOT Dept' 'Brand COE'\n",
      " 'Regional Network Implementation & Operations Dept' 'Segments Tribe'\n",
      " 'Digital Engineering Tribe' 'Digital Services Tribe'\n",
      " 'Organisation Effectiveness & Change' 'Frontline Marketing CoE'\n",
      " 'Commercial Operations CoE' 'Regional Sales & Operations - Coast'\n",
      " 'IT Infrastructure & Shared Applications' 'Digital BSS'\n",
      " 'Technology Enterprise Solutions Dept' 'Network Planning & Design Dept'\n",
      " 'Supply Chain Management Department' 'Research Planning and Design COE'\n",
      " 'Regional Sales & Operations - Rift'\n",
      " 'Regional Sales & Operations - Greater Western' 'Service Management'\n",
      " 'Resources Cluster' 'Converged Service Operations Dept'\n",
      " 'Finance Planning, Analysis &Investor Relations Dept'\n",
      " 'Cyber Security  Department' 'Financial Operations Department'\n",
      " 'Legal & Secretarial Services Dept' 'Digital Channels Tribe'\n",
      " 'Mobile Data Tribe' 'Fixed DataTribe' 'Credit & Collections Dept'\n",
      " 'Base Growth Tribe' 'Regulatory & Public Policy Dept'\n",
      " 'Financial Controlling' 'Internal Audit'\n",
      " 'Business Intelligence & Data Governance']\n",
      "----------------------------------------\n",
      "Column: Division\n",
      "['Business Development Cluster' 'Financial Services Cluster'\n",
      " 'Corporate Security Cluster' 'Human Resources Cluster' 'Channels Cluster'\n",
      " 'Corporate Affairs Cluster' 'Network' 'Consumer Business Unit'\n",
      " 'Brand Marketing Dept' 'Consumer Business Unit Cluster' 'Digital IT'\n",
      " 'Technology Cluster' 'Finance Cluster' 'CEO Office']\n",
      "----------------------------------------\n",
      "Column: Expenditure Type\n",
      "['opex' 'capex' 'direct']\n",
      "----------------------------------------\n"
     ]
    }
   ],
   "source": [
    "for col in df.select_dtypes(include='object').columns:\n",
    "    print(f\"Column: {col}\")\n",
    "    print(df[col].unique())\n",
    "    print(\"-\" * 40)"
   ]
  },
  {
   "cell_type": "code",
   "execution_count": 23,
   "metadata": {
    "colab": {
     "base_uri": "https://localhost:8080/"
    },
    "id": "4Raydaw6UeG6",
    "outputId": "d6601da8-234d-42c6-d02e-0ba4a85ffc65"
   },
   "outputs": [
    {
     "data": {
      "text/plain": [
       "(5726, 31)"
      ]
     },
     "execution_count": 23,
     "metadata": {},
     "output_type": "execute_result"
    }
   ],
   "source": [
    "df.shape"
   ]
  },
  {
   "cell_type": "code",
   "execution_count": 24,
   "metadata": {
    "id": "Egh5LyjHFbpJ"
   },
   "outputs": [],
   "source": [
    "# Outliers\n",
    "numeric_df =df.select_dtypes(include = ['number'])"
   ]
  },
  {
   "cell_type": "code",
   "execution_count": 25,
   "metadata": {
    "colab": {
     "base_uri": "https://localhost:8080/",
     "height": 1000
    },
    "id": "ZBwzMTWwDhX5",
    "outputId": "5565e9d1-6efd-4c49-c168-2156be557d7c"
   },
   "outputs": [
    {
     "data": {
      "image/png": "[encoded data removed]",
      "text/plain": [
       "<Figure size 864x1440 with 8 Axes>"
      ]
     },
     "metadata": {
      "needs_background": "light"
     },
     "output_type": "display_data"
    }
   ],
   "source": [
    "#calculate the number of fig to fit height\n",
    "grid=(numeric_df.shape[1]+1)//2\n",
    "#allocating each plot a height of 5\n",
    "plt.figure(figsize=(12, grid * 5))\n",
    "\n",
    "count=0\n",
    "for col in numeric_df:\n",
    "    count += 1\n",
    "    plt.subplot(grid,2,count)\n",
    "    sns.boxplot(y=df[col])\n"
   ]
  },
  {
   "cell_type": "code",
   "execution_count": 26,
   "metadata": {
    "id": "2jPVcs4XHXXG"
   },
   "outputs": [],
   "source": [
    "# Removing Outliers\n",
    "for col in numeric_df:\n",
    "    q1= df[col].quantile(0)\n",
    "    q3 = df[col].quantile(0.53)\n",
    "    # calculating iqr\n",
    "    iqr = q3 - q1\n",
    "\n",
    "    #defining lower and upper bound\n",
    "    upper= q3 + 1.5 * iqr\n",
    "    lower = q1 - 1.5 * iqr\n",
    "\n",
    "    # removing outliers\n",
    "    df = df[(df[col] >= lower) & (df[col] <= upper)]\n"
   ]
  },
  {
   "cell_type": "code",
   "execution_count": 27,
   "metadata": {
    "colab": {
     "base_uri": "https://localhost:8080/"
    },
    "id": "6bxUZuuFI7uY",
    "outputId": "752bc70b-f138-47c6-cc8d-0b2abbf26442"
   },
   "outputs": [
    {
     "data": {
      "image/png": "[encoded data removed]",
      "text/plain": [
       "<Figure size 864x1440 with 8 Axes>"
      ]
     },
     "metadata": {
      "needs_background": "light"
     },
     "output_type": "display_data"
    }
   ],
   "source": [
    "#calculate the number of fig to fit height\n",
    "grid=(numeric_df.shape[1]+1)//2\n",
    "#allocating each plot a height of 5\n",
    "plt.figure(figsize=(12, grid * 5))\n",
    "\n",
    "count=0\n",
    "for col in numeric_df:\n",
    "    count += 1\n",
    "    plt.subplot(grid,2,count)\n",
    "    sns.boxplot(y=df[col])\n"
   ]
  },
  {
   "cell_type": "code",
   "execution_count": 28,
   "metadata": {},
   "outputs": [
    {
     "data": {
      "text/plain": [
       "(1172, 31)"
      ]
     },
     "execution_count": 28,
     "metadata": {},
     "output_type": "execute_result"
    }
   ],
   "source": [
    "df.shape"
   ]
  },
  {
   "cell_type": "markdown",
   "metadata": {
    "id": "k77RgMe6Re_G"
   },
   "source": [
    "## Visualization"
   ]
  },
  {
   "cell_type": "code",
   "execution_count": 29,
   "metadata": {
    "id": "WCfEnTS5bL6W"
   },
   "outputs": [],
   "source": [
    "import matplotlib.pyplot as plt\n",
    "import seaborn as sns\n",
    "import textwrap"
   ]
  },
  {
   "cell_type": "markdown",
   "metadata": {
    "id": "6GEGIjC0m_Wz"
   },
   "source": [
    "### Univariate Analysis"
   ]
  },
  {
   "cell_type": "code",
   "execution_count": 30,
   "metadata": {
    "colab": {
     "base_uri": "https://localhost:8080/",
     "height": 564
    },
    "id": "tU4Hdj64nE9q",
    "outputId": "39f84941-c3a1-42d7-caa3-4dcb43205ed2"
   },
   "outputs": [
    {
     "data": {
      "image/png": "[encoded data removed]",
      "text/plain": [
       "<Figure size 576x432 with 1 Axes>"
      ]
     },
     "metadata": {
      "needs_background": "light"
     },
     "output_type": "display_data"
    }
   ],
   "source": [
    "#PO Amount distribution\n",
    "plt.figure(figsize=(8, 6))\n",
    "sns.histplot(df['PO Amount'], bins=20, kde=True)\n",
    "plt.xlabel('PO Amount')\n",
    "plt.ylabel('Frequency')\n",
    "plt.title('Distribution of PO Amount')\n",
    "plt.show()"
   ]
  },
  {
   "cell_type": "markdown",
   "metadata": {
    "id": "RCSIfU7iqVoo"
   },
   "source": [
    "The bulk of purchase orders fall below Ksh 5,000, suggesting many small-value transactions. We also have fewer, high value transactions beyond Ksh 20,000."
   ]
  },
  {
   "cell_type": "markdown",
   "metadata": {
    "id": "S3FXlDU9qXxk"
   },
   "source": [
    "### Bivariate analysis"
   ]
  },
  {
   "cell_type": "code",
   "execution_count": 31,
   "metadata": {
    "colab": {
     "base_uri": "https://localhost:8080/",
     "height": 688
    },
    "id": "315cNcSuSTGF",
    "outputId": "b10c7863-fa4e-444c-9e99-ecc7dba8f561"
   },
   "outputs": [
    {
     "data": {
      "image/png": "[encoded data removed]",
      "text/plain": [
       "<Figure size 864x504 with 1 Axes>"
      ]
     },
     "metadata": {
      "needs_background": "light"
     },
     "output_type": "display_data"
    }
   ],
   "source": [
    "#top spending departments\n",
    "top_departments = df.groupby('Department')['PO Amount'].sum().nlargest(15)\n",
    "labels = ['\\n'.join(textwrap.wrap(dept, 20)) for dept in top_departments.index]\n",
    "plt.figure(figsize=(12, 7))\n",
    "sns.barplot(x=labels, y=top_departments.values, palette=\"Blues_d\")\n",
    "plt.xlabel('Department')\n",
    "plt.ylabel('Total Spending')\n",
    "plt.title('Top Spending Departments')\n",
    "plt.xticks(rotation=45, ha='right')\n",
    "plt.tight_layout()\n",
    "plt.show()"
   ]
  },
  {
   "cell_type": "markdown",
   "metadata": {
    "id": "YewZwHZ7csHx"
   },
   "source": [
    "The unknown category contributes the largest share of spending, over Ksh 12M. This may indicate missing or unclassified data.Major spenders include:\n",
    "Physical Security COE,Segments Tribe,Regional Network Implementation and  Operations."
   ]
  },
  {
   "cell_type": "code",
   "execution_count": 32,
   "metadata": {
    "colab": {
     "base_uri": "https://localhost:8080/",
     "height": 487
    },
    "id": "jFKjNzpuVkEM",
    "outputId": "78f67c3c-fd74-4c5a-8c43-9fa1c76b7fdf"
   },
   "outputs": [
    {
     "data": {
      "image/png": "[encoded data removed]",
      "text/plain": [
       "<Figure size 576x360 with 1 Axes>"
      ]
     },
     "metadata": {
      "needs_background": "light"
     },
     "output_type": "display_data"
    }
   ],
   "source": [
    "#Supplier frequency\n",
    "# Get top 10 suppliers by frequency\n",
    "supplier_counts = df['Supplier/Vendor'].value_counts().head(10)\n",
    "ax = supplier_counts.plot(kind='barh', figsize=(8, 5), title='Top 10 Suppliers by Frequency', color='steelblue')\n",
    "plt.xlabel('Number of POs')\n",
    "plt.ylabel('Supplier/Vendor')\n",
    "plt.gca().invert_yaxis()\n",
    "plt.show()"
   ]
  },
  {
   "cell_type": "markdown",
   "metadata": {
    "id": "iw_LsGgneMcJ"
   },
   "source": [
    "CVXXXXX is the most engaged supplier with over 2,000 interactions, significantly ahead of others. This level of activity suggests a strong relationship but also raises a flag on dependency."
   ]
  },
  {
   "cell_type": "code",
   "execution_count": 33,
   "metadata": {
    "colab": {
     "base_uri": "https://localhost:8080/",
     "height": 486
    },
    "id": "hOLsWPImUGmV",
    "outputId": "332fb565-b24c-42c0-e3b5-e7292d8e7aab"
   },
   "outputs": [
    {
     "data": {
      "image/png": "[encoded data removed]",
      "text/plain": [
       "<Figure size 432x288 with 1 Axes>"
      ]
     },
     "metadata": {
      "needs_background": "light"
     },
     "output_type": "display_data"
    }
   ],
   "source": [
    "#Monthly trend of PO Amounts\n",
    "df['Month'] = pd.to_datetime(df['Month'], errors='coerce')\n",
    "monthly = df.groupby(df['Month'].dt.to_period('M'))['PO Amount'].sum()\n",
    "monthly.plot(kind='line', marker='o', title='Monthly PO Spend')\n",
    "plt.ylabel('Total PO Amount')\n",
    "plt.xlabel('Month')\n",
    "plt.xticks(rotation=45)\n",
    "plt.show()"
   ]
  },
  {
   "cell_type": "markdown",
   "metadata": {
    "id": "yQ1TAqm-fkDK"
   },
   "source": [
    "There is a major spike in PO spending in April 2024, likely tied to year end procurement. Then a dip in May followed by a gradual recovery in June and July."
   ]
  },
  {
   "cell_type": "code",
   "execution_count": 34,
   "metadata": {
    "colab": {
     "base_uri": "https://localhost:8080/",
     "height": 472
    },
    "id": "bkehgptkUmyF",
    "outputId": "449a4791-ef18-45fa-832e-52e39e39b77a"
   },
   "outputs": [
    {
     "data": {
      "image/png": "[encoded data removed]",
      "text/plain": [
       "<Figure size 432x288 with 1 Axes>"
      ]
     },
     "metadata": {
      "needs_background": "light"
     },
     "output_type": "display_data"
    }
   ],
   "source": [
    "#PO Amount by Supplier Type (Local vs Foreign)\n",
    "sns.boxplot(data=df, x='Locale(Foreign or Local based Suppliers)', y='PO Amount')\n",
    "plt.xlabel('Supplier Locale')\n",
    "plt.ylabel('PO Amount (Ksh)')\n",
    "plt.title('PO Spend by Supplier Locale')\n",
    "plt.show()"
   ]
  },
  {
   "cell_type": "markdown",
   "metadata": {
    "id": "LnTyR-LqgPgB"
   },
   "source": [
    "Foreign suppliers generally receive larger, more consistent PO amounts.Local suppliers handle many small orders and a few very large ones."
   ]
  },
  {
   "cell_type": "code",
   "execution_count": 35,
   "metadata": {
    "colab": {
     "base_uri": "https://localhost:8080/",
     "height": 470
    },
    "id": "YCCdo7M1U4Sl",
    "outputId": "a44ab69c-5a9a-4da7-83a6-3e520b2703ec"
   },
   "outputs": [
    {
     "data": {
      "image/png": "[encoded data removed]",
      "text/plain": [
       "<Figure size 432x288 with 1 Axes>"
      ]
     },
     "metadata": {
      "needs_background": "light"
     },
     "output_type": "display_data"
    }
   ],
   "source": [
    "#Spend per Main category\n",
    "main_cat_spend = df.groupby('Main category')['PO Amount'].sum().sort_values(ascending=False)\n",
    "main_cat_spend.plot(kind='barh', title='Spend per Main Category')\n",
    "plt.show()"
   ]
  },
  {
   "cell_type": "markdown",
   "metadata": {
    "id": "jEwvsB2yrWU0"
   },
   "source": [
    "Corporate Services has the highest spend by far dominating all other categories.Technology Networks, IT, and Terminals have very low spend in comparison.There is a large spending imbalance."
   ]
  },
  {
   "cell_type": "code",
   "execution_count": 36,
   "metadata": {
    "colab": {
     "base_uri": "https://localhost:8080/",
     "height": 607
    },
    "id": "kUMgJQKpVA_8",
    "outputId": "e86f3948-13a7-4f43-e77b-274edfd997c9"
   },
   "outputs": [
    {
     "data": {
      "image/png": "[encoded data removed]",
      "text/plain": [
       "<Figure size 720x432 with 1 Axes>"
      ]
     },
     "metadata": {
      "needs_background": "light"
     },
     "output_type": "display_data"
    }
   ],
   "source": [
    "#Spend per Sub-category (top 10\n",
    "import matplotlib.pyplot as plt\n",
    "import matplotlib.ticker as mtick\n",
    "\n",
    "sub_cat_spend = df.groupby('Sub-category')['PO Amount'].sum().sort_values(ascending=False).head(10)\n",
    "\n",
    "# Define a color list\n",
    "colors = ['#1f77b4', '#ff7f0e', '#2ca02c', '#d62728', '#9467bd',\n",
    "          '#8c564b', '#e377c2', '#7f7f7f', '#bcbd22', '#17becf']\n",
    "fig, ax = plt.subplots(figsize=(10, 6))\n",
    "sub_cat_spend.plot(kind='barh', color=colors, ax=ax)\n",
    "plt.title('Top 10 Sub-categories by Spend')\n",
    "plt.xlabel('Total Spend (Millions)')\n",
    "plt.ylabel('Sub-category')\n",
    "ax.xaxis.set_major_formatter(mtick.FuncFormatter(lambda x, _: f'{x*1e-6:.1f}M'))\n",
    "plt.tight_layout()\n",
    "plt.show()\n"
   ]
  },
  {
   "cell_type": "markdown",
   "metadata": {
    "id": "Sa3kBQ6WjMmp"
   },
   "source": [
    "HR & Staff Welfare, Facilities and  Property, and Sales and Marketing,Security dominate spending."
   ]
  },
  {
   "cell_type": "code",
   "execution_count": 37,
   "metadata": {
    "colab": {
     "base_uri": "https://localhost:8080/",
     "height": 507
    },
    "id": "jAxfHQaYVJM8",
    "outputId": "eab35115-7cf8-4f72-ada6-cab57c94f759"
   },
   "outputs": [
    {
     "data": {
      "image/png": "[encoded data removed]",
      "text/plain": [
       "<Figure size 432x360 with 1 Axes>"
      ]
     },
     "metadata": {
      "needs_background": "light"
     },
     "output_type": "display_data"
    }
   ],
   "source": [
    "#Spend on Women/Youth-owned businesses\n",
    "#Prepare data with clean labels\n",
    "sig_counts = df['Special Interest Group- Women or Youth Owned Suppliers'].fillna('Others')\n",
    "sig_counts = sig_counts.str.title().value_counts()\n",
    "fig, ax = plt.subplots(figsize=(6, 5))\n",
    "bars = sig_counts.plot(kind='bar', color='steelblue', ax=ax)\n",
    "plt.title('POs to Special Interest Groups')\n",
    "plt.xlabel('Special Interest Group - Women or Youth Owned Suppliers')\n",
    "plt.ylabel('Number of POs')\n",
    "plt.tight_layout()\n",
    "plt.show()"
   ]
  },
  {
   "cell_type": "markdown",
   "metadata": {
    "id": "StaOUgpmr7WD"
   },
   "source": [
    "The majority of POs are going to non-SIG (Others) suppliers.Women-owned suppliers receive a notable share while youth-owned suppliers are significantly underrepresented."
   ]
  },
  {
   "cell_type": "code",
   "execution_count": 38,
   "metadata": {
    "colab": {
     "base_uri": "https://localhost:8080/",
     "height": 607
    },
    "id": "Pi0mcT83qu8c",
    "outputId": "c0ef488f-8dd7-4bac-92cf-f3c09903fcea"
   },
   "outputs": [
    {
     "data": {
      "image/png": "[encoded data removed]",
      "text/plain": [
       "<Figure size 432x432 with 1 Axes>"
      ]
     },
     "metadata": {},
     "output_type": "display_data"
    }
   ],
   "source": [
    "sig_counts = df['Special Interest Group- Women or Youth Owned Suppliers'].fillna('Others')\n",
    "sig_counts = sig_counts.str.title().value_counts()\n",
    "fig, ax = plt.subplots(figsize=(6, 6))\n",
    "ax.pie(\n",
    "    sig_counts,\n",
    "    labels=sig_counts.index,\n",
    "    autopct='%1.1f%%',\n",
    "    startangle=90,\n",
    "    colors=['#1f77b4', '#ff7f0e', '#2ca02c'],  # Optional: custom colors\n",
    "    wedgeprops=dict(edgecolor='white')\n",
    ")\n",
    "ax.set_title('Distribution of POs to Special Interest Groups')\n",
    "plt.tight_layout()\n",
    "plt.show()\n"
   ]
  },
  {
   "cell_type": "markdown",
   "metadata": {
    "id": "MemmAaORrx4E"
   },
   "source": [
    "The majority of purchase orders go to suppliers outside of Special Interest Groups. Women-owned businesses account for 17%, and youth-owned suppliers are significantly underrepresented at just 3%."
   ]
  },
  {
   "cell_type": "code",
   "execution_count": 39,
   "metadata": {
    "colab": {
     "base_uri": "https://localhost:8080/",
     "height": 591
    },
    "id": "3-pcIFhjacvi",
    "outputId": "dc78cdec-376b-48c6-dcac-1e0bd1700c3e"
   },
   "outputs": [
    {
     "data": {
      "image/png": "[encoded data removed]",
      "text/plain": [
       "<Figure size 864x432 with 1 Axes>"
      ]
     },
     "metadata": {
      "needs_background": "light"
     },
     "output_type": "display_data"
    }
   ],
   "source": [
    "#Product Type breakdown\n",
    "#Count POs by product type\n",
    "product_counts = df['Product Type'].fillna('Unknown').value_counts()\n",
    "fig, ax = plt.subplots(figsize=(12, 6))\n",
    "product_counts.plot(kind='bar', color='steelblue', ax=ax)\n",
    "plt.title('Product Type Breakdown')\n",
    "plt.xlabel('Product Type')\n",
    "plt.ylabel('Number of POs')\n",
    "plt.xticks(rotation=90)\n",
    "plt.tight_layout()\n",
    "plt.show()\n"
   ]
  },
  {
   "cell_type": "markdown",
   "metadata": {
    "id": "C53r3jS5ndmW"
   },
   "source": [
    "Most procurement activities centers around Travel & Accommodation, Advertising, and Facilities Management."
   ]
  },
  {
   "cell_type": "markdown",
   "metadata": {
    "id": "cSzNzc9dqiV9"
   },
   "source": [
    "### Multi-Variate analysis"
   ]
  },
  {
   "cell_type": "code",
   "execution_count": 40,
   "metadata": {
    "colab": {
     "base_uri": "https://localhost:8080/",
     "height": 607
    },
    "id": "T0-km0LSpz7t",
    "outputId": "2fff6bc0-0914-43b5-8ac2-f080f0278a50"
   },
   "outputs": [
    {
     "data": {
      "image/png": "[encoded data removed]",
      "text/plain": [
       "<Figure size 720x432 with 1 Axes>"
      ]
     },
     "metadata": {
      "needs_background": "light"
     },
     "output_type": "display_data"
    }
   ],
   "source": [
    "#PO Amount by Locale and SIG Status\n",
    "plt.figure(figsize=(10, 6))\n",
    "sns.boxplot(data=df, x='Locale(Foreign or Local based Suppliers)',\n",
    "            y='PO Amount',\n",
    "            hue='Special Interest Group- Women or Youth Owned Suppliers')\n",
    "plt.title('PO Amount Distribution by Locale and SIG Status')\n",
    "plt.ylabel('PO Amount (Ksh)')\n",
    "plt.tight_layout()\n",
    "plt.show()\n"
   ]
  },
  {
   "cell_type": "markdown",
   "metadata": {
    "id": "rIlXyet0qVoe"
   },
   "source": [
    "This chart highlights a clear value disparity between local SIG suppliers and foreign or non-SIG vendors. While youth-owned suppliers have a higher median spend than women-owned ones, both are still on the lower end compared to others. Foreign suppliers consistently receive higher value POs, possibly due to specialization or contract size."
   ]
  },
  {
   "cell_type": "markdown",
   "metadata": {
    "id": "B1j--UKEUeG-"
   },
   "source": [
    "## Data Preprocessing"
   ]
  },
  {
   "cell_type": "markdown",
   "metadata": {
    "id": "s7S5SrRRUeG-"
   },
   "source": [
    "### Feature engineering"
   ]
  },
  {
   "cell_type": "code",
   "execution_count": 41,
   "metadata": {
    "colab": {
     "base_uri": "https://localhost:8080/"
    },
    "id": "Iq35DDfrUeG-",
    "outputId": "d64f1416-e1c8-4147-d412-faa2796b6ae3",
    "scrolled": true
   },
   "outputs": [
    {
     "name": "stdout",
     "output_type": "stream",
     "text": [
      "<class 'pandas.core.frame.DataFrame'>\n",
      "Index: 1172 entries, 38 to 8042\n",
      "Data columns (total 31 columns):\n",
      " #   Column                                                  Non-Null Count  Dtype         \n",
      "---  ------                                                  --------------  -----         \n",
      " 0   OU Name                                                 1172 non-null   object        \n",
      " 1   PO                                                      1172 non-null   int64         \n",
      " 2   Month                                                   1172 non-null   datetime64[ns]\n",
      " 3   PO/Release creation method                              1172 non-null   object        \n",
      " 4   Supplier/Vendor                                         1172 non-null   object        \n",
      " 5   Item Description                                        1172 non-null   object        \n",
      " 6   Main category                                           1172 non-null   object        \n",
      " 7   Sub-category                                            1172 non-null   object        \n",
      " 8   Product Type                                            1172 non-null   object        \n",
      " 9   Product Name                                            1172 non-null   object        \n",
      " 10  UOM                                                     1172 non-null   object        \n",
      " 11  Currency                                                1172 non-null   object        \n",
      " 12  Quantity                                                1172 non-null   float64       \n",
      " 13  Unit Price                                              1172 non-null   float64       \n",
      " 14  PO Amount                                               1172 non-null   float64       \n",
      " 15  Addressable or Non-Addressable                          1172 non-null   object        \n",
      " 16  Locale(Foreign or Local based Suppliers)                1172 non-null   object        \n",
      " 17  Special Interest Group- Women or Youth Owned Suppliers  1172 non-null   object        \n",
      " 18  Category Manager(s)                                     1172 non-null   object        \n",
      " 19  Buyer                                                   1172 non-null   object        \n",
      " 20  Closure Status                                          1172 non-null   object        \n",
      " 21  Type                                                    1172 non-null   object        \n",
      " 22  Supplier Site                                           1172 non-null   object        \n",
      " 23  Line                                                    1172 non-null   int64         \n",
      " 24  Shipment                                                1172 non-null   int64         \n",
      " 25  Distribution Num                                        1172 non-null   int64         \n",
      " 26  Distribution Ordered Quantity                           1172 non-null   float64       \n",
      " 27  Financial Year                                          1172 non-null   object        \n",
      " 28  Department                                              1172 non-null   object        \n",
      " 29  Division                                                1172 non-null   object        \n",
      " 30  Expenditure Type                                        1172 non-null   object        \n",
      "dtypes: datetime64[ns](1), float64(4), int64(4), object(22)\n",
      "memory usage: 293.0+ KB\n"
     ]
    }
   ],
   "source": [
    "df.info()"
   ]
  },
  {
   "cell_type": "code",
   "execution_count": 42,
   "metadata": {
    "colab": {
     "base_uri": "https://localhost:8080/",
     "height": 625
    },
    "id": "5jpbMWrTUeG-",
    "outputId": "e46b436d-3b20-4f66-8caa-8bcd2994659f"
   },
   "outputs": [
    {
     "data": {
      "text/html": [
       "<div>\n",
       "<style scoped>\n",
       "    .dataframe tbody tr th:only-of-type {\n",
       "        vertical-align: middle;\n",
       "    }\n",
       "\n",
       "    .dataframe tbody tr th {\n",
       "        vertical-align: top;\n",
       "    }\n",
       "\n",
       "    .dataframe thead th {\n",
       "        text-align: right;\n",
       "    }\n",
       "</style>\n",
       "<table border=\"1\" class=\"dataframe\">\n",
       "  <thead>\n",
       "    <tr style=\"text-align: right;\">\n",
       "      <th></th>\n",
       "      <th>OU Name</th>\n",
       "      <th>PO</th>\n",
       "      <th>Month</th>\n",
       "      <th>PO/Release creation method</th>\n",
       "      <th>Supplier/Vendor</th>\n",
       "      <th>Item Description</th>\n",
       "      <th>Main category</th>\n",
       "      <th>Sub-category</th>\n",
       "      <th>Product Type</th>\n",
       "      <th>Product Name</th>\n",
       "      <th>UOM</th>\n",
       "      <th>Currency</th>\n",
       "      <th>Quantity</th>\n",
       "      <th>Unit Price</th>\n",
       "      <th>PO Amount</th>\n",
       "      <th>Addressable or Non-Addressable</th>\n",
       "      <th>Locale(Foreign or Local based Suppliers)</th>\n",
       "      <th>Special Interest Group- Women or Youth Owned Suppliers</th>\n",
       "      <th>Category Manager(s)</th>\n",
       "      <th>Buyer</th>\n",
       "      <th>Closure Status</th>\n",
       "      <th>Type</th>\n",
       "      <th>Supplier Site</th>\n",
       "      <th>Line</th>\n",
       "      <th>Shipment</th>\n",
       "      <th>Distribution Num</th>\n",
       "      <th>Distribution Ordered Quantity</th>\n",
       "      <th>Financial Year</th>\n",
       "      <th>Department</th>\n",
       "      <th>Division</th>\n",
       "      <th>Expenditure Type</th>\n",
       "    </tr>\n",
       "  </thead>\n",
       "  <tbody>\n",
       "    <tr>\n",
       "      <th>38</th>\n",
       "      <td>DigiFarm Kenya Limited</td>\n",
       "      <td>1779</td>\n",
       "      <td>2024-08-01</td>\n",
       "      <td>Touchless</td>\n",
       "      <td>FF</td>\n",
       "      <td>Kericho Kisumu Nandi Visits Accommodation Requ...</td>\n",
       "      <td>CORPORATE SERVICES</td>\n",
       "      <td>HR &amp; STAFF WELFARE</td>\n",
       "      <td>TRAVEL &amp; ACCOMODATION</td>\n",
       "      <td>ACCOMMODATION</td>\n",
       "      <td>Each</td>\n",
       "      <td>KES</td>\n",
       "      <td>1.0</td>\n",
       "      <td>5508.47</td>\n",
       "      <td>5508.47</td>\n",
       "      <td>Addressable</td>\n",
       "      <td>Local</td>\n",
       "      <td>Others</td>\n",
       "      <td>Muchiri Thomas</td>\n",
       "      <td>Karanja, Mrs. Maryanne</td>\n",
       "      <td>OPEN</td>\n",
       "      <td>Services</td>\n",
       "      <td>NAIROBI</td>\n",
       "      <td>1</td>\n",
       "      <td>1</td>\n",
       "      <td>1</td>\n",
       "      <td>1.0</td>\n",
       "      <td>FY 2024/25</td>\n",
       "      <td>DigiFarm Kenya Ltd</td>\n",
       "      <td>Business Development Cluster</td>\n",
       "      <td>opex</td>\n",
       "    </tr>\n",
       "    <tr>\n",
       "      <th>46</th>\n",
       "      <td>M-PESA AFRICA LIMITED</td>\n",
       "      <td>2114</td>\n",
       "      <td>2024-08-01</td>\n",
       "      <td>Autocreate</td>\n",
       "      <td>FF</td>\n",
       "      <td>CREATIVE ACS Waste Managment from April to Jun...</td>\n",
       "      <td>CORPORATE SERVICES</td>\n",
       "      <td>FACILITIES &amp; PROPERTY</td>\n",
       "      <td>SOFT FACILITIES MANAGEMENT</td>\n",
       "      <td>WASTE MANAGEMENT</td>\n",
       "      <td>Each</td>\n",
       "      <td>KES</td>\n",
       "      <td>1.0</td>\n",
       "      <td>1000.00</td>\n",
       "      <td>1000.00</td>\n",
       "      <td>Addressable</td>\n",
       "      <td>Local</td>\n",
       "      <td>Women</td>\n",
       "      <td>Muchiri Thomas</td>\n",
       "      <td>Mungai, Mr. David Mbugua</td>\n",
       "      <td>CLOSED</td>\n",
       "      <td>Services</td>\n",
       "      <td>NAIROBI</td>\n",
       "      <td>5</td>\n",
       "      <td>1</td>\n",
       "      <td>1</td>\n",
       "      <td>1.0</td>\n",
       "      <td>FY 2024/25</td>\n",
       "      <td>Mpesa Africa Organization</td>\n",
       "      <td>Financial Services Cluster</td>\n",
       "      <td>opex</td>\n",
       "    </tr>\n",
       "    <tr>\n",
       "      <th>52</th>\n",
       "      <td>M-PESA AFRICA LIMITED</td>\n",
       "      <td>2125</td>\n",
       "      <td>2024-08-01</td>\n",
       "      <td>Touchless</td>\n",
       "      <td>VGJ</td>\n",
       "      <td>Power Cable Per Meter Twin Flat 1 0MM</td>\n",
       "      <td>CORPORATE SERVICES</td>\n",
       "      <td>SECURITY</td>\n",
       "      <td>SECURITY EQUIPMENT</td>\n",
       "      <td>SECURITY EQUIPMENT &amp; MAINTENANCE</td>\n",
       "      <td>Each</td>\n",
       "      <td>KES</td>\n",
       "      <td>1.0</td>\n",
       "      <td>150.00</td>\n",
       "      <td>150.00</td>\n",
       "      <td>Addressable</td>\n",
       "      <td>Local</td>\n",
       "      <td>Others</td>\n",
       "      <td>Muchiri Thomas</td>\n",
       "      <td>Karanja, Mrs. Maryanne</td>\n",
       "      <td>CLOSED</td>\n",
       "      <td>Goods</td>\n",
       "      <td>NAIROBI</td>\n",
       "      <td>1</td>\n",
       "      <td>1</td>\n",
       "      <td>1</td>\n",
       "      <td>1.0</td>\n",
       "      <td>FY 2024/25</td>\n",
       "      <td>Mpesa Africa Organization</td>\n",
       "      <td>Financial Services Cluster</td>\n",
       "      <td>opex</td>\n",
       "    </tr>\n",
       "    <tr>\n",
       "      <th>53</th>\n",
       "      <td>M-PESA AFRICA LIMITED</td>\n",
       "      <td>2125</td>\n",
       "      <td>2024-08-01</td>\n",
       "      <td>Touchless</td>\n",
       "      <td>VGJ</td>\n",
       "      <td>Jacks 1pc</td>\n",
       "      <td>CORPORATE SERVICES</td>\n",
       "      <td>SECURITY</td>\n",
       "      <td>SECURITY EQUIPMENT</td>\n",
       "      <td>SECURITY EQUIPMENT &amp; MAINTENANCE</td>\n",
       "      <td>Each</td>\n",
       "      <td>KES</td>\n",
       "      <td>1.0</td>\n",
       "      <td>50.00</td>\n",
       "      <td>50.00</td>\n",
       "      <td>Addressable</td>\n",
       "      <td>Local</td>\n",
       "      <td>Others</td>\n",
       "      <td>Muchiri Thomas</td>\n",
       "      <td>Karanja, Mrs. Maryanne</td>\n",
       "      <td>CLOSED</td>\n",
       "      <td>Goods</td>\n",
       "      <td>NAIROBI</td>\n",
       "      <td>3</td>\n",
       "      <td>1</td>\n",
       "      <td>1</td>\n",
       "      <td>1.0</td>\n",
       "      <td>FY 2024/25</td>\n",
       "      <td>Mpesa Africa Organization</td>\n",
       "      <td>Financial Services Cluster</td>\n",
       "      <td>opex</td>\n",
       "    </tr>\n",
       "    <tr>\n",
       "      <th>58</th>\n",
       "      <td>M-PESA SA (PTY) Limited</td>\n",
       "      <td>372</td>\n",
       "      <td>2024-08-01</td>\n",
       "      <td>Touchless</td>\n",
       "      <td>BNG</td>\n",
       "      <td>PREVOIR PMQ 000660 MPA MFT RTS 2024 2025 OPEX ...</td>\n",
       "      <td>STATUTORY &amp; LICENSING</td>\n",
       "      <td>STATUTORY</td>\n",
       "      <td>INFRASTRUCTURE SERVICES</td>\n",
       "      <td>LICENSES</td>\n",
       "      <td>Each</td>\n",
       "      <td>ZAR</td>\n",
       "      <td>1.0</td>\n",
       "      <td>0.00</td>\n",
       "      <td>0.00</td>\n",
       "      <td>Addressable</td>\n",
       "      <td>Foreign</td>\n",
       "      <td>Others</td>\n",
       "      <td>Muchiri Thomas</td>\n",
       "      <td>Karanja, Mrs. Maryanne</td>\n",
       "      <td>OPEN</td>\n",
       "      <td>Services</td>\n",
       "      <td>Physical</td>\n",
       "      <td>1</td>\n",
       "      <td>1</td>\n",
       "      <td>1</td>\n",
       "      <td>1.0</td>\n",
       "      <td>FY 2024/25</td>\n",
       "      <td>Mpesa Africa Organization</td>\n",
       "      <td>Financial Services Cluster</td>\n",
       "      <td>opex</td>\n",
       "    </tr>\n",
       "  </tbody>\n",
       "</table>\n",
       "</div>"
      ],
      "text/plain": [
       "                    OU Name    PO      Month PO/Release creation method   \n",
       "38   DigiFarm Kenya Limited  1779 2024-08-01                  Touchless  \\\n",
       "46    M-PESA AFRICA LIMITED  2114 2024-08-01                 Autocreate   \n",
       "52    M-PESA AFRICA LIMITED  2125 2024-08-01                  Touchless   \n",
       "53    M-PESA AFRICA LIMITED  2125 2024-08-01                  Touchless   \n",
       "58  M-PESA SA (PTY) Limited   372 2024-08-01                  Touchless   \n",
       "\n",
       "   Supplier/Vendor                                   Item Description   \n",
       "38              FF  Kericho Kisumu Nandi Visits Accommodation Requ...  \\\n",
       "46              FF  CREATIVE ACS Waste Managment from April to Jun...   \n",
       "52             VGJ              Power Cable Per Meter Twin Flat 1 0MM   \n",
       "53             VGJ                                          Jacks 1pc   \n",
       "58             BNG  PREVOIR PMQ 000660 MPA MFT RTS 2024 2025 OPEX ...   \n",
       "\n",
       "            Main category           Sub-category                Product Type   \n",
       "38     CORPORATE SERVICES     HR & STAFF WELFARE       TRAVEL & ACCOMODATION  \\\n",
       "46     CORPORATE SERVICES  FACILITIES & PROPERTY  SOFT FACILITIES MANAGEMENT   \n",
       "52     CORPORATE SERVICES               SECURITY          SECURITY EQUIPMENT   \n",
       "53     CORPORATE SERVICES               SECURITY          SECURITY EQUIPMENT   \n",
       "58  STATUTORY & LICENSING              STATUTORY     INFRASTRUCTURE SERVICES   \n",
       "\n",
       "                        Product Name   UOM Currency  Quantity  Unit Price   \n",
       "38                     ACCOMMODATION  Each      KES       1.0     5508.47  \\\n",
       "46                  WASTE MANAGEMENT  Each      KES       1.0     1000.00   \n",
       "52  SECURITY EQUIPMENT & MAINTENANCE  Each      KES       1.0      150.00   \n",
       "53  SECURITY EQUIPMENT & MAINTENANCE  Each      KES       1.0       50.00   \n",
       "58                          LICENSES  Each      ZAR       1.0        0.00   \n",
       "\n",
       "    PO Amount Addressable or Non-Addressable   \n",
       "38    5508.47                    Addressable  \\\n",
       "46    1000.00                    Addressable   \n",
       "52     150.00                    Addressable   \n",
       "53      50.00                    Addressable   \n",
       "58       0.00                    Addressable   \n",
       "\n",
       "   Locale(Foreign or Local based Suppliers)   \n",
       "38                                    Local  \\\n",
       "46                                    Local   \n",
       "52                                    Local   \n",
       "53                                    Local   \n",
       "58                                  Foreign   \n",
       "\n",
       "   Special Interest Group- Women or Youth Owned Suppliers Category Manager(s)   \n",
       "38                                             Others          Muchiri Thomas  \\\n",
       "46                                              Women          Muchiri Thomas   \n",
       "52                                             Others          Muchiri Thomas   \n",
       "53                                             Others          Muchiri Thomas   \n",
       "58                                             Others          Muchiri Thomas   \n",
       "\n",
       "                       Buyer Closure Status      Type Supplier Site  Line   \n",
       "38    Karanja, Mrs. Maryanne           OPEN  Services       NAIROBI     1  \\\n",
       "46  Mungai, Mr. David Mbugua         CLOSED  Services       NAIROBI     5   \n",
       "52    Karanja, Mrs. Maryanne         CLOSED     Goods       NAIROBI     1   \n",
       "53    Karanja, Mrs. Maryanne         CLOSED     Goods       NAIROBI     3   \n",
       "58    Karanja, Mrs. Maryanne           OPEN  Services      Physical     1   \n",
       "\n",
       "    Shipment  Distribution Num  Distribution Ordered Quantity Financial Year   \n",
       "38         1                 1                            1.0     FY 2024/25  \\\n",
       "46         1                 1                            1.0     FY 2024/25   \n",
       "52         1                 1                            1.0     FY 2024/25   \n",
       "53         1                 1                            1.0     FY 2024/25   \n",
       "58         1                 1                            1.0     FY 2024/25   \n",
       "\n",
       "                   Department                      Division Expenditure Type  \n",
       "38         DigiFarm Kenya Ltd  Business Development Cluster             opex  \n",
       "46  Mpesa Africa Organization    Financial Services Cluster             opex  \n",
       "52  Mpesa Africa Organization    Financial Services Cluster             opex  \n",
       "53  Mpesa Africa Organization    Financial Services Cluster             opex  \n",
       "58  Mpesa Africa Organization    Financial Services Cluster             opex  "
      ]
     },
     "execution_count": 42,
     "metadata": {},
     "output_type": "execute_result"
    }
   ],
   "source": [
    "df.head()"
   ]
  },
  {
   "cell_type": "code",
   "execution_count": 43,
   "metadata": {
    "id": "6wf4iuZvUeG-"
   },
   "outputs": [],
   "source": [
    "# Extract months from the date provided\n",
    "df['Month'] = pd.to_datetime(df['Month'], errors='coerce')"
   ]
  },
  {
   "cell_type": "code",
   "execution_count": 44,
   "metadata": {
    "id": "asMq3AT_UeG_"
   },
   "outputs": [],
   "source": [
    "# Calculating total and average spend by product category, manager, department, month e.t.c.\n",
    "agg_cols = [\n",
    "    'OU Name','Type', 'Supplier/Vendor', 'Buyer', 'Category Manager(s)', 'Department',\n",
    "    'Division', 'Main category', 'Sub-category', 'Expenditure Type'\n",
    "]\n",
    "\n",
    "for col in agg_cols:\n",
    "    # Total spend per category\n",
    "    total_spend = df.groupby(col)['PO Amount'].sum().rename(f'{col}_Total_Spend')\n",
    "    df = df.merge(total_spend, on=col, how='left')\n",
    "\n",
    "    # Average spend per category\n",
    "    avg_spend = df.groupby(col)['PO Amount'].mean().rename(f'{col}_Avg_Spend')\n",
    "    df = df.merge(avg_spend, on=col, how='left')\n"
   ]
  },
  {
   "cell_type": "code",
   "execution_count": 45,
   "metadata": {
    "id": "bhVgIl1jUeG_"
   },
   "outputs": [],
   "source": [
    "encode_cols = [\n",
    "    'OU Name', 'PO/Release creation method','Main category',\n",
    "    'Sub-category', 'UOM', 'Currency','Addressable or Non-Addressable','Locale(Foreign or Local based Suppliers)',\n",
    "    'Special Interest Group- Women or Youth Owned Suppliers', 'Category Manager(s)',\n",
    "    'Buyer', 'Type','Department', 'Division',\n",
    "    'Expenditure Type'\n",
    "]"
   ]
  },
  {
   "cell_type": "code",
   "execution_count": 46,
   "metadata": {
    "id": "mB3heVIlUeG_"
   },
   "outputs": [],
   "source": [
    "df = pd.get_dummies(df, columns=encode_cols, drop_first=True)"
   ]
  },
  {
   "cell_type": "code",
   "execution_count": 47,
   "metadata": {
    "colab": {
     "base_uri": "https://localhost:8080/",
     "height": 585
    },
    "id": "wNHXDMkOUeG_",
    "outputId": "1e01a9db-0c65-480e-d6e8-e04cd0457067"
   },
   "outputs": [
    {
     "data": {
      "text/html": [
       "<div>\n",
       "<style scoped>\n",
       "    .dataframe tbody tr th:only-of-type {\n",
       "        vertical-align: middle;\n",
       "    }\n",
       "\n",
       "    .dataframe tbody tr th {\n",
       "        vertical-align: top;\n",
       "    }\n",
       "\n",
       "    .dataframe thead th {\n",
       "        text-align: right;\n",
       "    }\n",
       "</style>\n",
       "<table border=\"1\" class=\"dataframe\">\n",
       "  <thead>\n",
       "    <tr style=\"text-align: right;\">\n",
       "      <th></th>\n",
       "      <th>PO</th>\n",
       "      <th>Month</th>\n",
       "      <th>Supplier/Vendor</th>\n",
       "      <th>Item Description</th>\n",
       "      <th>Product Type</th>\n",
       "      <th>Product Name</th>\n",
       "      <th>Quantity</th>\n",
       "      <th>Unit Price</th>\n",
       "      <th>PO Amount</th>\n",
       "      <th>Closure Status</th>\n",
       "      <th>Supplier Site</th>\n",
       "      <th>Line</th>\n",
       "      <th>Shipment</th>\n",
       "      <th>Distribution Num</th>\n",
       "      <th>Distribution Ordered Quantity</th>\n",
       "      <th>Financial Year</th>\n",
       "      <th>OU Name_Total_Spend</th>\n",
       "      <th>OU Name_Avg_Spend</th>\n",
       "      <th>Type_Total_Spend</th>\n",
       "      <th>Type_Avg_Spend</th>\n",
       "      <th>Supplier/Vendor_Total_Spend</th>\n",
       "      <th>Supplier/Vendor_Avg_Spend</th>\n",
       "      <th>...</th>\n",
       "      <th>Department_Regional Sales &amp; Operations - Nairobi Metropolitan</th>\n",
       "      <th>Department_Regional Sales &amp; Operations - Rift</th>\n",
       "      <th>Department_Resources Cluster</th>\n",
       "      <th>Department_Segments Tribe</th>\n",
       "      <th>Department_Service Management</th>\n",
       "      <th>Department_Supply Chain Management Department</th>\n",
       "      <th>Department_Technology Enterprise Solutions Dept</th>\n",
       "      <th>Department_Terminals CoE</th>\n",
       "      <th>Division_Business Development Cluster</th>\n",
       "      <th>Division_Channels Cluster</th>\n",
       "      <th>Division_Consumer Business Unit</th>\n",
       "      <th>Division_Consumer Business Unit Cluster</th>\n",
       "      <th>Division_Corporate Affairs Cluster</th>\n",
       "      <th>Division_Corporate Security Cluster</th>\n",
       "      <th>Division_Digital IT</th>\n",
       "      <th>Division_Finance Cluster</th>\n",
       "      <th>Division_Financial Services Cluster</th>\n",
       "      <th>Division_Human Resources Cluster</th>\n",
       "      <th>Division_Network</th>\n",
       "      <th>Division_Technology Cluster</th>\n",
       "      <th>Expenditure Type_direct</th>\n",
       "      <th>Expenditure Type_opex</th>\n",
       "    </tr>\n",
       "  </thead>\n",
       "  <tbody>\n",
       "    <tr>\n",
       "      <th>0</th>\n",
       "      <td>1779</td>\n",
       "      <td>2024-08-01</td>\n",
       "      <td>FF</td>\n",
       "      <td>Kericho Kisumu Nandi Visits Accommodation Requ...</td>\n",
       "      <td>TRAVEL &amp; ACCOMODATION</td>\n",
       "      <td>ACCOMMODATION</td>\n",
       "      <td>1.0</td>\n",
       "      <td>5508.47</td>\n",
       "      <td>5508.47</td>\n",
       "      <td>OPEN</td>\n",
       "      <td>NAIROBI</td>\n",
       "      <td>1</td>\n",
       "      <td>1</td>\n",
       "      <td>1</td>\n",
       "      <td>1.0</td>\n",
       "      <td>FY 2024/25</td>\n",
       "      <td>5508.47</td>\n",
       "      <td>5508.47</td>\n",
       "      <td>1.363869e+06</td>\n",
       "      <td>2800.552136</td>\n",
       "      <td>6508.47</td>\n",
       "      <td>3254.235</td>\n",
       "      <td>...</td>\n",
       "      <td>False</td>\n",
       "      <td>False</td>\n",
       "      <td>False</td>\n",
       "      <td>False</td>\n",
       "      <td>False</td>\n",
       "      <td>False</td>\n",
       "      <td>False</td>\n",
       "      <td>False</td>\n",
       "      <td>True</td>\n",
       "      <td>False</td>\n",
       "      <td>False</td>\n",
       "      <td>False</td>\n",
       "      <td>False</td>\n",
       "      <td>False</td>\n",
       "      <td>False</td>\n",
       "      <td>False</td>\n",
       "      <td>False</td>\n",
       "      <td>False</td>\n",
       "      <td>False</td>\n",
       "      <td>False</td>\n",
       "      <td>False</td>\n",
       "      <td>True</td>\n",
       "    </tr>\n",
       "    <tr>\n",
       "      <th>1</th>\n",
       "      <td>2114</td>\n",
       "      <td>2024-08-01</td>\n",
       "      <td>FF</td>\n",
       "      <td>CREATIVE ACS Waste Managment from April to Jun...</td>\n",
       "      <td>SOFT FACILITIES MANAGEMENT</td>\n",
       "      <td>WASTE MANAGEMENT</td>\n",
       "      <td>1.0</td>\n",
       "      <td>1000.00</td>\n",
       "      <td>1000.00</td>\n",
       "      <td>CLOSED</td>\n",
       "      <td>NAIROBI</td>\n",
       "      <td>5</td>\n",
       "      <td>1</td>\n",
       "      <td>1</td>\n",
       "      <td>1.0</td>\n",
       "      <td>FY 2024/25</td>\n",
       "      <td>1200.00</td>\n",
       "      <td>400.00</td>\n",
       "      <td>1.363869e+06</td>\n",
       "      <td>2800.552136</td>\n",
       "      <td>6508.47</td>\n",
       "      <td>3254.235</td>\n",
       "      <td>...</td>\n",
       "      <td>False</td>\n",
       "      <td>False</td>\n",
       "      <td>False</td>\n",
       "      <td>False</td>\n",
       "      <td>False</td>\n",
       "      <td>False</td>\n",
       "      <td>False</td>\n",
       "      <td>False</td>\n",
       "      <td>False</td>\n",
       "      <td>False</td>\n",
       "      <td>False</td>\n",
       "      <td>False</td>\n",
       "      <td>False</td>\n",
       "      <td>False</td>\n",
       "      <td>False</td>\n",
       "      <td>False</td>\n",
       "      <td>True</td>\n",
       "      <td>False</td>\n",
       "      <td>False</td>\n",
       "      <td>False</td>\n",
       "      <td>False</td>\n",
       "      <td>True</td>\n",
       "    </tr>\n",
       "    <tr>\n",
       "      <th>2</th>\n",
       "      <td>2125</td>\n",
       "      <td>2024-08-01</td>\n",
       "      <td>VGJ</td>\n",
       "      <td>Power Cable Per Meter Twin Flat 1 0MM</td>\n",
       "      <td>SECURITY EQUIPMENT</td>\n",
       "      <td>SECURITY EQUIPMENT &amp; MAINTENANCE</td>\n",
       "      <td>1.0</td>\n",
       "      <td>150.00</td>\n",
       "      <td>150.00</td>\n",
       "      <td>CLOSED</td>\n",
       "      <td>NAIROBI</td>\n",
       "      <td>1</td>\n",
       "      <td>1</td>\n",
       "      <td>1</td>\n",
       "      <td>1.0</td>\n",
       "      <td>FY 2024/25</td>\n",
       "      <td>1200.00</td>\n",
       "      <td>400.00</td>\n",
       "      <td>2.275781e+06</td>\n",
       "      <td>3322.307429</td>\n",
       "      <td>200.00</td>\n",
       "      <td>100.000</td>\n",
       "      <td>...</td>\n",
       "      <td>False</td>\n",
       "      <td>False</td>\n",
       "      <td>False</td>\n",
       "      <td>False</td>\n",
       "      <td>False</td>\n",
       "      <td>False</td>\n",
       "      <td>False</td>\n",
       "      <td>False</td>\n",
       "      <td>False</td>\n",
       "      <td>False</td>\n",
       "      <td>False</td>\n",
       "      <td>False</td>\n",
       "      <td>False</td>\n",
       "      <td>False</td>\n",
       "      <td>False</td>\n",
       "      <td>False</td>\n",
       "      <td>True</td>\n",
       "      <td>False</td>\n",
       "      <td>False</td>\n",
       "      <td>False</td>\n",
       "      <td>False</td>\n",
       "      <td>True</td>\n",
       "    </tr>\n",
       "    <tr>\n",
       "      <th>3</th>\n",
       "      <td>2125</td>\n",
       "      <td>2024-08-01</td>\n",
       "      <td>VGJ</td>\n",
       "      <td>Jacks 1pc</td>\n",
       "      <td>SECURITY EQUIPMENT</td>\n",
       "      <td>SECURITY EQUIPMENT &amp; MAINTENANCE</td>\n",
       "      <td>1.0</td>\n",
       "      <td>50.00</td>\n",
       "      <td>50.00</td>\n",
       "      <td>CLOSED</td>\n",
       "      <td>NAIROBI</td>\n",
       "      <td>3</td>\n",
       "      <td>1</td>\n",
       "      <td>1</td>\n",
       "      <td>1.0</td>\n",
       "      <td>FY 2024/25</td>\n",
       "      <td>1200.00</td>\n",
       "      <td>400.00</td>\n",
       "      <td>2.275781e+06</td>\n",
       "      <td>3322.307429</td>\n",
       "      <td>200.00</td>\n",
       "      <td>100.000</td>\n",
       "      <td>...</td>\n",
       "      <td>False</td>\n",
       "      <td>False</td>\n",
       "      <td>False</td>\n",
       "      <td>False</td>\n",
       "      <td>False</td>\n",
       "      <td>False</td>\n",
       "      <td>False</td>\n",
       "      <td>False</td>\n",
       "      <td>False</td>\n",
       "      <td>False</td>\n",
       "      <td>False</td>\n",
       "      <td>False</td>\n",
       "      <td>False</td>\n",
       "      <td>False</td>\n",
       "      <td>False</td>\n",
       "      <td>False</td>\n",
       "      <td>True</td>\n",
       "      <td>False</td>\n",
       "      <td>False</td>\n",
       "      <td>False</td>\n",
       "      <td>False</td>\n",
       "      <td>True</td>\n",
       "    </tr>\n",
       "    <tr>\n",
       "      <th>4</th>\n",
       "      <td>372</td>\n",
       "      <td>2024-08-01</td>\n",
       "      <td>BNG</td>\n",
       "      <td>PREVOIR PMQ 000660 MPA MFT RTS 2024 2025 OPEX ...</td>\n",
       "      <td>INFRASTRUCTURE SERVICES</td>\n",
       "      <td>LICENSES</td>\n",
       "      <td>1.0</td>\n",
       "      <td>0.00</td>\n",
       "      <td>0.00</td>\n",
       "      <td>OPEN</td>\n",
       "      <td>Physical</td>\n",
       "      <td>1</td>\n",
       "      <td>1</td>\n",
       "      <td>1</td>\n",
       "      <td>1.0</td>\n",
       "      <td>FY 2024/25</td>\n",
       "      <td>0.00</td>\n",
       "      <td>0.00</td>\n",
       "      <td>1.363869e+06</td>\n",
       "      <td>2800.552136</td>\n",
       "      <td>0.00</td>\n",
       "      <td>0.000</td>\n",
       "      <td>...</td>\n",
       "      <td>False</td>\n",
       "      <td>False</td>\n",
       "      <td>False</td>\n",
       "      <td>False</td>\n",
       "      <td>False</td>\n",
       "      <td>False</td>\n",
       "      <td>False</td>\n",
       "      <td>False</td>\n",
       "      <td>False</td>\n",
       "      <td>False</td>\n",
       "      <td>False</td>\n",
       "      <td>False</td>\n",
       "      <td>False</td>\n",
       "      <td>False</td>\n",
       "      <td>False</td>\n",
       "      <td>False</td>\n",
       "      <td>True</td>\n",
       "      <td>False</td>\n",
       "      <td>False</td>\n",
       "      <td>False</td>\n",
       "      <td>False</td>\n",
       "      <td>True</td>\n",
       "    </tr>\n",
       "  </tbody>\n",
       "</table>\n",
       "<p>5 rows × 123 columns</p>\n",
       "</div>"
      ],
      "text/plain": [
       "     PO      Month Supplier/Vendor   \n",
       "0  1779 2024-08-01              FF  \\\n",
       "1  2114 2024-08-01              FF   \n",
       "2  2125 2024-08-01             VGJ   \n",
       "3  2125 2024-08-01             VGJ   \n",
       "4   372 2024-08-01             BNG   \n",
       "\n",
       "                                    Item Description   \n",
       "0  Kericho Kisumu Nandi Visits Accommodation Requ...  \\\n",
       "1  CREATIVE ACS Waste Managment from April to Jun...   \n",
       "2              Power Cable Per Meter Twin Flat 1 0MM   \n",
       "3                                          Jacks 1pc   \n",
       "4  PREVOIR PMQ 000660 MPA MFT RTS 2024 2025 OPEX ...   \n",
       "\n",
       "                 Product Type                      Product Name  Quantity   \n",
       "0       TRAVEL & ACCOMODATION                     ACCOMMODATION       1.0  \\\n",
       "1  SOFT FACILITIES MANAGEMENT                  WASTE MANAGEMENT       1.0   \n",
       "2          SECURITY EQUIPMENT  SECURITY EQUIPMENT & MAINTENANCE       1.0   \n",
       "3          SECURITY EQUIPMENT  SECURITY EQUIPMENT & MAINTENANCE       1.0   \n",
       "4     INFRASTRUCTURE SERVICES                          LICENSES       1.0   \n",
       "\n",
       "   Unit Price  PO Amount Closure Status Supplier Site  Line  Shipment   \n",
       "0     5508.47    5508.47           OPEN       NAIROBI     1         1  \\\n",
       "1     1000.00    1000.00         CLOSED       NAIROBI     5         1   \n",
       "2      150.00     150.00         CLOSED       NAIROBI     1         1   \n",
       "3       50.00      50.00         CLOSED       NAIROBI     3         1   \n",
       "4        0.00       0.00           OPEN      Physical     1         1   \n",
       "\n",
       "   Distribution Num  Distribution Ordered Quantity Financial Year   \n",
       "0                 1                            1.0     FY 2024/25  \\\n",
       "1                 1                            1.0     FY 2024/25   \n",
       "2                 1                            1.0     FY 2024/25   \n",
       "3                 1                            1.0     FY 2024/25   \n",
       "4                 1                            1.0     FY 2024/25   \n",
       "\n",
       "   OU Name_Total_Spend  OU Name_Avg_Spend  Type_Total_Spend  Type_Avg_Spend   \n",
       "0              5508.47            5508.47      1.363869e+06     2800.552136  \\\n",
       "1              1200.00             400.00      1.363869e+06     2800.552136   \n",
       "2              1200.00             400.00      2.275781e+06     3322.307429   \n",
       "3              1200.00             400.00      2.275781e+06     3322.307429   \n",
       "4                 0.00               0.00      1.363869e+06     2800.552136   \n",
       "\n",
       "   Supplier/Vendor_Total_Spend  Supplier/Vendor_Avg_Spend  ...   \n",
       "0                      6508.47                   3254.235  ...  \\\n",
       "1                      6508.47                   3254.235  ...   \n",
       "2                       200.00                    100.000  ...   \n",
       "3                       200.00                    100.000  ...   \n",
       "4                         0.00                      0.000  ...   \n",
       "\n",
       "   Department_Regional Sales & Operations - Nairobi Metropolitan   \n",
       "0                                              False              \\\n",
       "1                                              False               \n",
       "2                                              False               \n",
       "3                                              False               \n",
       "4                                              False               \n",
       "\n",
       "   Department_Regional Sales & Operations - Rift   \n",
       "0                                          False  \\\n",
       "1                                          False   \n",
       "2                                          False   \n",
       "3                                          False   \n",
       "4                                          False   \n",
       "\n",
       "   Department_Resources Cluster  Department_Segments Tribe   \n",
       "0                         False                      False  \\\n",
       "1                         False                      False   \n",
       "2                         False                      False   \n",
       "3                         False                      False   \n",
       "4                         False                      False   \n",
       "\n",
       "   Department_Service Management   \n",
       "0                          False  \\\n",
       "1                          False   \n",
       "2                          False   \n",
       "3                          False   \n",
       "4                          False   \n",
       "\n",
       "   Department_Supply Chain Management Department   \n",
       "0                                          False  \\\n",
       "1                                          False   \n",
       "2                                          False   \n",
       "3                                          False   \n",
       "4                                          False   \n",
       "\n",
       "   Department_Technology Enterprise Solutions Dept  Department_Terminals CoE   \n",
       "0                                            False                     False  \\\n",
       "1                                            False                     False   \n",
       "2                                            False                     False   \n",
       "3                                            False                     False   \n",
       "4                                            False                     False   \n",
       "\n",
       "   Division_Business Development Cluster  Division_Channels Cluster   \n",
       "0                                   True                      False  \\\n",
       "1                                  False                      False   \n",
       "2                                  False                      False   \n",
       "3                                  False                      False   \n",
       "4                                  False                      False   \n",
       "\n",
       "   Division_Consumer Business Unit  Division_Consumer Business Unit Cluster   \n",
       "0                            False                                    False  \\\n",
       "1                            False                                    False   \n",
       "2                            False                                    False   \n",
       "3                            False                                    False   \n",
       "4                            False                                    False   \n",
       "\n",
       "   Division_Corporate Affairs Cluster  Division_Corporate Security Cluster   \n",
       "0                               False                                False  \\\n",
       "1                               False                                False   \n",
       "2                               False                                False   \n",
       "3                               False                                False   \n",
       "4                               False                                False   \n",
       "\n",
       "   Division_Digital IT  Division_Finance Cluster   \n",
       "0                False                     False  \\\n",
       "1                False                     False   \n",
       "2                False                     False   \n",
       "3                False                     False   \n",
       "4                False                     False   \n",
       "\n",
       "   Division_Financial Services Cluster  Division_Human Resources Cluster   \n",
       "0                                False                             False  \\\n",
       "1                                 True                             False   \n",
       "2                                 True                             False   \n",
       "3                                 True                             False   \n",
       "4                                 True                             False   \n",
       "\n",
       "   Division_Network  Division_Technology Cluster  Expenditure Type_direct   \n",
       "0             False                        False                    False  \\\n",
       "1             False                        False                    False   \n",
       "2             False                        False                    False   \n",
       "3             False                        False                    False   \n",
       "4             False                        False                    False   \n",
       "\n",
       "   Expenditure Type_opex  \n",
       "0                   True  \n",
       "1                   True  \n",
       "2                   True  \n",
       "3                   True  \n",
       "4                   True  \n",
       "\n",
       "[5 rows x 123 columns]"
      ]
     },
     "execution_count": 47,
     "metadata": {},
     "output_type": "execute_result"
    }
   ],
   "source": [
    "df.head()"
   ]
  },
  {
   "cell_type": "code",
   "execution_count": 48,
   "metadata": {
    "id": "qV60x2euUeG_"
   },
   "outputs": [],
   "source": [
    "# Scaling\n",
    "numerical_cols = ['Quantity', 'Unit Price', 'PO Amount', 'Distribution Ordered Quantity']\n",
    "encoders = []\n",
    "for col in numerical_cols:\n",
    "    scaler = StandardScaler()\n",
    "    df[[col]] = scaler.fit_transform(df[[col]])\n",
    "    encoders.append(scaler)"
   ]
  },
  {
   "cell_type": "code",
   "execution_count": 49,
   "metadata": {
    "colab": {
     "base_uri": "https://localhost:8080/",
     "height": 585
    },
    "id": "pxMxrm8HUeHA",
    "outputId": "85d28ebb-18c2-4243-933f-fea9bac9aad0"
   },
   "outputs": [
    {
     "data": {
      "text/html": [
       "<div>\n",
       "<style scoped>\n",
       "    .dataframe tbody tr th:only-of-type {\n",
       "        vertical-align: middle;\n",
       "    }\n",
       "\n",
       "    .dataframe tbody tr th {\n",
       "        vertical-align: top;\n",
       "    }\n",
       "\n",
       "    .dataframe thead th {\n",
       "        text-align: right;\n",
       "    }\n",
       "</style>\n",
       "<table border=\"1\" class=\"dataframe\">\n",
       "  <thead>\n",
       "    <tr style=\"text-align: right;\">\n",
       "      <th></th>\n",
       "      <th>PO</th>\n",
       "      <th>Month</th>\n",
       "      <th>Supplier/Vendor</th>\n",
       "      <th>Item Description</th>\n",
       "      <th>Product Type</th>\n",
       "      <th>Product Name</th>\n",
       "      <th>Quantity</th>\n",
       "      <th>Unit Price</th>\n",
       "      <th>PO Amount</th>\n",
       "      <th>Closure Status</th>\n",
       "      <th>Supplier Site</th>\n",
       "      <th>Line</th>\n",
       "      <th>Shipment</th>\n",
       "      <th>Distribution Num</th>\n",
       "      <th>Distribution Ordered Quantity</th>\n",
       "      <th>Financial Year</th>\n",
       "      <th>OU Name_Total_Spend</th>\n",
       "      <th>OU Name_Avg_Spend</th>\n",
       "      <th>Type_Total_Spend</th>\n",
       "      <th>Type_Avg_Spend</th>\n",
       "      <th>Supplier/Vendor_Total_Spend</th>\n",
       "      <th>Supplier/Vendor_Avg_Spend</th>\n",
       "      <th>...</th>\n",
       "      <th>Department_Regional Sales &amp; Operations - Nairobi Metropolitan</th>\n",
       "      <th>Department_Regional Sales &amp; Operations - Rift</th>\n",
       "      <th>Department_Resources Cluster</th>\n",
       "      <th>Department_Segments Tribe</th>\n",
       "      <th>Department_Service Management</th>\n",
       "      <th>Department_Supply Chain Management Department</th>\n",
       "      <th>Department_Technology Enterprise Solutions Dept</th>\n",
       "      <th>Department_Terminals CoE</th>\n",
       "      <th>Division_Business Development Cluster</th>\n",
       "      <th>Division_Channels Cluster</th>\n",
       "      <th>Division_Consumer Business Unit</th>\n",
       "      <th>Division_Consumer Business Unit Cluster</th>\n",
       "      <th>Division_Corporate Affairs Cluster</th>\n",
       "      <th>Division_Corporate Security Cluster</th>\n",
       "      <th>Division_Digital IT</th>\n",
       "      <th>Division_Finance Cluster</th>\n",
       "      <th>Division_Financial Services Cluster</th>\n",
       "      <th>Division_Human Resources Cluster</th>\n",
       "      <th>Division_Network</th>\n",
       "      <th>Division_Technology Cluster</th>\n",
       "      <th>Expenditure Type_direct</th>\n",
       "      <th>Expenditure Type_opex</th>\n",
       "    </tr>\n",
       "  </thead>\n",
       "  <tbody>\n",
       "    <tr>\n",
       "      <th>0</th>\n",
       "      <td>1779</td>\n",
       "      <td>2024-08-01</td>\n",
       "      <td>FF</td>\n",
       "      <td>Kericho Kisumu Nandi Visits Accommodation Requ...</td>\n",
       "      <td>TRAVEL &amp; ACCOMODATION</td>\n",
       "      <td>ACCOMMODATION</td>\n",
       "      <td>-0.747629</td>\n",
       "      <td>1.184957</td>\n",
       "      <td>0.810012</td>\n",
       "      <td>OPEN</td>\n",
       "      <td>NAIROBI</td>\n",
       "      <td>1</td>\n",
       "      <td>1</td>\n",
       "      <td>1</td>\n",
       "      <td>-0.743323</td>\n",
       "      <td>FY 2024/25</td>\n",
       "      <td>5508.47</td>\n",
       "      <td>5508.47</td>\n",
       "      <td>1.363869e+06</td>\n",
       "      <td>2800.552136</td>\n",
       "      <td>6508.47</td>\n",
       "      <td>3254.235</td>\n",
       "      <td>...</td>\n",
       "      <td>False</td>\n",
       "      <td>False</td>\n",
       "      <td>False</td>\n",
       "      <td>False</td>\n",
       "      <td>False</td>\n",
       "      <td>False</td>\n",
       "      <td>False</td>\n",
       "      <td>False</td>\n",
       "      <td>True</td>\n",
       "      <td>False</td>\n",
       "      <td>False</td>\n",
       "      <td>False</td>\n",
       "      <td>False</td>\n",
       "      <td>False</td>\n",
       "      <td>False</td>\n",
       "      <td>False</td>\n",
       "      <td>False</td>\n",
       "      <td>False</td>\n",
       "      <td>False</td>\n",
       "      <td>False</td>\n",
       "      <td>False</td>\n",
       "      <td>True</td>\n",
       "    </tr>\n",
       "    <tr>\n",
       "      <th>1</th>\n",
       "      <td>2114</td>\n",
       "      <td>2024-08-01</td>\n",
       "      <td>FF</td>\n",
       "      <td>CREATIVE ACS Waste Managment from April to Jun...</td>\n",
       "      <td>SOFT FACILITIES MANAGEMENT</td>\n",
       "      <td>WASTE MANAGEMENT</td>\n",
       "      <td>-0.747629</td>\n",
       "      <td>-0.500991</td>\n",
       "      <td>-0.709740</td>\n",
       "      <td>CLOSED</td>\n",
       "      <td>NAIROBI</td>\n",
       "      <td>5</td>\n",
       "      <td>1</td>\n",
       "      <td>1</td>\n",
       "      <td>-0.743323</td>\n",
       "      <td>FY 2024/25</td>\n",
       "      <td>1200.00</td>\n",
       "      <td>400.00</td>\n",
       "      <td>1.363869e+06</td>\n",
       "      <td>2800.552136</td>\n",
       "      <td>6508.47</td>\n",
       "      <td>3254.235</td>\n",
       "      <td>...</td>\n",
       "      <td>False</td>\n",
       "      <td>False</td>\n",
       "      <td>False</td>\n",
       "      <td>False</td>\n",
       "      <td>False</td>\n",
       "      <td>False</td>\n",
       "      <td>False</td>\n",
       "      <td>False</td>\n",
       "      <td>False</td>\n",
       "      <td>False</td>\n",
       "      <td>False</td>\n",
       "      <td>False</td>\n",
       "      <td>False</td>\n",
       "      <td>False</td>\n",
       "      <td>False</td>\n",
       "      <td>False</td>\n",
       "      <td>True</td>\n",
       "      <td>False</td>\n",
       "      <td>False</td>\n",
       "      <td>False</td>\n",
       "      <td>False</td>\n",
       "      <td>True</td>\n",
       "    </tr>\n",
       "    <tr>\n",
       "      <th>2</th>\n",
       "      <td>2125</td>\n",
       "      <td>2024-08-01</td>\n",
       "      <td>VGJ</td>\n",
       "      <td>Power Cable Per Meter Twin Flat 1 0MM</td>\n",
       "      <td>SECURITY EQUIPMENT</td>\n",
       "      <td>SECURITY EQUIPMENT &amp; MAINTENANCE</td>\n",
       "      <td>-0.747629</td>\n",
       "      <td>-0.818849</td>\n",
       "      <td>-0.996266</td>\n",
       "      <td>CLOSED</td>\n",
       "      <td>NAIROBI</td>\n",
       "      <td>1</td>\n",
       "      <td>1</td>\n",
       "      <td>1</td>\n",
       "      <td>-0.743323</td>\n",
       "      <td>FY 2024/25</td>\n",
       "      <td>1200.00</td>\n",
       "      <td>400.00</td>\n",
       "      <td>2.275781e+06</td>\n",
       "      <td>3322.307429</td>\n",
       "      <td>200.00</td>\n",
       "      <td>100.000</td>\n",
       "      <td>...</td>\n",
       "      <td>False</td>\n",
       "      <td>False</td>\n",
       "      <td>False</td>\n",
       "      <td>False</td>\n",
       "      <td>False</td>\n",
       "      <td>False</td>\n",
       "      <td>False</td>\n",
       "      <td>False</td>\n",
       "      <td>False</td>\n",
       "      <td>False</td>\n",
       "      <td>False</td>\n",
       "      <td>False</td>\n",
       "      <td>False</td>\n",
       "      <td>False</td>\n",
       "      <td>False</td>\n",
       "      <td>False</td>\n",
       "      <td>True</td>\n",
       "      <td>False</td>\n",
       "      <td>False</td>\n",
       "      <td>False</td>\n",
       "      <td>False</td>\n",
       "      <td>True</td>\n",
       "    </tr>\n",
       "    <tr>\n",
       "      <th>3</th>\n",
       "      <td>2125</td>\n",
       "      <td>2024-08-01</td>\n",
       "      <td>VGJ</td>\n",
       "      <td>Jacks 1pc</td>\n",
       "      <td>SECURITY EQUIPMENT</td>\n",
       "      <td>SECURITY EQUIPMENT &amp; MAINTENANCE</td>\n",
       "      <td>-0.747629</td>\n",
       "      <td>-0.856244</td>\n",
       "      <td>-1.029974</td>\n",
       "      <td>CLOSED</td>\n",
       "      <td>NAIROBI</td>\n",
       "      <td>3</td>\n",
       "      <td>1</td>\n",
       "      <td>1</td>\n",
       "      <td>-0.743323</td>\n",
       "      <td>FY 2024/25</td>\n",
       "      <td>1200.00</td>\n",
       "      <td>400.00</td>\n",
       "      <td>2.275781e+06</td>\n",
       "      <td>3322.307429</td>\n",
       "      <td>200.00</td>\n",
       "      <td>100.000</td>\n",
       "      <td>...</td>\n",
       "      <td>False</td>\n",
       "      <td>False</td>\n",
       "      <td>False</td>\n",
       "      <td>False</td>\n",
       "      <td>False</td>\n",
       "      <td>False</td>\n",
       "      <td>False</td>\n",
       "      <td>False</td>\n",
       "      <td>False</td>\n",
       "      <td>False</td>\n",
       "      <td>False</td>\n",
       "      <td>False</td>\n",
       "      <td>False</td>\n",
       "      <td>False</td>\n",
       "      <td>False</td>\n",
       "      <td>False</td>\n",
       "      <td>True</td>\n",
       "      <td>False</td>\n",
       "      <td>False</td>\n",
       "      <td>False</td>\n",
       "      <td>False</td>\n",
       "      <td>True</td>\n",
       "    </tr>\n",
       "    <tr>\n",
       "      <th>4</th>\n",
       "      <td>372</td>\n",
       "      <td>2024-08-01</td>\n",
       "      <td>BNG</td>\n",
       "      <td>PREVOIR PMQ 000660 MPA MFT RTS 2024 2025 OPEX ...</td>\n",
       "      <td>INFRASTRUCTURE SERVICES</td>\n",
       "      <td>LICENSES</td>\n",
       "      <td>-0.747629</td>\n",
       "      <td>-0.874942</td>\n",
       "      <td>-1.046829</td>\n",
       "      <td>OPEN</td>\n",
       "      <td>Physical</td>\n",
       "      <td>1</td>\n",
       "      <td>1</td>\n",
       "      <td>1</td>\n",
       "      <td>-0.743323</td>\n",
       "      <td>FY 2024/25</td>\n",
       "      <td>0.00</td>\n",
       "      <td>0.00</td>\n",
       "      <td>1.363869e+06</td>\n",
       "      <td>2800.552136</td>\n",
       "      <td>0.00</td>\n",
       "      <td>0.000</td>\n",
       "      <td>...</td>\n",
       "      <td>False</td>\n",
       "      <td>False</td>\n",
       "      <td>False</td>\n",
       "      <td>False</td>\n",
       "      <td>False</td>\n",
       "      <td>False</td>\n",
       "      <td>False</td>\n",
       "      <td>False</td>\n",
       "      <td>False</td>\n",
       "      <td>False</td>\n",
       "      <td>False</td>\n",
       "      <td>False</td>\n",
       "      <td>False</td>\n",
       "      <td>False</td>\n",
       "      <td>False</td>\n",
       "      <td>False</td>\n",
       "      <td>True</td>\n",
       "      <td>False</td>\n",
       "      <td>False</td>\n",
       "      <td>False</td>\n",
       "      <td>False</td>\n",
       "      <td>True</td>\n",
       "    </tr>\n",
       "  </tbody>\n",
       "</table>\n",
       "<p>5 rows × 123 columns</p>\n",
       "</div>"
      ],
      "text/plain": [
       "     PO      Month Supplier/Vendor   \n",
       "0  1779 2024-08-01              FF  \\\n",
       "1  2114 2024-08-01              FF   \n",
       "2  2125 2024-08-01             VGJ   \n",
       "3  2125 2024-08-01             VGJ   \n",
       "4   372 2024-08-01             BNG   \n",
       "\n",
       "                                    Item Description   \n",
       "0  Kericho Kisumu Nandi Visits Accommodation Requ...  \\\n",
       "1  CREATIVE ACS Waste Managment from April to Jun...   \n",
       "2              Power Cable Per Meter Twin Flat 1 0MM   \n",
       "3                                          Jacks 1pc   \n",
       "4  PREVOIR PMQ 000660 MPA MFT RTS 2024 2025 OPEX ...   \n",
       "\n",
       "                 Product Type                      Product Name  Quantity   \n",
       "0       TRAVEL & ACCOMODATION                     ACCOMMODATION -0.747629  \\\n",
       "1  SOFT FACILITIES MANAGEMENT                  WASTE MANAGEMENT -0.747629   \n",
       "2          SECURITY EQUIPMENT  SECURITY EQUIPMENT & MAINTENANCE -0.747629   \n",
       "3          SECURITY EQUIPMENT  SECURITY EQUIPMENT & MAINTENANCE -0.747629   \n",
       "4     INFRASTRUCTURE SERVICES                          LICENSES -0.747629   \n",
       "\n",
       "   Unit Price  PO Amount Closure Status Supplier Site  Line  Shipment   \n",
       "0    1.184957   0.810012           OPEN       NAIROBI     1         1  \\\n",
       "1   -0.500991  -0.709740         CLOSED       NAIROBI     5         1   \n",
       "2   -0.818849  -0.996266         CLOSED       NAIROBI     1         1   \n",
       "3   -0.856244  -1.029974         CLOSED       NAIROBI     3         1   \n",
       "4   -0.874942  -1.046829           OPEN      Physical     1         1   \n",
       "\n",
       "   Distribution Num  Distribution Ordered Quantity Financial Year   \n",
       "0                 1                      -0.743323     FY 2024/25  \\\n",
       "1                 1                      -0.743323     FY 2024/25   \n",
       "2                 1                      -0.743323     FY 2024/25   \n",
       "3                 1                      -0.743323     FY 2024/25   \n",
       "4                 1                      -0.743323     FY 2024/25   \n",
       "\n",
       "   OU Name_Total_Spend  OU Name_Avg_Spend  Type_Total_Spend  Type_Avg_Spend   \n",
       "0              5508.47            5508.47      1.363869e+06     2800.552136  \\\n",
       "1              1200.00             400.00      1.363869e+06     2800.552136   \n",
       "2              1200.00             400.00      2.275781e+06     3322.307429   \n",
       "3              1200.00             400.00      2.275781e+06     3322.307429   \n",
       "4                 0.00               0.00      1.363869e+06     2800.552136   \n",
       "\n",
       "   Supplier/Vendor_Total_Spend  Supplier/Vendor_Avg_Spend  ...   \n",
       "0                      6508.47                   3254.235  ...  \\\n",
       "1                      6508.47                   3254.235  ...   \n",
       "2                       200.00                    100.000  ...   \n",
       "3                       200.00                    100.000  ...   \n",
       "4                         0.00                      0.000  ...   \n",
       "\n",
       "   Department_Regional Sales & Operations - Nairobi Metropolitan   \n",
       "0                                              False              \\\n",
       "1                                              False               \n",
       "2                                              False               \n",
       "3                                              False               \n",
       "4                                              False               \n",
       "\n",
       "   Department_Regional Sales & Operations - Rift   \n",
       "0                                          False  \\\n",
       "1                                          False   \n",
       "2                                          False   \n",
       "3                                          False   \n",
       "4                                          False   \n",
       "\n",
       "   Department_Resources Cluster  Department_Segments Tribe   \n",
       "0                         False                      False  \\\n",
       "1                         False                      False   \n",
       "2                         False                      False   \n",
       "3                         False                      False   \n",
       "4                         False                      False   \n",
       "\n",
       "   Department_Service Management   \n",
       "0                          False  \\\n",
       "1                          False   \n",
       "2                          False   \n",
       "3                          False   \n",
       "4                          False   \n",
       "\n",
       "   Department_Supply Chain Management Department   \n",
       "0                                          False  \\\n",
       "1                                          False   \n",
       "2                                          False   \n",
       "3                                          False   \n",
       "4                                          False   \n",
       "\n",
       "   Department_Technology Enterprise Solutions Dept  Department_Terminals CoE   \n",
       "0                                            False                     False  \\\n",
       "1                                            False                     False   \n",
       "2                                            False                     False   \n",
       "3                                            False                     False   \n",
       "4                                            False                     False   \n",
       "\n",
       "   Division_Business Development Cluster  Division_Channels Cluster   \n",
       "0                                   True                      False  \\\n",
       "1                                  False                      False   \n",
       "2                                  False                      False   \n",
       "3                                  False                      False   \n",
       "4                                  False                      False   \n",
       "\n",
       "   Division_Consumer Business Unit  Division_Consumer Business Unit Cluster   \n",
       "0                            False                                    False  \\\n",
       "1                            False                                    False   \n",
       "2                            False                                    False   \n",
       "3                            False                                    False   \n",
       "4                            False                                    False   \n",
       "\n",
       "   Division_Corporate Affairs Cluster  Division_Corporate Security Cluster   \n",
       "0                               False                                False  \\\n",
       "1                               False                                False   \n",
       "2                               False                                False   \n",
       "3                               False                                False   \n",
       "4                               False                                False   \n",
       "\n",
       "   Division_Digital IT  Division_Finance Cluster   \n",
       "0                False                     False  \\\n",
       "1                False                     False   \n",
       "2                False                     False   \n",
       "3                False                     False   \n",
       "4                False                     False   \n",
       "\n",
       "   Division_Financial Services Cluster  Division_Human Resources Cluster   \n",
       "0                                False                             False  \\\n",
       "1                                 True                             False   \n",
       "2                                 True                             False   \n",
       "3                                 True                             False   \n",
       "4                                 True                             False   \n",
       "\n",
       "   Division_Network  Division_Technology Cluster  Expenditure Type_direct   \n",
       "0             False                        False                    False  \\\n",
       "1             False                        False                    False   \n",
       "2             False                        False                    False   \n",
       "3             False                        False                    False   \n",
       "4             False                        False                    False   \n",
       "\n",
       "   Expenditure Type_opex  \n",
       "0                   True  \n",
       "1                   True  \n",
       "2                   True  \n",
       "3                   True  \n",
       "4                   True  \n",
       "\n",
       "[5 rows x 123 columns]"
      ]
     },
     "execution_count": 49,
     "metadata": {},
     "output_type": "execute_result"
    }
   ],
   "source": [
    "df.head()"
   ]
  },
  {
   "cell_type": "markdown",
   "metadata": {
    "id": "ttF_iLulUeHA"
   },
   "source": [
    "## Text preprocessing"
   ]
  },
  {
   "cell_type": "code",
   "execution_count": 50,
   "metadata": {
    "colab": {
     "base_uri": "https://localhost:8080/",
     "height": 269
    },
    "id": "KfOvaHBYUeHA",
    "outputId": "348852e1-9ecd-4fc0-8f3d-1a8ac2c0be81"
   },
   "outputs": [
    {
     "data": {
      "text/html": [
       "<div>\n",
       "<style scoped>\n",
       "    .dataframe tbody tr th:only-of-type {\n",
       "        vertical-align: middle;\n",
       "    }\n",
       "\n",
       "    .dataframe tbody tr th {\n",
       "        vertical-align: top;\n",
       "    }\n",
       "\n",
       "    .dataframe thead th {\n",
       "        text-align: right;\n",
       "    }\n",
       "</style>\n",
       "<table border=\"1\" class=\"dataframe\">\n",
       "  <thead>\n",
       "    <tr style=\"text-align: right;\">\n",
       "      <th></th>\n",
       "      <th>Item Description</th>\n",
       "    </tr>\n",
       "  </thead>\n",
       "  <tbody>\n",
       "    <tr>\n",
       "      <th>878</th>\n",
       "      <td>Wheel Alignment Toe KCJ 128K 185447kms Balanci...</td>\n",
       "    </tr>\n",
       "    <tr>\n",
       "      <th>1008</th>\n",
       "      <td>Nairobi One Way Saloon Airport Transfer 31 40km</td>\n",
       "    </tr>\n",
       "    <tr>\n",
       "      <th>766</th>\n",
       "      <td>Materials LC SC fiber patch cords 3m</td>\n",
       "    </tr>\n",
       "    <tr>\n",
       "      <th>689</th>\n",
       "      <td>Armed police facilities Extra Armed Police Dur...</td>\n",
       "    </tr>\n",
       "    <tr>\n",
       "      <th>1037</th>\n",
       "      <td>supp PO 2 CL Price Difference for PR 821044 Da...</td>\n",
       "    </tr>\n",
       "    <tr>\n",
       "      <th>1135</th>\n",
       "      <td>Clarence House Nairobi Deluxe Studio HB Cateri...</td>\n",
       "    </tr>\n",
       "    <tr>\n",
       "      <th>987</th>\n",
       "      <td>Transport</td>\n",
       "    </tr>\n",
       "  </tbody>\n",
       "</table>\n",
       "</div>"
      ],
      "text/plain": [
       "                                       Item Description\n",
       "878   Wheel Alignment Toe KCJ 128K 185447kms Balanci...\n",
       "1008   Nairobi One Way Saloon Airport Transfer 31 40km \n",
       "766                Materials LC SC fiber patch cords 3m\n",
       "689   Armed police facilities Extra Armed Police Dur...\n",
       "1037  supp PO 2 CL Price Difference for PR 821044 Da...\n",
       "1135  Clarence House Nairobi Deluxe Studio HB Cateri...\n",
       "987                                           Transport"
      ]
     },
     "execution_count": 50,
     "metadata": {},
     "output_type": "execute_result"
    }
   ],
   "source": [
    "df[[\"Item Description\"]].sample(7)"
   ]
  },
  {
   "cell_type": "code",
   "execution_count": 51,
   "metadata": {
    "colab": {
     "base_uri": "https://localhost:8080/",
     "height": 115
    },
    "id": "VGOvl7HyUeHA",
    "outputId": "a5611047-57ce-4e21-e116-43ceaedc18fc"
   },
   "outputs": [
    {
     "data": {
      "text/plain": [
       "Item Description    0\n",
       "dtype: int64"
      ]
     },
     "execution_count": 51,
     "metadata": {},
     "output_type": "execute_result"
    }
   ],
   "source": [
    "df[[\"Item Description\"]].isna().sum()"
   ]
  },
  {
   "cell_type": "markdown",
   "metadata": {
    "id": "kAL_IJsEUeHA"
   },
   "source": [
    "### Lowercasing\n",
    "Convert all `tweet_text` to lowercase to maintain consistency"
   ]
  },
  {
   "cell_type": "code",
   "execution_count": 52,
   "metadata": {
    "id": "_UxP5bh9UeHA"
   },
   "outputs": [],
   "source": [
    "df[\"Item Description Clean\"] = df[\"Item Description\"].str.lower()"
   ]
  },
  {
   "cell_type": "markdown",
   "metadata": {
    "id": "5wwvkQo_UeHA"
   },
   "source": [
    "We did lowercasing to make texts uniform"
   ]
  },
  {
   "cell_type": "markdown",
   "metadata": {
    "id": "pipTsY3HUeHA"
   },
   "source": [
    "**Function to handle text processing**"
   ]
  },
  {
   "cell_type": "code",
   "execution_count": 53,
   "metadata": {
    "id": "7VEeOg_GUeHA"
   },
   "outputs": [],
   "source": [
    "def text_pattern_check(process, pattern):\n",
    "    def extract_pattern(text):\n",
    "        if isinstance(text, str):\n",
    "            return re.findall(pattern, text)\n",
    "        return []\n",
    "\n",
    "    # apply pattern extraction\n",
    "    links_list = df['Item Description Clean'].apply(extract_pattern)\n",
    "\n",
    "    # flatten the list of lists\n",
    "    all_links = [link for sublist in links_list for link in sublist]\n",
    "\n",
    "    # check if anything was found\n",
    "    if all_links:\n",
    "        print(f\"{process} found in the dataset: {len(all_links)} matches\")\n",
    "        print(all_links[:5])  # optional: show a few samples\n",
    "    else:\n",
    "        print(f\"No {process} found.\")"
   ]
  },
  {
   "cell_type": "markdown",
   "metadata": {
    "id": "ouXS2iY3KyHz"
   },
   "source": [
    "- Replaced abreviation with its full form so as they won't be removed as stopwords"
   ]
  },
  {
   "cell_type": "markdown",
   "metadata": {
    "id": "go5-JZt_UeHB"
   },
   "source": [
    "**Removing pattern function**"
   ]
  },
  {
   "cell_type": "code",
   "execution_count": 54,
   "metadata": {
    "id": "rCNN0WTkeTsY"
   },
   "outputs": [],
   "source": [
    "def remove_pattern(pattern):\n",
    "    df[\"Item Description Clean\"] = df[\"Item Description Clean\"].apply(lambda x: re.sub(pattern, '', x))"
   ]
  },
  {
   "cell_type": "markdown",
   "metadata": {
    "id": "ez23DAoSeTsU"
   },
   "source": [
    "**Replacing abbreviation with its full form**"
   ]
  },
  {
   "cell_type": "code",
   "execution_count": 55,
   "metadata": {
    "id": "vlVyFQNIeTsU"
   },
   "outputs": [],
   "source": [
    "# loading abbreviation dictionary from abbr.txt\n",
    "with open('abbr.txt', 'r') as file:\n",
    "    abbr_dict = json.load(file)"
   ]
  },
  {
   "cell_type": "code",
   "execution_count": 56,
   "metadata": {
    "colab": {
     "base_uri": "https://localhost:8080/"
    },
    "id": "tn4E3qZEUeHB",
    "outputId": "c9db1c83-ed3f-4d5d-8db2-20cc14ae7c95"
   },
   "outputs": [
    {
     "name": "stdout",
     "output_type": "stream",
     "text": [
      "Abbreviations found in some texts. Here are a few examples:\n",
      "                                Item Description Clean\n",
      "18   misc tie wraps insulating tape cable lugs stap...\n",
      "54   highlight travel ltd domestic flight jm change...\n",
      "124  driver services other regions nakuru emarald a...\n",
      "125  car hire saloon vehicle daily nakuru emarald a...\n",
      "172  bcdtravel ltd supplementary pr for change of f...\n"
     ]
    }
   ],
   "source": [
    "def check_abbr():\n",
    "    # Function to check if a text contains any abbreviation\n",
    "    def contains_abbr(text):\n",
    "        return any(word in abbr_dict for word in text.split())\n",
    "\n",
    "    # Filter texts that contain abbreviations\n",
    "    abbr_text = df[df[\"Item Description Clean\"].apply(contains_abbr)]\n",
    "\n",
    "    # Check if any were found and print message + examples\n",
    "    if not abbr_text.empty:\n",
    "        print(\"Abbreviations found in some texts. Here are a few examples:\")\n",
    "        print(abbr_text[[\"Item Description Clean\"]].head(5))\n",
    "    else:\n",
    "        print(\"No abbreviations found in any texts.\")\n",
    "check_abbr()\n"
   ]
  },
  {
   "cell_type": "code",
   "execution_count": 57,
   "metadata": {
    "id": "URFzMQUoUeHB"
   },
   "outputs": [],
   "source": [
    "# expand abbreviations in a tweet\n",
    "def expand_abbr_in_tweet(text):\n",
    "    return \" \".join([abbr_dict.get(word, word) for word in text.split()])\n",
    "\n",
    "# apply the function to each tweet in the DataFrame\n",
    "df[\"Item Description Clean\"] = df[\"Item Description Clean\"].apply(expand_abbr_in_tweet)"
   ]
  },
  {
   "cell_type": "code",
   "execution_count": 58,
   "metadata": {
    "colab": {
     "base_uri": "https://localhost:8080/"
    },
    "id": "Eo_wVTeeUeHB",
    "outputId": "296a9db0-2fa0-4327-f6b4-758c7bf313e3"
   },
   "outputs": [
    {
     "name": "stdout",
     "output_type": "stream",
     "text": [
      "No abbreviations found in any texts.\n"
     ]
    }
   ],
   "source": [
    "check_abbr()"
   ]
  },
  {
   "cell_type": "markdown",
   "metadata": {
    "id": "A0lMwDy6eTsf"
   },
   "source": [
    "**Removing Punctuation**"
   ]
  },
  {
   "cell_type": "code",
   "execution_count": 59,
   "metadata": {
    "colab": {
     "base_uri": "https://localhost:8080/"
    },
    "id": "kHKQww19UeHD",
    "outputId": "0360e6da-5fa4-4f7c-b13e-cc0b023069f4"
   },
   "outputs": [
    {
     "name": "stdout",
     "output_type": "stream",
     "text": [
      "No punctuation found.\n"
     ]
    }
   ],
   "source": [
    "def check_punctuation():\n",
    "    rows = df[df[\"Item Description Clean\"].apply(lambda x: any(c in string.punctuation for c in x))]\n",
    "    if not rows.empty:\n",
    "        print(\"Punctuation found. Examples:\\n\", rows[\"Item Description Clean\"].head(5))\n",
    "    else:\n",
    "        print(\"No punctuation found.\")\n",
    "\n",
    "check_punctuation()"
   ]
  },
  {
   "cell_type": "code",
   "execution_count": 60,
   "metadata": {
    "id": "bYunnZ9neTsg"
   },
   "outputs": [],
   "source": [
    "# remove punctuation\n",
    "def remove_punctuation(text):\n",
    "    return text.translate(str.maketrans('', '', string.punctuation))\n",
    "\n",
    "# applying the function to the Item Description column\n",
    "df[\"Item Description Clean\"] = df[\"Item Description Clean\"].apply(remove_punctuation)"
   ]
  },
  {
   "cell_type": "code",
   "execution_count": 61,
   "metadata": {
    "colab": {
     "base_uri": "https://localhost:8080/"
    },
    "id": "J-9nW9xsUeHD",
    "outputId": "3efd457e-b2cc-4a22-d748-4f9e599d46b3"
   },
   "outputs": [
    {
     "name": "stdout",
     "output_type": "stream",
     "text": [
      "No punctuation found.\n"
     ]
    }
   ],
   "source": [
    "check_punctuation()"
   ]
  },
  {
   "cell_type": "markdown",
   "metadata": {
    "id": "DefqK-5neTsh"
   },
   "source": [
    "**Removing Stopwords**"
   ]
  },
  {
   "cell_type": "code",
   "execution_count": 62,
   "metadata": {
    "id": "9dhSlpAfeTsi"
   },
   "outputs": [],
   "source": [
    "# getting stopwords\n",
    "stopwords_list = stopwords.words('english')\n",
    "\n",
    "#removing punctuation from stopwords since punctuation have been removed\n",
    "stopwords_list= [word.translate(str.maketrans('', '', string.punctuation)) for word in stopwords_list]\n"
   ]
  },
  {
   "cell_type": "code",
   "execution_count": 63,
   "metadata": {
    "id": "i3ZUWfQ4eTsi"
   },
   "outputs": [],
   "source": [
    "for index in range(df[\"Item Description Clean\"].shape[0]):\n",
    "    text = df[\"Item Description Clean\"].iloc[index].split()\n",
    "    #removing stopwords from text\n",
    "    text_no_stopword = \" \".join([word for word in text if word not in stopwords_list])\n",
    "    df[\"Item Description Clean\"].iloc[index] = text_no_stopword"
   ]
  },
  {
   "cell_type": "markdown",
   "metadata": {
    "id": "Xlq_JhwHUeHD"
   },
   "source": [
    "### Tokenization"
   ]
  },
  {
   "cell_type": "code",
   "execution_count": 64,
   "metadata": {
    "id": "dXzXNy4LUeHD"
   },
   "outputs": [],
   "source": [
    "for index in range(df[\"Item Description Clean\"].shape[0]):\n",
    "    df[\"Item Description Clean\"].iloc[index] = word_tokenize(df[\"Item Description Clean\"].iloc[index])"
   ]
  },
  {
   "cell_type": "markdown",
   "metadata": {
    "id": "qBBRgDuGUeHD"
   },
   "source": [
    "### Lemmatization"
   ]
  },
  {
   "cell_type": "code",
   "execution_count": 65,
   "metadata": {
    "id": "8YuTCEpQUeHE"
   },
   "outputs": [],
   "source": [
    "lemmatizer = WordNetLemmatizer()\n",
    "\n",
    "for index in range(df[\"Item Description Clean\"].shape[0]):\n",
    "    text = df[\"Item Description Clean\"].iloc[index]\n",
    "    text =[lemmatizer.lemmatize(word) for word in text]\n",
    "    df[\"Item Description Clean\"].iloc[index] = text"
   ]
  },
  {
   "cell_type": "code",
   "execution_count": 66,
   "metadata": {
    "id": "5HEBSCDFUeHE"
   },
   "outputs": [],
   "source": [
    "# Prepared the text\n",
    "df['Item Description Clean'] = [\" \".join(text) for text in df['Item Description Clean']]\n"
   ]
  },
  {
   "cell_type": "code",
   "execution_count": 67,
   "metadata": {
    "colab": {
     "base_uri": "https://localhost:8080/",
     "height": 424
    },
    "id": "x0dr72jJUeHE",
    "outputId": "b1a788db-4b4d-4468-8140-f393047cd35d",
    "scrolled": true
   },
   "outputs": [
    {
     "data": {
      "text/html": [
       "<div>\n",
       "<style scoped>\n",
       "    .dataframe tbody tr th:only-of-type {\n",
       "        vertical-align: middle;\n",
       "    }\n",
       "\n",
       "    .dataframe tbody tr th {\n",
       "        vertical-align: top;\n",
       "    }\n",
       "\n",
       "    .dataframe thead th {\n",
       "        text-align: right;\n",
       "    }\n",
       "</style>\n",
       "<table border=\"1\" class=\"dataframe\">\n",
       "  <thead>\n",
       "    <tr style=\"text-align: right;\">\n",
       "      <th></th>\n",
       "      <th>Item Description</th>\n",
       "      <th>Item Description Clean</th>\n",
       "    </tr>\n",
       "  </thead>\n",
       "  <tbody>\n",
       "    <tr>\n",
       "      <th>0</th>\n",
       "      <td>Kericho Kisumu Nandi Visits Accommodation Requ...</td>\n",
       "      <td>kericho kisumu nandi visit accommodation reque...</td>\n",
       "    </tr>\n",
       "    <tr>\n",
       "      <th>1</th>\n",
       "      <td>CREATIVE ACS Waste Managment from April to Jun...</td>\n",
       "      <td>creative ac waste managment april june 2024 sc...</td>\n",
       "    </tr>\n",
       "    <tr>\n",
       "      <th>2</th>\n",
       "      <td>Power Cable Per Meter Twin Flat 1 0MM</td>\n",
       "      <td>power cable per meter twin flat 1 0mm</td>\n",
       "    </tr>\n",
       "    <tr>\n",
       "      <th>3</th>\n",
       "      <td>Jacks 1pc</td>\n",
       "      <td>jack 1pc</td>\n",
       "    </tr>\n",
       "    <tr>\n",
       "      <th>4</th>\n",
       "      <td>PREVOIR PMQ 000660 MPA MFT RTS 2024 2025 OPEX ...</td>\n",
       "      <td>prevoir pmq 000660 mpa mft rts 2024 2025 opex ...</td>\n",
       "    </tr>\n",
       "    <tr>\n",
       "      <th>...</th>\n",
       "      <td>...</td>\n",
       "      <td>...</td>\n",
       "    </tr>\n",
       "    <tr>\n",
       "      <th>1167</th>\n",
       "      <td>RSVP Call Contacters Meal Allowance</td>\n",
       "      <td>rsvp call contacters meal allowance</td>\n",
       "    </tr>\n",
       "    <tr>\n",
       "      <th>1168</th>\n",
       "      <td>FTTB config access router BTN 18 7 2024 124820</td>\n",
       "      <td>fttb config access router btn 18 7 2024 124820</td>\n",
       "    </tr>\n",
       "    <tr>\n",
       "      <th>1169</th>\n",
       "      <td>Materials Sleeve Anchors 12mm</td>\n",
       "      <td>material sleeve anchor 12mm</td>\n",
       "    </tr>\n",
       "    <tr>\n",
       "      <th>1170</th>\n",
       "      <td>FTTB fix the access router in the cabinet</td>\n",
       "      <td>fttb fix access router cabinet</td>\n",
       "    </tr>\n",
       "    <tr>\n",
       "      <th>1171</th>\n",
       "      <td>Sankara Hotel Catering Levy</td>\n",
       "      <td>sankara hotel catering levy</td>\n",
       "    </tr>\n",
       "  </tbody>\n",
       "</table>\n",
       "<p>1172 rows × 2 columns</p>\n",
       "</div>"
      ],
      "text/plain": [
       "                                       Item Description   \n",
       "0     Kericho Kisumu Nandi Visits Accommodation Requ...  \\\n",
       "1     CREATIVE ACS Waste Managment from April to Jun...   \n",
       "2                 Power Cable Per Meter Twin Flat 1 0MM   \n",
       "3                                             Jacks 1pc   \n",
       "4     PREVOIR PMQ 000660 MPA MFT RTS 2024 2025 OPEX ...   \n",
       "...                                                 ...   \n",
       "1167                RSVP Call Contacters Meal Allowance   \n",
       "1168     FTTB config access router BTN 18 7 2024 124820   \n",
       "1169                      Materials Sleeve Anchors 12mm   \n",
       "1170          FTTB fix the access router in the cabinet   \n",
       "1171                        Sankara Hotel Catering Levy   \n",
       "\n",
       "                                 Item Description Clean  \n",
       "0     kericho kisumu nandi visit accommodation reque...  \n",
       "1     creative ac waste managment april june 2024 sc...  \n",
       "2                 power cable per meter twin flat 1 0mm  \n",
       "3                                              jack 1pc  \n",
       "4     prevoir pmq 000660 mpa mft rts 2024 2025 opex ...  \n",
       "...                                                 ...  \n",
       "1167                rsvp call contacters meal allowance  \n",
       "1168     fttb config access router btn 18 7 2024 124820  \n",
       "1169                        material sleeve anchor 12mm  \n",
       "1170                     fttb fix access router cabinet  \n",
       "1171                        sankara hotel catering levy  \n",
       "\n",
       "[1172 rows x 2 columns]"
      ]
     },
     "execution_count": 67,
     "metadata": {},
     "output_type": "execute_result"
    }
   ],
   "source": [
    "df[[\"Item Description\",\"Item Description Clean\"]]"
   ]
  },
  {
   "cell_type": "code",
   "execution_count": 68,
   "metadata": {},
   "outputs": [],
   "source": [
    "df.to_excel(\"Data_Clean.xlsx\", index=False)"
   ]
  },
  {
   "cell_type": "markdown",
   "metadata": {
    "id": "Bx5pLgWzhasr"
   },
   "source": [
    "## Vectorizing"
   ]
  },
  {
   "cell_type": "code",
   "execution_count": 69,
   "metadata": {},
   "outputs": [
    {
     "data": {
      "text/plain": [
       "Index(['PO', 'Month', 'Supplier/Vendor', 'Item Description', 'Product Type',\n",
       "       'Product Name', 'Quantity', 'Unit Price', 'PO Amount', 'Closure Status',\n",
       "       'Supplier Site', 'Line', 'Shipment', 'Distribution Num',\n",
       "       'Distribution Ordered Quantity', 'Financial Year',\n",
       "       'OU Name_Total_Spend', 'OU Name_Avg_Spend', 'Type_Total_Spend',\n",
       "       'Type_Avg_Spend', 'Supplier/Vendor_Total_Spend',\n",
       "       'Supplier/Vendor_Avg_Spend', 'Buyer_Total_Spend', 'Buyer_Avg_Spend',\n",
       "       'Category Manager(s)_Total_Spend', 'Category Manager(s)_Avg_Spend',\n",
       "       'Department_Total_Spend', 'Department_Avg_Spend',\n",
       "       'Division_Total_Spend', 'Division_Avg_Spend'],\n",
       "      dtype='object')"
      ]
     },
     "execution_count": 69,
     "metadata": {},
     "output_type": "execute_result"
    }
   ],
   "source": [
    "df.columns[:30]"
   ]
  },
  {
   "cell_type": "code",
   "execution_count": 70,
   "metadata": {
    "colab": {
     "base_uri": "https://localhost:8080/",
     "height": 585
    },
    "id": "Mgz14uzEUeHE",
    "outputId": "2b2359f6-cfe3-4536-c63a-a616c02fdf72",
    "scrolled": true
   },
   "outputs": [
    {
     "data": {
      "text/html": [
       "<div>\n",
       "<style scoped>\n",
       "    .dataframe tbody tr th:only-of-type {\n",
       "        vertical-align: middle;\n",
       "    }\n",
       "\n",
       "    .dataframe tbody tr th {\n",
       "        vertical-align: top;\n",
       "    }\n",
       "\n",
       "    .dataframe thead th {\n",
       "        text-align: right;\n",
       "    }\n",
       "</style>\n",
       "<table border=\"1\" class=\"dataframe\">\n",
       "  <thead>\n",
       "    <tr style=\"text-align: right;\">\n",
       "      <th></th>\n",
       "      <th>PO</th>\n",
       "      <th>Month</th>\n",
       "      <th>Supplier/Vendor</th>\n",
       "      <th>Item Description</th>\n",
       "      <th>Product Type</th>\n",
       "      <th>Product Name</th>\n",
       "      <th>Quantity</th>\n",
       "      <th>Unit Price</th>\n",
       "      <th>PO Amount</th>\n",
       "      <th>Closure Status</th>\n",
       "      <th>Supplier Site</th>\n",
       "      <th>Line</th>\n",
       "      <th>Shipment</th>\n",
       "      <th>Distribution Num</th>\n",
       "      <th>Distribution Ordered Quantity</th>\n",
       "      <th>Financial Year</th>\n",
       "      <th>OU Name_Total_Spend</th>\n",
       "      <th>OU Name_Avg_Spend</th>\n",
       "      <th>Type_Total_Spend</th>\n",
       "      <th>Type_Avg_Spend</th>\n",
       "      <th>Supplier/Vendor_Total_Spend</th>\n",
       "      <th>Supplier/Vendor_Avg_Spend</th>\n",
       "      <th>...</th>\n",
       "      <th>with</th>\n",
       "      <th>within</th>\n",
       "      <th>women</th>\n",
       "      <th>wooden</th>\n",
       "      <th>woodlands</th>\n",
       "      <th>work</th>\n",
       "      <th>works</th>\n",
       "      <th>workshop</th>\n",
       "      <th>wraps</th>\n",
       "      <th>wycliffe</th>\n",
       "      <th>x10</th>\n",
       "      <th>x2</th>\n",
       "      <th>x35</th>\n",
       "      <th>x50m</th>\n",
       "      <th>xhp</th>\n",
       "      <th>xpress</th>\n",
       "      <th>ydx</th>\n",
       "      <th>year</th>\n",
       "      <th>yogo</th>\n",
       "      <th>young</th>\n",
       "      <th>youth</th>\n",
       "      <th>yvonne</th>\n",
       "    </tr>\n",
       "  </thead>\n",
       "  <tbody>\n",
       "    <tr>\n",
       "      <th>0</th>\n",
       "      <td>1779</td>\n",
       "      <td>2024-08-01</td>\n",
       "      <td>FF</td>\n",
       "      <td>Kericho Kisumu Nandi Visits Accommodation Requ...</td>\n",
       "      <td>TRAVEL &amp; ACCOMODATION</td>\n",
       "      <td>ACCOMMODATION</td>\n",
       "      <td>-0.747629</td>\n",
       "      <td>1.184957</td>\n",
       "      <td>0.810012</td>\n",
       "      <td>OPEN</td>\n",
       "      <td>NAIROBI</td>\n",
       "      <td>1</td>\n",
       "      <td>1</td>\n",
       "      <td>1</td>\n",
       "      <td>-0.743323</td>\n",
       "      <td>FY 2024/25</td>\n",
       "      <td>5508.47</td>\n",
       "      <td>5508.47</td>\n",
       "      <td>1.363869e+06</td>\n",
       "      <td>2800.552136</td>\n",
       "      <td>6508.47</td>\n",
       "      <td>3254.235</td>\n",
       "      <td>...</td>\n",
       "      <td>0.0</td>\n",
       "      <td>0.0</td>\n",
       "      <td>0.0</td>\n",
       "      <td>0.0</td>\n",
       "      <td>0.0</td>\n",
       "      <td>0.0</td>\n",
       "      <td>0.0</td>\n",
       "      <td>0.0</td>\n",
       "      <td>0.0</td>\n",
       "      <td>0.0</td>\n",
       "      <td>0.0</td>\n",
       "      <td>0.0</td>\n",
       "      <td>0.0</td>\n",
       "      <td>0.0</td>\n",
       "      <td>0.0</td>\n",
       "      <td>0.0</td>\n",
       "      <td>0.0</td>\n",
       "      <td>0.0</td>\n",
       "      <td>0.0</td>\n",
       "      <td>0.0</td>\n",
       "      <td>0.0</td>\n",
       "      <td>0.0</td>\n",
       "    </tr>\n",
       "    <tr>\n",
       "      <th>1</th>\n",
       "      <td>2114</td>\n",
       "      <td>2024-08-01</td>\n",
       "      <td>FF</td>\n",
       "      <td>CREATIVE ACS Waste Managment from April to Jun...</td>\n",
       "      <td>SOFT FACILITIES MANAGEMENT</td>\n",
       "      <td>WASTE MANAGEMENT</td>\n",
       "      <td>-0.747629</td>\n",
       "      <td>-0.500991</td>\n",
       "      <td>-0.709740</td>\n",
       "      <td>CLOSED</td>\n",
       "      <td>NAIROBI</td>\n",
       "      <td>5</td>\n",
       "      <td>1</td>\n",
       "      <td>1</td>\n",
       "      <td>-0.743323</td>\n",
       "      <td>FY 2024/25</td>\n",
       "      <td>1200.00</td>\n",
       "      <td>400.00</td>\n",
       "      <td>1.363869e+06</td>\n",
       "      <td>2800.552136</td>\n",
       "      <td>6508.47</td>\n",
       "      <td>3254.235</td>\n",
       "      <td>...</td>\n",
       "      <td>0.0</td>\n",
       "      <td>0.0</td>\n",
       "      <td>0.0</td>\n",
       "      <td>0.0</td>\n",
       "      <td>0.0</td>\n",
       "      <td>0.0</td>\n",
       "      <td>0.0</td>\n",
       "      <td>0.0</td>\n",
       "      <td>0.0</td>\n",
       "      <td>0.0</td>\n",
       "      <td>0.0</td>\n",
       "      <td>0.0</td>\n",
       "      <td>0.0</td>\n",
       "      <td>0.0</td>\n",
       "      <td>0.0</td>\n",
       "      <td>0.0</td>\n",
       "      <td>0.0</td>\n",
       "      <td>0.0</td>\n",
       "      <td>0.0</td>\n",
       "      <td>0.0</td>\n",
       "      <td>0.0</td>\n",
       "      <td>0.0</td>\n",
       "    </tr>\n",
       "    <tr>\n",
       "      <th>2</th>\n",
       "      <td>2125</td>\n",
       "      <td>2024-08-01</td>\n",
       "      <td>VGJ</td>\n",
       "      <td>Power Cable Per Meter Twin Flat 1 0MM</td>\n",
       "      <td>SECURITY EQUIPMENT</td>\n",
       "      <td>SECURITY EQUIPMENT &amp; MAINTENANCE</td>\n",
       "      <td>-0.747629</td>\n",
       "      <td>-0.818849</td>\n",
       "      <td>-0.996266</td>\n",
       "      <td>CLOSED</td>\n",
       "      <td>NAIROBI</td>\n",
       "      <td>1</td>\n",
       "      <td>1</td>\n",
       "      <td>1</td>\n",
       "      <td>-0.743323</td>\n",
       "      <td>FY 2024/25</td>\n",
       "      <td>1200.00</td>\n",
       "      <td>400.00</td>\n",
       "      <td>2.275781e+06</td>\n",
       "      <td>3322.307429</td>\n",
       "      <td>200.00</td>\n",
       "      <td>100.000</td>\n",
       "      <td>...</td>\n",
       "      <td>0.0</td>\n",
       "      <td>0.0</td>\n",
       "      <td>0.0</td>\n",
       "      <td>0.0</td>\n",
       "      <td>0.0</td>\n",
       "      <td>0.0</td>\n",
       "      <td>0.0</td>\n",
       "      <td>0.0</td>\n",
       "      <td>0.0</td>\n",
       "      <td>0.0</td>\n",
       "      <td>0.0</td>\n",
       "      <td>0.0</td>\n",
       "      <td>0.0</td>\n",
       "      <td>0.0</td>\n",
       "      <td>0.0</td>\n",
       "      <td>0.0</td>\n",
       "      <td>0.0</td>\n",
       "      <td>0.0</td>\n",
       "      <td>0.0</td>\n",
       "      <td>0.0</td>\n",
       "      <td>0.0</td>\n",
       "      <td>0.0</td>\n",
       "    </tr>\n",
       "    <tr>\n",
       "      <th>3</th>\n",
       "      <td>2125</td>\n",
       "      <td>2024-08-01</td>\n",
       "      <td>VGJ</td>\n",
       "      <td>Jacks 1pc</td>\n",
       "      <td>SECURITY EQUIPMENT</td>\n",
       "      <td>SECURITY EQUIPMENT &amp; MAINTENANCE</td>\n",
       "      <td>-0.747629</td>\n",
       "      <td>-0.856244</td>\n",
       "      <td>-1.029974</td>\n",
       "      <td>CLOSED</td>\n",
       "      <td>NAIROBI</td>\n",
       "      <td>3</td>\n",
       "      <td>1</td>\n",
       "      <td>1</td>\n",
       "      <td>-0.743323</td>\n",
       "      <td>FY 2024/25</td>\n",
       "      <td>1200.00</td>\n",
       "      <td>400.00</td>\n",
       "      <td>2.275781e+06</td>\n",
       "      <td>3322.307429</td>\n",
       "      <td>200.00</td>\n",
       "      <td>100.000</td>\n",
       "      <td>...</td>\n",
       "      <td>0.0</td>\n",
       "      <td>0.0</td>\n",
       "      <td>0.0</td>\n",
       "      <td>0.0</td>\n",
       "      <td>0.0</td>\n",
       "      <td>0.0</td>\n",
       "      <td>0.0</td>\n",
       "      <td>0.0</td>\n",
       "      <td>0.0</td>\n",
       "      <td>0.0</td>\n",
       "      <td>0.0</td>\n",
       "      <td>0.0</td>\n",
       "      <td>0.0</td>\n",
       "      <td>0.0</td>\n",
       "      <td>0.0</td>\n",
       "      <td>0.0</td>\n",
       "      <td>0.0</td>\n",
       "      <td>0.0</td>\n",
       "      <td>0.0</td>\n",
       "      <td>0.0</td>\n",
       "      <td>0.0</td>\n",
       "      <td>0.0</td>\n",
       "    </tr>\n",
       "    <tr>\n",
       "      <th>4</th>\n",
       "      <td>372</td>\n",
       "      <td>2024-08-01</td>\n",
       "      <td>BNG</td>\n",
       "      <td>PREVOIR PMQ 000660 MPA MFT RTS 2024 2025 OPEX ...</td>\n",
       "      <td>INFRASTRUCTURE SERVICES</td>\n",
       "      <td>LICENSES</td>\n",
       "      <td>-0.747629</td>\n",
       "      <td>-0.874942</td>\n",
       "      <td>-1.046829</td>\n",
       "      <td>OPEN</td>\n",
       "      <td>Physical</td>\n",
       "      <td>1</td>\n",
       "      <td>1</td>\n",
       "      <td>1</td>\n",
       "      <td>-0.743323</td>\n",
       "      <td>FY 2024/25</td>\n",
       "      <td>0.00</td>\n",
       "      <td>0.00</td>\n",
       "      <td>1.363869e+06</td>\n",
       "      <td>2800.552136</td>\n",
       "      <td>0.00</td>\n",
       "      <td>0.000</td>\n",
       "      <td>...</td>\n",
       "      <td>0.0</td>\n",
       "      <td>0.0</td>\n",
       "      <td>0.0</td>\n",
       "      <td>0.0</td>\n",
       "      <td>0.0</td>\n",
       "      <td>0.0</td>\n",
       "      <td>0.0</td>\n",
       "      <td>0.0</td>\n",
       "      <td>0.0</td>\n",
       "      <td>0.0</td>\n",
       "      <td>0.0</td>\n",
       "      <td>0.0</td>\n",
       "      <td>0.0</td>\n",
       "      <td>0.0</td>\n",
       "      <td>0.0</td>\n",
       "      <td>0.0</td>\n",
       "      <td>0.0</td>\n",
       "      <td>0.0</td>\n",
       "      <td>0.0</td>\n",
       "      <td>0.0</td>\n",
       "      <td>0.0</td>\n",
       "      <td>0.0</td>\n",
       "    </tr>\n",
       "  </tbody>\n",
       "</table>\n",
       "<p>5 rows × 2230 columns</p>\n",
       "</div>"
      ],
      "text/plain": [
       "     PO      Month Supplier/Vendor   \n",
       "0  1779 2024-08-01              FF  \\\n",
       "1  2114 2024-08-01              FF   \n",
       "2  2125 2024-08-01             VGJ   \n",
       "3  2125 2024-08-01             VGJ   \n",
       "4   372 2024-08-01             BNG   \n",
       "\n",
       "                                    Item Description   \n",
       "0  Kericho Kisumu Nandi Visits Accommodation Requ...  \\\n",
       "1  CREATIVE ACS Waste Managment from April to Jun...   \n",
       "2              Power Cable Per Meter Twin Flat 1 0MM   \n",
       "3                                          Jacks 1pc   \n",
       "4  PREVOIR PMQ 000660 MPA MFT RTS 2024 2025 OPEX ...   \n",
       "\n",
       "                 Product Type                      Product Name  Quantity   \n",
       "0       TRAVEL & ACCOMODATION                     ACCOMMODATION -0.747629  \\\n",
       "1  SOFT FACILITIES MANAGEMENT                  WASTE MANAGEMENT -0.747629   \n",
       "2          SECURITY EQUIPMENT  SECURITY EQUIPMENT & MAINTENANCE -0.747629   \n",
       "3          SECURITY EQUIPMENT  SECURITY EQUIPMENT & MAINTENANCE -0.747629   \n",
       "4     INFRASTRUCTURE SERVICES                          LICENSES -0.747629   \n",
       "\n",
       "   Unit Price  PO Amount Closure Status Supplier Site  Line  Shipment   \n",
       "0    1.184957   0.810012           OPEN       NAIROBI     1         1  \\\n",
       "1   -0.500991  -0.709740         CLOSED       NAIROBI     5         1   \n",
       "2   -0.818849  -0.996266         CLOSED       NAIROBI     1         1   \n",
       "3   -0.856244  -1.029974         CLOSED       NAIROBI     3         1   \n",
       "4   -0.874942  -1.046829           OPEN      Physical     1         1   \n",
       "\n",
       "   Distribution Num  Distribution Ordered Quantity Financial Year   \n",
       "0                 1                      -0.743323     FY 2024/25  \\\n",
       "1                 1                      -0.743323     FY 2024/25   \n",
       "2                 1                      -0.743323     FY 2024/25   \n",
       "3                 1                      -0.743323     FY 2024/25   \n",
       "4                 1                      -0.743323     FY 2024/25   \n",
       "\n",
       "   OU Name_Total_Spend  OU Name_Avg_Spend  Type_Total_Spend  Type_Avg_Spend   \n",
       "0              5508.47            5508.47      1.363869e+06     2800.552136  \\\n",
       "1              1200.00             400.00      1.363869e+06     2800.552136   \n",
       "2              1200.00             400.00      2.275781e+06     3322.307429   \n",
       "3              1200.00             400.00      2.275781e+06     3322.307429   \n",
       "4                 0.00               0.00      1.363869e+06     2800.552136   \n",
       "\n",
       "   Supplier/Vendor_Total_Spend  Supplier/Vendor_Avg_Spend  ...  with  within   \n",
       "0                      6508.47                   3254.235  ...   0.0     0.0  \\\n",
       "1                      6508.47                   3254.235  ...   0.0     0.0   \n",
       "2                       200.00                    100.000  ...   0.0     0.0   \n",
       "3                       200.00                    100.000  ...   0.0     0.0   \n",
       "4                         0.00                      0.000  ...   0.0     0.0   \n",
       "\n",
       "   women  wooden  woodlands  work  works  workshop  wraps  wycliffe  x10   x2   \n",
       "0    0.0     0.0        0.0   0.0    0.0       0.0    0.0       0.0  0.0  0.0  \\\n",
       "1    0.0     0.0        0.0   0.0    0.0       0.0    0.0       0.0  0.0  0.0   \n",
       "2    0.0     0.0        0.0   0.0    0.0       0.0    0.0       0.0  0.0  0.0   \n",
       "3    0.0     0.0        0.0   0.0    0.0       0.0    0.0       0.0  0.0  0.0   \n",
       "4    0.0     0.0        0.0   0.0    0.0       0.0    0.0       0.0  0.0  0.0   \n",
       "\n",
       "   x35  x50m  xhp  xpress  ydx  year  yogo  young  youth  yvonne  \n",
       "0  0.0   0.0  0.0     0.0  0.0   0.0   0.0    0.0    0.0     0.0  \n",
       "1  0.0   0.0  0.0     0.0  0.0   0.0   0.0    0.0    0.0     0.0  \n",
       "2  0.0   0.0  0.0     0.0  0.0   0.0   0.0    0.0    0.0     0.0  \n",
       "3  0.0   0.0  0.0     0.0  0.0   0.0   0.0    0.0    0.0     0.0  \n",
       "4  0.0   0.0  0.0     0.0  0.0   0.0   0.0    0.0    0.0     0.0  \n",
       "\n",
       "[5 rows x 2230 columns]"
      ]
     },
     "execution_count": 70,
     "metadata": {},
     "output_type": "execute_result"
    }
   ],
   "source": [
    "from sklearn.feature_extraction.text import  TfidfVectorizer\n",
    "tfidf_vect = TfidfVectorizer()\n",
    "tfidf_matrix = tfidf_vect.fit_transform(df['Item Description'])\n",
    "tfidf = pd.DataFrame(tfidf_matrix.toarray(), columns=tfidf_vect.get_feature_names())\n",
    "\n",
    "df = pd.concat([df,tfidf], axis=1)\n",
    "\n",
    "# Now df contains the embeddings as a new column\n",
    "df.head(5)"
   ]
  },
  {
   "cell_type": "markdown",
   "metadata": {
    "id": "9pprzPb0oC1V"
   },
   "source": [
    "## MODELING"
   ]
  },
  {
   "cell_type": "markdown",
   "metadata": {},
   "source": [
    "## Product Name Categorization"
   ]
  },
  {
   "cell_type": "markdown",
   "metadata": {},
   "source": [
    "### Logistic Regression"
   ]
  },
  {
   "cell_type": "code",
   "execution_count": 71,
   "metadata": {},
   "outputs": [
    {
     "name": "stdout",
     "output_type": "stream",
     "text": [
      "                                     precision    recall  f1-score   support\n",
      "\n",
      "                      ACCOMMODATION       0.72      1.00      0.83        93\n",
      "              AGENCY SERVICES - BTL       0.65      0.89      0.76        19\n",
      "AGENCY SERVICES - EVENTS MANAGEMENT       0.00      0.00      0.00         1\n",
      " AGENCY SERVICES - SALES ACTIVATION       0.00      0.00      0.00         2\n",
      "           AGENCY SERVICES - TRAVEL       0.00      0.00      0.00         1\n",
      "            ATL PRODUCTION SERVICES       0.00      0.00      0.00         1\n",
      "                      BOOKING TOOLS       0.00      0.00      0.00         1\n",
      "                    BTS MAINTENANCE       0.50      0.50      0.50         2\n",
      "                           CAR HIRE       1.00      1.00      1.00         9\n",
      "                    CARPENTRY WORKS       1.00      0.75      0.86         4\n",
      "             CATERING & HOSPITALITY       0.00      0.00      0.00         6\n",
      "                    DEBT COLLECTION       0.00      0.00      0.00         1\n",
      "                   DOMESTIC FLIGHTS       1.00      0.50      0.67         4\n",
      "          ELECTRICAL WORKS/SERVICES       1.00      0.67      0.80         3\n",
      "                     FIBRE SERVICES       0.00      0.00      0.00         2\n",
      "FIXED NETWORK INSTALLATION SERVICES       0.75      0.75      0.75         8\n",
      "                           GUARDING       1.00      1.00      1.00         8\n",
      "            MAIL & COURIER SERVICES       0.00      0.00      0.00         1\n",
      "      MEDIA ADVERTISING - TV/CINEMA       0.00      0.00      0.00         1\n",
      "             MEETINGS & CONFERENCES       0.00      0.00      0.00         4\n",
      "      MOTOR VEHICLE GENERAL REPAIRS       1.00      1.00      1.00        25\n",
      "              MOTOR VEHICLE SERVICE       1.00      1.00      1.00         8\n",
      "               MOTOR VEHICLE SPARES       1.00      1.00      1.00         1\n",
      "                  OFFICE STATIONERY       0.00      0.00      0.00         5\n",
      "                     PLUMBING WORKS       1.00      1.00      1.00         4\n",
      "            PROMOTIONAL MERCHANDISE       1.00      0.33      0.50         3\n",
      " RADIO - INSTALLATION/COMMISSIONING       0.00      0.00      0.00         2\n",
      "                  RADIO ACCESSORIES       0.00      0.00      0.00         1\n",
      "         RAIL TRANSPORT & TRANSFERS       0.00      0.00      0.00         1\n",
      "               REWARD & RECOGNITION       0.00      0.00      0.00         1\n",
      "                   SALES ACTIVATION       0.00      0.00      0.00         2\n",
      "   SECURITY EQUIPMENT & MAINTENANCE       0.00      0.00      0.00         7\n",
      "                           SIMCARDS       0.60      0.75      0.67         4\n",
      "\n",
      "                           accuracy                           0.78       235\n",
      "                          macro avg       0.40      0.37      0.37       235\n",
      "                       weighted avg       0.67      0.78      0.71       235\n",
      "\n"
     ]
    }
   ],
   "source": [
    "X_train,X_test,y_train,y_test = train_test_split(df['Item Description Clean'],df['Product Name'],test_size=0.2,random_state=42)\n",
    "vectorizer = TfidfVectorizer(max_features = 1000)\n",
    "X_train_vec = vectorizer.fit_transform(X_train)\n",
    "X_test_vec = vectorizer.transform(X_test)\n",
    "classifier = LogisticRegression()\n",
    "classifier.fit(X_train_vec,y_train)\n",
    "y_pred = classifier.predict(X_test_vec)\n",
    "print(classification_report(y_test,classifier.predict(X_test_vec)))\n",
    "df[\"Predicted Product Name\"] = classifier.predict(vectorizer.transform(df['Item Description Clean']))\n"
   ]
  },
  {
   "cell_type": "markdown",
   "metadata": {},
   "source": [
    "### Random Forest Classifier"
   ]
  },
  {
   "cell_type": "code",
   "execution_count": 72,
   "metadata": {},
   "outputs": [
    {
     "name": "stdout",
     "output_type": "stream",
     "text": [
      "                                         precision    recall  f1-score   support\n",
      "\n",
      "                          ACCOMMODATION       0.88      0.99      0.93        93\n",
      "                  AGENCY SERVICES - BTL       0.75      0.79      0.77        19\n",
      "    AGENCY SERVICES - EVENTS MANAGEMENT       0.00      0.00      0.00         1\n",
      "AGENCY SERVICES - EXPERIENTIAL SERVICES       0.00      0.00      0.00         0\n",
      "     AGENCY SERVICES - SALES ACTIVATION       0.00      0.00      0.00         2\n",
      "               AGENCY SERVICES - TRAVEL       0.00      0.00      0.00         1\n",
      "                ATL PRODUCTION SERVICES       1.00      1.00      1.00         1\n",
      "                          BOOKING TOOLS       1.00      1.00      1.00         1\n",
      "                        BTS MAINTENANCE       0.50      1.00      0.67         2\n",
      "                               CAR HIRE       1.00      1.00      1.00         9\n",
      "                        CARPENTRY WORKS       1.00      1.00      1.00         4\n",
      "                 CATERING & HOSPITALITY       1.00      0.17      0.29         6\n",
      "                        DEBT COLLECTION       0.00      0.00      0.00         1\n",
      "                       DOMESTIC FLIGHTS       1.00      0.50      0.67         4\n",
      "              ELECTRICAL WORKS/SERVICES       0.50      0.67      0.57         3\n",
      "                      EVENTS MANAGEMENT       0.00      0.00      0.00         0\n",
      "                         FIBRE SERVICES       1.00      1.00      1.00         2\n",
      "    FIXED NETWORK INSTALLATION SERVICES       0.83      0.62      0.71         8\n",
      "                               GUARDING       1.00      1.00      1.00         8\n",
      "                MAIL & COURIER SERVICES       1.00      1.00      1.00         1\n",
      "          MEDIA ADVERTISING - TV/CINEMA       0.00      0.00      0.00         1\n",
      "                 MEETINGS & CONFERENCES       1.00      0.25      0.40         4\n",
      "          MOTOR VEHICLE GENERAL REPAIRS       1.00      1.00      1.00        25\n",
      "                  MOTOR VEHICLE SERVICE       1.00      1.00      1.00         8\n",
      "                   MOTOR VEHICLE SPARES       1.00      1.00      1.00         1\n",
      "                      OFFICE STATIONERY       1.00      0.40      0.57         5\n",
      "                         PLUMBING WORKS       1.00      1.00      1.00         4\n",
      "                PROMOTIONAL MERCHANDISE       1.00      0.67      0.80         3\n",
      "     RADIO - INSTALLATION/COMMISSIONING       0.00      0.00      0.00         2\n",
      "                      RADIO ACCESSORIES       1.00      1.00      1.00         1\n",
      "             RAIL TRANSPORT & TRANSFERS       0.00      0.00      0.00         1\n",
      "                   REWARD & RECOGNITION       0.00      0.00      0.00         1\n",
      "                       SALES ACTIVATION       0.00      0.00      0.00         2\n",
      "       SECURITY EQUIPMENT & MAINTENANCE       0.46      0.86      0.60         7\n",
      "                               SIMCARDS       0.57      1.00      0.73         4\n",
      "\n",
      "                               accuracy                           0.85       235\n",
      "                              macro avg       0.61      0.57      0.56       235\n",
      "                           weighted avg       0.84      0.85      0.82       235\n",
      "\n"
     ]
    }
   ],
   "source": [
    "classifier = RandomForestClassifier(random_state=42, n_estimators=100)\n",
    "\n",
    "classifier.fit(X_train_vec, y_train)\n",
    "\n",
    "y_pred = classifier.predict(X_test_vec)\n",
    "\n",
    "print(classification_report(y_test, y_pred))"
   ]
  },
  {
   "cell_type": "markdown",
   "metadata": {},
   "source": [
    "### XGBoost Classifier"
   ]
  },
  {
   "cell_type": "code",
   "execution_count": 73,
   "metadata": {},
   "outputs": [
    {
     "name": "stdout",
     "output_type": "stream",
     "text": [
      "                                         precision    recall  f1-score   support\n",
      "\n",
      "                          ACCOMMODATION       0.91      0.98      0.94        93\n",
      "                  AGENCY SERVICES - BTL       0.75      0.79      0.77        19\n",
      "    AGENCY SERVICES - EVENTS MANAGEMENT       0.00      0.00      0.00         1\n",
      "AGENCY SERVICES - EXPERIENTIAL SERVICES       0.00      0.00      0.00         0\n",
      "     AGENCY SERVICES - SALES ACTIVATION       0.00      0.00      0.00         2\n",
      "               AGENCY SERVICES - TRAVEL       0.00      0.00      0.00         1\n",
      "                ATL PRODUCTION SERVICES       1.00      1.00      1.00         1\n",
      "                          BOOKING TOOLS       0.00      0.00      0.00         1\n",
      "                        BTS MAINTENANCE       0.67      1.00      0.80         2\n",
      "                               CAR HIRE       1.00      1.00      1.00         9\n",
      "                        CARPENTRY WORKS       1.00      1.00      1.00         4\n",
      "                 CATERING & HOSPITALITY       1.00      0.33      0.50         6\n",
      "                        DEBT COLLECTION       0.00      0.00      0.00         1\n",
      "                       DOMESTIC FLIGHTS       0.60      0.75      0.67         4\n",
      "              ELECTRICAL WORKS/SERVICES       0.33      0.33      0.33         3\n",
      "                         FIBRE SERVICES       1.00      1.00      1.00         2\n",
      "    FIXED NETWORK INSTALLATION SERVICES       0.75      0.75      0.75         8\n",
      "                               GUARDING       1.00      1.00      1.00         8\n",
      "                  IT STRUCTURED CABLING       0.00      0.00      0.00         0\n",
      "                MAIL & COURIER SERVICES       0.50      1.00      0.67         1\n",
      "          MEDIA ADVERTISING - TV/CINEMA       0.00      0.00      0.00         1\n",
      "                 MEETINGS & CONFERENCES       0.67      0.50      0.57         4\n",
      "          MOTOR VEHICLE GENERAL REPAIRS       0.96      0.96      0.96        25\n",
      "                  MOTOR VEHICLE SERVICE       1.00      1.00      1.00         8\n",
      "                   MOTOR VEHICLE SPARES       1.00      1.00      1.00         1\n",
      "                      OFFICE STATIONERY       0.00      0.00      0.00         5\n",
      "                         PLUMBING WORKS       1.00      0.75      0.86         4\n",
      "                PROMOTIONAL MERCHANDISE       1.00      0.33      0.50         3\n",
      "     RADIO - INSTALLATION/COMMISSIONING       0.00      0.00      0.00         2\n",
      "                      RADIO ACCESSORIES       1.00      1.00      1.00         1\n",
      "             RAIL TRANSPORT & TRANSFERS       0.00      0.00      0.00         1\n",
      "                   REWARD & RECOGNITION       0.00      0.00      0.00         1\n",
      "                       SALES ACTIVATION       0.00      0.00      0.00         2\n",
      "       SECURITY EQUIPMENT & MAINTENANCE       0.00      0.00      0.00         7\n",
      "                               SIMCARDS       0.60      0.75      0.67         4\n",
      "          SPECIALIZED SECURITY SERVICES       0.00      0.00      0.00         0\n",
      "\n",
      "                               accuracy                           0.80       235\n",
      "                              macro avg       0.49      0.48      0.47       235\n",
      "                           weighted avg       0.79      0.80      0.79       235\n",
      "\n"
     ]
    }
   ],
   "source": [
    "label_encoder = LabelEncoder()\n",
    "y_train_encoded = label_encoder.fit_transform(y_train)\n",
    "\n",
    "classifier = XGBClassifier(use_label_encoder=False, eval_metric='mlogloss', random_state=42)\n",
    "classifier.fit(X_train_vec, y_train_encoded)\n",
    "\n",
    "y_pred_encoded = classifier.predict(X_test_vec)\n",
    "y_pred = label_encoder.inverse_transform(y_pred_encoded)\n",
    "\n",
    "print(classification_report(y_test, y_pred))\n"
   ]
  },
  {
   "cell_type": "markdown",
   "metadata": {},
   "source": [
    "### Feedforward neural network"
   ]
  },
  {
   "cell_type": "code",
   "execution_count": 74,
   "metadata": {},
   "outputs": [
    {
     "name": "stdout",
     "output_type": "stream",
     "text": [
      "Epoch 1/50\n",
      "27/27 [==============================] - 1s 12ms/step - loss: 3.6086 - accuracy: 0.3345 - val_loss: 2.8518 - val_accuracy: 0.3723\n",
      "Epoch 2/50\n",
      "27/27 [==============================] - 0s 3ms/step - loss: 2.3393 - accuracy: 0.3772 - val_loss: 1.9859 - val_accuracy: 0.4894\n",
      "Epoch 3/50\n",
      "27/27 [==============================] - 0s 4ms/step - loss: 1.7459 - accuracy: 0.5469 - val_loss: 1.4960 - val_accuracy: 0.6064\n",
      "Epoch 4/50\n",
      "27/27 [==============================] - 0s 4ms/step - loss: 1.2649 - accuracy: 0.7106 - val_loss: 1.0710 - val_accuracy: 0.7447\n",
      "Epoch 5/50\n",
      "27/27 [==============================] - 0s 4ms/step - loss: 0.8978 - accuracy: 0.7924 - val_loss: 0.7982 - val_accuracy: 0.8085\n",
      "Epoch 6/50\n",
      "27/27 [==============================] - 0s 4ms/step - loss: 0.6522 - accuracy: 0.8612 - val_loss: 0.6292 - val_accuracy: 0.8830\n",
      "Epoch 7/50\n",
      "27/27 [==============================] - 0s 3ms/step - loss: 0.4750 - accuracy: 0.9098 - val_loss: 0.5432 - val_accuracy: 0.8936\n",
      "Epoch 8/50\n",
      "27/27 [==============================] - 0s 4ms/step - loss: 0.3593 - accuracy: 0.9253 - val_loss: 0.4863 - val_accuracy: 0.9043\n",
      "Epoch 9/50\n",
      "27/27 [==============================] - 0s 4ms/step - loss: 0.2789 - accuracy: 0.9419 - val_loss: 0.4577 - val_accuracy: 0.9149\n",
      "Epoch 10/50\n",
      "27/27 [==============================] - 0s 4ms/step - loss: 0.2283 - accuracy: 0.9490 - val_loss: 0.4385 - val_accuracy: 0.9149\n",
      "Epoch 11/50\n",
      "27/27 [==============================] - 0s 3ms/step - loss: 0.1886 - accuracy: 0.9597 - val_loss: 0.4365 - val_accuracy: 0.9149\n",
      "Epoch 12/50\n",
      "27/27 [==============================] - 0s 4ms/step - loss: 0.1607 - accuracy: 0.9656 - val_loss: 0.4262 - val_accuracy: 0.9149\n",
      "Epoch 13/50\n",
      "27/27 [==============================] - 0s 4ms/step - loss: 0.1396 - accuracy: 0.9715 - val_loss: 0.4088 - val_accuracy: 0.9149\n",
      "Epoch 14/50\n",
      "27/27 [==============================] - 0s 3ms/step - loss: 0.1209 - accuracy: 0.9680 - val_loss: 0.4077 - val_accuracy: 0.9255\n",
      "Epoch 15/50\n",
      "27/27 [==============================] - 0s 4ms/step - loss: 0.1077 - accuracy: 0.9703 - val_loss: 0.4020 - val_accuracy: 0.9362\n",
      "Epoch 16/50\n",
      "27/27 [==============================] - 0s 4ms/step - loss: 0.0933 - accuracy: 0.9798 - val_loss: 0.4072 - val_accuracy: 0.9362\n",
      "Epoch 17/50\n",
      "27/27 [==============================] - 0s 4ms/step - loss: 0.0838 - accuracy: 0.9810 - val_loss: 0.4004 - val_accuracy: 0.9362\n",
      "Epoch 18/50\n",
      "27/27 [==============================] - 0s 4ms/step - loss: 0.0836 - accuracy: 0.9798 - val_loss: 0.4069 - val_accuracy: 0.9149\n",
      "Epoch 19/50\n",
      "27/27 [==============================] - 0s 4ms/step - loss: 0.0682 - accuracy: 0.9822 - val_loss: 0.4050 - val_accuracy: 0.9362\n",
      "Epoch 20/50\n",
      "27/27 [==============================] - 0s 4ms/step - loss: 0.0622 - accuracy: 0.9798 - val_loss: 0.3985 - val_accuracy: 0.9362\n",
      "Epoch 21/50\n",
      "27/27 [==============================] - 0s 4ms/step - loss: 0.0580 - accuracy: 0.9822 - val_loss: 0.3972 - val_accuracy: 0.9362\n",
      "Epoch 22/50\n",
      "27/27 [==============================] - 0s 4ms/step - loss: 0.0533 - accuracy: 0.9834 - val_loss: 0.4102 - val_accuracy: 0.9255\n",
      "Epoch 23/50\n",
      "27/27 [==============================] - 0s 4ms/step - loss: 0.0528 - accuracy: 0.9798 - val_loss: 0.4285 - val_accuracy: 0.9255\n",
      "Epoch 24/50\n",
      "27/27 [==============================] - 0s 4ms/step - loss: 0.0520 - accuracy: 0.9798 - val_loss: 0.4095 - val_accuracy: 0.9362\n",
      "Epoch 25/50\n",
      "27/27 [==============================] - 0s 4ms/step - loss: 0.0512 - accuracy: 0.9822 - val_loss: 0.4090 - val_accuracy: 0.9362\n",
      "Epoch 26/50\n",
      "27/27 [==============================] - 0s 4ms/step - loss: 0.0482 - accuracy: 0.9822 - val_loss: 0.4020 - val_accuracy: 0.9362\n",
      "Epoch 27/50\n",
      "27/27 [==============================] - 0s 4ms/step - loss: 0.0463 - accuracy: 0.9786 - val_loss: 0.4070 - val_accuracy: 0.9362\n",
      "Epoch 28/50\n",
      "27/27 [==============================] - 0s 4ms/step - loss: 0.0437 - accuracy: 0.9822 - val_loss: 0.4279 - val_accuracy: 0.9255\n",
      "Epoch 29/50\n",
      "27/27 [==============================] - 0s 4ms/step - loss: 0.0418 - accuracy: 0.9822 - val_loss: 0.4116 - val_accuracy: 0.9362\n",
      "Epoch 30/50\n",
      "27/27 [==============================] - 0s 4ms/step - loss: 0.0407 - accuracy: 0.9810 - val_loss: 0.4105 - val_accuracy: 0.9362\n",
      "Epoch 31/50\n",
      "27/27 [==============================] - 0s 4ms/step - loss: 0.0418 - accuracy: 0.9786 - val_loss: 0.4168 - val_accuracy: 0.9362\n",
      "Epoch 32/50\n",
      "27/27 [==============================] - 0s 5ms/step - loss: 0.0418 - accuracy: 0.9798 - val_loss: 0.4232 - val_accuracy: 0.9362\n",
      "Epoch 33/50\n",
      "27/27 [==============================] - 0s 4ms/step - loss: 0.0428 - accuracy: 0.9810 - val_loss: 0.4333 - val_accuracy: 0.9362\n",
      "Epoch 34/50\n",
      "27/27 [==============================] - 0s 4ms/step - loss: 0.0422 - accuracy: 0.9822 - val_loss: 0.4208 - val_accuracy: 0.9362\n",
      "Epoch 35/50\n",
      "27/27 [==============================] - 0s 4ms/step - loss: 0.0416 - accuracy: 0.9834 - val_loss: 0.4344 - val_accuracy: 0.9362\n",
      "Epoch 36/50\n",
      "27/27 [==============================] - 0s 4ms/step - loss: 0.0440 - accuracy: 0.9775 - val_loss: 0.4199 - val_accuracy: 0.9362\n",
      "Epoch 37/50\n",
      "27/27 [==============================] - 0s 4ms/step - loss: 0.0415 - accuracy: 0.9786 - val_loss: 0.4240 - val_accuracy: 0.9362\n",
      "Epoch 38/50\n",
      "27/27 [==============================] - 0s 4ms/step - loss: 0.0387 - accuracy: 0.9822 - val_loss: 0.4396 - val_accuracy: 0.9362\n",
      "Epoch 39/50\n",
      "27/27 [==============================] - 0s 4ms/step - loss: 0.0381 - accuracy: 0.9846 - val_loss: 0.4435 - val_accuracy: 0.9362\n",
      "Epoch 40/50\n",
      "27/27 [==============================] - 0s 5ms/step - loss: 0.0375 - accuracy: 0.9822 - val_loss: 0.4323 - val_accuracy: 0.9255\n",
      "Epoch 41/50\n",
      "27/27 [==============================] - 0s 5ms/step - loss: 0.0384 - accuracy: 0.9834 - val_loss: 0.4368 - val_accuracy: 0.9362\n",
      "Epoch 42/50\n",
      "27/27 [==============================] - 0s 5ms/step - loss: 0.0389 - accuracy: 0.9798 - val_loss: 0.4390 - val_accuracy: 0.9255\n",
      "Epoch 43/50\n",
      "27/27 [==============================] - 0s 5ms/step - loss: 0.0406 - accuracy: 0.9834 - val_loss: 0.4419 - val_accuracy: 0.9362\n",
      "Epoch 44/50\n",
      "27/27 [==============================] - 0s 5ms/step - loss: 0.0391 - accuracy: 0.9846 - val_loss: 0.4396 - val_accuracy: 0.9255\n",
      "Epoch 45/50\n",
      "27/27 [==============================] - 0s 5ms/step - loss: 0.0451 - accuracy: 0.9739 - val_loss: 0.4320 - val_accuracy: 0.9362\n",
      "Epoch 46/50\n",
      "27/27 [==============================] - 0s 5ms/step - loss: 0.0358 - accuracy: 0.9810 - val_loss: 0.4507 - val_accuracy: 0.9255\n",
      "Epoch 47/50\n",
      "27/27 [==============================] - 0s 5ms/step - loss: 0.0363 - accuracy: 0.9834 - val_loss: 0.4421 - val_accuracy: 0.9255\n",
      "Epoch 48/50\n",
      "27/27 [==============================] - 0s 5ms/step - loss: 0.0355 - accuracy: 0.9846 - val_loss: 0.4487 - val_accuracy: 0.9362\n",
      "Epoch 49/50\n",
      "27/27 [==============================] - 0s 4ms/step - loss: 0.0370 - accuracy: 0.9834 - val_loss: 0.4599 - val_accuracy: 0.9255\n",
      "Epoch 50/50\n",
      "27/27 [==============================] - 0s 4ms/step - loss: 0.0358 - accuracy: 0.9834 - val_loss: 0.4425 - val_accuracy: 0.9362\n",
      "8/8 [==============================] - 0s 2ms/step\n",
      "                                         precision    recall  f1-score   support\n",
      "\n",
      "                          ACCOMMODATION       0.94      1.00      0.97        93\n",
      "                  AGENCY SERVICES - BTL       0.85      0.89      0.87        19\n",
      "    AGENCY SERVICES - EVENTS MANAGEMENT       0.00      0.00      0.00         1\n",
      "AGENCY SERVICES - EXPERIENTIAL SERVICES       0.00      0.00      0.00         0\n",
      "     AGENCY SERVICES - SALES ACTIVATION       0.00      0.00      0.00         2\n",
      "               AGENCY SERVICES - TRAVEL       0.00      0.00      0.00         1\n",
      "                ATL PRODUCTION SERVICES       1.00      1.00      1.00         1\n",
      "                          BOOKING TOOLS       1.00      1.00      1.00         1\n",
      "                        BTS MAINTENANCE       0.40      1.00      0.57         2\n",
      "                               CAR HIRE       1.00      1.00      1.00         9\n",
      "                        CARPENTRY WORKS       1.00      1.00      1.00         4\n",
      "                 CATERING & HOSPITALITY       1.00      0.50      0.67         6\n",
      "                        DEBT COLLECTION       0.00      0.00      0.00         1\n",
      "                       DOMESTIC FLIGHTS       1.00      0.75      0.86         4\n",
      "              ELECTRICAL WORKS/SERVICES       0.67      0.67      0.67         3\n",
      "                         FIBRE SERVICES       1.00      1.00      1.00         2\n",
      "    FIXED NETWORK INSTALLATION SERVICES       0.86      0.75      0.80         8\n",
      "                               GUARDING       1.00      1.00      1.00         8\n",
      "                MAIL & COURIER SERVICES       0.00      0.00      0.00         1\n",
      "          MEDIA ADVERTISING - TV/CINEMA       0.00      0.00      0.00         1\n",
      "                 MEETINGS & CONFERENCES       1.00      1.00      1.00         4\n",
      "          MOTOR VEHICLE GENERAL REPAIRS       1.00      0.96      0.98        25\n",
      "                  MOTOR VEHICLE SERVICE       1.00      1.00      1.00         8\n",
      "                   MOTOR VEHICLE SPARES       1.00      1.00      1.00         1\n",
      "                      OFFICE STATIONERY       1.00      0.80      0.89         5\n",
      "                         PLUMBING WORKS       1.00      1.00      1.00         4\n",
      "                PROMOTIONAL MERCHANDISE       1.00      0.33      0.50         3\n",
      "     RADIO - INSTALLATION/COMMISSIONING       0.00      0.00      0.00         2\n",
      "                      RADIO ACCESSORIES       0.00      0.00      0.00         1\n",
      "             RAIL TRANSPORT & TRANSFERS       0.00      0.00      0.00         1\n",
      "                   REWARD & RECOGNITION       0.00      0.00      0.00         1\n",
      "                       SALES ACTIVATION       0.00      0.00      0.00         2\n",
      "       SECURITY EQUIPMENT & MAINTENANCE       0.50      0.86      0.63         7\n",
      "                               SIMCARDS       0.60      0.75      0.67         4\n",
      "\n",
      "                               accuracy                           0.88       235\n",
      "                              macro avg       0.58      0.57      0.56       235\n",
      "                           weighted avg       0.87      0.88      0.86       235\n",
      "\n"
     ]
    }
   ],
   "source": [
    "label_encoder = LabelEncoder()\n",
    "label_encoder.fit(pd.concat([y_train, y_test], axis=0))\n",
    "\n",
    "y_train_encoded = label_encoder.transform(y_train)\n",
    "y_test_encoded = label_encoder.transform(y_test)\n",
    "\n",
    "\n",
    "y_train_cat = to_categorical(y_train_encoded)\n",
    "y_test_cat = to_categorical(y_test_encoded)\n",
    "\n",
    "num_classes = len(label_encoder.classes_)\n",
    "\n",
    "\n",
    "nn_model = Sequential([\n",
    "    Dense(256, activation='relu', input_shape=(X_train_vec.shape[1],)),\n",
    "    Dense(128, activation='relu'),\n",
    "    Dense(num_classes, activation='softmax')\n",
    "])\n",
    "\n",
    "nn_model.compile(optimizer='adam', loss='categorical_crossentropy', metrics=['accuracy'])\n",
    "\n",
    "nn_model.fit(X_train_vec.toarray(), y_train_cat, epochs=50, batch_size=32, verbose=1, validation_split=0.1)\n",
    "\n",
    "y_pred_probs = nn_model.predict(X_test_vec.toarray())\n",
    "y_pred_classes = y_pred_probs.argmax(axis=1)\n",
    "y_pred_labels = label_encoder.inverse_transform(y_pred_classes)\n",
    "\n",
    "print(classification_report(y_test, y_pred_labels))\n",
    "\n"
   ]
  },
  {
   "cell_type": "markdown",
   "metadata": {},
   "source": [
    "# Parameter Tuning"
   ]
  },
  {
   "cell_type": "code",
   "execution_count": 77,
   "metadata": {},
   "outputs": [
    {
     "name": "stdout",
     "output_type": "stream",
     "text": [
      "\n",
      " Training model 1/10 with config: {'layers': 3, 'units_layer_1': 256, 'units_layer_2': 64, 'activation': 'tanh', 'optimizer': 'sgd', 'batch_size': 16, 'epochs': 30}\n",
      "Run 1 best val_accuracy: 0.5426\n",
      "\n",
      " Training model 2/10 with config: {'layers': 3, 'units_layer_1': 256, 'units_layer_2': 128, 'activation': 'tanh', 'optimizer': 'sgd', 'batch_size': 16, 'epochs': 30}\n",
      "Run 2 best val_accuracy: 0.5532\n",
      "\n",
      " Training model 3/10 with config: {'layers': 2, 'units_layer_1': 256, 'units_layer_2': 128, 'activation': 'tanh', 'optimizer': 'adam', 'batch_size': 16, 'epochs': 30}\n",
      "Run 3 best val_accuracy: 0.9362\n",
      "\n",
      " Training model 4/10 with config: {'layers': 3, 'units_layer_1': 128, 'units_layer_2': 64, 'activation': 'tanh', 'optimizer': 'sgd', 'batch_size': 16, 'epochs': 30}\n",
      "Run 4 best val_accuracy: 0.4894\n",
      "\n",
      " Training model 5/10 with config: {'layers': 1, 'units_layer_1': 64, 'units_layer_2': 128, 'activation': 'relu', 'optimizer': 'sgd', 'batch_size': 16, 'epochs': 30}\n",
      "Run 5 best val_accuracy: 0.3723\n",
      "\n",
      " Training model 6/10 with config: {'layers': 2, 'units_layer_1': 128, 'units_layer_2': 128, 'activation': 'relu', 'optimizer': 'sgd', 'batch_size': 16, 'epochs': 30}\n",
      "Run 6 best val_accuracy: 0.3723\n",
      "\n",
      " Training model 7/10 with config: {'layers': 3, 'units_layer_1': 128, 'units_layer_2': 128, 'activation': 'relu', 'optimizer': 'adam', 'batch_size': 64, 'epochs': 30}\n",
      "Run 7 best val_accuracy: 0.9362\n",
      "\n",
      " Training model 8/10 with config: {'layers': 2, 'units_layer_1': 64, 'units_layer_2': 64, 'activation': 'relu', 'optimizer': 'adam', 'batch_size': 32, 'epochs': 30}\n",
      "Run 8 best val_accuracy: 0.9362\n",
      "\n",
      " Training model 9/10 with config: {'layers': 3, 'units_layer_1': 256, 'units_layer_2': 128, 'activation': 'relu', 'optimizer': 'adam', 'batch_size': 32, 'epochs': 30}\n",
      "Run 9 best val_accuracy: 0.9362\n",
      "\n",
      " Training model 10/10 with config: {'layers': 2, 'units_layer_1': 256, 'units_layer_2': 128, 'activation': 'tanh', 'optimizer': 'adam', 'batch_size': 32, 'epochs': 30}\n",
      "Run 10 best val_accuracy: 0.9362\n",
      "\n",
      " Best overall model: checkpoints\\best_model_run_3.keras with val_accuracy: 0.9362\n",
      "WARNING:tensorflow:Detecting that an object or model or tf.train.Checkpoint is being deleted with unrestored values. See the following logs for the specific values in question. To silence these warnings, use `status.expect_partial()`. See https://www.tensorflow.org/api_docs/python/tf/train/Checkpoint#restorefor details about the status object returned by the restore function.\n",
      "WARNING:tensorflow:Value in checkpoint could not be found in the restored object: (root).optimizer.iter\n",
      "WARNING:tensorflow:Value in checkpoint could not be found in the restored object: (root).optimizer.beta_1\n",
      "WARNING:tensorflow:Value in checkpoint could not be found in the restored object: (root).optimizer.beta_2\n",
      "WARNING:tensorflow:Value in checkpoint could not be found in the restored object: (root).optimizer.decay\n",
      "WARNING:tensorflow:Value in checkpoint could not be found in the restored object: (root).optimizer.learning_rate\n",
      "Saved best model to checkpoints/best_model_overall.keras\n"
     ]
    }
   ],
   "source": [
    " label_encoder = LabelEncoder()\n",
    "label_encoder.fit(pd.concat([y_train, y_test], axis=0))\n",
    "\n",
    "y_train_encoded = label_encoder.transform(y_train)\n",
    "y_test_encoded = label_encoder.transform(y_test)\n",
    "\n",
    "y_train_cat = to_categorical(y_train_encoded)\n",
    "y_test_cat = to_categorical(y_test_encoded)\n",
    "\n",
    "num_classes = len(label_encoder.classes_)\n",
    "\n",
    "# Saving label encoder for inference\n",
    "with open(\"label_encoder.pkl\", \"wb\") as f:\n",
    "    pickle.dump(label_encoder, f)\n",
    "\n",
    "# -grid\n",
    "param_grid = {\n",
    "    'layers': [1, 2, 3],\n",
    "    'units_layer_1': [64, 128, 256],\n",
    "    'units_layer_2': [64, 128],\n",
    "    'activation': ['relu', 'tanh'],\n",
    "    'optimizer': ['adam', 'sgd'],\n",
    "    'batch_size': [16, 32, 64],\n",
    "    'epochs': [30]\n",
    "}\n",
    "\n",
    "# combinations\n",
    "keys, values = zip(*param_grid.items())\n",
    "param_combinations = [dict(zip(keys, v)) for v in itertools.product(*values)]\n",
    "\n",
    "# 10 runs\n",
    "np.random.seed(42)\n",
    "np.random.shuffle(param_combinations)\n",
    "param_combinations = param_combinations[:10]\n",
    "\n",
    "# tracking best model\n",
    "best_val_acc = 0\n",
    "best_model_path = \"\"\n",
    "\n",
    "# --- Training Loop ---\n",
    "for idx, config in enumerate(param_combinations):\n",
    "    print(f\"\\n Training model {idx+1}/{len(param_combinations)} with config: {config}\")\n",
    "\n",
    "    model = Sequential()\n",
    "    model.add(Dense(config['units_layer_1'], activation=config['activation'], input_shape=(X_train_vec.shape[1],)))\n",
    "    if config['layers'] > 1:\n",
    "        model.add(Dense(config['units_layer_2'], activation=config['activation']))\n",
    "    if config['layers'] > 2:\n",
    "        model.add(Dense(config['units_layer_2'], activation=config['activation']))\n",
    "    model.add(Dense(num_classes, activation='softmax'))\n",
    "\n",
    "    model.compile(optimizer=config['optimizer'], loss='categorical_crossentropy', metrics=['accuracy'])\n",
    "\n",
    "    # Logging directory\n",
    "    log_dir = os.path.join(\"logs\", \"fit\", f\"run_{idx+1}_\" + datetime.datetime.now().strftime(\"%Y%m%d-%H%M%S\"))\n",
    "    tensorboard_callback = TensorBoard(log_dir=log_dir, histogram_freq=1)\n",
    "\n",
    "    # Checkpoint file path\n",
    "    checkpoint_path = os.path.join(\"checkpoints\", f\"best_model_run_{idx+1}.keras\")\n",
    "    os.makedirs(\"checkpoints\", exist_ok=True)\n",
    "    checkpoint_callback = ModelCheckpoint(\n",
    "        filepath=checkpoint_path,\n",
    "        monitor='val_accuracy',\n",
    "        save_best_only=True,\n",
    "        mode='max',\n",
    "        verbose=0\n",
    "    )\n",
    "\n",
    "    # Train model\n",
    "    history = model.fit(\n",
    "        X_train_vec.toarray(), y_train_cat,\n",
    "        epochs=config['epochs'],\n",
    "        batch_size=config['batch_size'],\n",
    "        validation_split=0.1,\n",
    "        callbacks=[tensorboard_callback, checkpoint_callback],\n",
    "        verbose=0\n",
    "    )\n",
    "\n",
    "    # Track best val_accuracy from this run\n",
    "    val_acc = max(history.history['val_accuracy'])\n",
    "    print(f\"Run {idx+1} best val_accuracy: {val_acc:.4f}\")\n",
    "\n",
    "    if val_acc > best_val_acc:\n",
    "        best_val_acc = val_acc\n",
    "        best_model_path = checkpoint_path\n",
    "\n",
    "# save best model\n",
    "print(f\"\\n Best overall model: {best_model_path} with val_accuracy: {best_val_acc:.4f}\")\n",
    "best_model = load_model(best_model_path)\n",
    "best_model.save(\"checkpoints/best_model_overall.keras\")\n",
    "print(\"Saved best model to checkpoints/best_model_overall.keras\")"
   ]
  },
  {
   "cell_type": "code",
   "execution_count": 78,
   "metadata": {},
   "outputs": [
    {
     "data": {
      "text/plain": [
       "Reusing TensorBoard on port 6006 (pid 19796), started 1:46:31 ago. (Use '!kill 19796' to kill it.)"
      ]
     },
     "metadata": {},
     "output_type": "display_data"
    },
    {
     "data": {
      "text/html": [
       "\n",
       "      <iframe id=\"tensorboard-frame-3b860592dd3e9e43\" width=\"100%\" height=\"800\" frameborder=\"0\">\n",
       "      </iframe>\n",
       "      <script>\n",
       "        (function() {\n",
       "          const frame = document.getElementById(\"tensorboard-frame-3b860592dd3e9e43\");\n",
       "          const url = new URL(\"/\", window.location);\n",
       "          const port = 6006;\n",
       "          if (port) {\n",
       "            url.port = port;\n",
       "          }\n",
       "          frame.src = url;\n",
       "        })();\n",
       "      </script>\n",
       "    "
      ],
      "text/plain": [
       "<IPython.core.display.HTML object>"
      ]
     },
     "metadata": {},
     "output_type": "display_data"
    }
   ],
   "source": [
    "%load_ext tensorboard\n",
    "%tensorboard --logdir logs/fit"
   ]
  },
  {
   "cell_type": "code",
   "execution_count": 79,
   "metadata": {},
   "outputs": [],
   "source": [
    "model.save(\"checkpoints/best_model_run_10.keras\") "
   ]
  },
  {
   "cell_type": "code",
   "execution_count": 80,
   "metadata": {},
   "outputs": [],
   "source": [
    "import pickle\n",
    "# Save to disk\n",
    "with open(\"vectorizer.pkl\", \"wb\") as f:\n",
    "    pickle.dump(vectorizer, f)\n",
    "with open(\"label_encoder.pkl\", \"wb\") as f:\n",
    "    pickle.dump(label_encoder, f)"
   ]
  },
  {
   "cell_type": "code",
   "execution_count": 81,
   "metadata": {},
   "outputs": [],
   "source": [
    "def preprocess_text(text, pattern=None):\n",
    "    # 1. Lowercase\n",
    "    text = text.lower()\n",
    "    \n",
    "    # 2. Remove pattern if provided (e.g., URLs)\n",
    "    if pattern:\n",
    "        text = re.sub(pattern, '', text)\n",
    "    \n",
    "    # 3. Expand abbreviations\n",
    "    words = text.split()\n",
    "    words = [abbr_dict.get(word, word) for word in words]\n",
    "    \n",
    "    # 4. Remove punctuation\n",
    "    text = \" \".join(words)\n",
    "    text = text.translate(str.maketrans('', '', string.punctuation))\n",
    "    \n",
    "    # 5. Tokenize\n",
    "    tokens = word_tokenize(text)\n",
    "    \n",
    "    # 6. Remove stopwords\n",
    "    stop_words = set(stopwords.words('english'))\n",
    "    tokens = [w for w in tokens if w not in stop_words]\n",
    "    \n",
    "    # 7. Lemmatize\n",
    "    lemmatizer = WordNetLemmatizer()\n",
    "    tokens = [lemmatizer.lemmatize(w) for w in tokens]\n",
    "    \n",
    "    return \" \".join(tokens) \n"
   ]
  },
  {
   "cell_type": "code",
   "execution_count": 82,
   "metadata": {},
   "outputs": [
    {
     "name": "stdout",
     "output_type": "stream",
     "text": [
      "1/1 [==============================] - 0s 67ms/step\n"
     ]
    },
    {
     "data": {
      "text/plain": [
       "'FIXED NETWORK INSTALLATION SERVICES'"
      ]
     },
     "execution_count": 82,
     "metadata": {},
     "output_type": "execute_result"
    }
   ],
   "source": [
    "vect=\"\"\n",
    "with open(\"vectorizer.pkl\", \"rb\") as f:\n",
    "    vect = pickle.load(f)\n",
    "user_vec = vect.transform([preprocess_text('accomodation for it personnel')])  \n",
    "# Load the saved model\n",
    "best_model = load_model(\"checkpoints/best_model_run_9.keras\")\n",
    "predicted_prob = best_model.predict(user_vec.toarray())\n",
    "predicted_class = predicted_prob.argmax(axis=1)\n",
    "predicted_label = label_encoder.inverse_transform(predicted_class)[0] \n",
    "predicted_label"
   ]
  },
  {
   "cell_type": "markdown",
   "metadata": {},
   "source": [
    "## SAMPLE PROTOTYPE"
   ]
  },
  {
   "cell_type": "code",
   "execution_count": 83,
   "metadata": {},
   "outputs": [
    {
     "name": "stdout",
     "output_type": "stream",
     "text": [
      "Enter product description or relevant text: accomodation\n",
      "1/1 [==============================] - 0s 36ms/step\n",
      "FIXED NETWORK INSTALLATION SERVICES\n",
      "Enter your available budget: 4000\n",
      "\n",
      "Optimization Status: Optimal\n",
      "Total Quantity Purchased: 25.00\n",
      "Total Cost: 1900.00\n",
      "\n",
      "Top 5 supplier options based on optimized quantity:\n",
      "   Supplier/Vendor  Unit Price  Quantity  Purchased_Quantity  Spent\n",
      "0          CVXXXXX       100.0       4.0                 4.0  400.0\n",
      "8          CVXXXXX       100.0       4.0                 4.0  400.0\n",
      "14         CVXXXXX       100.0       4.0                 4.0  400.0\n",
      "4          CVXXXXX       250.0       2.0                 2.0  500.0\n",
      "26         CVXXXXX       100.0       2.0                 2.0  200.0\n"
     ]
    }
   ],
   "source": [
    "df['PO Amount'] = encoders[2].inverse_transform(df['PO Amount'])\n",
    "df['Quantity'] = encoders[0].inverse_transform(df['Quantity'])\n",
    "df['Unit Price'] = encoders[1].inverse_transform(df['Unit Price'])\n",
    "# --- Step 1: Ask for user input ---\n",
    "# Example (use appropriate preprocessing to match training\n",
    "\n",
    "user_input = input(\"Enter product description or relevant text: \")\n",
    "user_vec = vectorizer.transform([user_input])  # must match training vectorizer\n",
    "\n",
    "predicted_prob = nn_model.predict(user_vec.toarray())\n",
    "predicted_class = predicted_prob.argmax(axis=1)\n",
    "predicted_label = label_encoder.inverse_transform(predicted_class)[0] \n",
    "\n",
    "# --- Step 1: Ask for user input ---\n",
    "product_name = predicted_label\n",
    "print(product_name)\n",
    "try:\n",
    "    budget = float(input(\"Enter your available budget: \"))\n",
    "except ValueError:\n",
    "    print(\"Invalid budget input. Please enter a number.\")\n",
    "    exit()\n",
    "\n",
    "# -Filtering\n",
    "acc_df = df[['Month','Supplier Site','Supplier/Vendor','Unit Price','Quantity','PO Amount']]\n",
    "acc_df = acc_df[df['Product Name'] == product_name]\n",
    "\n",
    "# filling missing unit prices\n",
    "acc_df['Unit Price'] = acc_df['Unit Price'].fillna(acc_df['PO Amount'] / acc_df['Quantity'])\n",
    "\n",
    "# Reset index to ensure alignment\n",
    "acc_df = acc_df.reset_index(drop=True)\n",
    "\n",
    "# -Building optimization model ---\n",
    "model = LpProblem(\"Maximize_Quantity_Under_Budget\", LpMaximize)\n",
    "\n",
    "# Create decision variables\n",
    "acc_df['Decision_Var'] = [\n",
    "    LpVariable(f'x_{i}', lowBound=0, upBound=int(row['Quantity']), cat='Integer')\n",
    "    for i, row in acc_df.iterrows()\n",
    "]\n",
    "\n",
    "# Objective: Maximize total quantity\n",
    "model += lpSum(acc_df['Decision_Var']), \"Total_Quantity\"\n",
    "\n",
    "# Constraint: Total cost ≤ budget\n",
    "model += lpSum(acc_df['Decision_Var'][i] * acc_df['Unit Price'][i] for i in acc_df.index) <= budget\n",
    "\n",
    "# --- Step 4: Solve ---\n",
    "model.solve()\n",
    "\n",
    "# --- Step 5: Output results ---\n",
    "acc_df['Purchased_Quantity'] = [v.varValue for v in acc_df['Decision_Var']]\n",
    "acc_df['Spent'] = acc_df['Purchased_Quantity'] * acc_df['Unit Price']\n",
    "\n",
    "# keeping rows where some quantity was purchased\n",
    "acc_df = acc_df[acc_df['Purchased_Quantity'] > 0]\n",
    "\n",
    "# top 5 results\n",
    "top5 = acc_df.sort_values(by='Purchased_Quantity', ascending=False).head(5)\n",
    "\n",
    "print(f\"\\nOptimization Status: {LpStatus[model.status]}\")\n",
    "print(f\"Total Quantity Purchased: {value(model.objective):.2f}\")\n",
    "print(f\"Total Cost: {top5['Spent'].sum():.2f}\\n\")\n",
    "\n",
    "print(\"Top \"+ str(top5.shape[0])+\" supplier options based on optimized quantity:\")\n",
    "print(top5[['Supplier/Vendor', 'Unit Price', 'Quantity', 'Purchased_Quantity', 'Spent']])\n"
   ]
  },
  {
   "cell_type": "code",
   "execution_count": null,
   "metadata": {},
   "outputs": [],
   "source": []
  }
 ],
 "metadata": {
  "colab": {
   "provenance": []
  },
  "kernelspec": {
   "display_name": "Python 3 (ipykernel)",
   "language": "python",
   "name": "python3"
  },
  "language_info": {
   "codemirror_mode": {
    "name": "ipython",
    "version": 3
   },
   "file_extension": ".py",
   "mimetype": "text/x-python",
   "name": "python",
   "nbconvert_exporter": "python",
   "pygments_lexer": "ipython3",
   "version": "3.9.7"
  },
  "toc": {
   "base_numbering": 1,
   "nav_menu": {},
   "number_sections": true,
   "sideBar": true,
   "skip_h1_title": false,
   "title_cell": "Table of Contents",
   "title_sidebar": "Contents",
   "toc_cell": false,
   "toc_position": {},
   "toc_section_display": true,
   "toc_window_display": false
  }
 },
 "nbformat": 4,
 "nbformat_minor": 1
}
